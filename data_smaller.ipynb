{
 "cells": [
  {
   "cell_type": "code",
   "execution_count": 1,
   "metadata": {},
   "outputs": [],
   "source": [
    "import pandas as pd"
   ]
  },
  {
   "cell_type": "code",
   "execution_count": 3,
   "metadata": {},
   "outputs": [],
   "source": [
    "deaths_Data = pd.read_csv(\"deaths/kill_match_stats_final_0.csv\")"
   ]
  },
  {
   "cell_type": "code",
   "execution_count": 5,
   "metadata": {},
   "outputs": [],
   "source": [
    "new_Data = deaths_Data[:5000]"
   ]
  },
  {
   "cell_type": "code",
   "execution_count": 6,
   "metadata": {},
   "outputs": [
    {
     "data": {
      "text/html": [
       "<div>\n",
       "<style scoped>\n",
       "    .dataframe tbody tr th:only-of-type {\n",
       "        vertical-align: middle;\n",
       "    }\n",
       "\n",
       "    .dataframe tbody tr th {\n",
       "        vertical-align: top;\n",
       "    }\n",
       "\n",
       "    .dataframe thead th {\n",
       "        text-align: right;\n",
       "    }\n",
       "</style>\n",
       "<table border=\"1\" class=\"dataframe\">\n",
       "  <thead>\n",
       "    <tr style=\"text-align: right;\">\n",
       "      <th></th>\n",
       "      <th>killed_by</th>\n",
       "      <th>killer_name</th>\n",
       "      <th>killer_placement</th>\n",
       "      <th>killer_position_x</th>\n",
       "      <th>killer_position_y</th>\n",
       "      <th>map</th>\n",
       "      <th>match_id</th>\n",
       "      <th>time</th>\n",
       "      <th>victim_name</th>\n",
       "      <th>victim_placement</th>\n",
       "      <th>victim_position_x</th>\n",
       "      <th>victim_position_y</th>\n",
       "    </tr>\n",
       "  </thead>\n",
       "  <tbody>\n",
       "    <tr>\n",
       "      <th>0</th>\n",
       "      <td>Grenade</td>\n",
       "      <td>KrazyPortuguese</td>\n",
       "      <td>5.0</td>\n",
       "      <td>657725.10</td>\n",
       "      <td>146275.2</td>\n",
       "      <td>MIRAMAR</td>\n",
       "      <td>2U4GBNA0YmnLSqvEycnTjo-KT000vfUnhSA2vfVhVPe1QB...</td>\n",
       "      <td>823</td>\n",
       "      <td>KrazyPortuguese</td>\n",
       "      <td>5.0</td>\n",
       "      <td>657725.10</td>\n",
       "      <td>146275.2</td>\n",
       "    </tr>\n",
       "    <tr>\n",
       "      <th>1</th>\n",
       "      <td>SCAR-L</td>\n",
       "      <td>nide2Bxiaojiejie</td>\n",
       "      <td>31.0</td>\n",
       "      <td>93091.37</td>\n",
       "      <td>722236.4</td>\n",
       "      <td>MIRAMAR</td>\n",
       "      <td>2U4GBNA0YmnLSqvEycnTjo-KT000vfUnhSA2vfVhVPe1QB...</td>\n",
       "      <td>194</td>\n",
       "      <td>X3evolution</td>\n",
       "      <td>33.0</td>\n",
       "      <td>92238.68</td>\n",
       "      <td>723375.1</td>\n",
       "    </tr>\n",
       "    <tr>\n",
       "      <th>2</th>\n",
       "      <td>S686</td>\n",
       "      <td>Ascholes</td>\n",
       "      <td>43.0</td>\n",
       "      <td>366921.40</td>\n",
       "      <td>421623.9</td>\n",
       "      <td>MIRAMAR</td>\n",
       "      <td>2U4GBNA0YmnLSqvEycnTjo-KT000vfUnhSA2vfVhVPe1QB...</td>\n",
       "      <td>103</td>\n",
       "      <td>CtrlZee</td>\n",
       "      <td>46.0</td>\n",
       "      <td>367304.50</td>\n",
       "      <td>421216.1</td>\n",
       "    </tr>\n",
       "    <tr>\n",
       "      <th>3</th>\n",
       "      <td>Down and Out</td>\n",
       "      <td>Weirdo7777</td>\n",
       "      <td>9.0</td>\n",
       "      <td>472014.20</td>\n",
       "      <td>313274.8</td>\n",
       "      <td>MIRAMAR</td>\n",
       "      <td>2U4GBNA0YmnLSqvEycnTjo-KT000vfUnhSA2vfVhVPe1QB...</td>\n",
       "      <td>1018</td>\n",
       "      <td>BlackDpre</td>\n",
       "      <td>13.0</td>\n",
       "      <td>476645.90</td>\n",
       "      <td>316758.4</td>\n",
       "    </tr>\n",
       "    <tr>\n",
       "      <th>4</th>\n",
       "      <td>M416</td>\n",
       "      <td>Solayuki1</td>\n",
       "      <td>9.0</td>\n",
       "      <td>473357.80</td>\n",
       "      <td>318340.5</td>\n",
       "      <td>MIRAMAR</td>\n",
       "      <td>2U4GBNA0YmnLSqvEycnTjo-KT000vfUnhSA2vfVhVPe1QB...</td>\n",
       "      <td>1018</td>\n",
       "      <td>Vjolt</td>\n",
       "      <td>13.0</td>\n",
       "      <td>473588.50</td>\n",
       "      <td>318418.8</td>\n",
       "    </tr>\n",
       "  </tbody>\n",
       "</table>\n",
       "</div>"
      ],
      "text/plain": [
       "      killed_by       killer_name  killer_placement  killer_position_x  \\\n",
       "0       Grenade   KrazyPortuguese               5.0          657725.10   \n",
       "1        SCAR-L  nide2Bxiaojiejie              31.0           93091.37   \n",
       "2          S686          Ascholes              43.0          366921.40   \n",
       "3  Down and Out        Weirdo7777               9.0          472014.20   \n",
       "4          M416         Solayuki1               9.0          473357.80   \n",
       "\n",
       "   killer_position_y      map  \\\n",
       "0           146275.2  MIRAMAR   \n",
       "1           722236.4  MIRAMAR   \n",
       "2           421623.9  MIRAMAR   \n",
       "3           313274.8  MIRAMAR   \n",
       "4           318340.5  MIRAMAR   \n",
       "\n",
       "                                            match_id  time      victim_name  \\\n",
       "0  2U4GBNA0YmnLSqvEycnTjo-KT000vfUnhSA2vfVhVPe1QB...   823  KrazyPortuguese   \n",
       "1  2U4GBNA0YmnLSqvEycnTjo-KT000vfUnhSA2vfVhVPe1QB...   194      X3evolution   \n",
       "2  2U4GBNA0YmnLSqvEycnTjo-KT000vfUnhSA2vfVhVPe1QB...   103          CtrlZee   \n",
       "3  2U4GBNA0YmnLSqvEycnTjo-KT000vfUnhSA2vfVhVPe1QB...  1018        BlackDpre   \n",
       "4  2U4GBNA0YmnLSqvEycnTjo-KT000vfUnhSA2vfVhVPe1QB...  1018            Vjolt   \n",
       "\n",
       "   victim_placement  victim_position_x  victim_position_y  \n",
       "0               5.0          657725.10           146275.2  \n",
       "1              33.0           92238.68           723375.1  \n",
       "2              46.0          367304.50           421216.1  \n",
       "3              13.0          476645.90           316758.4  \n",
       "4              13.0          473588.50           318418.8  "
      ]
     },
     "execution_count": 6,
     "metadata": {},
     "output_type": "execute_result"
    }
   ],
   "source": [
    "new_Data.head()"
   ]
  },
  {
   "cell_type": "code",
   "execution_count": 11,
   "metadata": {},
   "outputs": [],
   "source": [
    "new_Data.to_csv(\"small_kill_data.csv\")"
   ]
  },
  {
   "cell_type": "code",
   "execution_count": 8,
   "metadata": {},
   "outputs": [],
   "source": [
    "data2 = pd.read_csv(\"aggregate/agg_match_stats_0.csv\")"
   ]
  },
  {
   "cell_type": "code",
   "execution_count": 9,
   "metadata": {},
   "outputs": [],
   "source": [
    "data2_header = data2[:5000]"
   ]
  },
  {
   "cell_type": "code",
   "execution_count": 10,
   "metadata": {},
   "outputs": [],
   "source": [
    "data2_header.to_csv(\"small_aggregate_data.csv\")"
   ]
  },
  {
   "cell_type": "code",
   "execution_count": null,
   "metadata": {},
   "outputs": [],
   "source": []
  }
 ],
 "metadata": {
  "interpreter": {
   "hash": "a3b2587e33c1234bd696235359e64315ef11aea6b5a439add0b420165d65e3e9"
  },
  "kernelspec": {
   "display_name": "Python 3.9.5 64-bit ('base': conda)",
   "language": "python",
   "name": "python3"
  },
  "language_info": {
   "codemirror_mode": {
    "name": "ipython",
    "version": 3
   },
   "file_extension": ".py",
   "mimetype": "text/x-python",
   "name": "python",
   "nbconvert_exporter": "python",
   "pygments_lexer": "ipython3",
   "version": "3.9.5"
  },
  "orig_nbformat": 4
 },
 "nbformat": 4,
 "nbformat_minor": 2
}
