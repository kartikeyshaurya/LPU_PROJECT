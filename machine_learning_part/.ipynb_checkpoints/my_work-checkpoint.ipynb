{
 "cells": [
  {
   "cell_type": "code",
   "execution_count": 3,
   "id": "e1c70329-4a62-4225-a738-e71cc75b04ee",
   "metadata": {},
   "outputs": [],
   "source": [
    "#importing all the libraries \n",
    "import numpy as np\n",
    "import pandas as pd\n",
    "import datetime as dt\n",
    "from scipy import stats\n",
    "import seaborn as sns\n",
    "import matplotlib.pyplot as plt\n",
    "%matplotlib inline\n",
    "\n",
    "#Machine Learning libraries  \n",
    "from sklearn.model_selection import train_test_split\n",
    "from sklearn.linear_model import LinearRegression\n",
    "from sklearn import metrics\n",
    "from sklearn.ensemble import RandomForestRegressor"
   ]
  },
  {
   "cell_type": "markdown",
   "id": "af4fb535-dc5d-4260-b853-5b7a391f6172",
   "metadata": {
    "tags": []
   },
   "source": [
    "# Machine Learning Part of B2B Order Management Application \n",
    "\n",
    "\n",
    "Through this model we have tried to predict the date of payment and aging bucket of an invoice from the invoice creation. The whole purpose of the model is to help the account receivel team in the payment processs from the past Experiences \n",
    "<br>\n",
    "<br>\n",
    "Similar to any machine learning project it is a kind of supervised probelm and we have applied regression for the purpose\n",
    "<br>\n",
    "Here is the Workflow of the Whole Process.\n",
    "<br> \n",
    "<a id='starting'></a>\n",
    "1. [Dataset](#dataset) \n",
    "2. [Preprocessing](#preprocessing) \n",
    "3. [EDA and Data Visualization](#eda)\n",
    "4. [Feature Selection](#featureselection)\n",
    "5. [Machine Learning Algorithms](#ml)\n",
    "6. [Hyperparameters tunning](#Hyper) \n",
    "7. [Model Selection](#model)\n",
    "8. [Mapping](#Mapping) "
   ]
  },
  {
   "cell_type": "markdown",
   "id": "8688fe77-6590-4217-a852-3428417eed6d",
   "metadata": {},
   "source": [
    "![title](flow.png)"
   ]
  },
  {
   "cell_type": "markdown",
   "id": "8f8b4259-c81b-4bce-8326-96f4cb71aac5",
   "metadata": {
    "tags": []
   },
   "source": [
    "<a id='dataset'></a>\n",
    "# <b>1.Dataset</b> \n",
    "\n",
    "### <b> Observation</b>\n",
    "\n",
    "* There is a Duplicate available in dataset named 'document_create_date.1' \n",
    "* There is also rows available in the dataset that is missing large number of value i.e clear_date,area_business so we dropped these rows\n",
    "* Two more thing thing that is noticeable  is <b> date and Currency </b> is not in well formeted \n",
    "* Most important we have also found ou the target variablle that is delay in dates for the invoice that is Generated\n",
    "\n",
    "* Go to [Flowchart](#starting)"
   ]
  },
  {
   "cell_type": "code",
   "execution_count": 4,
   "id": "d86eb002-973f-4604-ab18-6188c5e99223",
   "metadata": {},
   "outputs": [],
   "source": [
    "def load_data(notebook_name):\n",
    "    \" should be working in the same path \"\n",
    "    import os\n",
    "    path= os.getcwd()\n",
    "    print(\"currently working in \"+ str(os.listdir()))\n",
    "    path= os.getcwd()\n",
    "    data = pd.read_csv(os.getcwd()+\"//\"+notebook_name)\n",
    "    df = pd.DataFrame(data)\n",
    "    return data\n"
   ]
  },
  {
   "cell_type": "code",
   "execution_count": 5,
   "id": "8865e112-0f90-4a53-b683-71ff1c4fd221",
   "metadata": {},
   "outputs": [
    {
     "name": "stdout",
     "output_type": "stream",
     "text": [
      "currently working in ['.ipynb_checkpoints', '.vscode', 'data.csv', 'experiment.csv', 'flow.png', 'ml_copy-Copy1.ipynb', 'Modeling_assignment.ipynb', 'my_work.ipynb', 'rough.ipynb']\n"
     ]
    },
    {
     "data": {
      "text/plain": [
       "Index(['business_code', 'cust_number', 'name_customer', 'clear_date',\n",
       "       'buisness_year', 'doc_id', 'posting_date', 'document_create_date',\n",
       "       'document_create_date.1', 'due_in_date', 'invoice_currency',\n",
       "       'document type', 'posting_id', 'area_business', 'total_open_amount',\n",
       "       'baseline_create_date', 'cust_payment_terms', 'invoice_id', 'isOpen'],\n",
       "      dtype='object')"
      ]
     },
     "execution_count": 5,
     "metadata": {},
     "output_type": "execute_result"
    }
   ],
   "source": [
    "df = load_data(\"data.csv\") \n",
    "\n",
    "df.columns"
   ]
  },
  {
   "cell_type": "code",
   "execution_count": 6,
   "id": "3fb6ef38-3a73-4d6a-b2f5-5f8c2b311dc7",
   "metadata": {},
   "outputs": [
    {
     "data": {
      "text/plain": [
       "(50000, 19)"
      ]
     },
     "execution_count": 6,
     "metadata": {},
     "output_type": "execute_result"
    }
   ],
   "source": [
    "df.shape"
   ]
  },
  {
   "cell_type": "code",
   "execution_count": 7,
   "id": "bc27900d-7ad3-4cd3-9747-c5af79090a2f",
   "metadata": {},
   "outputs": [
    {
     "data": {
      "text/plain": [
       "business_code               0\n",
       "cust_number                 0\n",
       "name_customer               0\n",
       "clear_date              10000\n",
       "buisness_year               0\n",
       "doc_id                      0\n",
       "posting_date                0\n",
       "document_create_date        0\n",
       "due_in_date                 0\n",
       "invoice_currency            0\n",
       "document type               0\n",
       "posting_id                  0\n",
       "area_business           50000\n",
       "total_open_amount           0\n",
       "baseline_create_date        0\n",
       "cust_payment_terms          0\n",
       "invoice_id                  6\n",
       "isOpen                      0\n",
       "dtype: int64"
      ]
     },
     "execution_count": 7,
     "metadata": {},
     "output_type": "execute_result"
    }
   ],
   "source": [
    "## Duplicates\n",
    "df_1 = df.drop(['document_create_date.1'], axis=1)\n",
    "\n",
    "# finding nan values \n",
    "df_1.isna().sum()"
   ]
  },
  {
   "cell_type": "code",
   "execution_count": 8,
   "id": "8a48c056-dc5b-4247-9c8a-c22271b682b1",
   "metadata": {},
   "outputs": [
    {
     "data": {
      "text/plain": [
       "(39994, 17)"
      ]
     },
     "execution_count": 8,
     "metadata": {},
     "output_type": "execute_result"
    }
   ],
   "source": [
    "#area has overall all the null value hence dropping \n",
    "df_1 = df_1.drop(['area_business'], axis = 1)\n",
    "\n",
    "#similar to tarea buisenss clear date is having atmost to many null  value \n",
    "# but it is essential for finding targer payment \n",
    "# hence we are dropping only null value \n",
    "df_1 = df_1.dropna(axis = 0, how ='any')\n",
    "df_1.shape\n"
   ]
  },
  {
   "cell_type": "code",
   "execution_count": 9,
   "id": "4dfeaeaa-96e9-4fd7-8c24-787485dc86c3",
   "metadata": {},
   "outputs": [
    {
     "data": {
      "text/plain": [
       "business_code           0\n",
       "cust_number             0\n",
       "name_customer           0\n",
       "clear_date              0\n",
       "buisness_year           0\n",
       "doc_id                  0\n",
       "posting_date            0\n",
       "document_create_date    0\n",
       "due_in_date             0\n",
       "invoice_currency        0\n",
       "document type           0\n",
       "posting_id              0\n",
       "total_open_amount       0\n",
       "baseline_create_date    0\n",
       "cust_payment_terms      0\n",
       "invoice_id              0\n",
       "isOpen                  0\n",
       "dtype: int64"
      ]
     },
     "execution_count": 9,
     "metadata": {},
     "output_type": "execute_result"
    }
   ],
   "source": [
    "df_1.isna().sum()"
   ]
  },
  {
   "cell_type": "code",
   "execution_count": 10,
   "id": "2a460422-36e0-41b9-9aae-6a1c08620e4b",
   "metadata": {},
   "outputs": [
    {
     "data": {
      "text/html": [
       "<div>\n",
       "<style scoped>\n",
       "    .dataframe tbody tr th:only-of-type {\n",
       "        vertical-align: middle;\n",
       "    }\n",
       "\n",
       "    .dataframe tbody tr th {\n",
       "        vertical-align: top;\n",
       "    }\n",
       "\n",
       "    .dataframe thead th {\n",
       "        text-align: right;\n",
       "    }\n",
       "</style>\n",
       "<table border=\"1\" class=\"dataframe\">\n",
       "  <thead>\n",
       "    <tr style=\"text-align: right;\">\n",
       "      <th></th>\n",
       "      <th>business_code</th>\n",
       "      <th>cust_number</th>\n",
       "      <th>name_customer</th>\n",
       "      <th>clear_date</th>\n",
       "      <th>buisness_year</th>\n",
       "      <th>doc_id</th>\n",
       "      <th>posting_date</th>\n",
       "      <th>document_create_date</th>\n",
       "      <th>due_in_date</th>\n",
       "      <th>invoice_currency</th>\n",
       "      <th>document type</th>\n",
       "      <th>posting_id</th>\n",
       "      <th>total_open_amount</th>\n",
       "      <th>baseline_create_date</th>\n",
       "      <th>cust_payment_terms</th>\n",
       "      <th>invoice_id</th>\n",
       "      <th>isOpen</th>\n",
       "    </tr>\n",
       "  </thead>\n",
       "  <tbody>\n",
       "    <tr>\n",
       "      <th>0</th>\n",
       "      <td>U001</td>\n",
       "      <td>0200769623</td>\n",
       "      <td>WAL-MAR corp</td>\n",
       "      <td>2020-02-11 00:00:00</td>\n",
       "      <td>2020.0</td>\n",
       "      <td>1.930438e+09</td>\n",
       "      <td>2020-01-26</td>\n",
       "      <td>20200125</td>\n",
       "      <td>20200210.0</td>\n",
       "      <td>USD</td>\n",
       "      <td>RV</td>\n",
       "      <td>1.0</td>\n",
       "      <td>54273.28</td>\n",
       "      <td>20200126.0</td>\n",
       "      <td>NAH4</td>\n",
       "      <td>1.930438e+09</td>\n",
       "      <td>0</td>\n",
       "    </tr>\n",
       "    <tr>\n",
       "      <th>1</th>\n",
       "      <td>U001</td>\n",
       "      <td>0200980828</td>\n",
       "      <td>BEN E</td>\n",
       "      <td>2019-08-08 00:00:00</td>\n",
       "      <td>2019.0</td>\n",
       "      <td>1.929646e+09</td>\n",
       "      <td>2019-07-22</td>\n",
       "      <td>20190722</td>\n",
       "      <td>20190811.0</td>\n",
       "      <td>USD</td>\n",
       "      <td>RV</td>\n",
       "      <td>1.0</td>\n",
       "      <td>79656.60</td>\n",
       "      <td>20190722.0</td>\n",
       "      <td>NAD1</td>\n",
       "      <td>1.929646e+09</td>\n",
       "      <td>0</td>\n",
       "    </tr>\n",
       "    <tr>\n",
       "      <th>2</th>\n",
       "      <td>U001</td>\n",
       "      <td>0200792734</td>\n",
       "      <td>MDV/ trust</td>\n",
       "      <td>2019-12-30 00:00:00</td>\n",
       "      <td>2019.0</td>\n",
       "      <td>1.929874e+09</td>\n",
       "      <td>2019-09-14</td>\n",
       "      <td>20190914</td>\n",
       "      <td>20190929.0</td>\n",
       "      <td>USD</td>\n",
       "      <td>RV</td>\n",
       "      <td>1.0</td>\n",
       "      <td>2253.86</td>\n",
       "      <td>20190914.0</td>\n",
       "      <td>NAA8</td>\n",
       "      <td>1.929874e+09</td>\n",
       "      <td>0</td>\n",
       "    </tr>\n",
       "    <tr>\n",
       "      <th>4</th>\n",
       "      <td>U001</td>\n",
       "      <td>0200769623</td>\n",
       "      <td>WAL-MAR foundation</td>\n",
       "      <td>2019-11-25 00:00:00</td>\n",
       "      <td>2019.0</td>\n",
       "      <td>1.930148e+09</td>\n",
       "      <td>2019-11-13</td>\n",
       "      <td>20191113</td>\n",
       "      <td>20191128.0</td>\n",
       "      <td>USD</td>\n",
       "      <td>RV</td>\n",
       "      <td>1.0</td>\n",
       "      <td>33133.29</td>\n",
       "      <td>20191113.0</td>\n",
       "      <td>NAH4</td>\n",
       "      <td>1.930148e+09</td>\n",
       "      <td>0</td>\n",
       "    </tr>\n",
       "    <tr>\n",
       "      <th>5</th>\n",
       "      <td>CA02</td>\n",
       "      <td>0140106181</td>\n",
       "      <td>THE  corporation</td>\n",
       "      <td>2019-12-04 00:00:00</td>\n",
       "      <td>2019.0</td>\n",
       "      <td>2.960581e+09</td>\n",
       "      <td>2019-09-20</td>\n",
       "      <td>20190920</td>\n",
       "      <td>20191004.0</td>\n",
       "      <td>CAD</td>\n",
       "      <td>RV</td>\n",
       "      <td>1.0</td>\n",
       "      <td>22225.84</td>\n",
       "      <td>20190924.0</td>\n",
       "      <td>CA10</td>\n",
       "      <td>2.960581e+09</td>\n",
       "      <td>0</td>\n",
       "    </tr>\n",
       "    <tr>\n",
       "      <th>6</th>\n",
       "      <td>U001</td>\n",
       "      <td>0200769623</td>\n",
       "      <td>WAL-MAR in</td>\n",
       "      <td>2019-11-12 00:00:00</td>\n",
       "      <td>2019.0</td>\n",
       "      <td>1.930083e+09</td>\n",
       "      <td>2019-11-01</td>\n",
       "      <td>20191031</td>\n",
       "      <td>20191116.0</td>\n",
       "      <td>USD</td>\n",
       "      <td>RV</td>\n",
       "      <td>1.0</td>\n",
       "      <td>7358.49</td>\n",
       "      <td>20191101.0</td>\n",
       "      <td>NAH4</td>\n",
       "      <td>1.930083e+09</td>\n",
       "      <td>0</td>\n",
       "    </tr>\n",
       "    <tr>\n",
       "      <th>8</th>\n",
       "      <td>U001</td>\n",
       "      <td>0200769623</td>\n",
       "      <td>WAL-MAR corp</td>\n",
       "      <td>2019-06-18 00:00:00</td>\n",
       "      <td>2019.0</td>\n",
       "      <td>1.929440e+09</td>\n",
       "      <td>2019-06-07</td>\n",
       "      <td>20190605</td>\n",
       "      <td>20190622.0</td>\n",
       "      <td>USD</td>\n",
       "      <td>RV</td>\n",
       "      <td>1.0</td>\n",
       "      <td>15995.04</td>\n",
       "      <td>20190607.0</td>\n",
       "      <td>NAH4</td>\n",
       "      <td>1.929440e+09</td>\n",
       "      <td>0</td>\n",
       "    </tr>\n",
       "    <tr>\n",
       "      <th>9</th>\n",
       "      <td>U001</td>\n",
       "      <td>0200762301</td>\n",
       "      <td>C&amp;S WH systems</td>\n",
       "      <td>2019-03-06 00:00:00</td>\n",
       "      <td>2019.0</td>\n",
       "      <td>1.928819e+09</td>\n",
       "      <td>2019-02-20</td>\n",
       "      <td>20190219</td>\n",
       "      <td>20190307.0</td>\n",
       "      <td>USD</td>\n",
       "      <td>RV</td>\n",
       "      <td>1.0</td>\n",
       "      <td>28.63</td>\n",
       "      <td>20190220.0</td>\n",
       "      <td>NAC6</td>\n",
       "      <td>1.928819e+09</td>\n",
       "      <td>0</td>\n",
       "    </tr>\n",
       "    <tr>\n",
       "      <th>11</th>\n",
       "      <td>U001</td>\n",
       "      <td>0200743129</td>\n",
       "      <td>BROOKS co</td>\n",
       "      <td>2019-01-22 00:00:00</td>\n",
       "      <td>2019.0</td>\n",
       "      <td>1.928551e+09</td>\n",
       "      <td>2019-01-02</td>\n",
       "      <td>20190102</td>\n",
       "      <td>20190117.0</td>\n",
       "      <td>USD</td>\n",
       "      <td>RV</td>\n",
       "      <td>1.0</td>\n",
       "      <td>103147.37</td>\n",
       "      <td>20190102.0</td>\n",
       "      <td>NAA8</td>\n",
       "      <td>1.928551e+09</td>\n",
       "      <td>0</td>\n",
       "    </tr>\n",
       "    <tr>\n",
       "      <th>12</th>\n",
       "      <td>U001</td>\n",
       "      <td>0200186937</td>\n",
       "      <td>SYSC corporation</td>\n",
       "      <td>2019-05-06 00:00:00</td>\n",
       "      <td>2019.0</td>\n",
       "      <td>1.929152e+09</td>\n",
       "      <td>2019-04-15</td>\n",
       "      <td>20190415</td>\n",
       "      <td>20190430.0</td>\n",
       "      <td>USD</td>\n",
       "      <td>RV</td>\n",
       "      <td>1.0</td>\n",
       "      <td>16381.45</td>\n",
       "      <td>20190415.0</td>\n",
       "      <td>NAA8</td>\n",
       "      <td>1.929152e+09</td>\n",
       "      <td>0</td>\n",
       "    </tr>\n",
       "  </tbody>\n",
       "</table>\n",
       "</div>"
      ],
      "text/plain": [
       "   business_code cust_number       name_customer           clear_date  \\\n",
       "0           U001  0200769623        WAL-MAR corp  2020-02-11 00:00:00   \n",
       "1           U001  0200980828              BEN E   2019-08-08 00:00:00   \n",
       "2           U001  0200792734          MDV/ trust  2019-12-30 00:00:00   \n",
       "4           U001  0200769623  WAL-MAR foundation  2019-11-25 00:00:00   \n",
       "5           CA02  0140106181    THE  corporation  2019-12-04 00:00:00   \n",
       "6           U001  0200769623          WAL-MAR in  2019-11-12 00:00:00   \n",
       "8           U001  0200769623        WAL-MAR corp  2019-06-18 00:00:00   \n",
       "9           U001  0200762301      C&S WH systems  2019-03-06 00:00:00   \n",
       "11          U001  0200743129           BROOKS co  2019-01-22 00:00:00   \n",
       "12          U001  0200186937    SYSC corporation  2019-05-06 00:00:00   \n",
       "\n",
       "    buisness_year        doc_id posting_date  document_create_date  \\\n",
       "0          2020.0  1.930438e+09   2020-01-26              20200125   \n",
       "1          2019.0  1.929646e+09   2019-07-22              20190722   \n",
       "2          2019.0  1.929874e+09   2019-09-14              20190914   \n",
       "4          2019.0  1.930148e+09   2019-11-13              20191113   \n",
       "5          2019.0  2.960581e+09   2019-09-20              20190920   \n",
       "6          2019.0  1.930083e+09   2019-11-01              20191031   \n",
       "8          2019.0  1.929440e+09   2019-06-07              20190605   \n",
       "9          2019.0  1.928819e+09   2019-02-20              20190219   \n",
       "11         2019.0  1.928551e+09   2019-01-02              20190102   \n",
       "12         2019.0  1.929152e+09   2019-04-15              20190415   \n",
       "\n",
       "    due_in_date invoice_currency document type  posting_id  total_open_amount  \\\n",
       "0    20200210.0              USD            RV         1.0           54273.28   \n",
       "1    20190811.0              USD            RV         1.0           79656.60   \n",
       "2    20190929.0              USD            RV         1.0            2253.86   \n",
       "4    20191128.0              USD            RV         1.0           33133.29   \n",
       "5    20191004.0              CAD            RV         1.0           22225.84   \n",
       "6    20191116.0              USD            RV         1.0            7358.49   \n",
       "8    20190622.0              USD            RV         1.0           15995.04   \n",
       "9    20190307.0              USD            RV         1.0              28.63   \n",
       "11   20190117.0              USD            RV         1.0          103147.37   \n",
       "12   20190430.0              USD            RV         1.0           16381.45   \n",
       "\n",
       "    baseline_create_date cust_payment_terms    invoice_id  isOpen  \n",
       "0             20200126.0               NAH4  1.930438e+09       0  \n",
       "1             20190722.0               NAD1  1.929646e+09       0  \n",
       "2             20190914.0               NAA8  1.929874e+09       0  \n",
       "4             20191113.0               NAH4  1.930148e+09       0  \n",
       "5             20190924.0               CA10  2.960581e+09       0  \n",
       "6             20191101.0               NAH4  1.930083e+09       0  \n",
       "8             20190607.0               NAH4  1.929440e+09       0  \n",
       "9             20190220.0               NAC6  1.928819e+09       0  \n",
       "11            20190102.0               NAA8  1.928551e+09       0  \n",
       "12            20190415.0               NAA8  1.929152e+09       0  "
      ]
     },
     "execution_count": 10,
     "metadata": {},
     "output_type": "execute_result"
    }
   ],
   "source": [
    "df_1[:10]"
   ]
  },
  {
   "cell_type": "markdown",
   "id": "e543bb34-735d-42d7-9fc6-0f2518ddf598",
   "metadata": {
    "tags": []
   },
   "source": [
    "<a id='preprocessing'></a>\n",
    "# <b> 2.  Preprocessing </b>\n",
    "\n",
    "* In preprocessing we have done some simple steps like \n",
    "data cleaning, data integration, data reduction, and data transformation\n",
    "\n",
    "    1.  converting cad amount into usd \n",
    "    2.  formetting date into proper formet \n",
    "    3.  then we created train and test with making target column\n",
    "        * for <b> target variable </b> we have just subtracted clear_date with due_date "
   ]
  },
  {
   "cell_type": "markdown",
   "id": "dcd65b7c-2536-4d74-a747-240409772684",
   "metadata": {
    "jp-MarkdownHeadingCollapsed": true,
    "tags": []
   },
   "source": [
    "## 2.1 remember to convert amount into usd  "
   ]
  },
  {
   "cell_type": "code",
   "execution_count": 11,
   "id": "720bfaa1-e066-4ae9-902f-d2418720a176",
   "metadata": {},
   "outputs": [
    {
     "name": "stdout",
     "output_type": "stream",
     "text": [
      "46081 3919\n"
     ]
    }
   ],
   "source": [
    "currecy = (df[\"invoice_currency\"])\n",
    "\n",
    "usd,cad = 0,0\n",
    "for i in range(len(currecy)):\n",
    "    if(currecy[i]==\"USD\"):\n",
    "        usd+=1\n",
    "    elif(currecy[i]==\"CAD\"):\n",
    "        cad +=1 \n",
    "print(usd,cad)      \n",
    "        "
   ]
  },
  {
   "cell_type": "markdown",
   "id": "037cb800-0057-4e7a-8e75-c5ab34e745d1",
   "metadata": {
    "jp-MarkdownHeadingCollapsed": true,
    "tags": []
   },
   "source": [
    "## 2.2 Formatting Date "
   ]
  },
  {
   "cell_type": "code",
   "execution_count": 12,
   "id": "f4443960-7c9b-4dc1-aa24-8e73bac5cda9",
   "metadata": {},
   "outputs": [],
   "source": [
    "def change_date(x_type):\n",
    "    x = int(x_type)\n",
    "    x = str(x)\n",
    "    year = int(x[0:4])\n",
    "    month = int(x[4:6])\n",
    "    day = int(x[6:])\n",
    "    return dt.datetime(year, month, day)"
   ]
  },
  {
   "cell_type": "code",
   "execution_count": 13,
   "id": "74d2aceb-78c2-49d2-a895-837251b8ae7c",
   "metadata": {},
   "outputs": [
    {
     "name": "stdout",
     "output_type": "stream",
     "text": [
      "<class 'datetime.datetime'>\n",
      "2020-02-10 00:00:00\n"
     ]
    }
   ],
   "source": [
    "print(type(change_date(20200210.0)))\n",
    "print(change_date(20200210.0))"
   ]
  },
  {
   "cell_type": "markdown",
   "id": "4d8a7802-4ade-49a4-8926-c723e542ffcf",
   "metadata": {
    "jp-MarkdownHeadingCollapsed": true,
    "tags": []
   },
   "source": [
    " ## 2.3 Creating Target Varible "
   ]
  },
  {
   "cell_type": "code",
   "execution_count": 14,
   "id": "bd2bcd61-c6c0-4ded-bd52-0a8e25681c88",
   "metadata": {},
   "outputs": [],
   "source": [
    "df_1['due_date'] = df_1['due_in_date'].apply(change_date)\n",
    "df_1['clear_date']= pd.to_datetime(df_1['clear_date']) \n",
    "\n",
    "# target variable\n",
    "df_1['target'] = (df_1['clear_date'] - df_1['due_date']).dt.days"
   ]
  },
  {
   "cell_type": "code",
   "execution_count": 15,
   "id": "d49320a1-ac4f-4abd-b5dd-b941bb37cb3d",
   "metadata": {},
   "outputs": [],
   "source": [
    "## just applied in the proper formet\n",
    "\n",
    "df_1['document_create_date'] = df_1['document_create_date'].apply(change_date)\n",
    "df_1['baseline_create_date'] = df_1['baseline_create_date'].apply(change_date)\n",
    "df_1['due_in_date'] = df_1[\"due_in_date\"].apply(change_date)"
   ]
  },
  {
   "cell_type": "markdown",
   "id": "d902ad00-0300-4a7d-b6b3-02e5e6ce31a9",
   "metadata": {},
   "source": [
    "### The Positive value means that there is delay in payment and negation means it is paid "
   ]
  },
  {
   "cell_type": "code",
   "execution_count": 16,
   "id": "be424a2c-3e81-485d-a312-4906ac81c7aa",
   "metadata": {},
   "outputs": [
    {
     "data": {
      "text/plain": [
       "0      1\n",
       "1     -3\n",
       "2     92\n",
       "4     -3\n",
       "5     61\n",
       "6     -4\n",
       "8     -4\n",
       "9     -1\n",
       "11     5\n",
       "12     6\n",
       "Name: target, dtype: int64"
      ]
     },
     "execution_count": 16,
     "metadata": {},
     "output_type": "execute_result"
    }
   ],
   "source": [
    "df_1[\"target\"][:10]"
   ]
  },
  {
   "cell_type": "code",
   "execution_count": 17,
   "id": "5a6ecd85-b796-44be-b6b7-8d663d409aeb",
   "metadata": {},
   "outputs": [
    {
     "data": {
      "text/html": [
       "<div>\n",
       "<style scoped>\n",
       "    .dataframe tbody tr th:only-of-type {\n",
       "        vertical-align: middle;\n",
       "    }\n",
       "\n",
       "    .dataframe tbody tr th {\n",
       "        vertical-align: top;\n",
       "    }\n",
       "\n",
       "    .dataframe thead th {\n",
       "        text-align: right;\n",
       "    }\n",
       "</style>\n",
       "<table border=\"1\" class=\"dataframe\">\n",
       "  <thead>\n",
       "    <tr style=\"text-align: right;\">\n",
       "      <th></th>\n",
       "      <th>business_code</th>\n",
       "      <th>cust_number</th>\n",
       "      <th>name_customer</th>\n",
       "      <th>clear_date</th>\n",
       "      <th>buisness_year</th>\n",
       "      <th>doc_id</th>\n",
       "      <th>posting_date</th>\n",
       "      <th>document_create_date</th>\n",
       "      <th>due_in_date</th>\n",
       "      <th>invoice_currency</th>\n",
       "      <th>document type</th>\n",
       "      <th>posting_id</th>\n",
       "      <th>total_open_amount</th>\n",
       "      <th>baseline_create_date</th>\n",
       "      <th>cust_payment_terms</th>\n",
       "      <th>invoice_id</th>\n",
       "      <th>isOpen</th>\n",
       "      <th>due_date</th>\n",
       "      <th>target</th>\n",
       "    </tr>\n",
       "  </thead>\n",
       "  <tbody>\n",
       "    <tr>\n",
       "      <th>0</th>\n",
       "      <td>U001</td>\n",
       "      <td>0200769623</td>\n",
       "      <td>WAL-MAR corp</td>\n",
       "      <td>2020-02-11</td>\n",
       "      <td>2020.0</td>\n",
       "      <td>1.930438e+09</td>\n",
       "      <td>2020-01-26</td>\n",
       "      <td>2020-01-25</td>\n",
       "      <td>2020-02-10</td>\n",
       "      <td>USD</td>\n",
       "      <td>RV</td>\n",
       "      <td>1.0</td>\n",
       "      <td>54273.28</td>\n",
       "      <td>2020-01-26</td>\n",
       "      <td>NAH4</td>\n",
       "      <td>1.930438e+09</td>\n",
       "      <td>0</td>\n",
       "      <td>2020-02-10</td>\n",
       "      <td>1</td>\n",
       "    </tr>\n",
       "    <tr>\n",
       "      <th>1</th>\n",
       "      <td>U001</td>\n",
       "      <td>0200980828</td>\n",
       "      <td>BEN E</td>\n",
       "      <td>2019-08-08</td>\n",
       "      <td>2019.0</td>\n",
       "      <td>1.929646e+09</td>\n",
       "      <td>2019-07-22</td>\n",
       "      <td>2019-07-22</td>\n",
       "      <td>2019-08-11</td>\n",
       "      <td>USD</td>\n",
       "      <td>RV</td>\n",
       "      <td>1.0</td>\n",
       "      <td>79656.60</td>\n",
       "      <td>2019-07-22</td>\n",
       "      <td>NAD1</td>\n",
       "      <td>1.929646e+09</td>\n",
       "      <td>0</td>\n",
       "      <td>2019-08-11</td>\n",
       "      <td>-3</td>\n",
       "    </tr>\n",
       "    <tr>\n",
       "      <th>2</th>\n",
       "      <td>U001</td>\n",
       "      <td>0200792734</td>\n",
       "      <td>MDV/ trust</td>\n",
       "      <td>2019-12-30</td>\n",
       "      <td>2019.0</td>\n",
       "      <td>1.929874e+09</td>\n",
       "      <td>2019-09-14</td>\n",
       "      <td>2019-09-14</td>\n",
       "      <td>2019-09-29</td>\n",
       "      <td>USD</td>\n",
       "      <td>RV</td>\n",
       "      <td>1.0</td>\n",
       "      <td>2253.86</td>\n",
       "      <td>2019-09-14</td>\n",
       "      <td>NAA8</td>\n",
       "      <td>1.929874e+09</td>\n",
       "      <td>0</td>\n",
       "      <td>2019-09-29</td>\n",
       "      <td>92</td>\n",
       "    </tr>\n",
       "    <tr>\n",
       "      <th>4</th>\n",
       "      <td>U001</td>\n",
       "      <td>0200769623</td>\n",
       "      <td>WAL-MAR foundation</td>\n",
       "      <td>2019-11-25</td>\n",
       "      <td>2019.0</td>\n",
       "      <td>1.930148e+09</td>\n",
       "      <td>2019-11-13</td>\n",
       "      <td>2019-11-13</td>\n",
       "      <td>2019-11-28</td>\n",
       "      <td>USD</td>\n",
       "      <td>RV</td>\n",
       "      <td>1.0</td>\n",
       "      <td>33133.29</td>\n",
       "      <td>2019-11-13</td>\n",
       "      <td>NAH4</td>\n",
       "      <td>1.930148e+09</td>\n",
       "      <td>0</td>\n",
       "      <td>2019-11-28</td>\n",
       "      <td>-3</td>\n",
       "    </tr>\n",
       "    <tr>\n",
       "      <th>5</th>\n",
       "      <td>CA02</td>\n",
       "      <td>0140106181</td>\n",
       "      <td>THE  corporation</td>\n",
       "      <td>2019-12-04</td>\n",
       "      <td>2019.0</td>\n",
       "      <td>2.960581e+09</td>\n",
       "      <td>2019-09-20</td>\n",
       "      <td>2019-09-20</td>\n",
       "      <td>2019-10-04</td>\n",
       "      <td>CAD</td>\n",
       "      <td>RV</td>\n",
       "      <td>1.0</td>\n",
       "      <td>22225.84</td>\n",
       "      <td>2019-09-24</td>\n",
       "      <td>CA10</td>\n",
       "      <td>2.960581e+09</td>\n",
       "      <td>0</td>\n",
       "      <td>2019-10-04</td>\n",
       "      <td>61</td>\n",
       "    </tr>\n",
       "  </tbody>\n",
       "</table>\n",
       "</div>"
      ],
      "text/plain": [
       "  business_code cust_number       name_customer clear_date  buisness_year  \\\n",
       "0          U001  0200769623        WAL-MAR corp 2020-02-11         2020.0   \n",
       "1          U001  0200980828              BEN E  2019-08-08         2019.0   \n",
       "2          U001  0200792734          MDV/ trust 2019-12-30         2019.0   \n",
       "4          U001  0200769623  WAL-MAR foundation 2019-11-25         2019.0   \n",
       "5          CA02  0140106181    THE  corporation 2019-12-04         2019.0   \n",
       "\n",
       "         doc_id posting_date document_create_date due_in_date  \\\n",
       "0  1.930438e+09   2020-01-26           2020-01-25  2020-02-10   \n",
       "1  1.929646e+09   2019-07-22           2019-07-22  2019-08-11   \n",
       "2  1.929874e+09   2019-09-14           2019-09-14  2019-09-29   \n",
       "4  1.930148e+09   2019-11-13           2019-11-13  2019-11-28   \n",
       "5  2.960581e+09   2019-09-20           2019-09-20  2019-10-04   \n",
       "\n",
       "  invoice_currency document type  posting_id  total_open_amount  \\\n",
       "0              USD            RV         1.0           54273.28   \n",
       "1              USD            RV         1.0           79656.60   \n",
       "2              USD            RV         1.0            2253.86   \n",
       "4              USD            RV         1.0           33133.29   \n",
       "5              CAD            RV         1.0           22225.84   \n",
       "\n",
       "  baseline_create_date cust_payment_terms    invoice_id  isOpen   due_date  \\\n",
       "0           2020-01-26               NAH4  1.930438e+09       0 2020-02-10   \n",
       "1           2019-07-22               NAD1  1.929646e+09       0 2019-08-11   \n",
       "2           2019-09-14               NAA8  1.929874e+09       0 2019-09-29   \n",
       "4           2019-11-13               NAH4  1.930148e+09       0 2019-11-28   \n",
       "5           2019-09-24               CA10  2.960581e+09       0 2019-10-04   \n",
       "\n",
       "   target  \n",
       "0       1  \n",
       "1      -3  \n",
       "2      92  \n",
       "4      -3  \n",
       "5      61  "
      ]
     },
     "execution_count": 17,
     "metadata": {},
     "output_type": "execute_result"
    }
   ],
   "source": [
    "df_1[:5]"
   ]
  },
  {
   "cell_type": "code",
   "execution_count": 18,
   "id": "88609708-2b97-4c2b-8c01-90a1157ed5af",
   "metadata": {},
   "outputs": [],
   "source": [
    "# Splitting the initial dataframe into train and test\n",
    "# So in this case we can consider last 3 months for test set.\n",
    "x_train = df_1[df_1['document_create_date'] <= '2020-01-01'].copy()\n",
    "x_test = df_1[df_1['document_create_date'] > '2020-01-01'].copy()"
   ]
  },
  {
   "cell_type": "code",
   "execution_count": 19,
   "id": "ae1fead2-9c90-4b12-b14e-c8df31daccf0",
   "metadata": {},
   "outputs": [
    {
     "data": {
      "text/html": [
       "<div>\n",
       "<style scoped>\n",
       "    .dataframe tbody tr th:only-of-type {\n",
       "        vertical-align: middle;\n",
       "    }\n",
       "\n",
       "    .dataframe tbody tr th {\n",
       "        vertical-align: top;\n",
       "    }\n",
       "\n",
       "    .dataframe thead th {\n",
       "        text-align: right;\n",
       "    }\n",
       "</style>\n",
       "<table border=\"1\" class=\"dataframe\">\n",
       "  <thead>\n",
       "    <tr style=\"text-align: right;\">\n",
       "      <th></th>\n",
       "      <th>business_code</th>\n",
       "      <th>cust_number</th>\n",
       "      <th>name_customer</th>\n",
       "      <th>clear_date</th>\n",
       "      <th>buisness_year</th>\n",
       "      <th>doc_id</th>\n",
       "      <th>posting_date</th>\n",
       "      <th>document_create_date</th>\n",
       "      <th>due_in_date</th>\n",
       "      <th>invoice_currency</th>\n",
       "      <th>document type</th>\n",
       "      <th>posting_id</th>\n",
       "      <th>total_open_amount</th>\n",
       "      <th>baseline_create_date</th>\n",
       "      <th>cust_payment_terms</th>\n",
       "      <th>invoice_id</th>\n",
       "      <th>isOpen</th>\n",
       "      <th>due_date</th>\n",
       "      <th>target</th>\n",
       "    </tr>\n",
       "  </thead>\n",
       "  <tbody>\n",
       "    <tr>\n",
       "      <th>0</th>\n",
       "      <td>U001</td>\n",
       "      <td>0200769623</td>\n",
       "      <td>WAL-MAR corp</td>\n",
       "      <td>2020-02-11</td>\n",
       "      <td>2020.0</td>\n",
       "      <td>1.930438e+09</td>\n",
       "      <td>2020-01-26</td>\n",
       "      <td>2020-01-25</td>\n",
       "      <td>2020-02-10</td>\n",
       "      <td>USD</td>\n",
       "      <td>RV</td>\n",
       "      <td>1.0</td>\n",
       "      <td>54273.28</td>\n",
       "      <td>2020-01-26</td>\n",
       "      <td>NAH4</td>\n",
       "      <td>1.930438e+09</td>\n",
       "      <td>0</td>\n",
       "      <td>2020-02-10</td>\n",
       "      <td>1</td>\n",
       "    </tr>\n",
       "    <tr>\n",
       "      <th>19</th>\n",
       "      <td>U001</td>\n",
       "      <td>0200769623</td>\n",
       "      <td>WAL-MAR systems</td>\n",
       "      <td>2020-02-05</td>\n",
       "      <td>2020.0</td>\n",
       "      <td>1.930438e+09</td>\n",
       "      <td>2020-01-24</td>\n",
       "      <td>2020-01-24</td>\n",
       "      <td>2020-02-08</td>\n",
       "      <td>USD</td>\n",
       "      <td>RV</td>\n",
       "      <td>1.0</td>\n",
       "      <td>53349.54</td>\n",
       "      <td>2020-01-24</td>\n",
       "      <td>NAH4</td>\n",
       "      <td>1.930438e+09</td>\n",
       "      <td>0</td>\n",
       "      <td>2020-02-08</td>\n",
       "      <td>-3</td>\n",
       "    </tr>\n",
       "    <tr>\n",
       "      <th>20</th>\n",
       "      <td>U013</td>\n",
       "      <td>0100053554</td>\n",
       "      <td>SYSTEMS systems</td>\n",
       "      <td>2020-02-11</td>\n",
       "      <td>2020.0</td>\n",
       "      <td>1.991838e+09</td>\n",
       "      <td>2020-01-11</td>\n",
       "      <td>2020-01-07</td>\n",
       "      <td>2020-02-10</td>\n",
       "      <td>USD</td>\n",
       "      <td>RV</td>\n",
       "      <td>1.0</td>\n",
       "      <td>5683.50</td>\n",
       "      <td>2020-01-11</td>\n",
       "      <td>NAVE</td>\n",
       "      <td>1.991838e+09</td>\n",
       "      <td>0</td>\n",
       "      <td>2020-02-10</td>\n",
       "      <td>1</td>\n",
       "    </tr>\n",
       "    <tr>\n",
       "      <th>24</th>\n",
       "      <td>U001</td>\n",
       "      <td>0200769623</td>\n",
       "      <td>WAL-MAR co</td>\n",
       "      <td>2020-02-04</td>\n",
       "      <td>2020.0</td>\n",
       "      <td>1.930431e+09</td>\n",
       "      <td>2020-01-24</td>\n",
       "      <td>2020-01-23</td>\n",
       "      <td>2020-02-08</td>\n",
       "      <td>USD</td>\n",
       "      <td>RV</td>\n",
       "      <td>1.0</td>\n",
       "      <td>11307.78</td>\n",
       "      <td>2020-01-24</td>\n",
       "      <td>NAH4</td>\n",
       "      <td>1.930431e+09</td>\n",
       "      <td>0</td>\n",
       "      <td>2020-02-08</td>\n",
       "      <td>-4</td>\n",
       "    </tr>\n",
       "    <tr>\n",
       "      <th>41</th>\n",
       "      <td>U001</td>\n",
       "      <td>0200769623</td>\n",
       "      <td>WAL-MAR associates</td>\n",
       "      <td>2020-01-21</td>\n",
       "      <td>2020.0</td>\n",
       "      <td>1.930353e+09</td>\n",
       "      <td>2020-01-04</td>\n",
       "      <td>2020-01-04</td>\n",
       "      <td>2020-01-19</td>\n",
       "      <td>USD</td>\n",
       "      <td>RV</td>\n",
       "      <td>1.0</td>\n",
       "      <td>4953.83</td>\n",
       "      <td>2020-01-04</td>\n",
       "      <td>NAH4</td>\n",
       "      <td>1.930353e+09</td>\n",
       "      <td>0</td>\n",
       "      <td>2020-01-19</td>\n",
       "      <td>2</td>\n",
       "    </tr>\n",
       "  </tbody>\n",
       "</table>\n",
       "</div>"
      ],
      "text/plain": [
       "   business_code cust_number       name_customer clear_date  buisness_year  \\\n",
       "0           U001  0200769623        WAL-MAR corp 2020-02-11         2020.0   \n",
       "19          U001  0200769623     WAL-MAR systems 2020-02-05         2020.0   \n",
       "20          U013  0100053554     SYSTEMS systems 2020-02-11         2020.0   \n",
       "24          U001  0200769623          WAL-MAR co 2020-02-04         2020.0   \n",
       "41          U001  0200769623  WAL-MAR associates 2020-01-21         2020.0   \n",
       "\n",
       "          doc_id posting_date document_create_date due_in_date  \\\n",
       "0   1.930438e+09   2020-01-26           2020-01-25  2020-02-10   \n",
       "19  1.930438e+09   2020-01-24           2020-01-24  2020-02-08   \n",
       "20  1.991838e+09   2020-01-11           2020-01-07  2020-02-10   \n",
       "24  1.930431e+09   2020-01-24           2020-01-23  2020-02-08   \n",
       "41  1.930353e+09   2020-01-04           2020-01-04  2020-01-19   \n",
       "\n",
       "   invoice_currency document type  posting_id  total_open_amount  \\\n",
       "0               USD            RV         1.0           54273.28   \n",
       "19              USD            RV         1.0           53349.54   \n",
       "20              USD            RV         1.0            5683.50   \n",
       "24              USD            RV         1.0           11307.78   \n",
       "41              USD            RV         1.0            4953.83   \n",
       "\n",
       "   baseline_create_date cust_payment_terms    invoice_id  isOpen   due_date  \\\n",
       "0            2020-01-26               NAH4  1.930438e+09       0 2020-02-10   \n",
       "19           2020-01-24               NAH4  1.930438e+09       0 2020-02-08   \n",
       "20           2020-01-11               NAVE  1.991838e+09       0 2020-02-10   \n",
       "24           2020-01-24               NAH4  1.930431e+09       0 2020-02-08   \n",
       "41           2020-01-04               NAH4  1.930353e+09       0 2020-01-19   \n",
       "\n",
       "    target  \n",
       "0        1  \n",
       "19      -3  \n",
       "20       1  \n",
       "24      -4  \n",
       "41       2  "
      ]
     },
     "execution_count": 19,
     "metadata": {},
     "output_type": "execute_result"
    }
   ],
   "source": [
    "x_test.head()"
   ]
  },
  {
   "cell_type": "code",
   "execution_count": 20,
   "id": "5a465014-780e-48f0-a093-7c664071845d",
   "metadata": {},
   "outputs": [
    {
     "name": "stdout",
     "output_type": "stream",
     "text": [
      "(34971, 19)\n",
      "(5023, 19)\n"
     ]
    }
   ],
   "source": [
    "print(x_train.shape)\n",
    "print(x_test.shape)"
   ]
  },
  {
   "cell_type": "markdown",
   "id": "375b511a-db30-45fb-9265-54add20a6335",
   "metadata": {},
   "source": [
    "<a id='eda'></a>\n",
    "# <b> 3. EDA and Feature Engineering </b> \n",
    "<br> \n",
    "\n",
    "* Through EDA We want to just watch certain data and see how our data is distributed\n",
    "        1. First we want to look how how our buiseness are doing\n",
    "        2. Invoice Currency \n",
    "        3. Payment is Done or Not \n",
    "        4. Document Type \n",
    "        5. Posting Id \n",
    "        6. Customer Payment Terms \n",
    "        7. \n",
    "* Go to [Flowchart](#starting)"
   ]
  },
  {
   "cell_type": "markdown",
   "id": "88907aef-077f-4a14-bf1b-7955aaa162a6",
   "metadata": {
    "jp-MarkdownHeadingCollapsed": true,
    "tags": []
   },
   "source": [
    "## 3.1  Buisness Columns \n"
   ]
  },
  {
   "cell_type": "code",
   "execution_count": 37,
   "id": "d61a1b43-7656-4f1e-a7fe-0977de2cc814",
   "metadata": {},
   "outputs": [
    {
     "name": "stdout",
     "output_type": "stream",
     "text": [
      "{'U001': 31589, 'CA02': 2820, 'U013': 442, 'U002': 107, 'U005': 9, 'U007': 4}\n",
      "{'U001': 4601, 'CA02': 354, 'U013': 59, 'U002': 9}\n"
     ]
    }
   ],
   "source": [
    "print(dict(x_train['business_code'].value_counts()))\n",
    "print(dict(x_test['business_code'].value_counts()))"
   ]
  },
  {
   "cell_type": "code",
   "execution_count": 35,
   "id": "5c8047a2-4e6c-4325-beb8-40c2a0cbd142",
   "metadata": {},
   "outputs": [
    {
     "data": {
      "text/plain": [
       "<AxesSubplot:xlabel='business_code', ylabel='count'>"
      ]
     },
     "execution_count": 35,
     "metadata": {},
     "output_type": "execute_result"
    },
    {
     "data": {
      "image/png": "[encoded data removed]",
      "text/plain": [
       "<Figure size 432x288 with 1 Axes>"
      ]
     },
     "metadata": {},
     "output_type": "display_data"
    }
   ],
   "source": [
    "sns.set(style =\"darkgrid\")\n",
    "sns.countplot(x = x_train['business_code'], palette = \"Set2\")"
   ]
  },
  {
   "cell_type": "code",
   "execution_count": 36,
   "id": "fc4ed125-6cdd-4dbd-bafb-658517c7676d",
   "metadata": {},
   "outputs": [
    {
     "data": {
      "text/plain": [
       "<AxesSubplot:xlabel='business_code', ylabel='count'>"
      ]
     },
     "execution_count": 36,
     "metadata": {},
     "output_type": "execute_result"
    },
    {
     "data": {
      "image/png": "[encoded data removed]",
      "text/plain": [
       "<Figure size 432x288 with 1 Axes>"
      ]
     },
     "metadata": {},
     "output_type": "display_data"
    }
   ],
   "source": [
    "sns.countplot(x = x_test['business_code'], palette = \"Set2\")"
   ]
  },
  {
   "cell_type": "markdown",
   "id": "f9f5d456-a4f8-4191-904f-973b5085ed01",
   "metadata": {
    "jp-MarkdownHeadingCollapsed": true,
    "tags": []
   },
   "source": [
    "## 3.2 Invoice Currency "
   ]
  },
  {
   "cell_type": "code",
   "execution_count": 38,
   "id": "53c10a61-f02a-40c7-ae82-3cee6414450f",
   "metadata": {},
   "outputs": [
    {
     "name": "stdout",
     "output_type": "stream",
     "text": [
      "{'USD': 32149, 'CAD': 2822}\n",
      "{'USD': 4669, 'CAD': 354}\n"
     ]
    }
   ],
   "source": [
    "print(dict(x_train['invoice_currency'].value_counts()))\n",
    "print(dict(x_test['invoice_currency'].value_counts()))"
   ]
  },
  {
   "cell_type": "code",
   "execution_count": 39,
   "id": "0c93fbf0-5d6b-402e-bcb1-aaa0b4383544",
   "metadata": {},
   "outputs": [
    {
     "data": {
      "text/plain": [
       "<AxesSubplot:xlabel='invoice_currency', ylabel='count'>"
      ]
     },
     "execution_count": 39,
     "metadata": {},
     "output_type": "execute_result"
    },
    {
     "data": {
      "image/png": "[encoded data removed]",
      "text/plain": [
       "<Figure size 432x288 with 1 Axes>"
      ]
     },
     "metadata": {},
     "output_type": "display_data"
    }
   ],
   "source": [
    "sns.countplot(x = x_train['invoice_currency'], palette = \"Set2\")"
   ]
  },
  {
   "cell_type": "code",
   "execution_count": 40,
   "id": "6c58184f-bb13-4431-9e8a-bac3a0a7ce4f",
   "metadata": {},
   "outputs": [
    {
     "data": {
      "text/plain": [
       "<AxesSubplot:xlabel='invoice_currency', ylabel='count'>"
      ]
     },
     "execution_count": 40,
     "metadata": {},
     "output_type": "execute_result"
    },
    {
     "data": {
      "image/png": "[encoded data removed]",
      "text/plain": [
       "<Figure size 432x288 with 1 Axes>"
      ]
     },
     "metadata": {},
     "output_type": "display_data"
    }
   ],
   "source": [
    "sns.countplot(x =x_test['invoice_currency'], palette = \"Set2\")"
   ]
  },
  {
   "cell_type": "markdown",
   "id": "beea90e8-0027-4763-87af-b5430c4e79ac",
   "metadata": {},
   "source": [
    "## 3.3 payment Status \n"
   ]
  },
  {
   "cell_type": "code",
   "execution_count": 41,
   "id": "480754f1-1054-414b-be1d-04bede6a9c97",
   "metadata": {},
   "outputs": [
    {
     "name": "stdout",
     "output_type": "stream",
     "text": [
      "{0: 34971}\n",
      "{0: 5023}\n"
     ]
    }
   ],
   "source": [
    "print(dict(x_train['isOpen'].value_counts()))\n",
    "print(dict(x_test['isOpen'].value_counts()))"
   ]
  },
  {
   "cell_type": "markdown",
   "id": "acb9ce25-ea05-422f-8234-f13f575e7ce3",
   "metadata": {},
   "source": [
    "## 3.4 Document Types "
   ]
  },
  {
   "cell_type": "code",
   "execution_count": 43,
   "id": "d7721fd8-7ed3-431d-817a-f06ff6e6f0db",
   "metadata": {},
   "outputs": [
    {
     "name": "stdout",
     "output_type": "stream",
     "text": [
      "{'RV': 34971}\n",
      "{'RV': 5023}\n"
     ]
    }
   ],
   "source": [
    "print(dict(x_train['document type'].value_counts()))\n",
    "print(dict(x_test['document type'].value_counts()))"
   ]
  },
  {
   "cell_type": "code",
   "execution_count": null,
   "id": "fa94643a-fa23-4d59-838e-3c1d34b8eb5f",
   "metadata": {},
   "outputs": [],
   "source": []
  }
 ],
 "metadata": {
  "kernelspec": {
   "display_name": "Python 3 (ipykernel)",
   "language": "python",
   "name": "python3"
  },
  "language_info": {
   "codemirror_mode": {
    "name": "ipython",
    "version": 3
   },
   "file_extension": ".py",
   "mimetype": "text/x-python",
   "name": "python",
   "nbconvert_exporter": "python",
   "pygments_lexer": "ipython3",
   "version": "3.9.5"
  }
 },
 "nbformat": 4,
 "nbformat_minor": 5
}
