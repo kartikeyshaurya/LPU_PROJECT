{
 "cells": [
  {
   "cell_type": "code",
   "execution_count": 72,
   "id": "e1c70329-4a62-4225-a738-e71cc75b04ee",
   "metadata": {},
   "outputs": [],
   "source": [
    "#importing all the libraries \n",
    "import numpy as np\n",
    "import pandas as pd\n",
    "import datetime as dt\n",
    "from scipy import stats\n",
    "import seaborn as sns\n",
    "import matplotlib.pyplot as plt\n",
    "%matplotlib inline\n",
    "\n",
    "#Machine Learning libraries  \n",
    "from sklearn.model_selection import train_test_split\n",
    "from sklearn.linear_model import LinearRegression\n",
    "from sklearn import metrics\n",
    "from sklearn.ensemble import RandomForestRegressor"
   ]
  },
  {
   "cell_type": "markdown",
   "id": "af4fb535-dc5d-4260-b853-5b7a391f6172",
   "metadata": {},
   "source": [
    "# Machine Learning Part of B2B Order Management Application \n",
    "\n",
    "\n",
    "Through this model we have tried to predict the date of payment and aging bucket of an invoice from the invoice creation. The whole purpose of the model is to help the account receivel team in the payment processs from the past Experiences \n",
    "<br>\n",
    "<br>\n",
    "Similar to any machine learning project it is a kind of supervised probelm and we have applied regression for the purpose\n",
    "<br>\n",
    "Here is the Workflow of the Whole Process.\n",
    "<br> \n",
    "1. Dataset\n",
    "2. Preprocessing \n",
    "3. EDA and Data Visualization\n",
    "4. Feature Selection\n",
    "5. Machine Learning Algorithms \n",
    "6. Hyperparameters tunning \n",
    "7. Model Selection\n",
    "8. Bucketing "
   ]
  },
  {
   "cell_type": "markdown",
   "id": "8688fe77-6590-4217-a852-3428417eed6d",
   "metadata": {},
   "source": [
    "![title](flow.png)"
   ]
  },
  {
   "cell_type": "markdown",
   "id": "8f8b4259-c81b-4bce-8326-96f4cb71aac5",
   "metadata": {},
   "source": [
    "# Dataset \n",
    "\n",
    "### <b> Observation</b>\n",
    "\n",
    "* There is a Duplicate available in dataset named 'document_create_date.1' \n",
    "* There is also rows available in the dataset that is missing large number of value i.e clear_date,area_business so we dropped these rows\n",
    "* Two more thing thing that is noticeable  is <b> date and Currency </b> is not in well formeted "
   ]
  },
  {
   "cell_type": "code",
   "execution_count": 73,
   "id": "d86eb002-973f-4604-ab18-6188c5e99223",
   "metadata": {},
   "outputs": [],
   "source": [
    "def load_data(notebook_name):\n",
    "    \" should be working in the same path \"\n",
    "    import os\n",
    "    path= os.getcwd()\n",
    "    print(\"currently working in \"+ str(os.listdir()))\n",
    "    path= os.getcwd()\n",
    "    data = pd.read_csv(os.getcwd()+\"//\"+notebook_name)\n",
    "    df = pd.DataFrame(data)\n",
    "    return data\n"
   ]
  },
  {
   "cell_type": "code",
   "execution_count": 74,
   "id": "8865e112-0f90-4a53-b683-71ff1c4fd221",
   "metadata": {},
   "outputs": [
    {
     "name": "stdout",
     "output_type": "stream",
     "text": [
      "currently working in ['.ipynb_checkpoints', 'data.csv', 'experiment.csv', 'flow.png', 'ml_copy.ipynb', 'Modeling_assignment.ipynb', 'rough.ipynb']\n"
     ]
    },
    {
     "data": {
      "text/plain": [
       "Index(['business_code', 'cust_number', 'name_customer', 'clear_date',\n",
       "       'buisness_year', 'doc_id', 'posting_date', 'document_create_date',\n",
       "       'document_create_date.1', 'due_in_date', 'invoice_currency',\n",
       "       'document type', 'posting_id', 'area_business', 'total_open_amount',\n",
       "       'baseline_create_date', 'cust_payment_terms', 'invoice_id', 'isOpen'],\n",
       "      dtype='object')"
      ]
     },
     "execution_count": 74,
     "metadata": {},
     "output_type": "execute_result"
    }
   ],
   "source": [
    "df = load_data(\"data.csv\") \n",
    "\n",
    "df.columns"
   ]
  },
  {
   "cell_type": "code",
   "execution_count": 75,
   "id": "3fb6ef38-3a73-4d6a-b2f5-5f8c2b311dc7",
   "metadata": {},
   "outputs": [
    {
     "data": {
      "text/plain": [
       "(50000, 19)"
      ]
     },
     "execution_count": 75,
     "metadata": {},
     "output_type": "execute_result"
    }
   ],
   "source": [
    "df.shape"
   ]
  },
  {
   "cell_type": "code",
   "execution_count": 76,
   "id": "bc27900d-7ad3-4cd3-9747-c5af79090a2f",
   "metadata": {},
   "outputs": [
    {
     "data": {
      "text/plain": [
       "business_code               0\n",
       "cust_number                 0\n",
       "name_customer               0\n",
       "clear_date              10000\n",
       "buisness_year               0\n",
       "doc_id                      0\n",
       "posting_date                0\n",
       "document_create_date        0\n",
       "due_in_date                 0\n",
       "invoice_currency            0\n",
       "document type               0\n",
       "posting_id                  0\n",
       "area_business           50000\n",
       "total_open_amount           0\n",
       "baseline_create_date        0\n",
       "cust_payment_terms          0\n",
       "invoice_id                  6\n",
       "isOpen                      0\n",
       "dtype: int64"
      ]
     },
     "execution_count": 76,
     "metadata": {},
     "output_type": "execute_result"
    }
   ],
   "source": [
    "## Duplicates\n",
    "df_drop = df.drop(['document_create_date.1'], axis=1)\n",
    "\n",
    "# finding nan values \n",
    "df_drop.isna().sum()"
   ]
  },
  {
   "cell_type": "code",
   "execution_count": 77,
   "id": "8a48c056-dc5b-4247-9c8a-c22271b682b1",
   "metadata": {},
   "outputs": [
    {
     "data": {
      "text/plain": [
       "(39994, 17)"
      ]
     },
     "execution_count": 77,
     "metadata": {},
     "output_type": "execute_result"
    }
   ],
   "source": [
    "df_drop1 = df_drop.drop(['area_business'], axis = 1)\n",
    "\n",
    "# There are 10000 rows with clear date missing which is useful in finding payment delay predictions, so these rows are useless.\n",
    "df_drop2 = df_drop1.dropna(axis = 0, how ='any') # additionally removing those 10 null values too for invoice_id\n",
    "df_drop2.shape\n",
    "# df_drop2.isna().sum()"
   ]
  },
  {
   "cell_type": "code",
   "execution_count": 87,
   "id": "2a460422-36e0-41b9-9aae-6a1c08620e4b",
   "metadata": {},
   "outputs": [
    {
     "data": {
      "text/html": [
       "<div>\n",
       "<style scoped>\n",
       "    .dataframe tbody tr th:only-of-type {\n",
       "        vertical-align: middle;\n",
       "    }\n",
       "\n",
       "    .dataframe tbody tr th {\n",
       "        vertical-align: top;\n",
       "    }\n",
       "\n",
       "    .dataframe thead th {\n",
       "        text-align: right;\n",
       "    }\n",
       "</style>\n",
       "<table border=\"1\" class=\"dataframe\">\n",
       "  <thead>\n",
       "    <tr style=\"text-align: right;\">\n",
       "      <th></th>\n",
       "      <th>business_code</th>\n",
       "      <th>cust_number</th>\n",
       "      <th>name_customer</th>\n",
       "      <th>clear_date</th>\n",
       "      <th>buisness_year</th>\n",
       "      <th>doc_id</th>\n",
       "      <th>posting_date</th>\n",
       "      <th>document_create_date</th>\n",
       "      <th>due_in_date</th>\n",
       "      <th>invoice_currency</th>\n",
       "      <th>document type</th>\n",
       "      <th>posting_id</th>\n",
       "      <th>total_open_amount</th>\n",
       "      <th>baseline_create_date</th>\n",
       "      <th>cust_payment_terms</th>\n",
       "      <th>invoice_id</th>\n",
       "      <th>isOpen</th>\n",
       "      <th>due_date</th>\n",
       "      <th>target</th>\n",
       "    </tr>\n",
       "  </thead>\n",
       "  <tbody>\n",
       "    <tr>\n",
       "      <th>0</th>\n",
       "      <td>U001</td>\n",
       "      <td>0200769623</td>\n",
       "      <td>WAL-MAR corp</td>\n",
       "      <td>2020-02-11</td>\n",
       "      <td>2020.0</td>\n",
       "      <td>1.930438e+09</td>\n",
       "      <td>2020-01-26</td>\n",
       "      <td>20200125</td>\n",
       "      <td>20200210.0</td>\n",
       "      <td>USD</td>\n",
       "      <td>RV</td>\n",
       "      <td>1.0</td>\n",
       "      <td>54273.28</td>\n",
       "      <td>20200126.0</td>\n",
       "      <td>NAH4</td>\n",
       "      <td>1.930438e+09</td>\n",
       "      <td>0</td>\n",
       "      <td>2020-02-10</td>\n",
       "      <td>1</td>\n",
       "    </tr>\n",
       "    <tr>\n",
       "      <th>1</th>\n",
       "      <td>U001</td>\n",
       "      <td>0200980828</td>\n",
       "      <td>BEN E</td>\n",
       "      <td>2019-08-08</td>\n",
       "      <td>2019.0</td>\n",
       "      <td>1.929646e+09</td>\n",
       "      <td>2019-07-22</td>\n",
       "      <td>20190722</td>\n",
       "      <td>20190811.0</td>\n",
       "      <td>USD</td>\n",
       "      <td>RV</td>\n",
       "      <td>1.0</td>\n",
       "      <td>79656.60</td>\n",
       "      <td>20190722.0</td>\n",
       "      <td>NAD1</td>\n",
       "      <td>1.929646e+09</td>\n",
       "      <td>0</td>\n",
       "      <td>2019-08-11</td>\n",
       "      <td>-3</td>\n",
       "    </tr>\n",
       "    <tr>\n",
       "      <th>2</th>\n",
       "      <td>U001</td>\n",
       "      <td>0200792734</td>\n",
       "      <td>MDV/ trust</td>\n",
       "      <td>2019-12-30</td>\n",
       "      <td>2019.0</td>\n",
       "      <td>1.929874e+09</td>\n",
       "      <td>2019-09-14</td>\n",
       "      <td>20190914</td>\n",
       "      <td>20190929.0</td>\n",
       "      <td>USD</td>\n",
       "      <td>RV</td>\n",
       "      <td>1.0</td>\n",
       "      <td>2253.86</td>\n",
       "      <td>20190914.0</td>\n",
       "      <td>NAA8</td>\n",
       "      <td>1.929874e+09</td>\n",
       "      <td>0</td>\n",
       "      <td>2019-09-29</td>\n",
       "      <td>92</td>\n",
       "    </tr>\n",
       "    <tr>\n",
       "      <th>4</th>\n",
       "      <td>U001</td>\n",
       "      <td>0200769623</td>\n",
       "      <td>WAL-MAR foundation</td>\n",
       "      <td>2019-11-25</td>\n",
       "      <td>2019.0</td>\n",
       "      <td>1.930148e+09</td>\n",
       "      <td>2019-11-13</td>\n",
       "      <td>20191113</td>\n",
       "      <td>20191128.0</td>\n",
       "      <td>USD</td>\n",
       "      <td>RV</td>\n",
       "      <td>1.0</td>\n",
       "      <td>33133.29</td>\n",
       "      <td>20191113.0</td>\n",
       "      <td>NAH4</td>\n",
       "      <td>1.930148e+09</td>\n",
       "      <td>0</td>\n",
       "      <td>2019-11-28</td>\n",
       "      <td>-3</td>\n",
       "    </tr>\n",
       "    <tr>\n",
       "      <th>5</th>\n",
       "      <td>CA02</td>\n",
       "      <td>0140106181</td>\n",
       "      <td>THE  corporation</td>\n",
       "      <td>2019-12-04</td>\n",
       "      <td>2019.0</td>\n",
       "      <td>2.960581e+09</td>\n",
       "      <td>2019-09-20</td>\n",
       "      <td>20190920</td>\n",
       "      <td>20191004.0</td>\n",
       "      <td>CAD</td>\n",
       "      <td>RV</td>\n",
       "      <td>1.0</td>\n",
       "      <td>22225.84</td>\n",
       "      <td>20190924.0</td>\n",
       "      <td>CA10</td>\n",
       "      <td>2.960581e+09</td>\n",
       "      <td>0</td>\n",
       "      <td>2019-10-04</td>\n",
       "      <td>61</td>\n",
       "    </tr>\n",
       "    <tr>\n",
       "      <th>6</th>\n",
       "      <td>U001</td>\n",
       "      <td>0200769623</td>\n",
       "      <td>WAL-MAR in</td>\n",
       "      <td>2019-11-12</td>\n",
       "      <td>2019.0</td>\n",
       "      <td>1.930083e+09</td>\n",
       "      <td>2019-11-01</td>\n",
       "      <td>20191031</td>\n",
       "      <td>20191116.0</td>\n",
       "      <td>USD</td>\n",
       "      <td>RV</td>\n",
       "      <td>1.0</td>\n",
       "      <td>7358.49</td>\n",
       "      <td>20191101.0</td>\n",
       "      <td>NAH4</td>\n",
       "      <td>1.930083e+09</td>\n",
       "      <td>0</td>\n",
       "      <td>2019-11-16</td>\n",
       "      <td>-4</td>\n",
       "    </tr>\n",
       "    <tr>\n",
       "      <th>8</th>\n",
       "      <td>U001</td>\n",
       "      <td>0200769623</td>\n",
       "      <td>WAL-MAR corp</td>\n",
       "      <td>2019-06-18</td>\n",
       "      <td>2019.0</td>\n",
       "      <td>1.929440e+09</td>\n",
       "      <td>2019-06-07</td>\n",
       "      <td>20190605</td>\n",
       "      <td>20190622.0</td>\n",
       "      <td>USD</td>\n",
       "      <td>RV</td>\n",
       "      <td>1.0</td>\n",
       "      <td>15995.04</td>\n",
       "      <td>20190607.0</td>\n",
       "      <td>NAH4</td>\n",
       "      <td>1.929440e+09</td>\n",
       "      <td>0</td>\n",
       "      <td>2019-06-22</td>\n",
       "      <td>-4</td>\n",
       "    </tr>\n",
       "    <tr>\n",
       "      <th>9</th>\n",
       "      <td>U001</td>\n",
       "      <td>0200762301</td>\n",
       "      <td>C&amp;S WH systems</td>\n",
       "      <td>2019-03-06</td>\n",
       "      <td>2019.0</td>\n",
       "      <td>1.928819e+09</td>\n",
       "      <td>2019-02-20</td>\n",
       "      <td>20190219</td>\n",
       "      <td>20190307.0</td>\n",
       "      <td>USD</td>\n",
       "      <td>RV</td>\n",
       "      <td>1.0</td>\n",
       "      <td>28.63</td>\n",
       "      <td>20190220.0</td>\n",
       "      <td>NAC6</td>\n",
       "      <td>1.928819e+09</td>\n",
       "      <td>0</td>\n",
       "      <td>2019-03-07</td>\n",
       "      <td>-1</td>\n",
       "    </tr>\n",
       "    <tr>\n",
       "      <th>11</th>\n",
       "      <td>U001</td>\n",
       "      <td>0200743129</td>\n",
       "      <td>BROOKS co</td>\n",
       "      <td>2019-01-22</td>\n",
       "      <td>2019.0</td>\n",
       "      <td>1.928551e+09</td>\n",
       "      <td>2019-01-02</td>\n",
       "      <td>20190102</td>\n",
       "      <td>20190117.0</td>\n",
       "      <td>USD</td>\n",
       "      <td>RV</td>\n",
       "      <td>1.0</td>\n",
       "      <td>103147.37</td>\n",
       "      <td>20190102.0</td>\n",
       "      <td>NAA8</td>\n",
       "      <td>1.928551e+09</td>\n",
       "      <td>0</td>\n",
       "      <td>2019-01-17</td>\n",
       "      <td>5</td>\n",
       "    </tr>\n",
       "    <tr>\n",
       "      <th>12</th>\n",
       "      <td>U001</td>\n",
       "      <td>0200186937</td>\n",
       "      <td>SYSC corporation</td>\n",
       "      <td>2019-05-06</td>\n",
       "      <td>2019.0</td>\n",
       "      <td>1.929152e+09</td>\n",
       "      <td>2019-04-15</td>\n",
       "      <td>20190415</td>\n",
       "      <td>20190430.0</td>\n",
       "      <td>USD</td>\n",
       "      <td>RV</td>\n",
       "      <td>1.0</td>\n",
       "      <td>16381.45</td>\n",
       "      <td>20190415.0</td>\n",
       "      <td>NAA8</td>\n",
       "      <td>1.929152e+09</td>\n",
       "      <td>0</td>\n",
       "      <td>2019-04-30</td>\n",
       "      <td>6</td>\n",
       "    </tr>\n",
       "  </tbody>\n",
       "</table>\n",
       "</div>"
      ],
      "text/plain": [
       "   business_code cust_number       name_customer clear_date  buisness_year  \\\n",
       "0           U001  0200769623        WAL-MAR corp 2020-02-11         2020.0   \n",
       "1           U001  0200980828              BEN E  2019-08-08         2019.0   \n",
       "2           U001  0200792734          MDV/ trust 2019-12-30         2019.0   \n",
       "4           U001  0200769623  WAL-MAR foundation 2019-11-25         2019.0   \n",
       "5           CA02  0140106181    THE  corporation 2019-12-04         2019.0   \n",
       "6           U001  0200769623          WAL-MAR in 2019-11-12         2019.0   \n",
       "8           U001  0200769623        WAL-MAR corp 2019-06-18         2019.0   \n",
       "9           U001  0200762301      C&S WH systems 2019-03-06         2019.0   \n",
       "11          U001  0200743129           BROOKS co 2019-01-22         2019.0   \n",
       "12          U001  0200186937    SYSC corporation 2019-05-06         2019.0   \n",
       "\n",
       "          doc_id posting_date  document_create_date  due_in_date  \\\n",
       "0   1.930438e+09   2020-01-26              20200125   20200210.0   \n",
       "1   1.929646e+09   2019-07-22              20190722   20190811.0   \n",
       "2   1.929874e+09   2019-09-14              20190914   20190929.0   \n",
       "4   1.930148e+09   2019-11-13              20191113   20191128.0   \n",
       "5   2.960581e+09   2019-09-20              20190920   20191004.0   \n",
       "6   1.930083e+09   2019-11-01              20191031   20191116.0   \n",
       "8   1.929440e+09   2019-06-07              20190605   20190622.0   \n",
       "9   1.928819e+09   2019-02-20              20190219   20190307.0   \n",
       "11  1.928551e+09   2019-01-02              20190102   20190117.0   \n",
       "12  1.929152e+09   2019-04-15              20190415   20190430.0   \n",
       "\n",
       "   invoice_currency document type  posting_id  total_open_amount  \\\n",
       "0               USD            RV         1.0           54273.28   \n",
       "1               USD            RV         1.0           79656.60   \n",
       "2               USD            RV         1.0            2253.86   \n",
       "4               USD            RV         1.0           33133.29   \n",
       "5               CAD            RV         1.0           22225.84   \n",
       "6               USD            RV         1.0            7358.49   \n",
       "8               USD            RV         1.0           15995.04   \n",
       "9               USD            RV         1.0              28.63   \n",
       "11              USD            RV         1.0          103147.37   \n",
       "12              USD            RV         1.0           16381.45   \n",
       "\n",
       "    baseline_create_date cust_payment_terms    invoice_id  isOpen   due_date  \\\n",
       "0             20200126.0               NAH4  1.930438e+09       0 2020-02-10   \n",
       "1             20190722.0               NAD1  1.929646e+09       0 2019-08-11   \n",
       "2             20190914.0               NAA8  1.929874e+09       0 2019-09-29   \n",
       "4             20191113.0               NAH4  1.930148e+09       0 2019-11-28   \n",
       "5             20190924.0               CA10  2.960581e+09       0 2019-10-04   \n",
       "6             20191101.0               NAH4  1.930083e+09       0 2019-11-16   \n",
       "8             20190607.0               NAH4  1.929440e+09       0 2019-06-22   \n",
       "9             20190220.0               NAC6  1.928819e+09       0 2019-03-07   \n",
       "11            20190102.0               NAA8  1.928551e+09       0 2019-01-17   \n",
       "12            20190415.0               NAA8  1.929152e+09       0 2019-04-30   \n",
       "\n",
       "    target  \n",
       "0        1  \n",
       "1       -3  \n",
       "2       92  \n",
       "4       -3  \n",
       "5       61  \n",
       "6       -4  \n",
       "8       -4  \n",
       "9       -1  \n",
       "11       5  \n",
       "12       6  "
      ]
     },
     "execution_count": 87,
     "metadata": {},
     "output_type": "execute_result"
    }
   ],
   "source": [
    "df_drop2[:10]"
   ]
  },
  {
   "cell_type": "markdown",
   "id": "dcd65b7c-2536-4d74-a747-240409772684",
   "metadata": {
    "tags": []
   },
   "source": [
    "# remember to convert amount into usd  "
   ]
  },
  {
   "cell_type": "code",
   "execution_count": 28,
   "id": "720bfaa1-e066-4ae9-902f-d2418720a176",
   "metadata": {},
   "outputs": [
    {
     "ename": "NameError",
     "evalue": "name 'c' is not defined",
     "output_type": "error",
     "traceback": [
      "\u001b[1;31m---------------------------------------------------------------------------\u001b[0m",
      "\u001b[1;31mNameError\u001b[0m                                 Traceback (most recent call last)",
      "Input \u001b[1;32mIn [28]\u001b[0m, in \u001b[0;36m<module>\u001b[1;34m\u001b[0m\n\u001b[0;32m      3\u001b[0m \u001b[38;5;28;01mfor\u001b[39;00m i \u001b[38;5;129;01min\u001b[39;00m \u001b[38;5;28mrange\u001b[39m(\u001b[38;5;28mlen\u001b[39m(currecy)):\n\u001b[0;32m      4\u001b[0m     \u001b[38;5;28;01mif\u001b[39;00m(currecy[i]\u001b[38;5;241m==\u001b[39m\u001b[38;5;124m\"\u001b[39m\u001b[38;5;124mUSD\u001b[39m\u001b[38;5;124m\"\u001b[39m):\n\u001b[1;32m----> 5\u001b[0m         c\u001b[38;5;241m+\u001b[39m\u001b[38;5;241m=\u001b[39m\u001b[38;5;241m1\u001b[39m\n\u001b[0;32m      6\u001b[0m     \u001b[38;5;28;01melif\u001b[39;00m(currecy[i]\u001b[38;5;241m==\u001b[39m\u001b[38;5;124m\"\u001b[39m\u001b[38;5;124mCAD\u001b[39m\u001b[38;5;124m\"\u001b[39m):\n\u001b[0;32m      7\u001b[0m         d \u001b[38;5;241m+\u001b[39m\u001b[38;5;241m=\u001b[39m\u001b[38;5;241m1\u001b[39m \n",
      "\u001b[1;31mNameError\u001b[0m: name 'c' is not defined"
     ]
    }
   ],
   "source": [
    "currecy = (df[\"invoice_currency\"])\n",
    "\n",
    "for i in range(len(currecy)):\n",
    "    if(currecy[i]==\"USD\"):\n",
    "        c+=1\n",
    "    elif(currecy[i]==\"CAD\"):\n",
    "        d +=1 \n",
    "print(c,d)      \n",
    "        "
   ]
  },
  {
   "cell_type": "markdown",
   "id": "037cb800-0057-4e7a-8e75-c5ab34e745d1",
   "metadata": {},
   "source": [
    "# convert the date into proper formet "
   ]
  },
  {
   "cell_type": "code",
   "execution_count": 32,
   "id": "f4443960-7c9b-4dc1-aa24-8e73bac5cda9",
   "metadata": {},
   "outputs": [],
   "source": [
    "def change_date(x_type):\n",
    "    x = int(x_type)\n",
    "    x = str(x)\n",
    "    year = int(x[0:4])\n",
    "    month = int(x[4:6])\n",
    "    day = int(x[6:])\n",
    "    return dt.datetime(year, month, day)"
   ]
  },
  {
   "cell_type": "code",
   "execution_count": 71,
   "id": "74d2aceb-78c2-49d2-a895-837251b8ae7c",
   "metadata": {},
   "outputs": [
    {
     "data": {
      "text/plain": [
       "datetime.datetime"
      ]
     },
     "execution_count": 71,
     "metadata": {},
     "output_type": "execute_result"
    }
   ],
   "source": [
    "type(change_date(20200210.0))"
   ]
  },
  {
   "cell_type": "code",
   "execution_count": null,
   "id": "63e5736c-e802-4f4d-8718-b7ed6fde1e68",
   "metadata": {},
   "outputs": [],
   "source": []
  },
  {
   "cell_type": "code",
   "execution_count": 80,
   "id": "bd2bcd61-c6c0-4ded-bd52-0a8e25681c88",
   "metadata": {},
   "outputs": [
    {
     "name": "stderr",
     "output_type": "stream",
     "text": [
      "C:\\Users\\karti\\AppData\\Local\\Temp\\ipykernel_344\\4228992668.py:1: SettingWithCopyWarning: \n",
      "A value is trying to be set on a copy of a slice from a DataFrame.\n",
      "Try using .loc[row_indexer,col_indexer] = value instead\n",
      "\n",
      "See the caveats in the documentation: https://pandas.pydata.org/pandas-docs/stable/user_guide/indexing.html#returning-a-view-versus-a-copy\n",
      "  df_drop2['due_date'] = df_drop2['due_in_date'].apply(change_date)\n",
      "C:\\Users\\karti\\AppData\\Local\\Temp\\ipykernel_344\\4228992668.py:2: SettingWithCopyWarning: \n",
      "A value is trying to be set on a copy of a slice from a DataFrame.\n",
      "Try using .loc[row_indexer,col_indexer] = value instead\n",
      "\n",
      "See the caveats in the documentation: https://pandas.pydata.org/pandas-docs/stable/user_guide/indexing.html#returning-a-view-versus-a-copy\n",
      "  df_drop2['clear_date']= pd.to_datetime(df_drop2['clear_date'])\n",
      "C:\\Users\\karti\\AppData\\Local\\Temp\\ipykernel_344\\4228992668.py:5: SettingWithCopyWarning: \n",
      "A value is trying to be set on a copy of a slice from a DataFrame.\n",
      "Try using .loc[row_indexer,col_indexer] = value instead\n",
      "\n",
      "See the caveats in the documentation: https://pandas.pydata.org/pandas-docs/stable/user_guide/indexing.html#returning-a-view-versus-a-copy\n",
      "  df_drop2['target'] = (df_drop2['clear_date'] - df_drop2['due_date']).dt.days\n"
     ]
    }
   ],
   "source": [
    "df_drop2['due_date'] = df_drop2['due_in_date'].apply(change_date)\n",
    "df_drop2['clear_date']= pd.to_datetime(df_drop2['clear_date']) \n",
    "\n",
    "# Creating target variable\n",
    "df_drop2['target'] = (df_drop2['clear_date'] - df_drop2['due_date']).dt.days\n",
    "# df_drop2.head(5) target value +ve means there was a delay in payment."
   ]
  },
  {
   "cell_type": "code",
   "execution_count": 88,
   "id": "be424a2c-3e81-485d-a312-4906ac81c7aa",
   "metadata": {},
   "outputs": [
    {
     "data": {
      "text/plain": [
       "0         1\n",
       "1        -3\n",
       "2        92\n",
       "4        -3\n",
       "5        61\n",
       "         ..\n",
       "49994     0\n",
       "49996     4\n",
       "49997     0\n",
       "49998     0\n",
       "49999    -9\n",
       "Name: target, Length: 39994, dtype: int64"
      ]
     },
     "execution_count": 88,
     "metadata": {},
     "output_type": "execute_result"
    }
   ],
   "source": [
    "df_drop2[\"target\"]"
   ]
  },
  {
   "cell_type": "code",
   "execution_count": 35,
   "id": "d49320a1-ac4f-4abd-b5dd-b941bb37cb3d",
   "metadata": {},
   "outputs": [
    {
     "name": "stderr",
     "output_type": "stream",
     "text": [
      "C:\\Users\\karti\\AppData\\Local\\Temp\\ipykernel_344\\452077917.py:1: SettingWithCopyWarning: \n",
      "A value is trying to be set on a copy of a slice from a DataFrame.\n",
      "Try using .loc[row_indexer,col_indexer] = value instead\n",
      "\n",
      "See the caveats in the documentation: https://pandas.pydata.org/pandas-docs/stable/user_guide/indexing.html#returning-a-view-versus-a-copy\n",
      "  df_drop2['document_create_date'] = df_drop2['document_create_date'].apply(change_date)\n",
      "C:\\Users\\karti\\AppData\\Local\\Temp\\ipykernel_344\\452077917.py:2: SettingWithCopyWarning: \n",
      "A value is trying to be set on a copy of a slice from a DataFrame.\n",
      "Try using .loc[row_indexer,col_indexer] = value instead\n",
      "\n",
      "See the caveats in the documentation: https://pandas.pydata.org/pandas-docs/stable/user_guide/indexing.html#returning-a-view-versus-a-copy\n",
      "  df_drop2['baseline_create_date'] = df_drop2['baseline_create_date'].apply(change_date)\n"
     ]
    },
    {
     "name": "stdout",
     "output_type": "stream",
     "text": [
      "2018-12-26 00:00:00\n",
      "2020-03-02 00:00:00\n"
     ]
    }
   ],
   "source": [
    "df_drop2['document_create_date'] = df_drop2['document_create_date'].apply(change_date)\n",
    "df_drop2['baseline_create_date'] = df_drop2['baseline_create_date'].apply(change_date)\n",
    "\n",
    "print(pd.to_datetime(df_drop2['document_create_date']).min()) \n",
    "print(pd.to_datetime(df_drop2['document_create_date']).max())"
   ]
  },
  {
   "cell_type": "code",
   "execution_count": 36,
   "id": "88609708-2b97-4c2b-8c01-90a1157ed5af",
   "metadata": {},
   "outputs": [],
   "source": [
    "# Splitting the initial dataframe into train and test\n",
    "# So in this case we can consider last 3 months for test set.\n",
    "x_train = df_drop2[df_drop2['document_create_date'] <= '2020-01-01'].copy()\n",
    "x_test = df_drop2[df_drop2['document_create_date'] > '2020-01-01'].copy()\n"
   ]
  },
  {
   "cell_type": "code",
   "execution_count": 37,
   "id": "ae1fead2-9c90-4b12-b14e-c8df31daccf0",
   "metadata": {},
   "outputs": [
    {
     "data": {
      "text/html": [
       "<div>\n",
       "<style scoped>\n",
       "    .dataframe tbody tr th:only-of-type {\n",
       "        vertical-align: middle;\n",
       "    }\n",
       "\n",
       "    .dataframe tbody tr th {\n",
       "        vertical-align: top;\n",
       "    }\n",
       "\n",
       "    .dataframe thead th {\n",
       "        text-align: right;\n",
       "    }\n",
       "</style>\n",
       "<table border=\"1\" class=\"dataframe\">\n",
       "  <thead>\n",
       "    <tr style=\"text-align: right;\">\n",
       "      <th></th>\n",
       "      <th>business_code</th>\n",
       "      <th>cust_number</th>\n",
       "      <th>name_customer</th>\n",
       "      <th>clear_date</th>\n",
       "      <th>buisness_year</th>\n",
       "      <th>doc_id</th>\n",
       "      <th>posting_date</th>\n",
       "      <th>document_create_date</th>\n",
       "      <th>due_in_date</th>\n",
       "      <th>invoice_currency</th>\n",
       "      <th>document type</th>\n",
       "      <th>posting_id</th>\n",
       "      <th>total_open_amount</th>\n",
       "      <th>baseline_create_date</th>\n",
       "      <th>cust_payment_terms</th>\n",
       "      <th>invoice_id</th>\n",
       "      <th>isOpen</th>\n",
       "      <th>due_date</th>\n",
       "      <th>target</th>\n",
       "    </tr>\n",
       "  </thead>\n",
       "  <tbody>\n",
       "    <tr>\n",
       "      <th>0</th>\n",
       "      <td>U001</td>\n",
       "      <td>0200769623</td>\n",
       "      <td>WAL-MAR corp</td>\n",
       "      <td>2020-02-11</td>\n",
       "      <td>2020.0</td>\n",
       "      <td>1.930438e+09</td>\n",
       "      <td>2020-01-26</td>\n",
       "      <td>2020-01-25</td>\n",
       "      <td>20200210.0</td>\n",
       "      <td>USD</td>\n",
       "      <td>RV</td>\n",
       "      <td>1.0</td>\n",
       "      <td>54273.28</td>\n",
       "      <td>2020-01-26</td>\n",
       "      <td>NAH4</td>\n",
       "      <td>1.930438e+09</td>\n",
       "      <td>0</td>\n",
       "      <td>2020-02-10</td>\n",
       "      <td>1</td>\n",
       "    </tr>\n",
       "    <tr>\n",
       "      <th>19</th>\n",
       "      <td>U001</td>\n",
       "      <td>0200769623</td>\n",
       "      <td>WAL-MAR systems</td>\n",
       "      <td>2020-02-05</td>\n",
       "      <td>2020.0</td>\n",
       "      <td>1.930438e+09</td>\n",
       "      <td>2020-01-24</td>\n",
       "      <td>2020-01-24</td>\n",
       "      <td>20200208.0</td>\n",
       "      <td>USD</td>\n",
       "      <td>RV</td>\n",
       "      <td>1.0</td>\n",
       "      <td>53349.54</td>\n",
       "      <td>2020-01-24</td>\n",
       "      <td>NAH4</td>\n",
       "      <td>1.930438e+09</td>\n",
       "      <td>0</td>\n",
       "      <td>2020-02-08</td>\n",
       "      <td>-3</td>\n",
       "    </tr>\n",
       "    <tr>\n",
       "      <th>20</th>\n",
       "      <td>U013</td>\n",
       "      <td>0100053554</td>\n",
       "      <td>SYSTEMS systems</td>\n",
       "      <td>2020-02-11</td>\n",
       "      <td>2020.0</td>\n",
       "      <td>1.991838e+09</td>\n",
       "      <td>2020-01-11</td>\n",
       "      <td>2020-01-07</td>\n",
       "      <td>20200210.0</td>\n",
       "      <td>USD</td>\n",
       "      <td>RV</td>\n",
       "      <td>1.0</td>\n",
       "      <td>5683.50</td>\n",
       "      <td>2020-01-11</td>\n",
       "      <td>NAVE</td>\n",
       "      <td>1.991838e+09</td>\n",
       "      <td>0</td>\n",
       "      <td>2020-02-10</td>\n",
       "      <td>1</td>\n",
       "    </tr>\n",
       "    <tr>\n",
       "      <th>24</th>\n",
       "      <td>U001</td>\n",
       "      <td>0200769623</td>\n",
       "      <td>WAL-MAR co</td>\n",
       "      <td>2020-02-04</td>\n",
       "      <td>2020.0</td>\n",
       "      <td>1.930431e+09</td>\n",
       "      <td>2020-01-24</td>\n",
       "      <td>2020-01-23</td>\n",
       "      <td>20200208.0</td>\n",
       "      <td>USD</td>\n",
       "      <td>RV</td>\n",
       "      <td>1.0</td>\n",
       "      <td>11307.78</td>\n",
       "      <td>2020-01-24</td>\n",
       "      <td>NAH4</td>\n",
       "      <td>1.930431e+09</td>\n",
       "      <td>0</td>\n",
       "      <td>2020-02-08</td>\n",
       "      <td>-4</td>\n",
       "    </tr>\n",
       "    <tr>\n",
       "      <th>41</th>\n",
       "      <td>U001</td>\n",
       "      <td>0200769623</td>\n",
       "      <td>WAL-MAR associates</td>\n",
       "      <td>2020-01-21</td>\n",
       "      <td>2020.0</td>\n",
       "      <td>1.930353e+09</td>\n",
       "      <td>2020-01-04</td>\n",
       "      <td>2020-01-04</td>\n",
       "      <td>20200119.0</td>\n",
       "      <td>USD</td>\n",
       "      <td>RV</td>\n",
       "      <td>1.0</td>\n",
       "      <td>4953.83</td>\n",
       "      <td>2020-01-04</td>\n",
       "      <td>NAH4</td>\n",
       "      <td>1.930353e+09</td>\n",
       "      <td>0</td>\n",
       "      <td>2020-01-19</td>\n",
       "      <td>2</td>\n",
       "    </tr>\n",
       "  </tbody>\n",
       "</table>\n",
       "</div>"
      ],
      "text/plain": [
       "   business_code cust_number       name_customer clear_date  buisness_year  \\\n",
       "0           U001  0200769623        WAL-MAR corp 2020-02-11         2020.0   \n",
       "19          U001  0200769623     WAL-MAR systems 2020-02-05         2020.0   \n",
       "20          U013  0100053554     SYSTEMS systems 2020-02-11         2020.0   \n",
       "24          U001  0200769623          WAL-MAR co 2020-02-04         2020.0   \n",
       "41          U001  0200769623  WAL-MAR associates 2020-01-21         2020.0   \n",
       "\n",
       "          doc_id posting_date document_create_date  due_in_date  \\\n",
       "0   1.930438e+09   2020-01-26           2020-01-25   20200210.0   \n",
       "19  1.930438e+09   2020-01-24           2020-01-24   20200208.0   \n",
       "20  1.991838e+09   2020-01-11           2020-01-07   20200210.0   \n",
       "24  1.930431e+09   2020-01-24           2020-01-23   20200208.0   \n",
       "41  1.930353e+09   2020-01-04           2020-01-04   20200119.0   \n",
       "\n",
       "   invoice_currency document type  posting_id  total_open_amount  \\\n",
       "0               USD            RV         1.0           54273.28   \n",
       "19              USD            RV         1.0           53349.54   \n",
       "20              USD            RV         1.0            5683.50   \n",
       "24              USD            RV         1.0           11307.78   \n",
       "41              USD            RV         1.0            4953.83   \n",
       "\n",
       "   baseline_create_date cust_payment_terms    invoice_id  isOpen   due_date  \\\n",
       "0            2020-01-26               NAH4  1.930438e+09       0 2020-02-10   \n",
       "19           2020-01-24               NAH4  1.930438e+09       0 2020-02-08   \n",
       "20           2020-01-11               NAVE  1.991838e+09       0 2020-02-10   \n",
       "24           2020-01-24               NAH4  1.930431e+09       0 2020-02-08   \n",
       "41           2020-01-04               NAH4  1.930353e+09       0 2020-01-19   \n",
       "\n",
       "    target  \n",
       "0        1  \n",
       "19      -3  \n",
       "20       1  \n",
       "24      -4  \n",
       "41       2  "
      ]
     },
     "execution_count": 37,
     "metadata": {},
     "output_type": "execute_result"
    }
   ],
   "source": [
    "x_test.head()"
   ]
  },
  {
   "cell_type": "code",
   "execution_count": 27,
   "id": "5a465014-780e-48f0-a093-7c664071845d",
   "metadata": {},
   "outputs": [
    {
     "name": "stdout",
     "output_type": "stream",
     "text": [
      "(34971, 19)\n",
      "(5023, 19)\n"
     ]
    }
   ],
   "source": [
    "print(x_train.shape)\n",
    "print(x_test.shape)"
   ]
  },
  {
   "cell_type": "code",
   "execution_count": 28,
   "id": "8c2671bb-6aaf-427a-ba49-790f99d5cc51",
   "metadata": {},
   "outputs": [
    {
     "data": {
      "text/plain": [
       "<bound method NDFrame.head of       business_code cust_number       name_customer clear_date  buisness_year  \\\n",
       "1              U001  0200980828              BEN E  2019-08-08         2019.0   \n",
       "2              U001  0200792734          MDV/ trust 2019-12-30         2019.0   \n",
       "4              U001  0200769623  WAL-MAR foundation 2019-11-25         2019.0   \n",
       "5              CA02  0140106181    THE  corporation 2019-12-04         2019.0   \n",
       "6              U001  0200769623          WAL-MAR in 2019-11-12         2019.0   \n",
       "...             ...         ...                 ...        ...            ...   \n",
       "49991          U001  0200704045            RA trust 2019-10-25         2019.0   \n",
       "49994          U001  0200762301        C&S WH trust 2019-07-25         2019.0   \n",
       "49996          U001  0200769623          WAL-MAR co 2019-09-03         2019.0   \n",
       "49998          U001  0200726979           BJ'S  llc 2019-12-12         2019.0   \n",
       "49999          U001  0200020431            DEC corp 2019-01-15         2019.0   \n",
       "\n",
       "             doc_id posting_date document_create_date  due_in_date  \\\n",
       "1      1.929646e+09   2019-07-22           2019-07-22   20190811.0   \n",
       "2      1.929874e+09   2019-09-14           2019-09-14   20190929.0   \n",
       "4      1.930148e+09   2019-11-13           2019-11-13   20191128.0   \n",
       "5      2.960581e+09   2019-09-20           2019-09-20   20191004.0   \n",
       "6      1.930083e+09   2019-11-01           2019-10-31   20191116.0   \n",
       "...             ...          ...                  ...          ...   \n",
       "49991  1.930001e+09   2019-10-10           2019-10-11   20191025.0   \n",
       "49994  1.929601e+09   2019-07-10           2019-07-09   20190725.0   \n",
       "49996  1.929744e+09   2019-08-15           2019-08-14   20190830.0   \n",
       "49998  1.930199e+09   2019-11-27           2019-11-26   20191212.0   \n",
       "49999  1.928576e+09   2019-01-05           2019-01-05   20190124.0   \n",
       "\n",
       "      invoice_currency document type  posting_id  total_open_amount  \\\n",
       "1                  USD            RV         1.0           79656.60   \n",
       "2                  USD            RV         1.0            2253.86   \n",
       "4                  USD            RV         1.0           33133.29   \n",
       "5                  CAD            RV         1.0           22225.84   \n",
       "6                  USD            RV         1.0            7358.49   \n",
       "...                ...           ...         ...                ...   \n",
       "49991              USD            RV         1.0           73002.24   \n",
       "49994              USD            RV         1.0           84780.40   \n",
       "49996              USD            RV         1.0            6766.54   \n",
       "49998              USD            RV         1.0              63.48   \n",
       "49999              USD            RV         1.0            1790.30   \n",
       "\n",
       "      baseline_create_date cust_payment_terms    invoice_id  isOpen  \\\n",
       "1               2019-07-22               NAD1  1.929646e+09       0   \n",
       "2               2019-09-14               NAA8  1.929874e+09       0   \n",
       "4               2019-11-13               NAH4  1.930148e+09       0   \n",
       "5               2019-09-24               CA10  2.960581e+09       0   \n",
       "6               2019-11-01               NAH4  1.930083e+09       0   \n",
       "...                    ...                ...           ...     ...   \n",
       "49991           2019-10-10               NAA8  1.930001e+09       0   \n",
       "49994           2019-07-10               NAC6  1.929601e+09       0   \n",
       "49996           2019-08-15               NAH4  1.929744e+09       0   \n",
       "49998           2019-11-27               NAA8  1.930199e+09       0   \n",
       "49999           2019-01-01               NAM4  1.928576e+09       0   \n",
       "\n",
       "        due_date  target  \n",
       "1     2019-08-11      -3  \n",
       "2     2019-09-29      92  \n",
       "4     2019-11-28      -3  \n",
       "5     2019-10-04      61  \n",
       "6     2019-11-16      -4  \n",
       "...          ...     ...  \n",
       "49991 2019-10-25       0  \n",
       "49994 2019-07-25       0  \n",
       "49996 2019-08-30       4  \n",
       "49998 2019-12-12       0  \n",
       "49999 2019-01-24      -9  \n",
       "\n",
       "[34971 rows x 19 columns]>"
      ]
     },
     "execution_count": 28,
     "metadata": {},
     "output_type": "execute_result"
    }
   ],
   "source": [
    "x_train.head"
   ]
  },
  {
   "cell_type": "code",
   "execution_count": null,
   "id": "511fbb18-edc7-4346-aa61-f59db3131417",
   "metadata": {},
   "outputs": [],
   "source": []
  },
  {
   "cell_type": "code",
   "execution_count": null,
   "id": "43083fa0-c52e-4141-90d2-d04d744b7348",
   "metadata": {},
   "outputs": [],
   "source": []
  },
  {
   "cell_type": "markdown",
   "id": "375b511a-db30-45fb-9265-54add20a6335",
   "metadata": {},
   "source": [
    "# EDA and Feature Engineering "
   ]
  },
  {
   "cell_type": "code",
   "execution_count": 38,
   "id": "9589276e-7678-4922-9cc6-f66266a865e4",
   "metadata": {},
   "outputs": [
    {
     "name": "stdout",
     "output_type": "stream",
     "text": [
      "{'U001': 31589, 'CA02': 2820, 'U013': 442, 'U002': 107, 'U005': 9, 'U007': 4}\n",
      "{'U001': 4601, 'CA02': 354, 'U013': 59, 'U002': 9}\n"
     ]
    }
   ],
   "source": [
    "# business_code, invoice_currency, document type, posting_id, cust_payment_terms\n",
    "print(dict(x_train['business_code'].value_counts()))\n",
    "print(dict(x_test['business_code'].value_counts()))"
   ]
  },
  {
   "cell_type": "code",
   "execution_count": 39,
   "id": "95622136-7afd-434f-8426-1fbd0de0a352",
   "metadata": {},
   "outputs": [
    {
     "name": "stdout",
     "output_type": "stream",
     "text": [
      "{'USD': 32149, 'CAD': 2822}\n",
      "{'USD': 4669, 'CAD': 354}\n"
     ]
    }
   ],
   "source": [
    "print(dict(x_train['invoice_currency'].value_counts()))\n",
    "print(dict(x_test['invoice_currency'].value_counts()))"
   ]
  },
  {
   "cell_type": "code",
   "execution_count": 40,
   "id": "8b456956-f189-4f47-97c7-c96365f5838b",
   "metadata": {},
   "outputs": [
    {
     "name": "stdout",
     "output_type": "stream",
     "text": [
      "{0: 34971}\n",
      "{0: 5023}\n"
     ]
    }
   ],
   "source": [
    "print(dict(x_train['isOpen'].value_counts()))\n",
    "print(dict(x_test['isOpen'].value_counts()))"
   ]
  },
  {
   "cell_type": "code",
   "execution_count": 41,
   "id": "3fe4c7b7-afd9-49d9-9113-d8f6140402b7",
   "metadata": {},
   "outputs": [
    {
     "name": "stdout",
     "output_type": "stream",
     "text": [
      "{'RV': 34971}\n",
      "{'RV': 5023}\n"
     ]
    }
   ],
   "source": [
    "print(dict(x_train['document type'].value_counts()))\n",
    "print(dict(x_test['document type'].value_counts()))"
   ]
  },
  {
   "cell_type": "code",
   "execution_count": 42,
   "id": "a0f64458-9745-402d-9a87-f9cff9f67503",
   "metadata": {},
   "outputs": [
    {
     "name": "stdout",
     "output_type": "stream",
     "text": [
      "{1.0: 34971}\n",
      "{1.0: 5023}\n"
     ]
    }
   ],
   "source": [
    "print(dict(x_train['posting_id'].value_counts()))\n",
    "print(dict(x_test['posting_id'].value_counts()))"
   ]
  },
  {
   "cell_type": "code",
   "execution_count": 43,
   "id": "e9ebe2f3-0922-473a-bc1b-c9a1c8ad23ee",
   "metadata": {},
   "outputs": [
    {
     "name": "stdout",
     "output_type": "stream",
     "text": [
      "{'NAA8': 14032, 'NAH4': 9267, 'CA10': 2727, 'NAC6': 1167, 'NAM4': 947, 'NAAX': 836, 'NAD1': 719, 'NAU5': 633, 'NAG2': 623, 'NAGD': 527, 'NA32': 526, 'NAX2': 469, 'NAM2': 418, 'NA10': 310, 'NAD5': 239, 'NAM1': 191, 'NAVE': 189, 'NAVF': 183, 'NAAW': 138, 'NAWU': 117, 'NAWN': 97, 'NAVR': 84, 'NAVQ': 75, 'NAWP': 48, 'CA30': 40, 'NAUZ': 37, 'NA3B': 36, 'NAVM': 31, 'NACB': 28, 'NA38': 23, 'NABG': 19, 'NAD4': 19, 'NAB1': 16, 'NAVD': 13, 'C106': 12, 'NA84': 12, 'NAVL': 11, 'BR56': 10, 'NAUP': 10, 'NA9X': 10, 'NA3F': 8, 'NATM': 7, 'NAM3': 6, 'CAB1': 6, 'CAX2': 5, 'NATJ': 5, 'NA25': 4, 'NAWM': 4, 'NATW': 4, 'B052': 3, 'NATH': 3, 'NAVC': 3, 'NA8Q': 3, 'NATL': 2, 'NAV9': 2, 'NATX': 2, '90M7': 2, 'NA31': 2, 'NATU': 1, 'NATK': 1, 'CA60': 1, 'NAUY': 1, 'NAUW': 1, 'NABD': 1, 'NATV': 1, 'MC15': 1, 'NAD8': 1, 'NAV2': 1, 'BR12': 1}\n",
      "\n",
      "{'NAA8': 1984, 'NAH4': 1326, 'CA10': 342, 'NAM4': 165, 'NAC6': 150, 'NAAX': 126, 'NAGD': 119, 'NAG2': 100, 'NAD1': 100, 'NA32': 81, 'NAX2': 79, 'NAM2': 71, 'NAU5': 68, 'NA10': 62, 'NAD5': 40, 'NAM1': 34, 'NAVE': 30, 'NAAW': 21, 'NAVQ': 20, 'NAWP': 19, 'NAVF': 16, 'NABG': 8, 'NAD4': 7, 'CA30': 6, 'NACB': 5, 'NAUZ': 5, 'NA3B': 5, 'NAVD': 4, 'NA3F': 3, 'NAB1': 3, 'NAUP': 3, '90M7': 3, 'NAVL': 2, 'NA84': 2, 'NA8Q': 2, 'NAV2': 2, 'NATZ': 2, 'NAVM': 2, 'NA38': 1, 'BR12': 1, 'CAB1': 1, 'NAD8': 1, 'NAV9': 1, 'NAVC': 1}\n"
     ]
    }
   ],
   "source": [
    "print(dict(x_train['cust_payment_terms'].value_counts()))\n",
    "# a little cramped but this gives the idea.\n",
    "print()\n",
    "print(dict(x_test['cust_payment_terms'].value_counts()))"
   ]
  },
  {
   "cell_type": "code",
   "execution_count": 44,
   "id": "8e4528f0-b12b-4008-b0f6-339b1a521d80",
   "metadata": {},
   "outputs": [
    {
     "data": {
      "text/html": [
       "<div>\n",
       "<style scoped>\n",
       "    .dataframe tbody tr th:only-of-type {\n",
       "        vertical-align: middle;\n",
       "    }\n",
       "\n",
       "    .dataframe tbody tr th {\n",
       "        vertical-align: top;\n",
       "    }\n",
       "\n",
       "    .dataframe thead th {\n",
       "        text-align: right;\n",
       "    }\n",
       "</style>\n",
       "<table border=\"1\" class=\"dataframe\">\n",
       "  <thead>\n",
       "    <tr style=\"text-align: right;\">\n",
       "      <th></th>\n",
       "      <th>buisness_year</th>\n",
       "      <th>doc_id</th>\n",
       "      <th>due_in_date</th>\n",
       "      <th>posting_id</th>\n",
       "      <th>total_open_amount</th>\n",
       "      <th>invoice_id</th>\n",
       "      <th>isOpen</th>\n",
       "      <th>target</th>\n",
       "    </tr>\n",
       "  </thead>\n",
       "  <tbody>\n",
       "    <tr>\n",
       "      <th>count</th>\n",
       "      <td>34971.000000</td>\n",
       "      <td>3.497100e+04</td>\n",
       "      <td>3.497100e+04</td>\n",
       "      <td>34971.0</td>\n",
       "      <td>34971.000000</td>\n",
       "      <td>3.497100e+04</td>\n",
       "      <td>34971.0</td>\n",
       "      <td>34971.000000</td>\n",
       "    </tr>\n",
       "    <tr>\n",
       "      <th>mean</th>\n",
       "      <td>2019.007492</td>\n",
       "      <td>2.013599e+09</td>\n",
       "      <td>2.019081e+07</td>\n",
       "      <td>1.0</td>\n",
       "      <td>32256.683147</td>\n",
       "      <td>2.013599e+09</td>\n",
       "      <td>0.0</td>\n",
       "      <td>0.861514</td>\n",
       "    </tr>\n",
       "    <tr>\n",
       "      <th>std</th>\n",
       "      <td>0.086232</td>\n",
       "      <td>2.805631e+08</td>\n",
       "      <td>1.094669e+03</td>\n",
       "      <td>0.0</td>\n",
       "      <td>39975.902056</td>\n",
       "      <td>2.805631e+08</td>\n",
       "      <td>0.0</td>\n",
       "      <td>10.711260</td>\n",
       "    </tr>\n",
       "    <tr>\n",
       "      <th>min</th>\n",
       "      <td>2019.000000</td>\n",
       "      <td>1.928502e+09</td>\n",
       "      <td>2.018122e+07</td>\n",
       "      <td>1.0</td>\n",
       "      <td>0.790000</td>\n",
       "      <td>1.928502e+09</td>\n",
       "      <td>0.0</td>\n",
       "      <td>-89.000000</td>\n",
       "    </tr>\n",
       "    <tr>\n",
       "      <th>25%</th>\n",
       "      <td>2019.000000</td>\n",
       "      <td>1.929101e+09</td>\n",
       "      <td>2.019042e+07</td>\n",
       "      <td>1.0</td>\n",
       "      <td>4714.295000</td>\n",
       "      <td>1.929101e+09</td>\n",
       "      <td>0.0</td>\n",
       "      <td>-3.000000</td>\n",
       "    </tr>\n",
       "    <tr>\n",
       "      <th>50%</th>\n",
       "      <td>2019.000000</td>\n",
       "      <td>1.929617e+09</td>\n",
       "      <td>2.019071e+07</td>\n",
       "      <td>1.0</td>\n",
       "      <td>17319.710000</td>\n",
       "      <td>1.929617e+09</td>\n",
       "      <td>0.0</td>\n",
       "      <td>0.000000</td>\n",
       "    </tr>\n",
       "    <tr>\n",
       "      <th>75%</th>\n",
       "      <td>2019.000000</td>\n",
       "      <td>1.930028e+09</td>\n",
       "      <td>2.019101e+07</td>\n",
       "      <td>1.0</td>\n",
       "      <td>46596.520000</td>\n",
       "      <td>1.930028e+09</td>\n",
       "      <td>0.0</td>\n",
       "      <td>2.000000</td>\n",
       "    </tr>\n",
       "    <tr>\n",
       "      <th>max</th>\n",
       "      <td>2020.000000</td>\n",
       "      <td>2.960605e+09</td>\n",
       "      <td>2.020030e+07</td>\n",
       "      <td>1.0</td>\n",
       "      <td>668593.360000</td>\n",
       "      <td>2.960605e+09</td>\n",
       "      <td>0.0</td>\n",
       "      <td>204.000000</td>\n",
       "    </tr>\n",
       "  </tbody>\n",
       "</table>\n",
       "</div>"
      ],
      "text/plain": [
       "       buisness_year        doc_id   due_in_date  posting_id  \\\n",
       "count   34971.000000  3.497100e+04  3.497100e+04     34971.0   \n",
       "mean     2019.007492  2.013599e+09  2.019081e+07         1.0   \n",
       "std         0.086232  2.805631e+08  1.094669e+03         0.0   \n",
       "min      2019.000000  1.928502e+09  2.018122e+07         1.0   \n",
       "25%      2019.000000  1.929101e+09  2.019042e+07         1.0   \n",
       "50%      2019.000000  1.929617e+09  2.019071e+07         1.0   \n",
       "75%      2019.000000  1.930028e+09  2.019101e+07         1.0   \n",
       "max      2020.000000  2.960605e+09  2.020030e+07         1.0   \n",
       "\n",
       "       total_open_amount    invoice_id   isOpen        target  \n",
       "count       34971.000000  3.497100e+04  34971.0  34971.000000  \n",
       "mean        32256.683147  2.013599e+09      0.0      0.861514  \n",
       "std         39975.902056  2.805631e+08      0.0     10.711260  \n",
       "min             0.790000  1.928502e+09      0.0    -89.000000  \n",
       "25%          4714.295000  1.929101e+09      0.0     -3.000000  \n",
       "50%         17319.710000  1.929617e+09      0.0      0.000000  \n",
       "75%         46596.520000  1.930028e+09      0.0      2.000000  \n",
       "max        668593.360000  2.960605e+09      0.0    204.000000  "
      ]
     },
     "execution_count": 44,
     "metadata": {},
     "output_type": "execute_result"
    }
   ],
   "source": [
    "x_train.describe()"
   ]
  },
  {
   "cell_type": "code",
   "execution_count": 45,
   "id": "78951ef6-289f-4ec9-be6b-bb7a6be07ff9",
   "metadata": {},
   "outputs": [],
   "source": [
    "# we get to see that posting_id and isOpen bboth have just one value for all data, so we remove them.\n",
    "X_train = x_train.drop(['posting_id', 'posting_id', 'document type'], axis = 1)\n",
    "X_test = x_test.drop(['posting_id', 'posting_id', 'document type'], axis = 1)"
   ]
  },
  {
   "cell_type": "code",
   "execution_count": 46,
   "id": "f87425fe-1196-45e5-be34-206b0e961081",
   "metadata": {},
   "outputs": [
    {
     "data": {
      "text/html": [
       "<div>\n",
       "<style scoped>\n",
       "    .dataframe tbody tr th:only-of-type {\n",
       "        vertical-align: middle;\n",
       "    }\n",
       "\n",
       "    .dataframe tbody tr th {\n",
       "        vertical-align: top;\n",
       "    }\n",
       "\n",
       "    .dataframe thead th {\n",
       "        text-align: right;\n",
       "    }\n",
       "</style>\n",
       "<table border=\"1\" class=\"dataframe\">\n",
       "  <thead>\n",
       "    <tr style=\"text-align: right;\">\n",
       "      <th></th>\n",
       "      <th>business_code</th>\n",
       "      <th>cust_number</th>\n",
       "      <th>name_customer</th>\n",
       "      <th>clear_date</th>\n",
       "      <th>buisness_year</th>\n",
       "      <th>doc_id</th>\n",
       "      <th>posting_date</th>\n",
       "      <th>document_create_date</th>\n",
       "      <th>due_in_date</th>\n",
       "      <th>invoice_currency</th>\n",
       "      <th>total_open_amount</th>\n",
       "      <th>baseline_create_date</th>\n",
       "      <th>cust_payment_terms</th>\n",
       "      <th>invoice_id</th>\n",
       "      <th>isOpen</th>\n",
       "      <th>due_date</th>\n",
       "      <th>target</th>\n",
       "    </tr>\n",
       "  </thead>\n",
       "  <tbody>\n",
       "    <tr>\n",
       "      <th>1</th>\n",
       "      <td>U001</td>\n",
       "      <td>0200980828</td>\n",
       "      <td>BEN E</td>\n",
       "      <td>2019-08-08</td>\n",
       "      <td>2019.0</td>\n",
       "      <td>1.929646e+09</td>\n",
       "      <td>2019-07-22</td>\n",
       "      <td>2019-07-22</td>\n",
       "      <td>20190811.0</td>\n",
       "      <td>USD</td>\n",
       "      <td>79656.60</td>\n",
       "      <td>2019-07-22</td>\n",
       "      <td>NAD1</td>\n",
       "      <td>1.929646e+09</td>\n",
       "      <td>0</td>\n",
       "      <td>2019-08-11</td>\n",
       "      <td>-3</td>\n",
       "    </tr>\n",
       "    <tr>\n",
       "      <th>2</th>\n",
       "      <td>U001</td>\n",
       "      <td>0200792734</td>\n",
       "      <td>MDV/ trust</td>\n",
       "      <td>2019-12-30</td>\n",
       "      <td>2019.0</td>\n",
       "      <td>1.929874e+09</td>\n",
       "      <td>2019-09-14</td>\n",
       "      <td>2019-09-14</td>\n",
       "      <td>20190929.0</td>\n",
       "      <td>USD</td>\n",
       "      <td>2253.86</td>\n",
       "      <td>2019-09-14</td>\n",
       "      <td>NAA8</td>\n",
       "      <td>1.929874e+09</td>\n",
       "      <td>0</td>\n",
       "      <td>2019-09-29</td>\n",
       "      <td>92</td>\n",
       "    </tr>\n",
       "    <tr>\n",
       "      <th>4</th>\n",
       "      <td>U001</td>\n",
       "      <td>0200769623</td>\n",
       "      <td>WAL-MAR foundation</td>\n",
       "      <td>2019-11-25</td>\n",
       "      <td>2019.0</td>\n",
       "      <td>1.930148e+09</td>\n",
       "      <td>2019-11-13</td>\n",
       "      <td>2019-11-13</td>\n",
       "      <td>20191128.0</td>\n",
       "      <td>USD</td>\n",
       "      <td>33133.29</td>\n",
       "      <td>2019-11-13</td>\n",
       "      <td>NAH4</td>\n",
       "      <td>1.930148e+09</td>\n",
       "      <td>0</td>\n",
       "      <td>2019-11-28</td>\n",
       "      <td>-3</td>\n",
       "    </tr>\n",
       "    <tr>\n",
       "      <th>5</th>\n",
       "      <td>CA02</td>\n",
       "      <td>0140106181</td>\n",
       "      <td>THE  corporation</td>\n",
       "      <td>2019-12-04</td>\n",
       "      <td>2019.0</td>\n",
       "      <td>2.960581e+09</td>\n",
       "      <td>2019-09-20</td>\n",
       "      <td>2019-09-20</td>\n",
       "      <td>20191004.0</td>\n",
       "      <td>CAD</td>\n",
       "      <td>22225.84</td>\n",
       "      <td>2019-09-24</td>\n",
       "      <td>CA10</td>\n",
       "      <td>2.960581e+09</td>\n",
       "      <td>0</td>\n",
       "      <td>2019-10-04</td>\n",
       "      <td>61</td>\n",
       "    </tr>\n",
       "    <tr>\n",
       "      <th>6</th>\n",
       "      <td>U001</td>\n",
       "      <td>0200769623</td>\n",
       "      <td>WAL-MAR in</td>\n",
       "      <td>2019-11-12</td>\n",
       "      <td>2019.0</td>\n",
       "      <td>1.930083e+09</td>\n",
       "      <td>2019-11-01</td>\n",
       "      <td>2019-10-31</td>\n",
       "      <td>20191116.0</td>\n",
       "      <td>USD</td>\n",
       "      <td>7358.49</td>\n",
       "      <td>2019-11-01</td>\n",
       "      <td>NAH4</td>\n",
       "      <td>1.930083e+09</td>\n",
       "      <td>0</td>\n",
       "      <td>2019-11-16</td>\n",
       "      <td>-4</td>\n",
       "    </tr>\n",
       "  </tbody>\n",
       "</table>\n",
       "</div>"
      ],
      "text/plain": [
       "  business_code cust_number       name_customer clear_date  buisness_year  \\\n",
       "1          U001  0200980828              BEN E  2019-08-08         2019.0   \n",
       "2          U001  0200792734          MDV/ trust 2019-12-30         2019.0   \n",
       "4          U001  0200769623  WAL-MAR foundation 2019-11-25         2019.0   \n",
       "5          CA02  0140106181    THE  corporation 2019-12-04         2019.0   \n",
       "6          U001  0200769623          WAL-MAR in 2019-11-12         2019.0   \n",
       "\n",
       "         doc_id posting_date document_create_date  due_in_date  \\\n",
       "1  1.929646e+09   2019-07-22           2019-07-22   20190811.0   \n",
       "2  1.929874e+09   2019-09-14           2019-09-14   20190929.0   \n",
       "4  1.930148e+09   2019-11-13           2019-11-13   20191128.0   \n",
       "5  2.960581e+09   2019-09-20           2019-09-20   20191004.0   \n",
       "6  1.930083e+09   2019-11-01           2019-10-31   20191116.0   \n",
       "\n",
       "  invoice_currency  total_open_amount baseline_create_date cust_payment_terms  \\\n",
       "1              USD           79656.60           2019-07-22               NAD1   \n",
       "2              USD            2253.86           2019-09-14               NAA8   \n",
       "4              USD           33133.29           2019-11-13               NAH4   \n",
       "5              CAD           22225.84           2019-09-24               CA10   \n",
       "6              USD            7358.49           2019-11-01               NAH4   \n",
       "\n",
       "     invoice_id  isOpen   due_date  target  \n",
       "1  1.929646e+09       0 2019-08-11      -3  \n",
       "2  1.929874e+09       0 2019-09-29      92  \n",
       "4  1.930148e+09       0 2019-11-28      -3  \n",
       "5  2.960581e+09       0 2019-10-04      61  \n",
       "6  1.930083e+09       0 2019-11-16      -4  "
      ]
     },
     "execution_count": 46,
     "metadata": {},
     "output_type": "execute_result"
    }
   ],
   "source": [
    "X_train.head()"
   ]
  },
  {
   "cell_type": "code",
   "execution_count": 47,
   "id": "f9dd6a8f-9b1d-46fb-a800-c16d8c6d4270",
   "metadata": {},
   "outputs": [
    {
     "data": {
      "text/plain": [
       "<AxesSubplot:xlabel='business_code', ylabel='target'>"
      ]
     },
     "execution_count": 47,
     "metadata": {},
     "output_type": "execute_result"
    },
    {
     "data": {
      "image/png": "[encoded data removed]",
      "text/plain": [
       "<Figure size 720x432 with 1 Axes>"
      ]
     },
     "metadata": {
      "needs_background": "light"
     },
     "output_type": "display_data"
    }
   ],
   "source": [
    "temp = pd.DataFrame(X_train.groupby(['business_code'], axis=0, as_index=False)['target'].mean())\n",
    "plt.figure(figsize=(10,6))\n",
    "sns.barplot(x=\"business_code\", y=\"target\",data=temp,linewidth=2.5, facecolor=(1, 1, 1, 0),\n",
    "                 errcolor=\".4\", edgecolor=\"red\")"
   ]
  },
  {
   "cell_type": "code",
   "execution_count": 48,
   "id": "d43a2027-618e-4180-a36e-709a79757abe",
   "metadata": {},
   "outputs": [],
   "source": [
    "x_pos = np.arange(4)"
   ]
  },
  {
   "cell_type": "code",
   "execution_count": 49,
   "id": "5c45b970-db82-409f-890d-f81fe30289b2",
   "metadata": {},
   "outputs": [
    {
     "data": {
      "text/plain": [
       "array([0, 1, 2, 3])"
      ]
     },
     "execution_count": 49,
     "metadata": {},
     "output_type": "execute_result"
    }
   ],
   "source": [
    "x_pos"
   ]
  },
  {
   "cell_type": "code",
   "execution_count": 50,
   "id": "df7ea7c0-59d9-41bb-8c07-8556585e3cfe",
   "metadata": {},
   "outputs": [],
   "source": [
    "# Encoding the binary categorical column invoice_currency\n",
    "X_train['invoice_currency'] = X_train['invoice_currency'].map({'USD': 0,'CAD': 1})\n",
    "X_test['invoice_currency'] = X_test['invoice_currency'].map({'USD': 0,'CAD': 1})"
   ]
  },
  {
   "cell_type": "code",
   "execution_count": 51,
   "id": "0e0e7a18-52ce-44d6-a045-121c8b36bc7c",
   "metadata": {},
   "outputs": [
    {
     "data": {
      "text/plain": [
       "<AxesSubplot:xlabel='invoice_currency', ylabel='target'>"
      ]
     },
     "execution_count": 51,
     "metadata": {},
     "output_type": "execute_result"
    },
    {
     "data": {
      "image/png": "[encoded data removed]",
      "text/plain": [
       "<Figure size 432x288 with 1 Axes>"
      ]
     },
     "metadata": {
      "needs_background": "light"
     },
     "output_type": "display_data"
    }
   ],
   "source": [
    "temp1 = pd.DataFrame(X_train.groupby(['invoice_currency'], axis=0, as_index=False)['target'].mean())\n",
    "plt.figure(figsize=(6,4))\n",
    "sns.barplot(x=\"invoice_currency\", y=\"target\",data=temp1,linewidth=1.5, facecolor=(1, 1, 1, 0),\n",
    "                 errcolor=\".2\", edgecolor=\"blue\")"
   ]
  },
  {
   "cell_type": "code",
   "execution_count": 52,
   "id": "d048fd16-73b8-4576-b078-cd93f1b10071",
   "metadata": {},
   "outputs": [
    {
     "name": "stderr",
     "output_type": "stream",
     "text": [
      "e:\\conda\\lib\\site-packages\\seaborn\\distributions.py:2619: FutureWarning: `distplot` is a deprecated function and will be removed in a future version. Please adapt your code to use either `displot` (a figure-level function with similar flexibility) or `histplot` (an axes-level function for histograms).\n",
      "  warnings.warn(msg, FutureWarning)\n"
     ]
    },
    {
     "data": {
      "text/plain": [
       "<AxesSubplot:xlabel='total_open_amount', ylabel='Density'>"
      ]
     },
     "execution_count": 52,
     "metadata": {},
     "output_type": "execute_result"
    },
    {
     "data": {
      "image/png": "[encoded data removed]",
      "text/plain": [
       "<Figure size 576x576 with 1 Axes>"
      ]
     },
     "metadata": {},
     "output_type": "display_data"
    }
   ],
   "source": [
    "sns.set(style=\"darkgrid\")\n",
    "plt.figure(figsize=(8,8))\n",
    "plt.figure(1)\n",
    "sns.distplot(X_train['total_open_amount'],color='green')"
   ]
  },
  {
   "cell_type": "code",
   "execution_count": 53,
   "id": "a5588a08-eef6-4b77-baf2-a1f172182557",
   "metadata": {},
   "outputs": [],
   "source": [
    "# Using log transformation to make it more 'normal' for better analysis\n",
    "def Transform(x):\n",
    "    return np.log(x)\n",
    "\n",
    "X_train['total_open_amount'] = X_train['total_open_amount'].apply(Transform)\n",
    "X_test['total_open_amount'] = X_test['total_open_amount'].apply(Transform)"
   ]
  },
  {
   "cell_type": "code",
   "execution_count": 54,
   "id": "bfe45dab-a415-46df-87cf-913a11b6373d",
   "metadata": {},
   "outputs": [
    {
     "data": {
      "text/plain": [
       "1294"
      ]
     },
     "execution_count": 54,
     "metadata": {},
     "output_type": "execute_result"
    }
   ],
   "source": [
    "X_train['cust_number'].nunique()"
   ]
  },
  {
   "cell_type": "code",
   "execution_count": 55,
   "id": "809e2d9e-087e-4c56-bbc4-a01b4012310d",
   "metadata": {},
   "outputs": [
    {
     "data": {
      "text/plain": [
       "34228"
      ]
     },
     "execution_count": 55,
     "metadata": {},
     "output_type": "execute_result"
    }
   ],
   "source": [
    "# This pretty much doesnt give much info as its unique for each row\n",
    "X_train['invoice_id'].nunique()"
   ]
  },
  {
   "cell_type": "code",
   "execution_count": 56,
   "id": "b0f1a9c3-60bb-48fb-ab52-21b0dba85181",
   "metadata": {},
   "outputs": [],
   "source": [
    "# Dropping those columns which don't contribute anything for predictions.\n",
    "X_train = X_train.drop(['buisness_year', 'due_in_date', 'isOpen'], axis = 1)\n",
    "X_test = X_test.drop(['buisness_year', 'due_in_date', 'isOpen'], axis = 1)"
   ]
  },
  {
   "cell_type": "code",
   "execution_count": 57,
   "id": "40dd5d33-6675-482e-9653-fba9ad579834",
   "metadata": {},
   "outputs": [
    {
     "name": "stderr",
     "output_type": "stream",
     "text": [
      "e:\\conda\\lib\\site-packages\\seaborn\\distributions.py:2619: FutureWarning: `distplot` is a deprecated function and will be removed in a future version. Please adapt your code to use either `displot` (a figure-level function with similar flexibility) or `histplot` (an axes-level function for histograms).\n",
      "  warnings.warn(msg, FutureWarning)\n"
     ]
    },
    {
     "data": {
      "text/plain": [
       "<AxesSubplot:xlabel='target', ylabel='Density'>"
      ]
     },
     "execution_count": 57,
     "metadata": {},
     "output_type": "execute_result"
    },
    {
     "data": {
      "text/plain": [
       "<Figure size 432x432 with 0 Axes>"
      ]
     },
     "metadata": {},
     "output_type": "display_data"
    },
    {
     "data": {
      "image/png": "[encoded data removed]",
      "text/plain": [
       "<Figure size 432x288 with 1 Axes>"
      ]
     },
     "metadata": {},
     "output_type": "display_data"
    }
   ],
   "source": [
    "plt.figure(figsize=(6,6))\n",
    "plt.figure(2)\n",
    "sns.distplot(X_train['target'],color='blue')"
   ]
  },
  {
   "cell_type": "code",
   "execution_count": 58,
   "id": "55aa30ab-91cd-47ca-9938-be57ab2fdd93",
   "metadata": {},
   "outputs": [
    {
     "name": "stdout",
     "output_type": "stream",
     "text": [
      "{'0200769623': 7763, '0200726979': 1285, '0200762301': 1028, '0200759878': 908, '0200794332': 767, '0200744019': 690, '0200772670': 639, '200769623': 623, '0200705742': 584, '0200707822': 490, 'CCU013': 463, 'CCCA02': 377, '0140106408': 359, '0140104409': 354, '0200418007': 352, '0200780383': 336, '0200803720': 309, '0140104429': 302, '0200706844': 284, '0200761734': 281, '0200230690': 263, '0100031704': 263, '0200936373': 262, '0200793568': 260, '0200799367': 258, '0200353024': 250, '0200416837': 248, '0140105686': 240, '0200148860': 236, '0200704858': 219, '0200020431': 211, '0200974851': 208, '0140104440': 207, '0200772595': 204, '0200782001': 188, '0200729942': 175, '0200714710': 165, '0200592182': 161, '0200739534': 151, '0200900909': 146, '0200764795': 144, '0140105847': 141, '0200704045': 134, '0200792734': 132, '0200763814': 132, '0200752302': 125, '0140104423': 120, '0200777735': 117, '0200781803': 117, '0200718130': 116, '0200331749': 112, '0200707005': 108, '0200705372': 108, 'CCU002': 106, '0200782669': 103, '0200152991': 102, '0200792293': 100, '0200776463': 100, '0200756072': 96, '0200729290': 95, '200794332': 94, '0200780825': 91, '0200778870': 88, '0200741174': 86, '0200700919': 85, '0200739006': 84, '200726979': 83, '0200466603': 82, '0140104340': 82, '0200793513': 82, '0200337148': 82, '0200881076': 80, '0200920735': 79, '0200750051': 78, '0200705089': 78, '0140106181': 77, '0200779906': 77, '0200732755': 73, '0200743123': 69, '0200126819': 68, '0200797452': 68, '200759878': 68, '0200711029': 68, '0200915438': 67, '0100001196': 66, '0200786288': 66, '0200434439': 64, '0200793830': 62, '0200290370': 61, '0200785971': 61, '0200749225': 59, '0200820380': 58, '0200795490': 58, '0140104249': 57, '0200722444': 57, '0200748108': 56, '0200762950': 55, '0200455322': 55, '200762301': 54, '0200778355': 53, '0140105785': 53, '0200078795': 53, '0200771157': 51, '200744019': 51, '0200790107': 51, '0200736337': 51, '0200980828': 50, '0140104240': 49, '0200526831': 49, '0200561861': 49, '0200712187': 48, '0200555117': 48, '0200712105': 48, '0200769369': 47, '0200721222': 47, '0200749782': 46, '0200875006': 46, '0200747369': 44, '0200793088': 43, '0200742791': 42, '0140104225': 42, '0200707741': 41, '0200743129': 40, '0200799342': 39, '0140104472': 39, '0200696090': 38, '0200357714': 37, 'CCU001': 36, '0200865666': 36, '0200743996': 35, '0200978592': 35, '0200943275': 35, '0200742521': 35, '0100030964': 34, '0200407025': 34, '0200895843': 32, 'CC6600': 32, '0100030194': 31, '0200275115': 30, '0200229974': 30, '0200763489': 30, '0100036066': 30, '0200799538': 30, '0200965912': 29, '0200833713': 29, '0100021540': 29, '0200729828': 29, '0200029010': 29, '200772670': 29, '0200789077': 28, '200705742': 28, '0200493614': 28, '0200723794': 28, '0140106293': 28, '0200765011': 28, '0200778998': 28, '0200759082': 28, '0200797984': 27, '0200781831': 27, '0200424504': 27, '0200002965': 27, '140106408': 27, '0200779051': 27, '0200519201': 26, 'CC6000': 26, '0140103480': 26, '200729942': 26, '0200956366': 26, '0200719300': 26, '0200708411': 25, '0200458131': 25, '0140142846': 25, '200707822': 25, '200704858': 24, '0200580232': 24, '0200571849': 24, '200793568': 24, '0200806580': 24, '0200515231': 24, '0200773364': 24, '0200439158': 24, '0200735528': 24, '0100043892': 24, '0200782772': 23, '100031704': 23, '0200755701': 23, '0200799180': 23, '0140104229': 22, '200418007': 22, '200761734': 22, '0100000222': 22, '0200712102': 22, '0200725421': 22, '0200508557': 21, '0200724999': 21, '0140106372': 21, '0200763229': 21, '0140118172': 21, '0200435191': 21, '0140104285': 21, '0200501669': 20, 'CC6050': 20, '0200760666': 20, '0200783609': 20, '0200741831': 19, '0200793122': 19, '0200783734': 19, '0200779719': 19, '0100004536': 19, '0100009932': 19, '0200754278': 18, '0200701314': 18, '200020431': 18, '0200763152': 18, '0100043936': 18, '0200622385': 18, '0200770567': 18, '0200040366': 18, '0140103409': 17, '0100034330': 17, '200148860': 17, '0100015557': 17, '0140105000': 17, '0200457993': 17, '0200396637': 17, '200974851': 17, '200772595': 17, '0200790710': 17, '0100012638': 17, '200799367': 16, '200780383': 16, '0200847305': 16, '0140103335': 16, '0200186937': 16, '140104409': 16, '200936373': 15, '0200783189': 15, '0100012991': 15, '0200719526': 15, '0200486270': 15, '0200701040': 15, '0200886415': 15, 'CC3620': 14, '200353024': 14, '0200942148': 14, '0200752393': 14, '200782001': 13, '0200769556': 13, '0200722369': 13, '0200129450': 13, '0200727272': 13, '0200149567': 13, '0200891601': 13, '0200775094': 13, '200706844': 12, '0140104331': 12, '140104429': 12, '0200720238': 12, '0140104552': 12, '0140101584': 12, '0140105508': 12, '0140104392': 12, '0200770677': 12, '0200437182': 12, '0100036538': 12, '0200014556': 12, '0200096390': 12, '0200721330': 11, '0140106249': 11, '0140103592': 11, '0200609331': 11, '0200774000': 11, '0140106271': 11, '200900909': 11, '200803720': 11, '0200727278': 11, '0200078854': 11, '0100029649': 11, '0200792283': 11, '0200854853': 11, '0200132251': 11, '200230690': 11, '0100006311': 11, '0100044010': 11, '0200726025': 11, '0140106231': 11, '200714710': 11, '0100028450': 11, '0200468954': 10, '140105686': 10, '200455322': 10, '0200780849': 10, '0200754118': 10, '0100031970': 10, '0200744707': 10, '0200825136': 10, '0200697207': 10, '100001196': 10, '200752302': 10, '0100024776': 10, '200592182': 10, '0200637319': 10, '0100044041': 10, '140105847': 10, 'CC6530': 10, '0140104263': 10, '0100035578': 10, '0200557600': 10, '0200200412': 10, '0100033394': 10, '0200793000': 10, '200743123': 10, '0140118168': 10, '0140103278': 10, '0200076137': 10, '0200375138': 9, '200781803': 9, '0100047527': 9, '0200784489': 9, '200416837': 9, '200777735': 9, '200756072': 9, '0200192492': 9, '0140103713': 9, '0200253680': 9, '200792734': 9, '200466603': 9, '200741174': 9, '0200783190': 9, '0100035877': 9, '0100050364': 9, '0100016691': 9, '0140104475': 9, '200337148': 9, '0200576926': 9, '0140103311': 8, '0200399141': 8, '200331749': 8, '0100043948': 8, '200732755': 8, '0200238407': 8, '0200673194': 8, '200795490': 8, '0200403651': 8, '0200712836': 8, '200776463': 8, '0100036292': 8, '0100050703': 8, '0100028210': 8, '0200793319': 8, '0200403703': 8, '0200816950': 8, '0100049207': 8, '0100047674': 8, '200152991': 8, '0200559683': 8, '140104423': 8, '0140103470': 8, '0200661137': 8, '0100043973': 8, '0200761497': 8, '0200378310': 8, '0200307138': 8, '200705372': 7, '0200452014': 7, '0100036009': 7, '0200063296': 7, '0200606231': 7, '0200257211': 7, '0200779111': 7, '200704045': 7, '0200895669': 7, '0200719839': 7, '0200768357': 7, '0200796637': 7, '0200382900': 7, '0100019293': 7, '0200397082': 7, '0100049079': 7, '0140104277': 7, '0100025890': 7, '0100025658': 7, 'CC7080': 7, '0100008001': 7, '0100011958': 7, '0100036039': 7, '0200573068': 7, '0100043949': 7, '0100031686': 7, '0140106379': 7, '0100030014': 7, '0200900212': 7, '200793513': 7, '0100021489': 7, '0140105713': 7, '200764795': 7, '0100000158': 7, '200707005': 7, '0100017545': 7, '0200792200': 7, 'CC3411': 7, '0200315290': 7, '140104340': 6, '0200858049': 6, '200793830': 6, '0100030443': 6, '0140103423': 6, '200743996': 6, '0200713007': 6, '0200668077': 6, '0200955827': 6, '0200803094': 6, '0140103400': 6, '0200646464': 6, '0200458253': 6, '0200124052': 6, '0200397176': 6, '200729290': 6, '0100026939': 6, '0100031723': 6, '140104240': 6, '0200202604': 6, '140105785': 6, '200700919': 6, '0200037027': 6, '0200236583': 6, '0140101555': 6, '200739534': 6, '0200784454': 6, '0200117492': 6, '140104440': 6, '200696090': 6, '140106181': 6, '0200982294': 6, '200881076': 5, '0200737918': 5, '0200738884': 5, '0200677269': 5, '0200861551': 5, '200875006': 5, '200029010': 5, '0200743592': 5, '200779906': 5, '0200737496': 5, '0100014724': 5, '0140104550': 5, '0140105678': 5, '0200790748': 5, '200785971': 5, '200915438': 5, '0200982290': 5, '0200758883': 5, '0200756811': 5, '0100013335': 5, '0200742344': 5, '0200387798': 5, '0200775660': 5, '0100053926': 5, '0140106099': 5, '0200706331': 5, '0100007916': 5, '200763152': 5, '0140104223': 5, '0140106224': 5, '0100036318': 5, '0200725511': 5, '0200540723': 5, '0200767729': 5, '0200386051': 5, '200763814': 5, '0100027744': 5, '0140103983': 5, '0200745469': 5, '200711029': 5, '0100049850': 5, '0200984794': 5, '0200721530': 5, '0200943423': 5, '200622385': 5, '0200806643': 5, '0200656729': 5, '200742791': 5, '0100033439': 5, '200793088': 5, '0200769072': 4, '0100034443': 4, '0100015455': 4, '200778355': 4, '0200048886': 4, '0100047403': 4, '0100013928': 4, '200786288': 4, '200407025': 4, '0200782249': 4, '0140104995': 4, '0100043933': 4, '0200494102': 4, '200797452': 4, '140104249': 4, '0200999003': 4, '0100050962': 4, '0200732421': 4, '0140101904': 4, '0100030223': 4, '0140103392': 4, '0200934569': 4, '200780825': 4, '0100054539': 4, '0200779340': 4, '0100054980': 4, '0100024767': 4, '0200684768': 4, '0100001222': 4, '0100046487': 4, '0140106184': 4, '0200115792': 4, '0100014187': 4, '0200543982': 4, '0200539926': 4, '0100054231': 4, '0200729968': 4, '0200708511': 4, '200434439': 4, '0200792277': 4, '0100043903': 4, '200526831': 4, '0200752607': 4, '0200207008': 4, '0200560331': 4, '200942148': 4, '200748108': 4, '0100032791': 4, '0200822900': 4, '0200071186': 4, '0200722352': 4, '0200761342': 4, '0140106302': 4, '0140101682': 4, '0140106212': 4, '200126819': 4, '0100032134': 4, '200773364': 4, '0200287284': 4, '0140104934': 4, '200788848': 4, '0200231309': 4, '0140106316': 4, '200820380': 4, 'CC7455': 4, '0100032284': 4, '200729828': 4, '200747369': 4, '0100024102': 4, '200750051': 4, '0100054867': 4, '200707741': 4, 'CC5050': 4, '0140101591': 4, '200725421': 4, '200561861': 4, '0200909198': 4, '200718130': 4, '0200084659': 4, '200769369': 4, '0100012698': 4, '0100051976': 3, '0200749730': 3, '0100034820': 3, '100031628': 3, '0200658936': 3, '0140106343': 3, '200943275': 3, '0100025721': 3, '0140106434': 3, '0200767520': 3, '0100007796': 3, '0100051641': 3, '0140106054': 3, '100012638': 3, '200275115': 3, '0200796828': 3, '0200723406': 3, '0200246495': 3, '0140103293': 3, '0200400844': 3, '140106372': 3, '200501669': 3, '0200978899': 3, '0100029855': 3, '0200093491': 3, '0100050567': 3, '0200789344': 3, '0200624321': 3, '0200703398': 3, '0200359490': 3, '0200268458': 3, '0140104950': 3, '0100021392': 3, '0100026809': 3, '0100004744': 3, '200782669': 3, '0200555693': 3, '200722444': 3, '0100011799': 3, '0200101621': 3, '0200553372': 3, '200895843': 3, '200778870': 3, '200759082': 3, '0200701487': 3, '200424504': 3, '0140101772': 3, '0200879892': 3, '0140104432': 3, '200779051': 3, '0200124634': 3, '0200791792': 3, '0100052927': 3, '0200888842': 3, '140103335': 3, '0200930547': 3, '0200447006': 3, '0200387240': 3, '0140104265': 3, '0100054194': 3, '0200308132': 3, '0200735226': 3, '200078795': 3, '0100056244': 3, '200790107': 3, '200719526': 3, '0100015818': 3, '0200731999': 3, '200701314': 3, '200865666': 3, '0200452949': 3, '0100031920': 3, '0200728270': 3, '0200872111': 3, '0200799420': 3, '0200740393': 3, '0200133150': 3, '0200712349': 3, '0100034022': 3, '0200743618': 3, '200186937': 3, '0140105357': 3, '0200692711': 3, '0140105963': 3, '100036066': 3, '140142846': 3, '0100033268': 3, '0200529372': 3, '0100000051': 3, '200721222': 3, '200246495': 3, '200920735': 3, '200749225': 3, '0100043975': 3, '200760666': 3, '200749782': 3, '0200913718': 3, '0140106209': 3, '0140118166': 3, '0100053763': 3, '0100046479': 3, '0140103699': 3, '0200966888': 3, '100026939': 3, '0200830009': 3, '0200790012': 3, '200783734': 3, '0140120967': 3, '0200219770': 3, '0200078245': 3, '0100025470': 3, '0200657619': 3, '0100053714': 2, '0200756762': 2, '0140049310': 2, '0140103551': 2, '0100006671': 2, '0200755288': 2, '0200734491': 2, '0100036153': 2, '0200788848': 2, '0200782207': 2, '0100029677': 2, '0200790215': 2, '140103480': 2, '0100046464': 2, '0200739941': 2, '0200679800': 2, '200656729': 2, '0200346918': 2, '0200687457': 2, '140105000': 2, '0200704836': 2, '0100057168': 2, '0200986966': 2, '100012991': 2, '200399141': 2, '0140103499': 2, '100036538': 2, '0200751679': 2, '0100055500': 2, '0200078595': 2, '0140104508': 2, '0100033778': 2, '200891601': 2, '0200139730': 2, '0200366118': 2, '0100036062': 2, '200771157': 2, '200806580': 2, '0100054178': 2, '0100000048': 2, '0200927099': 2, '0200748335': 2, '0140106257': 2, '0100033558': 2, '0200725729': 2, '0140106347': 2, '200770567': 2, '0200709886': 2, '0140104878': 2, '0200625175': 2, '200980828': 2, '0100052318': 2, '0200182291': 2, '0140106376': 2, 'CC5102': 2, '0200345943': 2, '200486270': 2, '0200212683': 2, '200770677': 2, '200816950': 2, '0100000533': 2, '200978592': 2, '0140106263': 2, '0100054709': 2, '0100010265': 2, '0100051674': 2, '140106184': 2, '0200984655': 2, '0100033266': 2, '100030964': 2, '0100036060': 2, '0200744584': 2, '200705089': 2, '0200735607': 2, '200755701': 2, '200515231': 2, '0100005721': 2, '0100046048': 2, '0200303592': 2, '0100031483': 2, '0100052112': 2, '0100000933': 2, '0200077943': 2, '0140105578': 2, '0100028715': 2, '0200678532': 2, '0200725393': 2, '200723794': 2, '200719300': 2, '0100049661': 2, '140104225': 2, '100052024': 2, '200754278': 2, '0200966902': 2, '0100031628': 2, '0200122145': 2, '0100043928': 2, '0100033300': 2, '200637319': 2, '100000222': 2, '0100026947': 2, '0100052024': 2, '200763229': 2, '0200740737': 2, '140101555': 2, '0140104234': 2, '0100035581': 2, '0100044007': 2, '0100032523': 2, '200076137': 2, '200799342': 2, '0200774517': 2, '0100052815': 2, '0100036486': 2, '0100025924': 2, '200754118': 2, '200200412': 2, '0100015934': 2, '0100043987': 2, '200743618': 2, '200854853': 2, '200712187': 2, '0200511033': 2, '200529372': 2, '0100058056': 2, '0200358522': 2, '0100048904': 2, '0200197349': 2, '200014556': 2, '200743129': 2, '0200790099': 2, '0140142466': 2, '200833713': 2, '200778998': 2, '200793000': 2, '0200783317': 2, '140118172': 2, '0100000582': 2, '0200762678': 2, '0100013048': 2, '0100036722': 2, '0200734065': 2, '0100047204': 2, '200780849': 2, '0100058048': 2, '0200103402': 2, '0100026903': 2, '0100032278': 2, '0200498283': 2, '0200342745': 2, '200779719': 2, '0200771123': 2, '140104285': 2, '0140103435': 2, '100043892': 2, '200789077': 2, '0100030855': 2, '0200122006': 2, '0200689451': 2, '0200172815': 2, '0100049859': 2, '0100046469': 2, '0100058044': 2, '0200198605': 2, '0100035734': 2, '0200972004': 2, '200762950': 2, '0200444486': 2, '0200610381': 2, '0100043902': 2, '0100046614': 2, '0100035971': 2, '200956366': 2, '0200084163': 2, '0200827835': 2, '200736337': 2, '0200934467': 2, '0200793888': 2, '200792293': 2, '0100030934': 2, '0140102142': 2, '0140106358': 2, '0200516657': 2, '0140104503': 2, '0200085585': 2, '0200807583': 2, '0100025382': 2, '0100014810': 2, '100043936': 2, '0200788704': 2, '140101904': 1, '200040366': 1, '0200586374': 1, '0100043895': 1, '200557600': 1, '0200788265': 1, '200825136': 1, '0200935607': 1, '200420725': 1, '0140105975': 1, '0200705985': 1, '200779111': 1, '200668077': 1, '0140106227': 1, '0100056693': 1, '200251182': 1, '200071186': 1, '200111853': 1, '0100006823': 1, '0200413833': 1, '0100001452': 1, '200712836': 1, '0100050034': 1, '200742344': 1, '0200685765': 1, '0100004317': 1, '0200039093': 1, '100051641': 1, '200387240': 1, '0100000564': 1, '0140103331': 1, '100043961': 1, '0200575905': 1, '0100043931': 1, '100043885': 1, '0100055068': 1, '0200870809': 1, '0100049617': 1, '0200032807': 1, '200737918': 1, '0100034087': 1, '0200760428': 1, '0200685603': 1, '0200096280': 1, '0200382955': 1, '100058075': 1, '0200232199': 1, '0200568183': 1, '0200553103': 1, '0100032262': 1, '0100035143': 1, '0140104258': 1, '0100046476': 1, '200902149': 1, '0200789266': 1, '200958768': 1, '200712102': 1, '0100000843': 1, '0200718143': 1, '100049979': 1, '140102883': 1, '0100058011': 1, '0200043803': 1, '0200703332': 1, '0200814091': 1, '0100026902': 1, '0200700823': 1, '0100027362': 1, '140104552': 1, '0100032178': 1, '0100034961': 1, '0200877212': 1, '0200421363': 1, '0200773620': 1, '0200404600': 1, '0200593992': 1, '0200033335': 1, '0100044019': 1, '0140104729': 1, '100055082': 1, '0140101577': 1, '0200138805': 1, '0200041573': 1, '0100047379': 1, '200792200': 1, '0200703371': 1, '0200992849': 1, '0100026937': 1, '0200637068': 1, '0200825139': 1, '0200749582': 1, '0100028731': 1, '0200686200': 1, '0200512145': 1, '0200991882': 1, '0200790543': 1, '200400844': 1, '0200773492': 1, '100035877': 1, '0200459173': 1, '0100034822': 1, '0100036234': 1, '0100030565': 1, '100001222': 1, '0200758264': 1, '0100037035': 1, '0200971591': 1, '0200803125': 1, '0200875680': 1, '0100028396': 1, '0200719376': 1, '200799180': 1, '0100019410': 1, '0200742419': 1, '0100023056': 1, '0100010082': 1, '0200182381': 1, '0200714601': 1, '0200279964': 1, '0200286074': 1, '0100046475': 1, '200274078': 1, '0100043901': 1, '0200758531': 1, '200229974': 1, '200792283': 1, '0140106165': 1, '0140105072': 1, '200290370': 1, '0140101595': 1, '0100011023': 1, '0200792105': 1, '0100047388': 1, '0200574119': 1, '0100028413': 1, '0100032505': 1, '100047527': 1, '0140104146': 1, '0200708328': 1, '200406273': 1, '200982294': 1, '200132251': 1, '0200707519': 1, '100011958': 1, '0100043965': 1, '0200223640': 1, '0200774354': 1, '200727272': 1, '0100034823': 1, '0200639484': 1, '0140106421': 1, '0200275253': 1, '0100053656': 1, '0100037386': 1, '200701040': 1, '0140104837': 1, '0200390794': 1, '200129450': 1, '100025658': 1, '0200550425': 1, '100028731': 1, '0140106200': 1, '0200420725': 1, '0100035138': 1, '200879892': 1, '0100013947': 1, '0100053107': 1, '0200644313': 1, '0200865160': 1, 'CC6150': 1, '200719839': 1, '200712105': 1, '0200168768': 1, '0200819043': 1, '100000217': 1, '0100043909': 1, '100046726': 1, '200806643': 1, '200063296': 1, '0200326954': 1, '0100043955': 1, '200458131': 1, '0100051668': 1, '140103592': 1, '100015455': 1, '200790748': 1, '0140105845': 1, '140104950': 1, '100027744': 1, '0200143162': 1, '0200097356': 1, '0100043885': 1, '0100029811': 1, '0200773094': 1, '200790710': 1, '200571849': 1, '0200284677': 1, '200569521': 1, '100031920': 1, '0200750131': 1, '0200388737': 1, '0200277896': 1, '0200799476': 1, '140104472': 1, '0200983712': 1, '0140105704': 1, '0200608118': 1, '0200400124': 1, '0100025068': 1, '0100012181': 1, '0140105192': 1, '0200389625': 1, '0100043880': 1, '0140103413': 1, '0200702946': 1, '200799538': 1, '100011895': 1, '0100010669': 1, '200308132': 1, '200357714': 1, '0100046626': 1, '200775660': 1, '200779166': 1, '200790165': 1, '0200589514': 1, '200508557': 1, '0200716210': 1, '0200932247': 1, '0200698446': 1, '0200734891': 1, '0200094171': 1, '0100012836': 1, '100035260': 1, '0140103385': 1, '0100058035': 1, '0100028184': 1, '0100024952': 1, '200066217': 1, '0100013521': 1, '0100054234': 1, '0100005765': 1, '0200749091': 1, '200978899': 1, '0100053918': 1, '0200745906': 1, '0200472708': 1, '0200789896': 1, '0100003940': 1, '0200494781': 1, '200306844': 1, '0100043956': 1, '0140105414': 1, '200593992': 1, '0200585100': 1, '0140103461': 1, '100043975': 1, '0200387015': 1, '200784489': 1, '0100043993': 1, '0100050718': 1, '200608118': 1, '0100043882': 1, '0100050402': 1, '0100035879': 1, '0100047815': 1, '100004536': 1, '0100027281': 1, '0200714519': 1, '100049075': 1, '0200406153': 1, '100052782': 1, '0200739044': 1, '0200067753': 1, '0200922106': 1, '0100047082': 1, '0200472086': 1, '0140103328': 1, '0100055394': 1, '200708445': 1, '100014187': 1, '0140103773': 1, '200231309': 1, '0100030250': 1, '0100047471': 1, '0100001659': 1, '0100046892': 1, '0100017600': 1, '0200764515': 1, '0200112301': 1, '0100050377': 1, '0200188278': 1, '0100000272': 1, '0100047417': 1, '0200700057': 1, '200375138': 1, '0100055548': 1, '0100052782': 1, '100034330': 1, '0100035145': 1, '200609331': 1, '0100009866': 1, '200739006': 1, '0200736312': 1, '0200739074': 1, '200777466': 1, '140101772': 1, '140103293': 1, '0200520353': 1, '140104392': 1, '0100048819': 1, '0200341093': 1, '200984794': 1, '100044052': 1, '0200019542': 1, '100051489': 1, '0100034821': 1, '0100027103': 1, '0200816226': 1, '0100054993': 1, '0100053090': 1, '200468954': 1, '140101682': 1, '0100049744': 1, '0100058018': 1, '200900212': 1, '140104432': 1, '0200936615': 1, '100030194': 1, '0140115440': 1, '0100027701': 1, '0100046480': 1, '0100058031': 1, '100032505': 1, '0100034952': 1, '0100013282': 1, '200149567': 1, '0200742492': 1, '0200734750': 1, '0100047382': 1, '0100036250': 1, '0100029323': 1, '0200212854': 1, '0140105652': 1, '200493614': 1, '0200963022': 1, '0200724432': 1, '0100047366': 1, '100052092': 1, '0100043937': 1, '200519201': 1, '0100049075': 1, '0200135060': 1, '0100012050': 1, '0100013148': 1, '200774000': 1, '0100035833': 1, '200744584': 1, '0100055112': 1, '140104995': 1, '0100011895': 1, '0100058041': 1, '140103278': 1, '0100012482': 1, '0100028708': 1, '100047394': 1, '200200340': 1, '0140105039': 1, '0100054348': 1, '0100004335': 1, '200458253': 1, '0200077933': 1, '0100047799': 1, '0100055606': 1, '0100044018': 1, '0100034958': 1, '200555117': 1, '100043949': 1, '0100036470': 1, '0100036162': 1, '0200733702': 1, '0200856934': 1, '0100011571': 1, '0200024233': 1, '200783189': 1, '0200443644': 1, '0200092114': 1, '200966944': 1, '0200728385': 1, '0140115721': 1, '0100050556': 1, '0100018142': 1, '0200258814': 1, '0200164995': 1, '0200255310': 1, '100046479': 1, '0100027772': 1, '0200943457': 1, '0200822668': 1, '100052815': 1, '0100008870': 1, '0100052930': 1, '140104503': 1, '140106212': 1, '200435191': 1, '0200992695': 1, '0140118175': 1, '200724999': 1, '0200765360': 1, '0100028418': 1, '0100035137': 1, '200886415': 1, '0100000217': 1, '0100035071': 1, '100043973': 1, '0100058075': 1, '0200463411': 1, '0100035824': 1, '0100027239': 1, '0140106194': 1, '0200086615': 1, '0200738514': 1, '0100006176': 1, '200403651': 1, '0200705600': 1, '0100046590': 1, '0100014288': 1, '0200541916': 1}\n"
     ]
    }
   ],
   "source": [
    "print(dict(X_train['cust_number'].value_counts()))\n",
    "def integers(x):\n",
    "    ref = dict(X_train['cust_number'].value_counts())\n",
    "    if ref.get(x):\n",
    "        return ref[x]\n",
    "\n",
    "X_train['cust_number'] = X_train['cust_number'].apply(integers)"
   ]
  },
  {
   "cell_type": "code",
   "execution_count": 59,
   "id": "4e802935-0ab2-4256-8079-5cdd66030bb8",
   "metadata": {},
   "outputs": [],
   "source": [
    "def integers_test(x):\n",
    "    ref = dict(X_test['cust_number'].value_counts())\n",
    "    if ref.get(x):\n",
    "        return ref[x]\n",
    "    \n",
    "X_test['cust_number'] = X_test['cust_number'].apply(integers_test)"
   ]
  },
  {
   "cell_type": "code",
   "execution_count": 60,
   "id": "912ca14b-5b39-45fe-8e9d-5ce586120e87",
   "metadata": {},
   "outputs": [
    {
     "data": {
      "text/html": [
       "<div>\n",
       "<style scoped>\n",
       "    .dataframe tbody tr th:only-of-type {\n",
       "        vertical-align: middle;\n",
       "    }\n",
       "\n",
       "    .dataframe tbody tr th {\n",
       "        vertical-align: top;\n",
       "    }\n",
       "\n",
       "    .dataframe thead th {\n",
       "        text-align: right;\n",
       "    }\n",
       "</style>\n",
       "<table border=\"1\" class=\"dataframe\">\n",
       "  <thead>\n",
       "    <tr style=\"text-align: right;\">\n",
       "      <th></th>\n",
       "      <th>business_code</th>\n",
       "      <th>cust_number</th>\n",
       "      <th>name_customer</th>\n",
       "      <th>clear_date</th>\n",
       "      <th>doc_id</th>\n",
       "      <th>posting_date</th>\n",
       "      <th>document_create_date</th>\n",
       "      <th>invoice_currency</th>\n",
       "      <th>total_open_amount</th>\n",
       "      <th>baseline_create_date</th>\n",
       "      <th>cust_payment_terms</th>\n",
       "      <th>invoice_id</th>\n",
       "      <th>due_date</th>\n",
       "      <th>target</th>\n",
       "    </tr>\n",
       "  </thead>\n",
       "  <tbody>\n",
       "    <tr>\n",
       "      <th>1</th>\n",
       "      <td>U001</td>\n",
       "      <td>50</td>\n",
       "      <td>BEN E</td>\n",
       "      <td>2019-08-08</td>\n",
       "      <td>1.929646e+09</td>\n",
       "      <td>2019-07-22</td>\n",
       "      <td>2019-07-22</td>\n",
       "      <td>0</td>\n",
       "      <td>11.285480</td>\n",
       "      <td>2019-07-22</td>\n",
       "      <td>NAD1</td>\n",
       "      <td>1.929646e+09</td>\n",
       "      <td>2019-08-11</td>\n",
       "      <td>-3</td>\n",
       "    </tr>\n",
       "    <tr>\n",
       "      <th>2</th>\n",
       "      <td>U001</td>\n",
       "      <td>132</td>\n",
       "      <td>MDV/ trust</td>\n",
       "      <td>2019-12-30</td>\n",
       "      <td>1.929874e+09</td>\n",
       "      <td>2019-09-14</td>\n",
       "      <td>2019-09-14</td>\n",
       "      <td>0</td>\n",
       "      <td>7.720400</td>\n",
       "      <td>2019-09-14</td>\n",
       "      <td>NAA8</td>\n",
       "      <td>1.929874e+09</td>\n",
       "      <td>2019-09-29</td>\n",
       "      <td>92</td>\n",
       "    </tr>\n",
       "    <tr>\n",
       "      <th>4</th>\n",
       "      <td>U001</td>\n",
       "      <td>7763</td>\n",
       "      <td>WAL-MAR foundation</td>\n",
       "      <td>2019-11-25</td>\n",
       "      <td>1.930148e+09</td>\n",
       "      <td>2019-11-13</td>\n",
       "      <td>2019-11-13</td>\n",
       "      <td>0</td>\n",
       "      <td>10.408294</td>\n",
       "      <td>2019-11-13</td>\n",
       "      <td>NAH4</td>\n",
       "      <td>1.930148e+09</td>\n",
       "      <td>2019-11-28</td>\n",
       "      <td>-3</td>\n",
       "    </tr>\n",
       "  </tbody>\n",
       "</table>\n",
       "</div>"
      ],
      "text/plain": [
       "  business_code  cust_number       name_customer clear_date        doc_id  \\\n",
       "1          U001           50              BEN E  2019-08-08  1.929646e+09   \n",
       "2          U001          132          MDV/ trust 2019-12-30  1.929874e+09   \n",
       "4          U001         7763  WAL-MAR foundation 2019-11-25  1.930148e+09   \n",
       "\n",
       "  posting_date document_create_date  invoice_currency  total_open_amount  \\\n",
       "1   2019-07-22           2019-07-22                 0          11.285480   \n",
       "2   2019-09-14           2019-09-14                 0           7.720400   \n",
       "4   2019-11-13           2019-11-13                 0          10.408294   \n",
       "\n",
       "  baseline_create_date cust_payment_terms    invoice_id   due_date  target  \n",
       "1           2019-07-22               NAD1  1.929646e+09 2019-08-11      -3  \n",
       "2           2019-09-14               NAA8  1.929874e+09 2019-09-29      92  \n",
       "4           2019-11-13               NAH4  1.930148e+09 2019-11-28      -3  "
      ]
     },
     "execution_count": 60,
     "metadata": {},
     "output_type": "execute_result"
    }
   ],
   "source": [
    "X_train.head(3)"
   ]
  },
  {
   "cell_type": "code",
   "execution_count": 61,
   "id": "5019b4d8-f1f4-4c3b-b50b-e2fae6eda85d",
   "metadata": {},
   "outputs": [
    {
     "data": {
      "text/html": [
       "<div>\n",
       "<style scoped>\n",
       "    .dataframe tbody tr th:only-of-type {\n",
       "        vertical-align: middle;\n",
       "    }\n",
       "\n",
       "    .dataframe tbody tr th {\n",
       "        vertical-align: top;\n",
       "    }\n",
       "\n",
       "    .dataframe thead th {\n",
       "        text-align: right;\n",
       "    }\n",
       "</style>\n",
       "<table border=\"1\" class=\"dataframe\">\n",
       "  <thead>\n",
       "    <tr style=\"text-align: right;\">\n",
       "      <th></th>\n",
       "      <th>business_code</th>\n",
       "      <th>cust_number</th>\n",
       "      <th>name_customer</th>\n",
       "      <th>clear_date</th>\n",
       "      <th>doc_id</th>\n",
       "      <th>posting_date</th>\n",
       "      <th>document_create_date</th>\n",
       "      <th>invoice_currency</th>\n",
       "      <th>total_open_amount</th>\n",
       "      <th>baseline_create_date</th>\n",
       "      <th>cust_payment_terms</th>\n",
       "      <th>invoice_id</th>\n",
       "      <th>due_date</th>\n",
       "      <th>target</th>\n",
       "      <th>CA02</th>\n",
       "      <th>U001</th>\n",
       "      <th>U013</th>\n",
       "      <th>other</th>\n",
       "    </tr>\n",
       "  </thead>\n",
       "  <tbody>\n",
       "    <tr>\n",
       "      <th>1</th>\n",
       "      <td>U001</td>\n",
       "      <td>50</td>\n",
       "      <td>BEN E</td>\n",
       "      <td>2019-08-08</td>\n",
       "      <td>1.929646e+09</td>\n",
       "      <td>2019-07-22</td>\n",
       "      <td>2019-07-22</td>\n",
       "      <td>0</td>\n",
       "      <td>11.285480</td>\n",
       "      <td>2019-07-22</td>\n",
       "      <td>NAD1</td>\n",
       "      <td>1.929646e+09</td>\n",
       "      <td>2019-08-11</td>\n",
       "      <td>-3</td>\n",
       "      <td>0</td>\n",
       "      <td>1</td>\n",
       "      <td>0</td>\n",
       "      <td>0</td>\n",
       "    </tr>\n",
       "    <tr>\n",
       "      <th>2</th>\n",
       "      <td>U001</td>\n",
       "      <td>132</td>\n",
       "      <td>MDV/ trust</td>\n",
       "      <td>2019-12-30</td>\n",
       "      <td>1.929874e+09</td>\n",
       "      <td>2019-09-14</td>\n",
       "      <td>2019-09-14</td>\n",
       "      <td>0</td>\n",
       "      <td>7.720400</td>\n",
       "      <td>2019-09-14</td>\n",
       "      <td>NAA8</td>\n",
       "      <td>1.929874e+09</td>\n",
       "      <td>2019-09-29</td>\n",
       "      <td>92</td>\n",
       "      <td>0</td>\n",
       "      <td>1</td>\n",
       "      <td>0</td>\n",
       "      <td>0</td>\n",
       "    </tr>\n",
       "    <tr>\n",
       "      <th>4</th>\n",
       "      <td>U001</td>\n",
       "      <td>7763</td>\n",
       "      <td>WAL-MAR foundation</td>\n",
       "      <td>2019-11-25</td>\n",
       "      <td>1.930148e+09</td>\n",
       "      <td>2019-11-13</td>\n",
       "      <td>2019-11-13</td>\n",
       "      <td>0</td>\n",
       "      <td>10.408294</td>\n",
       "      <td>2019-11-13</td>\n",
       "      <td>NAH4</td>\n",
       "      <td>1.930148e+09</td>\n",
       "      <td>2019-11-28</td>\n",
       "      <td>-3</td>\n",
       "      <td>0</td>\n",
       "      <td>1</td>\n",
       "      <td>0</td>\n",
       "      <td>0</td>\n",
       "    </tr>\n",
       "    <tr>\n",
       "      <th>5</th>\n",
       "      <td>CA02</td>\n",
       "      <td>77</td>\n",
       "      <td>THE  corporation</td>\n",
       "      <td>2019-12-04</td>\n",
       "      <td>2.960581e+09</td>\n",
       "      <td>2019-09-20</td>\n",
       "      <td>2019-09-20</td>\n",
       "      <td>1</td>\n",
       "      <td>10.009011</td>\n",
       "      <td>2019-09-24</td>\n",
       "      <td>CA10</td>\n",
       "      <td>2.960581e+09</td>\n",
       "      <td>2019-10-04</td>\n",
       "      <td>61</td>\n",
       "      <td>1</td>\n",
       "      <td>0</td>\n",
       "      <td>0</td>\n",
       "      <td>0</td>\n",
       "    </tr>\n",
       "    <tr>\n",
       "      <th>6</th>\n",
       "      <td>U001</td>\n",
       "      <td>7763</td>\n",
       "      <td>WAL-MAR in</td>\n",
       "      <td>2019-11-12</td>\n",
       "      <td>1.930083e+09</td>\n",
       "      <td>2019-11-01</td>\n",
       "      <td>2019-10-31</td>\n",
       "      <td>0</td>\n",
       "      <td>8.903610</td>\n",
       "      <td>2019-11-01</td>\n",
       "      <td>NAH4</td>\n",
       "      <td>1.930083e+09</td>\n",
       "      <td>2019-11-16</td>\n",
       "      <td>-4</td>\n",
       "      <td>0</td>\n",
       "      <td>1</td>\n",
       "      <td>0</td>\n",
       "      <td>0</td>\n",
       "    </tr>\n",
       "  </tbody>\n",
       "</table>\n",
       "</div>"
      ],
      "text/plain": [
       "  business_code  cust_number       name_customer clear_date        doc_id  \\\n",
       "1          U001           50              BEN E  2019-08-08  1.929646e+09   \n",
       "2          U001          132          MDV/ trust 2019-12-30  1.929874e+09   \n",
       "4          U001         7763  WAL-MAR foundation 2019-11-25  1.930148e+09   \n",
       "5          CA02           77    THE  corporation 2019-12-04  2.960581e+09   \n",
       "6          U001         7763          WAL-MAR in 2019-11-12  1.930083e+09   \n",
       "\n",
       "  posting_date document_create_date  invoice_currency  total_open_amount  \\\n",
       "1   2019-07-22           2019-07-22                 0          11.285480   \n",
       "2   2019-09-14           2019-09-14                 0           7.720400   \n",
       "4   2019-11-13           2019-11-13                 0          10.408294   \n",
       "5   2019-09-20           2019-09-20                 1          10.009011   \n",
       "6   2019-11-01           2019-10-31                 0           8.903610   \n",
       "\n",
       "  baseline_create_date cust_payment_terms    invoice_id   due_date  target  \\\n",
       "1           2019-07-22               NAD1  1.929646e+09 2019-08-11      -3   \n",
       "2           2019-09-14               NAA8  1.929874e+09 2019-09-29      92   \n",
       "4           2019-11-13               NAH4  1.930148e+09 2019-11-28      -3   \n",
       "5           2019-09-24               CA10  2.960581e+09 2019-10-04      61   \n",
       "6           2019-11-01               NAH4  1.930083e+09 2019-11-16      -4   \n",
       "\n",
       "   CA02  U001  U013  other  \n",
       "1     0     1     0      0  \n",
       "2     0     1     0      0  \n",
       "4     0     1     0      0  \n",
       "5     1     0     0      0  \n",
       "6     0     1     0      0  "
      ]
     },
     "execution_count": 61,
     "metadata": {},
     "output_type": "execute_result"
    }
   ],
   "source": [
    "\n",
    "X_train = X_train.replace(['U002', 'U005', 'U007'], 'other')\n",
    "X_test = X_test.replace(['U002', 'U005', 'U007'], 'other')\n",
    "\n",
    "business = pd.get_dummies(X_train['business_code'])\n",
    "business1 = pd.get_dummies(X_test['business_code'])\n",
    "# Above in the business_code column we can see they are categorical ones, so we make new feature\n",
    "# out of them \n",
    "X_train = pd.concat([X_train, business], axis=1)\n",
    "X_test = pd.concat([X_test, business1], axis=1)\n",
    "\n",
    "X_train.head()"
   ]
  },
  {
   "cell_type": "code",
   "execution_count": 62,
   "id": "d5ddebb1-5831-49ea-9a03-ba765cb04c94",
   "metadata": {},
   "outputs": [],
   "source": [
    "# creating a new feature from baseline column.\n",
    "X_train['baseline_quater']= pd.to_datetime(X_train['baseline_create_date']).dt.quarter\n",
    "X_test['baseline_quater']= pd.to_datetime(X_test['baseline_create_date']).dt.quarter\n"
   ]
  },
  {
   "cell_type": "code",
   "execution_count": 63,
   "id": "1bfe6b7f-c4c7-4c43-bd20-ba22a539ae08",
   "metadata": {},
   "outputs": [
    {
     "data": {
      "text/plain": [
       "NAA                 15006\n",
       "NA_letter_number    14718\n",
       "CA                   2791\n",
       "NA_place             1498\n",
       "NA_number_number      877\n",
       "NA_number_letter       54\n",
       "B                      14\n",
       "NATM                    7\n",
       "C_number                2\n",
       "NATV                    1\n",
       "NAUW                    1\n",
       "NABD                    1\n",
       "MC15                    1\n",
       "Name: cust_payment_terms, dtype: int64"
      ]
     },
     "execution_count": 63,
     "metadata": {},
     "output_type": "execute_result"
    }
   ],
   "source": [
    "X_train = X_train.replace(['NAA8', 'NAAX', 'NAAW'], 'NAA')\n",
    "X_train = X_train.replace(['NAGD', 'NAUZ', 'NAVF', 'NAVE', 'NAVR', 'NAWN', 'NAVQ',\n",
    "                                  'NAWP', 'NAVM', 'NACB', 'NABG','NAVD', 'NAVL', 'NAUP', 'NATJ', 'NATH', \n",
    "                                  'NATU', 'NA8Q', 'NAVC', 'NANC', 'NATK', 'NAUI', 'NAWM',\n",
    "                                  'NATL', 'NAUY', 'NATW', 'NATX', 'NAWU'], 'NA_place')\n",
    "\n",
    "X_train = X_train.replace(['NAH4', 'NAC6', 'NAM4', 'NAD1', 'NAU5', 'NAG2', 'NAX2', 'NAD5', 'NAM1',\n",
    "                                  'NAD4','NAB1','NAM2','NAM3', 'NAV9',  'NAV2', 'NAD8'], 'NA_letter_number')\n",
    "\n",
    "X_train = X_train.replace(['NA3B', 'NA3F', 'NA9X'], 'NA_number_letter')\n",
    "\n",
    "X_train = X_train.replace(['NA32', 'NA10', 'NA38', 'NA84', 'NA25', 'NA31'], 'NA_number_number')\n",
    "\n",
    "X_train = X_train.replace(['CA10', 'CA30', 'C106', 'CAX2', 'CAB1', 'C129', 'CA60'], 'CA')\n",
    "\n",
    "X_train = X_train.replace(['C106', 'C129', '90M7'], 'C_number')\n",
    "\n",
    "X_train = X_train.replace(['BR56', 'B030', 'B052', 'BR12', 'B112'], 'B')\n",
    "\n",
    "X_train['cust_payment_terms'].value_counts()"
   ]
  },
  {
   "cell_type": "code",
   "execution_count": 64,
   "id": "eb07c7fe-3e41-4fd7-9b05-f166ef6a7567",
   "metadata": {},
   "outputs": [
    {
     "data": {
      "text/plain": [
       "NA_letter_number    2147\n",
       "NAA                 2131\n",
       "CA                   349\n",
       "NA_place             238\n",
       "NA_number_number     146\n",
       "NA_number_letter       8\n",
       "C_number               3\n",
       "BR12                   1\n",
       "Name: cust_payment_terms, dtype: int64"
      ]
     },
     "execution_count": 64,
     "metadata": {},
     "output_type": "execute_result"
    }
   ],
   "source": [
    "X_test = X_test.replace(['NAA8', 'NAAX', 'NAAW'], 'NAA')\n",
    "\n",
    "X_test = X_test.replace(['NAGD', 'NAUZ', 'NAVF', 'NAVE', 'NAVR', 'NAWN', 'NAVQ',\n",
    "                                  'NAWP', 'NAVM', 'NACB', 'NABG','NAVD', 'NAVL', 'NAUP', 'NATJ', 'NATH', \n",
    "                                  'NATU', 'NA8Q', 'NAVC', 'NANC', 'NATK', 'NAUI', 'NAWM',\n",
    "                                  'NATL', 'NAUY', 'NATZ', 'NACE', 'NATZ'], 'NA_place')\n",
    "\n",
    "X_test = X_test.replace(['NAH4', 'NAC6', 'NAM4', 'NAD1', 'NAU5', 'NAG2', 'NAX2', 'NAD5', 'NAM1',\n",
    "                                  'NAD4','NAB1','NAM2','NAM3', 'NAV9',  'NAV2', 'NAD8'], 'NA_letter_number')\n",
    "\n",
    "X_test = X_test.replace(['NA3B', 'NA3F', 'NA9X'], 'NA_number_letter')\n",
    "\n",
    "X_test = X_test.replace(['NA32', 'NA10', 'NA38', 'NA84', 'NA25', 'NA31'], 'NA_number_number')\n",
    "\n",
    "X_test = X_test.replace(['CA10', 'CA30', 'C106', 'CAX2', 'CAB1', 'C129', 'CA60'], 'CA')\n",
    "\n",
    "X_test = X_test.replace(['C106', 'C129', '90M7'], 'C_number')\n",
    "\n",
    "X_test = X_test.replace(['BR56', 'B030', 'B052'], 'B')\n",
    "\n",
    "X_test['cust_payment_terms'].value_counts()"
   ]
  },
  {
   "cell_type": "code",
   "execution_count": 65,
   "id": "9c1bd925-2aaf-436e-ab9d-a6f54aa8eb73",
   "metadata": {},
   "outputs": [
    {
     "data": {
      "text/html": [
       "<div>\n",
       "<style scoped>\n",
       "    .dataframe tbody tr th:only-of-type {\n",
       "        vertical-align: middle;\n",
       "    }\n",
       "\n",
       "    .dataframe tbody tr th {\n",
       "        vertical-align: top;\n",
       "    }\n",
       "\n",
       "    .dataframe thead th {\n",
       "        text-align: right;\n",
       "    }\n",
       "</style>\n",
       "<table border=\"1\" class=\"dataframe\">\n",
       "  <thead>\n",
       "    <tr style=\"text-align: right;\">\n",
       "      <th></th>\n",
       "      <th>business_code</th>\n",
       "      <th>cust_number</th>\n",
       "      <th>name_customer</th>\n",
       "      <th>clear_date</th>\n",
       "      <th>doc_id</th>\n",
       "      <th>posting_date</th>\n",
       "      <th>document_create_date</th>\n",
       "      <th>invoice_currency</th>\n",
       "      <th>total_open_amount</th>\n",
       "      <th>baseline_create_date</th>\n",
       "      <th>cust_payment_terms</th>\n",
       "      <th>invoice_id</th>\n",
       "      <th>due_date</th>\n",
       "      <th>target</th>\n",
       "      <th>CA02</th>\n",
       "      <th>U001</th>\n",
       "      <th>U013</th>\n",
       "      <th>other</th>\n",
       "      <th>baseline_quater</th>\n",
       "      <th>B</th>\n",
       "    </tr>\n",
       "  </thead>\n",
       "  <tbody>\n",
       "    <tr>\n",
       "      <th>0</th>\n",
       "      <td>U001</td>\n",
       "      <td>1179</td>\n",
       "      <td>WAL-MAR corp</td>\n",
       "      <td>2020-02-11</td>\n",
       "      <td>1.930438e+09</td>\n",
       "      <td>2020-01-26</td>\n",
       "      <td>2020-01-25</td>\n",
       "      <td>0</td>\n",
       "      <td>10.901787</td>\n",
       "      <td>2020-01-26</td>\n",
       "      <td>NA_letter_number</td>\n",
       "      <td>1.930438e+09</td>\n",
       "      <td>2020-02-10</td>\n",
       "      <td>1</td>\n",
       "      <td>0</td>\n",
       "      <td>1</td>\n",
       "      <td>0</td>\n",
       "      <td>0</td>\n",
       "      <td>1</td>\n",
       "      <td>0.0</td>\n",
       "    </tr>\n",
       "    <tr>\n",
       "      <th>19</th>\n",
       "      <td>U001</td>\n",
       "      <td>1179</td>\n",
       "      <td>WAL-MAR systems</td>\n",
       "      <td>2020-02-05</td>\n",
       "      <td>1.930438e+09</td>\n",
       "      <td>2020-01-24</td>\n",
       "      <td>2020-01-24</td>\n",
       "      <td>0</td>\n",
       "      <td>10.884621</td>\n",
       "      <td>2020-01-24</td>\n",
       "      <td>NA_letter_number</td>\n",
       "      <td>1.930438e+09</td>\n",
       "      <td>2020-02-08</td>\n",
       "      <td>-3</td>\n",
       "      <td>0</td>\n",
       "      <td>1</td>\n",
       "      <td>0</td>\n",
       "      <td>0</td>\n",
       "      <td>1</td>\n",
       "      <td>0.0</td>\n",
       "    </tr>\n",
       "    <tr>\n",
       "      <th>20</th>\n",
       "      <td>U013</td>\n",
       "      <td>3</td>\n",
       "      <td>SYSTEMS systems</td>\n",
       "      <td>2020-02-11</td>\n",
       "      <td>1.991838e+09</td>\n",
       "      <td>2020-01-11</td>\n",
       "      <td>2020-01-07</td>\n",
       "      <td>0</td>\n",
       "      <td>8.645323</td>\n",
       "      <td>2020-01-11</td>\n",
       "      <td>NA_place</td>\n",
       "      <td>1.991838e+09</td>\n",
       "      <td>2020-02-10</td>\n",
       "      <td>1</td>\n",
       "      <td>0</td>\n",
       "      <td>0</td>\n",
       "      <td>1</td>\n",
       "      <td>0</td>\n",
       "      <td>1</td>\n",
       "      <td>0.0</td>\n",
       "    </tr>\n",
       "  </tbody>\n",
       "</table>\n",
       "</div>"
      ],
      "text/plain": [
       "   business_code  cust_number    name_customer clear_date        doc_id  \\\n",
       "0           U001         1179     WAL-MAR corp 2020-02-11  1.930438e+09   \n",
       "19          U001         1179  WAL-MAR systems 2020-02-05  1.930438e+09   \n",
       "20          U013            3  SYSTEMS systems 2020-02-11  1.991838e+09   \n",
       "\n",
       "   posting_date document_create_date  invoice_currency  total_open_amount  \\\n",
       "0    2020-01-26           2020-01-25                 0          10.901787   \n",
       "19   2020-01-24           2020-01-24                 0          10.884621   \n",
       "20   2020-01-11           2020-01-07                 0           8.645323   \n",
       "\n",
       "   baseline_create_date cust_payment_terms    invoice_id   due_date  target  \\\n",
       "0            2020-01-26   NA_letter_number  1.930438e+09 2020-02-10       1   \n",
       "19           2020-01-24   NA_letter_number  1.930438e+09 2020-02-08      -3   \n",
       "20           2020-01-11           NA_place  1.991838e+09 2020-02-10       1   \n",
       "\n",
       "    CA02  U001  U013  other  baseline_quater    B  \n",
       "0      0     1     0      0                1  0.0  \n",
       "19     0     1     0      0                1  0.0  \n",
       "20     0     0     1      0                1  0.0  "
      ]
     },
     "execution_count": 65,
     "metadata": {},
     "output_type": "execute_result"
    }
   ],
   "source": [
    "# See however a discrepency has occurred i.e. there is no column of B\n",
    "# so we just add a column B with values 0.\n",
    "X_test['B'] = np.zeros(5023)\n",
    "X_test.head(3)"
   ]
  },
  {
   "cell_type": "code",
   "execution_count": 66,
   "id": "8f41311d-d1d1-4d55-8a3b-338b772e1b31",
   "metadata": {},
   "outputs": [
    {
     "data": {
      "text/html": [
       "<div>\n",
       "<style scoped>\n",
       "    .dataframe tbody tr th:only-of-type {\n",
       "        vertical-align: middle;\n",
       "    }\n",
       "\n",
       "    .dataframe tbody tr th {\n",
       "        vertical-align: top;\n",
       "    }\n",
       "\n",
       "    .dataframe thead th {\n",
       "        text-align: right;\n",
       "    }\n",
       "</style>\n",
       "<table border=\"1\" class=\"dataframe\">\n",
       "  <thead>\n",
       "    <tr style=\"text-align: right;\">\n",
       "      <th></th>\n",
       "      <th>business_code</th>\n",
       "      <th>cust_number</th>\n",
       "      <th>name_customer</th>\n",
       "      <th>clear_date</th>\n",
       "      <th>doc_id</th>\n",
       "      <th>posting_date</th>\n",
       "      <th>document_create_date</th>\n",
       "      <th>invoice_currency</th>\n",
       "      <th>total_open_amount</th>\n",
       "      <th>baseline_create_date</th>\n",
       "      <th>...</th>\n",
       "      <th>MC15</th>\n",
       "      <th>NAA</th>\n",
       "      <th>NABD</th>\n",
       "      <th>NATM</th>\n",
       "      <th>NATV</th>\n",
       "      <th>NAUW</th>\n",
       "      <th>NA_letter_number</th>\n",
       "      <th>NA_number_letter</th>\n",
       "      <th>NA_number_number</th>\n",
       "      <th>NA_place</th>\n",
       "    </tr>\n",
       "  </thead>\n",
       "  <tbody>\n",
       "    <tr>\n",
       "      <th>1</th>\n",
       "      <td>U001</td>\n",
       "      <td>50</td>\n",
       "      <td>BEN E</td>\n",
       "      <td>2019-08-08</td>\n",
       "      <td>1.929646e+09</td>\n",
       "      <td>2019-07-22</td>\n",
       "      <td>2019-07-22</td>\n",
       "      <td>0</td>\n",
       "      <td>11.28548</td>\n",
       "      <td>2019-07-22</td>\n",
       "      <td>...</td>\n",
       "      <td>0</td>\n",
       "      <td>0</td>\n",
       "      <td>0</td>\n",
       "      <td>0</td>\n",
       "      <td>0</td>\n",
       "      <td>0</td>\n",
       "      <td>1</td>\n",
       "      <td>0</td>\n",
       "      <td>0</td>\n",
       "      <td>0</td>\n",
       "    </tr>\n",
       "  </tbody>\n",
       "</table>\n",
       "<p>1 rows × 32 columns</p>\n",
       "</div>"
      ],
      "text/plain": [
       "  business_code  cust_number name_customer clear_date        doc_id  \\\n",
       "1          U001           50        BEN E  2019-08-08  1.929646e+09   \n",
       "\n",
       "  posting_date document_create_date  invoice_currency  total_open_amount  \\\n",
       "1   2019-07-22           2019-07-22                 0           11.28548   \n",
       "\n",
       "  baseline_create_date  ... MC15  NAA NABD  NATM  NATV  NAUW  \\\n",
       "1           2019-07-22  ...    0    0    0     0     0     0   \n",
       "\n",
       "   NA_letter_number  NA_number_letter  NA_number_number  NA_place  \n",
       "1                 1                 0                 0         0  \n",
       "\n",
       "[1 rows x 32 columns]"
      ]
     },
     "execution_count": 66,
     "metadata": {},
     "output_type": "execute_result"
    }
   ],
   "source": [
    "payment = pd.get_dummies(X_train['cust_payment_terms'])\n",
    "payment1 = pd.get_dummies(X_test['cust_payment_terms'])\n",
    "\n",
    "# Above in the cust_payment_terms column we can see they are categorical ones, so we make new feature\n",
    "# out of them \n",
    "X_final = pd.concat([X_train, payment], axis=1)\n",
    "X_final_test = pd.concat([X_test, payment1], axis=1)\n",
    "\n",
    "X_final.head(1)"
   ]
  },
  {
   "cell_type": "code",
   "execution_count": 67,
   "id": "89295253-777c-4bc2-b260-922977ed2bad",
   "metadata": {},
   "outputs": [
    {
     "data": {
      "text/plain": [
       "Index(['business_code', 'cust_number', 'name_customer', 'clear_date', 'doc_id',\n",
       "       'posting_date', 'document_create_date', 'invoice_currency',\n",
       "       'total_open_amount', 'baseline_create_date', 'cust_payment_terms',\n",
       "       'invoice_id', 'due_date', 'target', 'CA02', 'U001', 'U013', 'other',\n",
       "       'baseline_quater', 'B', 'CA', 'C_number', 'MC15', 'NAA', 'NABD', 'NATM',\n",
       "       'NATV', 'NAUW', 'NA_letter_number', 'NA_number_letter',\n",
       "       'NA_number_number', 'NA_place'],\n",
       "      dtype='object')"
      ]
     },
     "execution_count": 67,
     "metadata": {},
     "output_type": "execute_result"
    }
   ],
   "source": [
    "X_final.columns"
   ]
  },
  {
   "cell_type": "code",
   "execution_count": 68,
   "id": "aca4c3c7-e2e7-4630-bebc-e25bdb891311",
   "metadata": {},
   "outputs": [
    {
     "data": {
      "text/plain": [
       "<AxesSubplot:>"
      ]
     },
     "execution_count": 68,
     "metadata": {},
     "output_type": "execute_result"
    },
    {
     "data": {
      "image/png": "[encoded data removed]",
      "text/plain": [
       "<Figure size 1080x1080 with 2 Axes>"
      ]
     },
     "metadata": {},
     "output_type": "display_data"
    }
   ],
   "source": [
    "# X_final.columns\n",
    "plt.figure(figsize=(15,15))\n",
    "sns.heatmap(X_final.corr(),annot=True,cmap='viridis',linewidths=.5)"
   ]
  },
  {
   "cell_type": "code",
   "execution_count": 69,
   "id": "7b003280-31ed-4d6c-b8a4-acec1da0306e",
   "metadata": {},
   "outputs": [],
   "source": [
    "# dropping columns that won't help in predictions. Note on feature has high correlation with target variable.\n",
    "X_final = X_final.drop(['doc_id', 'invoice_id','business_code', 'name_customer', 'clear_date',\n",
    "                       'posting_date', 'document_create_date', 'baseline_create_date', 'cust_payment_terms',\n",
    "                       'invoice_id', 'due_date'], axis = 1)\n",
    "\n",
    "X_final_test = X_final_test.drop(['doc_id', 'invoice_id','business_code', 'name_customer', 'clear_date',\n",
    "                       'posting_date', 'document_create_date', 'baseline_create_date', 'cust_payment_terms',\n",
    "                       'invoice_id', 'due_date'], axis = 1)"
   ]
  },
  {
   "cell_type": "code",
   "execution_count": 70,
   "id": "76ccac1f-01b1-4da7-8ce2-5ad129e9f7d8",
   "metadata": {},
   "outputs": [
    {
     "data": {
      "text/html": [
       "<div>\n",
       "<style scoped>\n",
       "    .dataframe tbody tr th:only-of-type {\n",
       "        vertical-align: middle;\n",
       "    }\n",
       "\n",
       "    .dataframe tbody tr th {\n",
       "        vertical-align: top;\n",
       "    }\n",
       "\n",
       "    .dataframe thead th {\n",
       "        text-align: right;\n",
       "    }\n",
       "</style>\n",
       "<table border=\"1\" class=\"dataframe\">\n",
       "  <thead>\n",
       "    <tr style=\"text-align: right;\">\n",
       "      <th></th>\n",
       "      <th>cust_number</th>\n",
       "      <th>invoice_currency</th>\n",
       "      <th>total_open_amount</th>\n",
       "      <th>target</th>\n",
       "      <th>CA02</th>\n",
       "      <th>U001</th>\n",
       "      <th>U013</th>\n",
       "      <th>other</th>\n",
       "      <th>baseline_quater</th>\n",
       "      <th>B</th>\n",
       "      <th>...</th>\n",
       "      <th>MC15</th>\n",
       "      <th>NAA</th>\n",
       "      <th>NABD</th>\n",
       "      <th>NATM</th>\n",
       "      <th>NATV</th>\n",
       "      <th>NAUW</th>\n",
       "      <th>NA_letter_number</th>\n",
       "      <th>NA_number_letter</th>\n",
       "      <th>NA_number_number</th>\n",
       "      <th>NA_place</th>\n",
       "    </tr>\n",
       "  </thead>\n",
       "  <tbody>\n",
       "    <tr>\n",
       "      <th>1</th>\n",
       "      <td>50</td>\n",
       "      <td>0</td>\n",
       "      <td>11.28548</td>\n",
       "      <td>-3</td>\n",
       "      <td>0</td>\n",
       "      <td>1</td>\n",
       "      <td>0</td>\n",
       "      <td>0</td>\n",
       "      <td>3</td>\n",
       "      <td>0</td>\n",
       "      <td>...</td>\n",
       "      <td>0</td>\n",
       "      <td>0</td>\n",
       "      <td>0</td>\n",
       "      <td>0</td>\n",
       "      <td>0</td>\n",
       "      <td>0</td>\n",
       "      <td>1</td>\n",
       "      <td>0</td>\n",
       "      <td>0</td>\n",
       "      <td>0</td>\n",
       "    </tr>\n",
       "  </tbody>\n",
       "</table>\n",
       "<p>1 rows × 22 columns</p>\n",
       "</div>"
      ],
      "text/plain": [
       "   cust_number  invoice_currency  total_open_amount  target  CA02  U001  U013  \\\n",
       "1           50                 0           11.28548      -3     0     1     0   \n",
       "\n",
       "   other  baseline_quater  B  ...  MC15  NAA  NABD  NATM  NATV  NAUW  \\\n",
       "1      0                3  0  ...     0    0     0     0     0     0   \n",
       "\n",
       "   NA_letter_number  NA_number_letter  NA_number_number  NA_place  \n",
       "1                 1                 0                 0         0  \n",
       "\n",
       "[1 rows x 22 columns]"
      ]
     },
     "execution_count": 70,
     "metadata": {},
     "output_type": "execute_result"
    }
   ],
   "source": [
    "X_final.head(1)"
   ]
  },
  {
   "cell_type": "markdown",
   "id": "4fa9168a-5493-4f10-9e69-85d4f94599ad",
   "metadata": {},
   "source": [
    "# Training and Splitting "
   ]
  },
  {
   "cell_type": "code",
   "execution_count": 63,
   "id": "287f895c-fb20-46c3-a462-dc90785bc026",
   "metadata": {},
   "outputs": [],
   "source": [
    "y = X_final['target']\n",
    "X_final = X_final.drop(['target'], axis = 1)\n",
    "Xtrain ,Xtest, ytrain, ytest = train_test_split(X_final, y, test_size = 0.2, random_state=0)"
   ]
  },
  {
   "cell_type": "code",
   "execution_count": 64,
   "id": "d798e8e1-1ee5-4ded-8aec-be1575bcb10e",
   "metadata": {},
   "outputs": [
    {
     "name": "stdout",
     "output_type": "stream",
     "text": [
      "[]\n"
     ]
    }
   ],
   "source": [
    "l = list(np.isfinite(ytrain))\n",
    "print([x for x in l if x == False])"
   ]
  },
  {
   "cell_type": "code",
   "execution_count": 65,
   "id": "5fbec233-1941-4b7e-9bb1-08770c09c1b0",
   "metadata": {},
   "outputs": [
    {
     "name": "stdout",
     "output_type": "stream",
     "text": [
      "[]\n"
     ]
    }
   ],
   "source": [
    "lp = list(np.isfinite(Xtrain))\n",
    "print([x for x in lp if x == False])"
   ]
  },
  {
   "cell_type": "code",
   "execution_count": 66,
   "id": "fb2e2e7c-1dab-4f3b-9dd3-f073733d9aff",
   "metadata": {},
   "outputs": [],
   "source": [
    "random_model = RandomForestRegressor(n_estimators=500)"
   ]
  },
  {
   "cell_type": "code",
   "execution_count": 67,
   "id": "716ef714-0e36-4538-a662-56af2d992216",
   "metadata": {},
   "outputs": [
    {
     "name": "stdout",
     "output_type": "stream",
     "text": [
      "89.9 %\n"
     ]
    }
   ],
   "source": [
    "#Fit\n",
    "random_model.fit(Xtrain, ytrain)\n",
    "\n",
    "y_pred3 = random_model.predict(Xtest)\n",
    "\n",
    "#Checking the accuracy\n",
    "random_model_accuracy = round(random_model.score(Xtrain, ytrain)*100,2)\n",
    "print(round(random_model_accuracy,2),'%')"
   ]
  },
  {
   "cell_type": "code",
   "execution_count": 68,
   "id": "aaaccf2b-7a9f-45bd-b3bf-570c10e3c106",
   "metadata": {},
   "outputs": [
    {
     "data": {
      "text/plain": [
       "Index(['cust_number', 'invoice_currency', 'total_open_amount', 'target',\n",
       "       'CA02', 'U001', 'U013', 'other', 'baseline_quater', 'B', 'BR12', 'CA',\n",
       "       'C_number', 'NAA', 'NA_letter_number', 'NA_number_letter',\n",
       "       'NA_number_number', 'NA_place'],\n",
       "      dtype='object')"
      ]
     },
     "execution_count": 68,
     "metadata": {},
     "output_type": "execute_result"
    }
   ],
   "source": [
    "#X_final_test.isna().sum()\n",
    "#X_final_test = X_final_test['cust_number'].fillna(value=0)\n",
    "X_final_test.columns"
   ]
  },
  {
   "cell_type": "code",
   "execution_count": 69,
   "id": "c5ff56a6-4eed-4fce-83cc-2a2f6fd8fea7",
   "metadata": {},
   "outputs": [
    {
     "name": "stderr",
     "output_type": "stream",
     "text": [
      "e:\\conda\\lib\\site-packages\\sklearn\\base.py:493: FutureWarning: The feature names should match those that were passed during fit. Starting version 1.2, an error will be raised.\n",
      "Feature names unseen at fit time:\n",
      "- BR12\n",
      "- target\n",
      "Feature names seen at fit time, yet now missing:\n",
      "- MC15\n",
      "- NABD\n",
      "- NATM\n",
      "- NATV\n",
      "- NAUW\n",
      "\n",
      "  warnings.warn(message, FutureWarning)\n"
     ]
    },
    {
     "ename": "ValueError",
     "evalue": "X has 18 features, but RandomForestRegressor is expecting 21 features as input.",
     "output_type": "error",
     "traceback": [
      "\u001b[1;31m---------------------------------------------------------------------------\u001b[0m",
      "\u001b[1;31mValueError\u001b[0m                                Traceback (most recent call last)",
      "Input \u001b[1;32mIn [69]\u001b[0m, in \u001b[0;36m<module>\u001b[1;34m\u001b[0m\n\u001b[1;32m----> 1\u001b[0m real_time_data \u001b[38;5;241m=\u001b[39m \u001b[43mrandom_model\u001b[49m\u001b[38;5;241;43m.\u001b[39;49m\u001b[43mpredict\u001b[49m\u001b[43m(\u001b[49m\u001b[43mX_final_test\u001b[49m\u001b[43m)\u001b[49m\n\u001b[0;32m      2\u001b[0m real_time_data[\u001b[38;5;241m0\u001b[39m:\u001b[38;5;241m3\u001b[39m]\n",
      "File \u001b[1;32me:\\conda\\lib\\site-packages\\sklearn\\ensemble\\_forest.py:971\u001b[0m, in \u001b[0;36mForestRegressor.predict\u001b[1;34m(self, X)\u001b[0m\n\u001b[0;32m    969\u001b[0m check_is_fitted(\u001b[38;5;28mself\u001b[39m)\n\u001b[0;32m    970\u001b[0m \u001b[38;5;66;03m# Check data\u001b[39;00m\n\u001b[1;32m--> 971\u001b[0m X \u001b[38;5;241m=\u001b[39m \u001b[38;5;28;43mself\u001b[39;49m\u001b[38;5;241;43m.\u001b[39;49m\u001b[43m_validate_X_predict\u001b[49m\u001b[43m(\u001b[49m\u001b[43mX\u001b[49m\u001b[43m)\u001b[49m\n\u001b[0;32m    973\u001b[0m \u001b[38;5;66;03m# Assign chunk of trees to jobs\u001b[39;00m\n\u001b[0;32m    974\u001b[0m n_jobs, _, _ \u001b[38;5;241m=\u001b[39m _partition_estimators(\u001b[38;5;28mself\u001b[39m\u001b[38;5;241m.\u001b[39mn_estimators, \u001b[38;5;28mself\u001b[39m\u001b[38;5;241m.\u001b[39mn_jobs)\n",
      "File \u001b[1;32me:\\conda\\lib\\site-packages\\sklearn\\ensemble\\_forest.py:579\u001b[0m, in \u001b[0;36mBaseForest._validate_X_predict\u001b[1;34m(self, X)\u001b[0m\n\u001b[0;32m    576\u001b[0m \u001b[38;5;124;03m\"\"\"\u001b[39;00m\n\u001b[0;32m    577\u001b[0m \u001b[38;5;124;03mValidate X whenever one tries to predict, apply, predict_proba.\"\"\"\u001b[39;00m\n\u001b[0;32m    578\u001b[0m check_is_fitted(\u001b[38;5;28mself\u001b[39m)\n\u001b[1;32m--> 579\u001b[0m X \u001b[38;5;241m=\u001b[39m \u001b[38;5;28;43mself\u001b[39;49m\u001b[38;5;241;43m.\u001b[39;49m\u001b[43m_validate_data\u001b[49m\u001b[43m(\u001b[49m\u001b[43mX\u001b[49m\u001b[43m,\u001b[49m\u001b[43m \u001b[49m\u001b[43mdtype\u001b[49m\u001b[38;5;241;43m=\u001b[39;49m\u001b[43mDTYPE\u001b[49m\u001b[43m,\u001b[49m\u001b[43m \u001b[49m\u001b[43maccept_sparse\u001b[49m\u001b[38;5;241;43m=\u001b[39;49m\u001b[38;5;124;43m\"\u001b[39;49m\u001b[38;5;124;43mcsr\u001b[39;49m\u001b[38;5;124;43m\"\u001b[39;49m\u001b[43m,\u001b[49m\u001b[43m \u001b[49m\u001b[43mreset\u001b[49m\u001b[38;5;241;43m=\u001b[39;49m\u001b[38;5;28;43;01mFalse\u001b[39;49;00m\u001b[43m)\u001b[49m\n\u001b[0;32m    580\u001b[0m \u001b[38;5;28;01mif\u001b[39;00m issparse(X) \u001b[38;5;129;01mand\u001b[39;00m (X\u001b[38;5;241m.\u001b[39mindices\u001b[38;5;241m.\u001b[39mdtype \u001b[38;5;241m!=\u001b[39m np\u001b[38;5;241m.\u001b[39mintc \u001b[38;5;129;01mor\u001b[39;00m X\u001b[38;5;241m.\u001b[39mindptr\u001b[38;5;241m.\u001b[39mdtype \u001b[38;5;241m!=\u001b[39m np\u001b[38;5;241m.\u001b[39mintc):\n\u001b[0;32m    581\u001b[0m     \u001b[38;5;28;01mraise\u001b[39;00m \u001b[38;5;167;01mValueError\u001b[39;00m(\u001b[38;5;124m\"\u001b[39m\u001b[38;5;124mNo support for np.int64 index based sparse matrices\u001b[39m\u001b[38;5;124m\"\u001b[39m)\n",
      "File \u001b[1;32me:\\conda\\lib\\site-packages\\sklearn\\base.py:585\u001b[0m, in \u001b[0;36mBaseEstimator._validate_data\u001b[1;34m(self, X, y, reset, validate_separately, **check_params)\u001b[0m\n\u001b[0;32m    582\u001b[0m     out \u001b[38;5;241m=\u001b[39m X, y\n\u001b[0;32m    584\u001b[0m \u001b[38;5;28;01mif\u001b[39;00m \u001b[38;5;129;01mnot\u001b[39;00m no_val_X \u001b[38;5;129;01mand\u001b[39;00m check_params\u001b[38;5;241m.\u001b[39mget(\u001b[38;5;124m\"\u001b[39m\u001b[38;5;124mensure_2d\u001b[39m\u001b[38;5;124m\"\u001b[39m, \u001b[38;5;28;01mTrue\u001b[39;00m):\n\u001b[1;32m--> 585\u001b[0m     \u001b[38;5;28;43mself\u001b[39;49m\u001b[38;5;241;43m.\u001b[39;49m\u001b[43m_check_n_features\u001b[49m\u001b[43m(\u001b[49m\u001b[43mX\u001b[49m\u001b[43m,\u001b[49m\u001b[43m \u001b[49m\u001b[43mreset\u001b[49m\u001b[38;5;241;43m=\u001b[39;49m\u001b[43mreset\u001b[49m\u001b[43m)\u001b[49m\n\u001b[0;32m    587\u001b[0m \u001b[38;5;28;01mreturn\u001b[39;00m out\n",
      "File \u001b[1;32me:\\conda\\lib\\site-packages\\sklearn\\base.py:400\u001b[0m, in \u001b[0;36mBaseEstimator._check_n_features\u001b[1;34m(self, X, reset)\u001b[0m\n\u001b[0;32m    397\u001b[0m     \u001b[38;5;28;01mreturn\u001b[39;00m\n\u001b[0;32m    399\u001b[0m \u001b[38;5;28;01mif\u001b[39;00m n_features \u001b[38;5;241m!=\u001b[39m \u001b[38;5;28mself\u001b[39m\u001b[38;5;241m.\u001b[39mn_features_in_:\n\u001b[1;32m--> 400\u001b[0m     \u001b[38;5;28;01mraise\u001b[39;00m \u001b[38;5;167;01mValueError\u001b[39;00m(\n\u001b[0;32m    401\u001b[0m         \u001b[38;5;124mf\u001b[39m\u001b[38;5;124m\"\u001b[39m\u001b[38;5;124mX has \u001b[39m\u001b[38;5;132;01m{\u001b[39;00mn_features\u001b[38;5;132;01m}\u001b[39;00m\u001b[38;5;124m features, but \u001b[39m\u001b[38;5;132;01m{\u001b[39;00m\u001b[38;5;28mself\u001b[39m\u001b[38;5;241m.\u001b[39m\u001b[38;5;18m__class__\u001b[39m\u001b[38;5;241m.\u001b[39m\u001b[38;5;18m__name__\u001b[39m\u001b[38;5;132;01m}\u001b[39;00m\u001b[38;5;124m \u001b[39m\u001b[38;5;124m\"\u001b[39m\n\u001b[0;32m    402\u001b[0m         \u001b[38;5;124mf\u001b[39m\u001b[38;5;124m\"\u001b[39m\u001b[38;5;124mis expecting \u001b[39m\u001b[38;5;132;01m{\u001b[39;00m\u001b[38;5;28mself\u001b[39m\u001b[38;5;241m.\u001b[39mn_features_in_\u001b[38;5;132;01m}\u001b[39;00m\u001b[38;5;124m features as input.\u001b[39m\u001b[38;5;124m\"\u001b[39m\n\u001b[0;32m    403\u001b[0m     )\n",
      "\u001b[1;31mValueError\u001b[0m: X has 18 features, but RandomForestRegressor is expecting 21 features as input."
     ]
    }
   ],
   "source": [
    "real_time_data = random_model.predict(X_final_test)\n",
    "real_time_data[0:3]"
   ]
  },
  {
   "cell_type": "code",
   "execution_count": null,
   "id": "ad19e049-f995-4c27-a210-f0c94cf3a492",
   "metadata": {},
   "outputs": [],
   "source": [
    "def Mapping(x):\n",
    "    temp = []\n",
    "    for i in list(x):\n",
    "        if i < 0:\n",
    "            temp.append(\"Payment done before due date.\")\n",
    "        elif i > 15:\n",
    "            temp.append(\"Payment done 15 days after due date.\")\n",
    "        elif i > 30:\n",
    "            temp.append(\"Payment done 30 days after due date.\")\n",
    "        else:\n",
    "            temp.append(\"Payment done much after due date.\")\n",
    "    return temp\n",
    "\n",
    "col2 = Mapping(real_time_data)\n",
    "bucket = pd.DataFrame()\n",
    "bucket['Predictions'] = real_time_data\n",
    "bucket['Bucket_list'] = col2\n",
    "bucket.head()"
   ]
  },
  {
   "cell_type": "code",
   "execution_count": null,
   "id": "1fee6ffd-5f1a-4b2c-ad95-8b18a287dc20",
   "metadata": {},
   "outputs": [],
   "source": []
  },
  {
   "cell_type": "code",
   "execution_count": null,
   "id": "43a64c56-b91b-4dc4-9eae-6b841c5cf263",
   "metadata": {},
   "outputs": [],
   "source": []
  },
  {
   "cell_type": "code",
   "execution_count": null,
   "id": "7bccf0d0-39a8-462a-8b3a-8bc6052e0261",
   "metadata": {},
   "outputs": [],
   "source": []
  }
 ],
 "metadata": {
  "kernelspec": {
   "display_name": "Python 3 (ipykernel)",
   "language": "python",
   "name": "python3"
  },
  "language_info": {
   "codemirror_mode": {
    "name": "ipython",
    "version": 3
   },
   "file_extension": ".py",
   "mimetype": "text/x-python",
   "name": "python",
   "nbconvert_exporter": "python",
   "pygments_lexer": "ipython3",
   "version": "3.9.5"
  }
 },
 "nbformat": 4,
 "nbformat_minor": 5
}
