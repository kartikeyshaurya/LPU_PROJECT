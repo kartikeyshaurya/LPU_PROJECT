{
 "cells": [
  {
   "cell_type": "code",
   "execution_count": 96,
   "metadata": {},
   "outputs": [],
   "source": [
    "import numpy as np\n",
    "import pandas as pd\n",
    "import datetime as dt\n",
    "from scipy import stats\n",
    "\n",
    "import seaborn as sns\n",
    "import matplotlib.pyplot as plt\n",
    "%matplotlib inline \n",
    "from sklearn.model_selection import train_test_split\n",
    "from sklearn.linear_model import LinearRegression\n",
    "from sklearn import metrics\n",
    "from sklearn.ensemble import RandomForestRegressor"
   ]
  },
  {
   "cell_type": "code",
   "execution_count": 97,
   "metadata": {},
   "outputs": [
    {
     "data": {
      "text/plain": [
       "Index(['business_code', 'cust_number', 'name_customer', 'clear_date',\n",
       "       'buisness_year', 'doc_id', 'posting_date', 'document_create_date',\n",
       "       'document_create_date.1', 'due_in_date', 'invoice_currency',\n",
       "       'document type', 'posting_id', 'area_business', 'total_open_amount',\n",
       "       'baseline_create_date', 'cust_payment_terms', 'invoice_id', 'isOpen'],\n",
       "      dtype='object')"
      ]
     },
     "execution_count": 97,
     "metadata": {},
     "output_type": "execute_result"
    }
   ],
   "source": [
    "call = pd.read_csv('Dataset.csv')\n",
    "df = pd.DataFrame(call)\n",
    "df.columns"
   ]
  },
  {
   "cell_type": "code",
   "execution_count": 98,
   "metadata": {},
   "outputs": [
    {
     "data": {
      "text/plain": [
       "(50000, 19)"
      ]
     },
     "execution_count": 98,
     "metadata": {},
     "output_type": "execute_result"
    }
   ],
   "source": [
    "df.shape"
   ]
  },
  {
   "cell_type": "code",
   "execution_count": 99,
   "metadata": {},
   "outputs": [
    {
     "data": {
      "text/plain": [
       "business_code               0\n",
       "cust_number                 0\n",
       "name_customer               0\n",
       "clear_date               4175\n",
       "buisness_year               0\n",
       "doc_id                      0\n",
       "posting_date                0\n",
       "document_create_date        0\n",
       "due_in_date                 0\n",
       "invoice_currency            0\n",
       "document type               0\n",
       "posting_id                  0\n",
       "area_business           50000\n",
       "total_open_amount           0\n",
       "baseline_create_date        0\n",
       "cust_payment_terms          0\n",
       "invoice_id                 10\n",
       "isOpen                      0\n",
       "dtype: int64"
      ]
     },
     "execution_count": 99,
     "metadata": {},
     "output_type": "execute_result"
    }
   ],
   "source": [
    "# As we can see in the list of columns 'document_create_date' is twice, so we drop one.\n",
    "\n",
    "df_drop = df.drop(['document_create_date.1'], axis=1)\n",
    "\n",
    "# finding nan values \n",
    "df_drop.isna().sum()"
   ]
  },
  {
   "cell_type": "code",
   "execution_count": 100,
   "metadata": {},
   "outputs": [
    {
     "data": {
      "text/plain": [
       "(45815, 17)"
      ]
     },
     "execution_count": 100,
     "metadata": {},
     "output_type": "execute_result"
    }
   ],
   "source": [
    "# From the above sum we can see 'area_business' is totally useless as it has null values for all 50k data rows.\n",
    "df_drop1 = df_drop.drop(['area_business'], axis = 1)\n",
    "\n",
    "# There are 4175 rows with clear date missing which is useful in finding payment delay predictions, so these rows are useless.\n",
    "df_drop2 = df_drop1.dropna(axis = 0, how ='any') # additionally removing those 10 null values too for invoice_id\n",
    "df_drop2.shape\n",
    "# df_drop2.isna().sum()"
   ]
  },
  {
   "cell_type": "markdown",
   "metadata": {},
   "source": [
    "## Creating our Target column"
   ]
  },
  {
   "cell_type": "code",
   "execution_count": 101,
   "metadata": {},
   "outputs": [],
   "source": [
    "def change_date(x_type):\n",
    "    x = str(x_type)\n",
    "    year = int(x[0:4])\n",
    "    month = int(x[4:6])\n",
    "    day = int(x[6:])\n",
    "    return dt.datetime(year, month, day)"
   ]
  },
  {
   "cell_type": "code",
   "execution_count": 102,
   "metadata": {},
   "outputs": [
    {
     "name": "stderr",
     "output_type": "stream",
     "text": [
      "C:\\ProgramData\\Anaconda3\\lib\\site-packages\\ipykernel_launcher.py:4: SettingWithCopyWarning: \n",
      "A value is trying to be set on a copy of a slice from a DataFrame.\n",
      "Try using .loc[row_indexer,col_indexer] = value instead\n",
      "\n",
      "See the caveats in the documentation: https://pandas.pydata.org/pandas-docs/stable/user_guide/indexing.html#returning-a-view-versus-a-copy\n",
      "  after removing the cwd from sys.path.\n",
      "C:\\ProgramData\\Anaconda3\\lib\\site-packages\\ipykernel_launcher.py:5: SettingWithCopyWarning: \n",
      "A value is trying to be set on a copy of a slice from a DataFrame.\n",
      "Try using .loc[row_indexer,col_indexer] = value instead\n",
      "\n",
      "See the caveats in the documentation: https://pandas.pydata.org/pandas-docs/stable/user_guide/indexing.html#returning-a-view-versus-a-copy\n",
      "  \"\"\"\n",
      "C:\\ProgramData\\Anaconda3\\lib\\site-packages\\ipykernel_launcher.py:8: SettingWithCopyWarning: \n",
      "A value is trying to be set on a copy of a slice from a DataFrame.\n",
      "Try using .loc[row_indexer,col_indexer] = value instead\n",
      "\n",
      "See the caveats in the documentation: https://pandas.pydata.org/pandas-docs/stable/user_guide/indexing.html#returning-a-view-versus-a-copy\n",
      "  \n"
     ]
    }
   ],
   "source": [
    "# year/month/date\n",
    "# due date() - clear date(day/month/year)\n",
    "# generating due date into readable format.\n",
    "df_drop2['due_date'] = df_drop2['due_in_date'].apply(change_date)\n",
    "df_drop2['clear_date']= pd.to_datetime(df_drop2['clear_date']) \n",
    "\n",
    "# Creating target variable\n",
    "df_drop2['target'] = (df_drop2['clear_date'] - df_drop2['due_date']).dt.days\n",
    "# df_drop2.head(5) target value +ve means there was a delay in payment."
   ]
  },
  {
   "cell_type": "code",
   "execution_count": 103,
   "metadata": {},
   "outputs": [
    {
     "data": {
      "text/html": [
       "<div>\n",
       "<style scoped>\n",
       "    .dataframe tbody tr th:only-of-type {\n",
       "        vertical-align: middle;\n",
       "    }\n",
       "\n",
       "    .dataframe tbody tr th {\n",
       "        vertical-align: top;\n",
       "    }\n",
       "\n",
       "    .dataframe thead th {\n",
       "        text-align: right;\n",
       "    }\n",
       "</style>\n",
       "<table border=\"1\" class=\"dataframe\">\n",
       "  <thead>\n",
       "    <tr style=\"text-align: right;\">\n",
       "      <th></th>\n",
       "      <th>business_code</th>\n",
       "      <th>cust_number</th>\n",
       "      <th>name_customer</th>\n",
       "      <th>clear_date</th>\n",
       "      <th>buisness_year</th>\n",
       "      <th>doc_id</th>\n",
       "      <th>posting_date</th>\n",
       "      <th>document_create_date</th>\n",
       "      <th>due_in_date</th>\n",
       "      <th>invoice_currency</th>\n",
       "      <th>document type</th>\n",
       "      <th>posting_id</th>\n",
       "      <th>total_open_amount</th>\n",
       "      <th>baseline_create_date</th>\n",
       "      <th>cust_payment_terms</th>\n",
       "      <th>invoice_id</th>\n",
       "      <th>isOpen</th>\n",
       "      <th>due_date</th>\n",
       "      <th>target</th>\n",
       "    </tr>\n",
       "  </thead>\n",
       "  <tbody>\n",
       "    <tr>\n",
       "      <th>0</th>\n",
       "      <td>U001</td>\n",
       "      <td>200726979</td>\n",
       "      <td>BJ'S  in</td>\n",
       "      <td>2020-01-13</td>\n",
       "      <td>2020</td>\n",
       "      <td>1930330859</td>\n",
       "      <td>29-12-2019</td>\n",
       "      <td>20191228</td>\n",
       "      <td>20200113</td>\n",
       "      <td>USD</td>\n",
       "      <td>RV</td>\n",
       "      <td>1</td>\n",
       "      <td>59.16</td>\n",
       "      <td>20191229</td>\n",
       "      <td>NAA8</td>\n",
       "      <td>1.930331e+09</td>\n",
       "      <td>0</td>\n",
       "      <td>2020-01-13</td>\n",
       "      <td>0</td>\n",
       "    </tr>\n",
       "  </tbody>\n",
       "</table>\n",
       "</div>"
      ],
      "text/plain": [
       "  business_code cust_number name_customer clear_date  buisness_year  \\\n",
       "0          U001   200726979      BJ'S  in 2020-01-13           2020   \n",
       "\n",
       "       doc_id posting_date  document_create_date  due_in_date  \\\n",
       "0  1930330859   29-12-2019              20191228     20200113   \n",
       "\n",
       "  invoice_currency document type  posting_id  total_open_amount  \\\n",
       "0              USD            RV           1              59.16   \n",
       "\n",
       "   baseline_create_date cust_payment_terms    invoice_id  isOpen   due_date  \\\n",
       "0              20191229               NAA8  1.930331e+09       0 2020-01-13   \n",
       "\n",
       "   target  \n",
       "0       0  "
      ]
     },
     "execution_count": 103,
     "metadata": {},
     "output_type": "execute_result"
    }
   ],
   "source": [
    "df_drop2.head(1)"
   ]
  },
  {
   "cell_type": "markdown",
   "metadata": {},
   "source": [
    "## Training and Splitting the data"
   ]
  },
  {
   "cell_type": "code",
   "execution_count": 104,
   "metadata": {},
   "outputs": [
    {
     "name": "stdout",
     "output_type": "stream",
     "text": [
      "2018-12-27 00:00:00\n",
      "2020-02-28 00:00:00\n"
     ]
    },
    {
     "name": "stderr",
     "output_type": "stream",
     "text": [
      "C:\\ProgramData\\Anaconda3\\lib\\site-packages\\ipykernel_launcher.py:1: SettingWithCopyWarning: \n",
      "A value is trying to be set on a copy of a slice from a DataFrame.\n",
      "Try using .loc[row_indexer,col_indexer] = value instead\n",
      "\n",
      "See the caveats in the documentation: https://pandas.pydata.org/pandas-docs/stable/user_guide/indexing.html#returning-a-view-versus-a-copy\n",
      "  \"\"\"Entry point for launching an IPython kernel.\n",
      "C:\\ProgramData\\Anaconda3\\lib\\site-packages\\ipykernel_launcher.py:2: SettingWithCopyWarning: \n",
      "A value is trying to be set on a copy of a slice from a DataFrame.\n",
      "Try using .loc[row_indexer,col_indexer] = value instead\n",
      "\n",
      "See the caveats in the documentation: https://pandas.pydata.org/pandas-docs/stable/user_guide/indexing.html#returning-a-view-versus-a-copy\n",
      "  \n"
     ]
    }
   ],
   "source": [
    "df_drop2['document_create_date'] = df_drop2['document_create_date'].apply(change_date)\n",
    "df_drop2['baseline_create_date'] = df_drop2['baseline_create_date'].apply(change_date)\n",
    "\n",
    "print(pd.to_datetime(df_drop2['document_create_date']).min()) \n",
    "print(pd.to_datetime(df_drop2['document_create_date']).max())"
   ]
  },
  {
   "cell_type": "code",
   "execution_count": 105,
   "metadata": {},
   "outputs": [],
   "source": [
    "# Splitting the initial dataframe into train and test\n",
    "# So in this case we can consider last 3 months for test set.\n",
    "x_train = df_drop2[df_drop2['document_create_date'] <= '2020-01-01'].copy()\n",
    "x_test = df_drop2[df_drop2['document_create_date'] > '2020-01-01'].copy()\n"
   ]
  },
  {
   "cell_type": "code",
   "execution_count": 106,
   "metadata": {},
   "outputs": [
    {
     "name": "stdout",
     "output_type": "stream",
     "text": [
      "(40128, 19)\n",
      "(5687, 19)\n"
     ]
    }
   ],
   "source": [
    "print(x_train.shape)\n",
    "print(x_test.shape)"
   ]
  },
  {
   "cell_type": "code",
   "execution_count": 107,
   "metadata": {},
   "outputs": [
    {
     "data": {
      "text/html": [
       "<div>\n",
       "<style scoped>\n",
       "    .dataframe tbody tr th:only-of-type {\n",
       "        vertical-align: middle;\n",
       "    }\n",
       "\n",
       "    .dataframe tbody tr th {\n",
       "        vertical-align: top;\n",
       "    }\n",
       "\n",
       "    .dataframe thead th {\n",
       "        text-align: right;\n",
       "    }\n",
       "</style>\n",
       "<table border=\"1\" class=\"dataframe\">\n",
       "  <thead>\n",
       "    <tr style=\"text-align: right;\">\n",
       "      <th></th>\n",
       "      <th>business_code</th>\n",
       "      <th>cust_number</th>\n",
       "      <th>name_customer</th>\n",
       "      <th>clear_date</th>\n",
       "      <th>buisness_year</th>\n",
       "      <th>doc_id</th>\n",
       "      <th>posting_date</th>\n",
       "      <th>document_create_date</th>\n",
       "      <th>due_in_date</th>\n",
       "      <th>invoice_currency</th>\n",
       "      <th>document type</th>\n",
       "      <th>posting_id</th>\n",
       "      <th>total_open_amount</th>\n",
       "      <th>baseline_create_date</th>\n",
       "      <th>cust_payment_terms</th>\n",
       "      <th>invoice_id</th>\n",
       "      <th>isOpen</th>\n",
       "      <th>due_date</th>\n",
       "      <th>target</th>\n",
       "    </tr>\n",
       "  </thead>\n",
       "  <tbody>\n",
       "    <tr>\n",
       "      <th>0</th>\n",
       "      <td>U001</td>\n",
       "      <td>200726979</td>\n",
       "      <td>BJ'S  in</td>\n",
       "      <td>2020-01-13</td>\n",
       "      <td>2020</td>\n",
       "      <td>1930330859</td>\n",
       "      <td>29-12-2019</td>\n",
       "      <td>2019-12-28</td>\n",
       "      <td>20200113</td>\n",
       "      <td>USD</td>\n",
       "      <td>RV</td>\n",
       "      <td>1</td>\n",
       "      <td>59.16</td>\n",
       "      <td>2019-12-29</td>\n",
       "      <td>NAA8</td>\n",
       "      <td>1.930331e+09</td>\n",
       "      <td>0</td>\n",
       "      <td>2020-01-13</td>\n",
       "      <td>0</td>\n",
       "    </tr>\n",
       "    <tr>\n",
       "      <th>2</th>\n",
       "      <td>U001</td>\n",
       "      <td>200434439</td>\n",
       "      <td>BAUGH SU co</td>\n",
       "      <td>2019-12-31</td>\n",
       "      <td>2019</td>\n",
       "      <td>1930188160</td>\n",
       "      <td>22-11-2019</td>\n",
       "      <td>2019-11-23</td>\n",
       "      <td>20191224</td>\n",
       "      <td>USD</td>\n",
       "      <td>RV</td>\n",
       "      <td>1</td>\n",
       "      <td>67765.04</td>\n",
       "      <td>2019-11-22</td>\n",
       "      <td>NA32</td>\n",
       "      <td>1.930188e+09</td>\n",
       "      <td>0</td>\n",
       "      <td>2019-12-24</td>\n",
       "      <td>7</td>\n",
       "    </tr>\n",
       "    <tr>\n",
       "      <th>3</th>\n",
       "      <td>U001</td>\n",
       "      <td>200769623</td>\n",
       "      <td>WAL-MAR foundation</td>\n",
       "      <td>2019-06-25</td>\n",
       "      <td>2019</td>\n",
       "      <td>1929472295</td>\n",
       "      <td>13-06-2019</td>\n",
       "      <td>2019-06-11</td>\n",
       "      <td>20190628</td>\n",
       "      <td>USD</td>\n",
       "      <td>RV</td>\n",
       "      <td>1</td>\n",
       "      <td>729.60</td>\n",
       "      <td>2019-06-13</td>\n",
       "      <td>NAH4</td>\n",
       "      <td>1.929472e+09</td>\n",
       "      <td>0</td>\n",
       "      <td>2019-06-28</td>\n",
       "      <td>-3</td>\n",
       "    </tr>\n",
       "    <tr>\n",
       "      <th>4</th>\n",
       "      <td>U001</td>\n",
       "      <td>200769623</td>\n",
       "      <td>WAL-MAR associates</td>\n",
       "      <td>2019-05-14</td>\n",
       "      <td>2019</td>\n",
       "      <td>1929243669</td>\n",
       "      <td>03-05-2019</td>\n",
       "      <td>2019-05-02</td>\n",
       "      <td>20190518</td>\n",
       "      <td>USD</td>\n",
       "      <td>RV</td>\n",
       "      <td>1</td>\n",
       "      <td>35911.74</td>\n",
       "      <td>2019-05-03</td>\n",
       "      <td>NAH4</td>\n",
       "      <td>1.929244e+09</td>\n",
       "      <td>0</td>\n",
       "      <td>2019-05-18</td>\n",
       "      <td>-4</td>\n",
       "    </tr>\n",
       "    <tr>\n",
       "      <th>5</th>\n",
       "      <td>U001</td>\n",
       "      <td>200735528</td>\n",
       "      <td>ASSOCIA trust</td>\n",
       "      <td>2019-08-30</td>\n",
       "      <td>2019</td>\n",
       "      <td>1929735102</td>\n",
       "      <td>14-08-2019</td>\n",
       "      <td>2019-08-12</td>\n",
       "      <td>20190829</td>\n",
       "      <td>USD</td>\n",
       "      <td>RV</td>\n",
       "      <td>1</td>\n",
       "      <td>81095.46</td>\n",
       "      <td>2019-08-14</td>\n",
       "      <td>NAA8</td>\n",
       "      <td>1.929735e+09</td>\n",
       "      <td>0</td>\n",
       "      <td>2019-08-29</td>\n",
       "      <td>1</td>\n",
       "    </tr>\n",
       "  </tbody>\n",
       "</table>\n",
       "</div>"
      ],
      "text/plain": [
       "  business_code cust_number       name_customer clear_date  buisness_year  \\\n",
       "0          U001   200726979            BJ'S  in 2020-01-13           2020   \n",
       "2          U001   200434439         BAUGH SU co 2019-12-31           2019   \n",
       "3          U001   200769623  WAL-MAR foundation 2019-06-25           2019   \n",
       "4          U001   200769623  WAL-MAR associates 2019-05-14           2019   \n",
       "5          U001   200735528       ASSOCIA trust 2019-08-30           2019   \n",
       "\n",
       "       doc_id posting_date document_create_date  due_in_date invoice_currency  \\\n",
       "0  1930330859   29-12-2019           2019-12-28     20200113              USD   \n",
       "2  1930188160   22-11-2019           2019-11-23     20191224              USD   \n",
       "3  1929472295   13-06-2019           2019-06-11     20190628              USD   \n",
       "4  1929243669   03-05-2019           2019-05-02     20190518              USD   \n",
       "5  1929735102   14-08-2019           2019-08-12     20190829              USD   \n",
       "\n",
       "  document type  posting_id  total_open_amount baseline_create_date  \\\n",
       "0            RV           1              59.16           2019-12-29   \n",
       "2            RV           1           67765.04           2019-11-22   \n",
       "3            RV           1             729.60           2019-06-13   \n",
       "4            RV           1           35911.74           2019-05-03   \n",
       "5            RV           1           81095.46           2019-08-14   \n",
       "\n",
       "  cust_payment_terms    invoice_id  isOpen   due_date  target  \n",
       "0               NAA8  1.930331e+09       0 2020-01-13       0  \n",
       "2               NA32  1.930188e+09       0 2019-12-24       7  \n",
       "3               NAH4  1.929472e+09       0 2019-06-28      -3  \n",
       "4               NAH4  1.929244e+09       0 2019-05-18      -4  \n",
       "5               NAA8  1.929735e+09       0 2019-08-29       1  "
      ]
     },
     "execution_count": 107,
     "metadata": {},
     "output_type": "execute_result"
    }
   ],
   "source": [
    "x_train.head()"
   ]
  },
  {
   "cell_type": "markdown",
   "metadata": {},
   "source": [
    "## EDA and Feature Engineering"
   ]
  },
  {
   "cell_type": "code",
   "execution_count": 108,
   "metadata": {},
   "outputs": [
    {
     "name": "stdout",
     "output_type": "stream",
     "text": [
      "{'U001': 36295, 'CA02': 3154, 'U013': 544, 'U002': 124, 'U005': 8, 'U007': 3}\n",
      "{'U001': 5202, 'CA02': 401, 'U013': 68, 'U002': 14, 'U005': 2}\n"
     ]
    }
   ],
   "source": [
    "# business_code, invoice_currency, document type, posting_id, cust_payment_terms\n",
    "print(dict(x_train['business_code'].value_counts()))\n",
    "print(dict(x_test['business_code'].value_counts()))"
   ]
  },
  {
   "cell_type": "code",
   "execution_count": 109,
   "metadata": {},
   "outputs": [
    {
     "name": "stdout",
     "output_type": "stream",
     "text": [
      "{'USD': 36974, 'CAD': 3154}\n",
      "{'USD': 5286, 'CAD': 401}\n"
     ]
    }
   ],
   "source": [
    "print(dict(x_train['invoice_currency'].value_counts()))\n",
    "print(dict(x_test['invoice_currency'].value_counts()))"
   ]
  },
  {
   "cell_type": "code",
   "execution_count": 110,
   "metadata": {},
   "outputs": [
    {
     "name": "stdout",
     "output_type": "stream",
     "text": [
      "{0: 40128}\n",
      "{0: 5687}\n"
     ]
    }
   ],
   "source": [
    "print(dict(x_train['isOpen'].value_counts()))\n",
    "print(dict(x_test['isOpen'].value_counts()))"
   ]
  },
  {
   "cell_type": "code",
   "execution_count": 111,
   "metadata": {},
   "outputs": [
    {
     "name": "stdout",
     "output_type": "stream",
     "text": [
      "{'RV': 40128}\n",
      "{'RV': 5687}\n"
     ]
    }
   ],
   "source": [
    "print(dict(x_train['document type'].value_counts()))\n",
    "print(dict(x_test['document type'].value_counts()))"
   ]
  },
  {
   "cell_type": "code",
   "execution_count": 112,
   "metadata": {},
   "outputs": [
    {
     "name": "stdout",
     "output_type": "stream",
     "text": [
      "{1: 40128}\n",
      "{1: 5687}\n"
     ]
    }
   ],
   "source": [
    "print(dict(x_train['posting_id'].value_counts()))\n",
    "print(dict(x_test['posting_id'].value_counts()))"
   ]
  },
  {
   "cell_type": "code",
   "execution_count": 113,
   "metadata": {},
   "outputs": [
    {
     "name": "stdout",
     "output_type": "stream",
     "text": [
      "{'NAA8': 16074, 'NAH4': 10772, 'CA10': 3064, 'NAC6': 1317, 'NAM4': 1021, 'NAAX': 952, 'NAD1': 790, 'NAU5': 734, 'NAG2': 729, 'NA32': 634, 'NAGD': 591, 'NAX2': 567, 'NAM2': 482, 'NA10': 334, 'NAD5': 283, 'NAM1': 229, 'NAVF': 223, 'NAVE': 220, 'NAAW': 170, 'NAWU': 144, 'NAWN': 104, 'NAVR': 97, 'NAVQ': 95, 'NAUZ': 63, 'NAWP': 52, 'CA30': 35, 'NAVM': 33, 'NA3B': 31, 'NACB': 30, 'NABG': 30, 'NA38': 27, 'NAB1': 22, 'NAD4': 17, 'C106': 14, 'NA84': 13, 'NAVD': 13, 'NAVL': 12, 'NA3F': 11, 'NAUP': 9, 'NA25': 9, 'BR56': 8, 'NA9X': 6, 'NAD8': 5, 'NATH': 4, 'NAV9': 4, 'NATJ': 4, 'B052': 4, 'NAM3': 4, 'NATU': 4, 'NAVC': 4, 'CAX2': 3, 'NATX': 3, 'NA8Q': 3, 'CAB1': 3, 'NATK': 2, 'NATW': 2, 'NA31': 2, 'NANC': 2, 'B030': 2, '90M7': 2, 'NAUI': 2, 'B112': 1, 'NAUY': 1, 'NAWM': 1, 'NATL': 1, 'BR12': 1, 'NAV2': 1, 'CA60': 1, 'C129': 1}\n",
      "\n",
      "{'NAA8': 2249, 'NAH4': 1526, 'CA10': 390, 'NAM4': 185, 'NAC6': 164, 'NAG2': 140, 'NAD1': 137, 'NAAX': 136, 'NAGD': 106, 'NAU5': 97, 'NA32': 90, 'NAX2': 88, 'NAM2': 74, 'NA10': 48, 'NAM1': 37, 'NAD5': 36, 'NAVE': 31, 'NAAW': 25, 'NAVF': 23, 'NAWP': 21, 'NAVQ': 14, 'NAUZ': 12, 'NAVM': 9, 'NAVL': 7, 'NABG': 6, 'CA30': 4, 'NAB1': 4, 'NA3F': 3, '90M7': 3, 'NACE': 3, 'C106': 3, 'NA84': 2, 'CAB1': 2, 'NAV9': 2, 'NAUP': 2, 'NAD4': 2, 'NATZ': 1, 'NACB': 1, 'NA3B': 1, 'NA38': 1, 'NAM3': 1, 'NA8Q': 1}\n"
     ]
    }
   ],
   "source": [
    "print(dict(x_train['cust_payment_terms'].value_counts()))\n",
    "# a little cramped but this gives the idea.\n",
    "print()\n",
    "print(dict(x_test['cust_payment_terms'].value_counts()))"
   ]
  },
  {
   "cell_type": "code",
   "execution_count": 114,
   "metadata": {},
   "outputs": [
    {
     "data": {
      "text/html": [
       "<div>\n",
       "<style scoped>\n",
       "    .dataframe tbody tr th:only-of-type {\n",
       "        vertical-align: middle;\n",
       "    }\n",
       "\n",
       "    .dataframe tbody tr th {\n",
       "        vertical-align: top;\n",
       "    }\n",
       "\n",
       "    .dataframe thead th {\n",
       "        text-align: right;\n",
       "    }\n",
       "</style>\n",
       "<table border=\"1\" class=\"dataframe\">\n",
       "  <thead>\n",
       "    <tr style=\"text-align: right;\">\n",
       "      <th></th>\n",
       "      <th>buisness_year</th>\n",
       "      <th>doc_id</th>\n",
       "      <th>due_in_date</th>\n",
       "      <th>posting_id</th>\n",
       "      <th>total_open_amount</th>\n",
       "      <th>invoice_id</th>\n",
       "      <th>isOpen</th>\n",
       "      <th>target</th>\n",
       "    </tr>\n",
       "  </thead>\n",
       "  <tbody>\n",
       "    <tr>\n",
       "      <th>count</th>\n",
       "      <td>40128.000000</td>\n",
       "      <td>4.012800e+04</td>\n",
       "      <td>4.012800e+04</td>\n",
       "      <td>40128.0</td>\n",
       "      <td>4.012800e+04</td>\n",
       "      <td>4.012800e+04</td>\n",
       "      <td>40128.0</td>\n",
       "      <td>40128.000000</td>\n",
       "    </tr>\n",
       "    <tr>\n",
       "      <th>mean</th>\n",
       "      <td>2019.008548</td>\n",
       "      <td>2.011554e+09</td>\n",
       "      <td>2.019083e+07</td>\n",
       "      <td>1.0</td>\n",
       "      <td>3.240339e+04</td>\n",
       "      <td>2.011554e+09</td>\n",
       "      <td>0.0</td>\n",
       "      <td>-5.438995</td>\n",
       "    </tr>\n",
       "    <tr>\n",
       "      <th>std</th>\n",
       "      <td>0.092059</td>\n",
       "      <td>2.772913e+08</td>\n",
       "      <td>1.162742e+03</td>\n",
       "      <td>0.0</td>\n",
       "      <td>4.074218e+04</td>\n",
       "      <td>2.772913e+08</td>\n",
       "      <td>0.0</td>\n",
       "      <td>88.401850</td>\n",
       "    </tr>\n",
       "    <tr>\n",
       "      <th>min</th>\n",
       "      <td>2019.000000</td>\n",
       "      <td>1.928502e+09</td>\n",
       "      <td>2.018123e+07</td>\n",
       "      <td>1.0</td>\n",
       "      <td>6.500000e-01</td>\n",
       "      <td>1.928502e+09</td>\n",
       "      <td>0.0</td>\n",
       "      <td>-319.000000</td>\n",
       "    </tr>\n",
       "    <tr>\n",
       "      <th>25%</th>\n",
       "      <td>2019.000000</td>\n",
       "      <td>1.929099e+09</td>\n",
       "      <td>2.019042e+07</td>\n",
       "      <td>1.0</td>\n",
       "      <td>4.838005e+03</td>\n",
       "      <td>1.929099e+09</td>\n",
       "      <td>0.0</td>\n",
       "      <td>-5.000000</td>\n",
       "    </tr>\n",
       "    <tr>\n",
       "      <th>50%</th>\n",
       "      <td>2019.000000</td>\n",
       "      <td>1.929613e+09</td>\n",
       "      <td>2.019071e+07</td>\n",
       "      <td>1.0</td>\n",
       "      <td>1.736832e+04</td>\n",
       "      <td>1.929613e+09</td>\n",
       "      <td>0.0</td>\n",
       "      <td>0.000000</td>\n",
       "    </tr>\n",
       "    <tr>\n",
       "      <th>75%</th>\n",
       "      <td>2019.000000</td>\n",
       "      <td>1.930024e+09</td>\n",
       "      <td>2.019101e+07</td>\n",
       "      <td>1.0</td>\n",
       "      <td>4.666770e+04</td>\n",
       "      <td>1.930024e+09</td>\n",
       "      <td>0.0</td>\n",
       "      <td>4.000000</td>\n",
       "    </tr>\n",
       "    <tr>\n",
       "      <th>max</th>\n",
       "      <td>2020.000000</td>\n",
       "      <td>2.960605e+09</td>\n",
       "      <td>2.020023e+07</td>\n",
       "      <td>1.0</td>\n",
       "      <td>1.501474e+06</td>\n",
       "      <td>2.960605e+09</td>\n",
       "      <td>0.0</td>\n",
       "      <td>319.000000</td>\n",
       "    </tr>\n",
       "  </tbody>\n",
       "</table>\n",
       "</div>"
      ],
      "text/plain": [
       "       buisness_year        doc_id   due_in_date  posting_id  \\\n",
       "count   40128.000000  4.012800e+04  4.012800e+04     40128.0   \n",
       "mean     2019.008548  2.011554e+09  2.019083e+07         1.0   \n",
       "std         0.092059  2.772913e+08  1.162742e+03         0.0   \n",
       "min      2019.000000  1.928502e+09  2.018123e+07         1.0   \n",
       "25%      2019.000000  1.929099e+09  2.019042e+07         1.0   \n",
       "50%      2019.000000  1.929613e+09  2.019071e+07         1.0   \n",
       "75%      2019.000000  1.930024e+09  2.019101e+07         1.0   \n",
       "max      2020.000000  2.960605e+09  2.020023e+07         1.0   \n",
       "\n",
       "       total_open_amount    invoice_id   isOpen        target  \n",
       "count       4.012800e+04  4.012800e+04  40128.0  40128.000000  \n",
       "mean        3.240339e+04  2.011554e+09      0.0     -5.438995  \n",
       "std         4.074218e+04  2.772913e+08      0.0     88.401850  \n",
       "min         6.500000e-01  1.928502e+09      0.0   -319.000000  \n",
       "25%         4.838005e+03  1.929099e+09      0.0     -5.000000  \n",
       "50%         1.736832e+04  1.929613e+09      0.0      0.000000  \n",
       "75%         4.666770e+04  1.930024e+09      0.0      4.000000  \n",
       "max         1.501474e+06  2.960605e+09      0.0    319.000000  "
      ]
     },
     "execution_count": 114,
     "metadata": {},
     "output_type": "execute_result"
    }
   ],
   "source": [
    "x_train.describe()"
   ]
  },
  {
   "cell_type": "code",
   "execution_count": 115,
   "metadata": {},
   "outputs": [],
   "source": [
    "# we get to see that posting_id and isOpen bboth have just one value for all data, so we remove them.\n",
    "X_train = x_train.drop(['posting_id', 'posting_id', 'document type'], axis = 1)\n",
    "X_test = x_test.drop(['posting_id', 'posting_id', 'document type'], axis = 1)"
   ]
  },
  {
   "cell_type": "code",
   "execution_count": 116,
   "metadata": {},
   "outputs": [
    {
     "data": {
      "text/html": [
       "<div>\n",
       "<style scoped>\n",
       "    .dataframe tbody tr th:only-of-type {\n",
       "        vertical-align: middle;\n",
       "    }\n",
       "\n",
       "    .dataframe tbody tr th {\n",
       "        vertical-align: top;\n",
       "    }\n",
       "\n",
       "    .dataframe thead th {\n",
       "        text-align: right;\n",
       "    }\n",
       "</style>\n",
       "<table border=\"1\" class=\"dataframe\">\n",
       "  <thead>\n",
       "    <tr style=\"text-align: right;\">\n",
       "      <th></th>\n",
       "      <th>business_code</th>\n",
       "      <th>cust_number</th>\n",
       "      <th>name_customer</th>\n",
       "      <th>clear_date</th>\n",
       "      <th>buisness_year</th>\n",
       "      <th>doc_id</th>\n",
       "      <th>posting_date</th>\n",
       "      <th>document_create_date</th>\n",
       "      <th>due_in_date</th>\n",
       "      <th>invoice_currency</th>\n",
       "      <th>total_open_amount</th>\n",
       "      <th>baseline_create_date</th>\n",
       "      <th>cust_payment_terms</th>\n",
       "      <th>invoice_id</th>\n",
       "      <th>isOpen</th>\n",
       "      <th>due_date</th>\n",
       "      <th>target</th>\n",
       "    </tr>\n",
       "  </thead>\n",
       "  <tbody>\n",
       "    <tr>\n",
       "      <th>0</th>\n",
       "      <td>U001</td>\n",
       "      <td>200726979</td>\n",
       "      <td>BJ'S  in</td>\n",
       "      <td>2020-01-13</td>\n",
       "      <td>2020</td>\n",
       "      <td>1930330859</td>\n",
       "      <td>29-12-2019</td>\n",
       "      <td>2019-12-28</td>\n",
       "      <td>20200113</td>\n",
       "      <td>USD</td>\n",
       "      <td>59.16</td>\n",
       "      <td>2019-12-29</td>\n",
       "      <td>NAA8</td>\n",
       "      <td>1.930331e+09</td>\n",
       "      <td>0</td>\n",
       "      <td>2020-01-13</td>\n",
       "      <td>0</td>\n",
       "    </tr>\n",
       "    <tr>\n",
       "      <th>2</th>\n",
       "      <td>U001</td>\n",
       "      <td>200434439</td>\n",
       "      <td>BAUGH SU co</td>\n",
       "      <td>2019-12-31</td>\n",
       "      <td>2019</td>\n",
       "      <td>1930188160</td>\n",
       "      <td>22-11-2019</td>\n",
       "      <td>2019-11-23</td>\n",
       "      <td>20191224</td>\n",
       "      <td>USD</td>\n",
       "      <td>67765.04</td>\n",
       "      <td>2019-11-22</td>\n",
       "      <td>NA32</td>\n",
       "      <td>1.930188e+09</td>\n",
       "      <td>0</td>\n",
       "      <td>2019-12-24</td>\n",
       "      <td>7</td>\n",
       "    </tr>\n",
       "    <tr>\n",
       "      <th>3</th>\n",
       "      <td>U001</td>\n",
       "      <td>200769623</td>\n",
       "      <td>WAL-MAR foundation</td>\n",
       "      <td>2019-06-25</td>\n",
       "      <td>2019</td>\n",
       "      <td>1929472295</td>\n",
       "      <td>13-06-2019</td>\n",
       "      <td>2019-06-11</td>\n",
       "      <td>20190628</td>\n",
       "      <td>USD</td>\n",
       "      <td>729.60</td>\n",
       "      <td>2019-06-13</td>\n",
       "      <td>NAH4</td>\n",
       "      <td>1.929472e+09</td>\n",
       "      <td>0</td>\n",
       "      <td>2019-06-28</td>\n",
       "      <td>-3</td>\n",
       "    </tr>\n",
       "    <tr>\n",
       "      <th>4</th>\n",
       "      <td>U001</td>\n",
       "      <td>200769623</td>\n",
       "      <td>WAL-MAR associates</td>\n",
       "      <td>2019-05-14</td>\n",
       "      <td>2019</td>\n",
       "      <td>1929243669</td>\n",
       "      <td>03-05-2019</td>\n",
       "      <td>2019-05-02</td>\n",
       "      <td>20190518</td>\n",
       "      <td>USD</td>\n",
       "      <td>35911.74</td>\n",
       "      <td>2019-05-03</td>\n",
       "      <td>NAH4</td>\n",
       "      <td>1.929244e+09</td>\n",
       "      <td>0</td>\n",
       "      <td>2019-05-18</td>\n",
       "      <td>-4</td>\n",
       "    </tr>\n",
       "    <tr>\n",
       "      <th>5</th>\n",
       "      <td>U001</td>\n",
       "      <td>200735528</td>\n",
       "      <td>ASSOCIA trust</td>\n",
       "      <td>2019-08-30</td>\n",
       "      <td>2019</td>\n",
       "      <td>1929735102</td>\n",
       "      <td>14-08-2019</td>\n",
       "      <td>2019-08-12</td>\n",
       "      <td>20190829</td>\n",
       "      <td>USD</td>\n",
       "      <td>81095.46</td>\n",
       "      <td>2019-08-14</td>\n",
       "      <td>NAA8</td>\n",
       "      <td>1.929735e+09</td>\n",
       "      <td>0</td>\n",
       "      <td>2019-08-29</td>\n",
       "      <td>1</td>\n",
       "    </tr>\n",
       "  </tbody>\n",
       "</table>\n",
       "</div>"
      ],
      "text/plain": [
       "  business_code cust_number       name_customer clear_date  buisness_year  \\\n",
       "0          U001   200726979            BJ'S  in 2020-01-13           2020   \n",
       "2          U001   200434439         BAUGH SU co 2019-12-31           2019   \n",
       "3          U001   200769623  WAL-MAR foundation 2019-06-25           2019   \n",
       "4          U001   200769623  WAL-MAR associates 2019-05-14           2019   \n",
       "5          U001   200735528       ASSOCIA trust 2019-08-30           2019   \n",
       "\n",
       "       doc_id posting_date document_create_date  due_in_date invoice_currency  \\\n",
       "0  1930330859   29-12-2019           2019-12-28     20200113              USD   \n",
       "2  1930188160   22-11-2019           2019-11-23     20191224              USD   \n",
       "3  1929472295   13-06-2019           2019-06-11     20190628              USD   \n",
       "4  1929243669   03-05-2019           2019-05-02     20190518              USD   \n",
       "5  1929735102   14-08-2019           2019-08-12     20190829              USD   \n",
       "\n",
       "   total_open_amount baseline_create_date cust_payment_terms    invoice_id  \\\n",
       "0              59.16           2019-12-29               NAA8  1.930331e+09   \n",
       "2           67765.04           2019-11-22               NA32  1.930188e+09   \n",
       "3             729.60           2019-06-13               NAH4  1.929472e+09   \n",
       "4           35911.74           2019-05-03               NAH4  1.929244e+09   \n",
       "5           81095.46           2019-08-14               NAA8  1.929735e+09   \n",
       "\n",
       "   isOpen   due_date  target  \n",
       "0       0 2020-01-13       0  \n",
       "2       0 2019-12-24       7  \n",
       "3       0 2019-06-28      -3  \n",
       "4       0 2019-05-18      -4  \n",
       "5       0 2019-08-29       1  "
      ]
     },
     "execution_count": 116,
     "metadata": {},
     "output_type": "execute_result"
    }
   ],
   "source": [
    "X_train.head()"
   ]
  },
  {
   "cell_type": "code",
   "execution_count": 117,
   "metadata": {},
   "outputs": [
    {
     "data": {
      "text/plain": [
       "<matplotlib.axes._subplots.AxesSubplot at 0x2288105c108>"
      ]
     },
     "execution_count": 117,
     "metadata": {},
     "output_type": "execute_result"
    },
    {
     "data": {
      "image/png": "[encoded data removed]",
      "text/plain": [
       "<Figure size 720x432 with 1 Axes>"
      ]
     },
     "metadata": {
      "needs_background": "light"
     },
     "output_type": "display_data"
    }
   ],
   "source": [
    "temp = pd.DataFrame(X_train.groupby(['business_code'], axis=0, as_index=False)['target'].mean())\n",
    "plt.figure(figsize=(10,6))\n",
    "sns.barplot(x=\"business_code\", y=\"target\",data=temp,linewidth=2.5, facecolor=(1, 1, 1, 0),\n",
    "                 errcolor=\".4\", edgecolor=\"red\")"
   ]
  },
  {
   "cell_type": "code",
   "execution_count": 118,
   "metadata": {},
   "outputs": [],
   "source": [
    "# The above graph shows that U005 and U013 code are the ones that delay their payments."
   ]
  },
  {
   "cell_type": "code",
   "execution_count": 119,
   "metadata": {},
   "outputs": [],
   "source": [
    "# Encoding the binary categorical column invoice_currency\n",
    "X_train['invoice_currency'] = X_train['invoice_currency'].map({'USD': 0,'CAD': 1})\n",
    "X_test['invoice_currency'] = X_test['invoice_currency'].map({'USD': 0,'CAD': 1})"
   ]
  },
  {
   "cell_type": "code",
   "execution_count": 120,
   "metadata": {},
   "outputs": [
    {
     "data": {
      "text/plain": [
       "<matplotlib.axes._subplots.AxesSubplot at 0x22899590f08>"
      ]
     },
     "execution_count": 120,
     "metadata": {},
     "output_type": "execute_result"
    },
    {
     "data": {
      "image/png": "[encoded data removed]",
      "text/plain": [
       "<Figure size 432x288 with 1 Axes>"
      ]
     },
     "metadata": {
      "needs_background": "light"
     },
     "output_type": "display_data"
    }
   ],
   "source": [
    "temp1 = pd.DataFrame(X_train.groupby(['invoice_currency'], axis=0, as_index=False)['target'].mean())\n",
    "plt.figure(figsize=(6,4))\n",
    "sns.barplot(x=\"invoice_currency\", y=\"target\",data=temp1,linewidth=1.5, facecolor=(1, 1, 1, 0),\n",
    "                 errcolor=\".2\", edgecolor=\"blue\")"
   ]
  },
  {
   "cell_type": "code",
   "execution_count": 121,
   "metadata": {},
   "outputs": [],
   "source": [
    "# This shows USD currency deliveries have no delays in payment as such."
   ]
  },
  {
   "cell_type": "code",
   "execution_count": 122,
   "metadata": {},
   "outputs": [
    {
     "data": {
      "text/plain": [
       "<matplotlib.axes._subplots.AxesSubplot at 0x228b8473608>"
      ]
     },
     "execution_count": 122,
     "metadata": {},
     "output_type": "execute_result"
    },
    {
     "data": {
      "image/png": "[encoded data removed]",
      "text/plain": [
       "<Figure size 576x576 with 1 Axes>"
      ]
     },
     "metadata": {
      "needs_background": "light"
     },
     "output_type": "display_data"
    }
   ],
   "source": [
    "plt.figure(figsize=(8,8))\n",
    "plt.figure(1)\n",
    "sns.distplot(X_train['total_open_amount'],color='green')"
   ]
  },
  {
   "cell_type": "code",
   "execution_count": 123,
   "metadata": {},
   "outputs": [],
   "source": [
    "# This shows the amount column is totally right skewed which puts strain on the bias of this data."
   ]
  },
  {
   "cell_type": "code",
   "execution_count": 124,
   "metadata": {},
   "outputs": [],
   "source": [
    "# Using log transformation to make it more 'normal' for better analysis\n",
    "def Transform(x):\n",
    "    return np.log(x)\n",
    "\n",
    "X_train['total_open_amount'] = X_train['total_open_amount'].apply(Transform)\n",
    "X_test['total_open_amount'] = X_test['total_open_amount'].apply(Transform)"
   ]
  },
  {
   "cell_type": "code",
   "execution_count": 125,
   "metadata": {},
   "outputs": [
    {
     "data": {
      "text/plain": [
       "1038"
      ]
     },
     "execution_count": 125,
     "metadata": {},
     "output_type": "execute_result"
    }
   ],
   "source": [
    "X_train['cust_number'].nunique()"
   ]
  },
  {
   "cell_type": "code",
   "execution_count": 126,
   "metadata": {},
   "outputs": [
    {
     "data": {
      "text/plain": [
       "40128"
      ]
     },
     "execution_count": 126,
     "metadata": {},
     "output_type": "execute_result"
    }
   ],
   "source": [
    "# This pretty much doesnt give much info as its unique for each row\n",
    "X_train['invoice_id'].nunique()"
   ]
  },
  {
   "cell_type": "code",
   "execution_count": 127,
   "metadata": {},
   "outputs": [],
   "source": [
    "# Dropping those columns which don't contribute anything for predictions.\n",
    "X_train = X_train.drop(['buisness_year', 'due_in_date', 'isOpen'], axis = 1)\n",
    "X_test = X_test.drop(['buisness_year', 'due_in_date', 'isOpen'], axis = 1)"
   ]
  },
  {
   "cell_type": "code",
   "execution_count": 128,
   "metadata": {},
   "outputs": [
    {
     "data": {
      "text/html": [
       "<div>\n",
       "<style scoped>\n",
       "    .dataframe tbody tr th:only-of-type {\n",
       "        vertical-align: middle;\n",
       "    }\n",
       "\n",
       "    .dataframe tbody tr th {\n",
       "        vertical-align: top;\n",
       "    }\n",
       "\n",
       "    .dataframe thead th {\n",
       "        text-align: right;\n",
       "    }\n",
       "</style>\n",
       "<table border=\"1\" class=\"dataframe\">\n",
       "  <thead>\n",
       "    <tr style=\"text-align: right;\">\n",
       "      <th></th>\n",
       "      <th>business_code</th>\n",
       "      <th>cust_number</th>\n",
       "      <th>name_customer</th>\n",
       "      <th>clear_date</th>\n",
       "      <th>doc_id</th>\n",
       "      <th>posting_date</th>\n",
       "      <th>document_create_date</th>\n",
       "      <th>invoice_currency</th>\n",
       "      <th>total_open_amount</th>\n",
       "      <th>baseline_create_date</th>\n",
       "      <th>cust_payment_terms</th>\n",
       "      <th>invoice_id</th>\n",
       "      <th>due_date</th>\n",
       "      <th>target</th>\n",
       "    </tr>\n",
       "  </thead>\n",
       "  <tbody>\n",
       "    <tr>\n",
       "      <th>0</th>\n",
       "      <td>U001</td>\n",
       "      <td>200726979</td>\n",
       "      <td>BJ'S  in</td>\n",
       "      <td>2020-01-13</td>\n",
       "      <td>1930330859</td>\n",
       "      <td>29-12-2019</td>\n",
       "      <td>2019-12-28</td>\n",
       "      <td>0</td>\n",
       "      <td>4.080246</td>\n",
       "      <td>2019-12-29</td>\n",
       "      <td>NAA8</td>\n",
       "      <td>1.930331e+09</td>\n",
       "      <td>2020-01-13</td>\n",
       "      <td>0</td>\n",
       "    </tr>\n",
       "  </tbody>\n",
       "</table>\n",
       "</div>"
      ],
      "text/plain": [
       "  business_code cust_number name_customer clear_date      doc_id posting_date  \\\n",
       "0          U001   200726979      BJ'S  in 2020-01-13  1930330859   29-12-2019   \n",
       "\n",
       "  document_create_date  invoice_currency  total_open_amount  \\\n",
       "0           2019-12-28                 0           4.080246   \n",
       "\n",
       "  baseline_create_date cust_payment_terms    invoice_id   due_date  target  \n",
       "0           2019-12-29               NAA8  1.930331e+09 2020-01-13       0  "
      ]
     },
     "execution_count": 128,
     "metadata": {},
     "output_type": "execute_result"
    }
   ],
   "source": [
    "X_train.head(1)"
   ]
  },
  {
   "cell_type": "code",
   "execution_count": 129,
   "metadata": {},
   "outputs": [
    {
     "data": {
      "text/plain": [
       "<matplotlib.axes._subplots.AxesSubplot at 0x228b85755c8>"
      ]
     },
     "execution_count": 129,
     "metadata": {},
     "output_type": "execute_result"
    },
    {
     "data": {
      "text/plain": [
       "<Figure size 432x432 with 0 Axes>"
      ]
     },
     "metadata": {},
     "output_type": "display_data"
    },
    {
     "data": {
      "image/png": "[encoded data removed]",
      "text/plain": [
       "<Figure size 432x288 with 1 Axes>"
      ]
     },
     "metadata": {
      "needs_background": "light"
     },
     "output_type": "display_data"
    }
   ],
   "source": [
    "plt.figure(figsize=(6,6))\n",
    "plt.figure(2)\n",
    "sns.distplot(X_train['target'],color='blue')"
   ]
  },
  {
   "cell_type": "code",
   "execution_count": 130,
   "metadata": {},
   "outputs": [],
   "source": [
    "# This is pretty much symmetric meaning normalised already."
   ]
  },
  {
   "cell_type": "code",
   "execution_count": 131,
   "metadata": {},
   "outputs": [],
   "source": [
    "#print(dict(X_train['cust_number'].value_counts()))\n",
    "def integers(x):\n",
    "    ref = dict(X_train['cust_number'].value_counts())\n",
    "    if ref.get(x):\n",
    "        return ref[x]\n",
    "\n",
    "X_train['cust_number'] = X_train['cust_number'].apply(integers)"
   ]
  },
  {
   "cell_type": "code",
   "execution_count": 132,
   "metadata": {},
   "outputs": [],
   "source": [
    "def integers_test(x):\n",
    "    ref = dict(X_test['cust_number'].value_counts())\n",
    "    if ref.get(x):\n",
    "        return ref[x]\n",
    "    \n",
    "X_test['cust_number'] = X_test['cust_number'].apply(integers_test)"
   ]
  },
  {
   "cell_type": "code",
   "execution_count": 133,
   "metadata": {},
   "outputs": [
    {
     "data": {
      "text/html": [
       "<div>\n",
       "<style scoped>\n",
       "    .dataframe tbody tr th:only-of-type {\n",
       "        vertical-align: middle;\n",
       "    }\n",
       "\n",
       "    .dataframe tbody tr th {\n",
       "        vertical-align: top;\n",
       "    }\n",
       "\n",
       "    .dataframe thead th {\n",
       "        text-align: right;\n",
       "    }\n",
       "</style>\n",
       "<table border=\"1\" class=\"dataframe\">\n",
       "  <thead>\n",
       "    <tr style=\"text-align: right;\">\n",
       "      <th></th>\n",
       "      <th>business_code</th>\n",
       "      <th>cust_number</th>\n",
       "      <th>name_customer</th>\n",
       "      <th>clear_date</th>\n",
       "      <th>doc_id</th>\n",
       "      <th>posting_date</th>\n",
       "      <th>document_create_date</th>\n",
       "      <th>invoice_currency</th>\n",
       "      <th>total_open_amount</th>\n",
       "      <th>baseline_create_date</th>\n",
       "      <th>cust_payment_terms</th>\n",
       "      <th>invoice_id</th>\n",
       "      <th>due_date</th>\n",
       "      <th>target</th>\n",
       "    </tr>\n",
       "  </thead>\n",
       "  <tbody>\n",
       "    <tr>\n",
       "      <th>0</th>\n",
       "      <td>U001</td>\n",
       "      <td>1577</td>\n",
       "      <td>BJ'S  in</td>\n",
       "      <td>2020-01-13</td>\n",
       "      <td>1930330859</td>\n",
       "      <td>29-12-2019</td>\n",
       "      <td>2019-12-28</td>\n",
       "      <td>0</td>\n",
       "      <td>4.080246</td>\n",
       "      <td>2019-12-29</td>\n",
       "      <td>NAA8</td>\n",
       "      <td>1.930331e+09</td>\n",
       "      <td>2020-01-13</td>\n",
       "      <td>0</td>\n",
       "    </tr>\n",
       "    <tr>\n",
       "      <th>2</th>\n",
       "      <td>U001</td>\n",
       "      <td>78</td>\n",
       "      <td>BAUGH SU co</td>\n",
       "      <td>2019-12-31</td>\n",
       "      <td>1930188160</td>\n",
       "      <td>22-11-2019</td>\n",
       "      <td>2019-11-23</td>\n",
       "      <td>0</td>\n",
       "      <td>11.123802</td>\n",
       "      <td>2019-11-22</td>\n",
       "      <td>NA32</td>\n",
       "      <td>1.930188e+09</td>\n",
       "      <td>2019-12-24</td>\n",
       "      <td>7</td>\n",
       "    </tr>\n",
       "    <tr>\n",
       "      <th>3</th>\n",
       "      <td>U001</td>\n",
       "      <td>9748</td>\n",
       "      <td>WAL-MAR foundation</td>\n",
       "      <td>2019-06-25</td>\n",
       "      <td>1929472295</td>\n",
       "      <td>13-06-2019</td>\n",
       "      <td>2019-06-11</td>\n",
       "      <td>0</td>\n",
       "      <td>6.592496</td>\n",
       "      <td>2019-06-13</td>\n",
       "      <td>NAH4</td>\n",
       "      <td>1.929472e+09</td>\n",
       "      <td>2019-06-28</td>\n",
       "      <td>-3</td>\n",
       "    </tr>\n",
       "  </tbody>\n",
       "</table>\n",
       "</div>"
      ],
      "text/plain": [
       "  business_code  cust_number       name_customer clear_date      doc_id  \\\n",
       "0          U001         1577            BJ'S  in 2020-01-13  1930330859   \n",
       "2          U001           78         BAUGH SU co 2019-12-31  1930188160   \n",
       "3          U001         9748  WAL-MAR foundation 2019-06-25  1929472295   \n",
       "\n",
       "  posting_date document_create_date  invoice_currency  total_open_amount  \\\n",
       "0   29-12-2019           2019-12-28                 0           4.080246   \n",
       "2   22-11-2019           2019-11-23                 0          11.123802   \n",
       "3   13-06-2019           2019-06-11                 0           6.592496   \n",
       "\n",
       "  baseline_create_date cust_payment_terms    invoice_id   due_date  target  \n",
       "0           2019-12-29               NAA8  1.930331e+09 2020-01-13       0  \n",
       "2           2019-11-22               NA32  1.930188e+09 2019-12-24       7  \n",
       "3           2019-06-13               NAH4  1.929472e+09 2019-06-28      -3  "
      ]
     },
     "execution_count": 133,
     "metadata": {},
     "output_type": "execute_result"
    }
   ],
   "source": [
    "X_train.head(3)"
   ]
  },
  {
   "cell_type": "code",
   "execution_count": 134,
   "metadata": {},
   "outputs": [
    {
     "data": {
      "text/html": [
       "<div>\n",
       "<style scoped>\n",
       "    .dataframe tbody tr th:only-of-type {\n",
       "        vertical-align: middle;\n",
       "    }\n",
       "\n",
       "    .dataframe tbody tr th {\n",
       "        vertical-align: top;\n",
       "    }\n",
       "\n",
       "    .dataframe thead th {\n",
       "        text-align: right;\n",
       "    }\n",
       "</style>\n",
       "<table border=\"1\" class=\"dataframe\">\n",
       "  <thead>\n",
       "    <tr style=\"text-align: right;\">\n",
       "      <th></th>\n",
       "      <th>business_code</th>\n",
       "      <th>cust_number</th>\n",
       "      <th>name_customer</th>\n",
       "      <th>clear_date</th>\n",
       "      <th>doc_id</th>\n",
       "      <th>posting_date</th>\n",
       "      <th>document_create_date</th>\n",
       "      <th>invoice_currency</th>\n",
       "      <th>total_open_amount</th>\n",
       "      <th>baseline_create_date</th>\n",
       "      <th>cust_payment_terms</th>\n",
       "      <th>invoice_id</th>\n",
       "      <th>due_date</th>\n",
       "      <th>target</th>\n",
       "      <th>CA02</th>\n",
       "      <th>U001</th>\n",
       "      <th>U013</th>\n",
       "      <th>other</th>\n",
       "    </tr>\n",
       "  </thead>\n",
       "  <tbody>\n",
       "    <tr>\n",
       "      <th>0</th>\n",
       "      <td>U001</td>\n",
       "      <td>1577</td>\n",
       "      <td>BJ'S  in</td>\n",
       "      <td>2020-01-13</td>\n",
       "      <td>1930330859</td>\n",
       "      <td>29-12-2019</td>\n",
       "      <td>2019-12-28</td>\n",
       "      <td>0</td>\n",
       "      <td>4.080246</td>\n",
       "      <td>2019-12-29</td>\n",
       "      <td>NAA8</td>\n",
       "      <td>1.930331e+09</td>\n",
       "      <td>2020-01-13</td>\n",
       "      <td>0</td>\n",
       "      <td>0</td>\n",
       "      <td>1</td>\n",
       "      <td>0</td>\n",
       "      <td>0</td>\n",
       "    </tr>\n",
       "    <tr>\n",
       "      <th>2</th>\n",
       "      <td>U001</td>\n",
       "      <td>78</td>\n",
       "      <td>BAUGH SU co</td>\n",
       "      <td>2019-12-31</td>\n",
       "      <td>1930188160</td>\n",
       "      <td>22-11-2019</td>\n",
       "      <td>2019-11-23</td>\n",
       "      <td>0</td>\n",
       "      <td>11.123802</td>\n",
       "      <td>2019-11-22</td>\n",
       "      <td>NA32</td>\n",
       "      <td>1.930188e+09</td>\n",
       "      <td>2019-12-24</td>\n",
       "      <td>7</td>\n",
       "      <td>0</td>\n",
       "      <td>1</td>\n",
       "      <td>0</td>\n",
       "      <td>0</td>\n",
       "    </tr>\n",
       "    <tr>\n",
       "      <th>3</th>\n",
       "      <td>U001</td>\n",
       "      <td>9748</td>\n",
       "      <td>WAL-MAR foundation</td>\n",
       "      <td>2019-06-25</td>\n",
       "      <td>1929472295</td>\n",
       "      <td>13-06-2019</td>\n",
       "      <td>2019-06-11</td>\n",
       "      <td>0</td>\n",
       "      <td>6.592496</td>\n",
       "      <td>2019-06-13</td>\n",
       "      <td>NAH4</td>\n",
       "      <td>1.929472e+09</td>\n",
       "      <td>2019-06-28</td>\n",
       "      <td>-3</td>\n",
       "      <td>0</td>\n",
       "      <td>1</td>\n",
       "      <td>0</td>\n",
       "      <td>0</td>\n",
       "    </tr>\n",
       "    <tr>\n",
       "      <th>4</th>\n",
       "      <td>U001</td>\n",
       "      <td>9748</td>\n",
       "      <td>WAL-MAR associates</td>\n",
       "      <td>2019-05-14</td>\n",
       "      <td>1929243669</td>\n",
       "      <td>03-05-2019</td>\n",
       "      <td>2019-05-02</td>\n",
       "      <td>0</td>\n",
       "      <td>10.488820</td>\n",
       "      <td>2019-05-03</td>\n",
       "      <td>NAH4</td>\n",
       "      <td>1.929244e+09</td>\n",
       "      <td>2019-05-18</td>\n",
       "      <td>-4</td>\n",
       "      <td>0</td>\n",
       "      <td>1</td>\n",
       "      <td>0</td>\n",
       "      <td>0</td>\n",
       "    </tr>\n",
       "    <tr>\n",
       "      <th>5</th>\n",
       "      <td>U001</td>\n",
       "      <td>35</td>\n",
       "      <td>ASSOCIA trust</td>\n",
       "      <td>2019-08-30</td>\n",
       "      <td>1929735102</td>\n",
       "      <td>14-08-2019</td>\n",
       "      <td>2019-08-12</td>\n",
       "      <td>0</td>\n",
       "      <td>11.303382</td>\n",
       "      <td>2019-08-14</td>\n",
       "      <td>NAA8</td>\n",
       "      <td>1.929735e+09</td>\n",
       "      <td>2019-08-29</td>\n",
       "      <td>1</td>\n",
       "      <td>0</td>\n",
       "      <td>1</td>\n",
       "      <td>0</td>\n",
       "      <td>0</td>\n",
       "    </tr>\n",
       "  </tbody>\n",
       "</table>\n",
       "</div>"
      ],
      "text/plain": [
       "  business_code  cust_number       name_customer clear_date      doc_id  \\\n",
       "0          U001         1577            BJ'S  in 2020-01-13  1930330859   \n",
       "2          U001           78         BAUGH SU co 2019-12-31  1930188160   \n",
       "3          U001         9748  WAL-MAR foundation 2019-06-25  1929472295   \n",
       "4          U001         9748  WAL-MAR associates 2019-05-14  1929243669   \n",
       "5          U001           35       ASSOCIA trust 2019-08-30  1929735102   \n",
       "\n",
       "  posting_date document_create_date  invoice_currency  total_open_amount  \\\n",
       "0   29-12-2019           2019-12-28                 0           4.080246   \n",
       "2   22-11-2019           2019-11-23                 0          11.123802   \n",
       "3   13-06-2019           2019-06-11                 0           6.592496   \n",
       "4   03-05-2019           2019-05-02                 0          10.488820   \n",
       "5   14-08-2019           2019-08-12                 0          11.303382   \n",
       "\n",
       "  baseline_create_date cust_payment_terms    invoice_id   due_date  target  \\\n",
       "0           2019-12-29               NAA8  1.930331e+09 2020-01-13       0   \n",
       "2           2019-11-22               NA32  1.930188e+09 2019-12-24       7   \n",
       "3           2019-06-13               NAH4  1.929472e+09 2019-06-28      -3   \n",
       "4           2019-05-03               NAH4  1.929244e+09 2019-05-18      -4   \n",
       "5           2019-08-14               NAA8  1.929735e+09 2019-08-29       1   \n",
       "\n",
       "   CA02  U001  U013  other  \n",
       "0     0     1     0      0  \n",
       "2     0     1     0      0  \n",
       "3     0     1     0      0  \n",
       "4     0     1     0      0  \n",
       "5     0     1     0      0  "
      ]
     },
     "execution_count": 134,
     "metadata": {},
     "output_type": "execute_result"
    }
   ],
   "source": [
    "# It is clear that U002 afterwards all business codes are meager so we take it as others.\n",
    "\n",
    "X_train = X_train.replace(['U002', 'U005', 'U007'], 'other')\n",
    "X_test = X_test.replace(['U002', 'U005', 'U007'], 'other')\n",
    "\n",
    "business = pd.get_dummies(X_train['business_code'])\n",
    "business1 = pd.get_dummies(X_test['business_code'])\n",
    "# Above in the business_code column we can see they are categorical ones, so we make new feature\n",
    "# out of them \n",
    "X_train = pd.concat([X_train, business], axis=1)\n",
    "X_test = pd.concat([X_test, business1], axis=1)\n",
    "\n",
    "X_train.head()"
   ]
  },
  {
   "cell_type": "code",
   "execution_count": 135,
   "metadata": {},
   "outputs": [],
   "source": [
    "# creating a new feature from baseline column.\n",
    "X_train['baseline_quater']= pd.to_datetime(X_train['baseline_create_date']).dt.quarter\n",
    "X_test['baseline_quater']= pd.to_datetime(X_test['baseline_create_date']).dt.quarter\n"
   ]
  },
  {
   "cell_type": "code",
   "execution_count": 136,
   "metadata": {},
   "outputs": [
    {
     "data": {
      "text/plain": [
       "NAA                 17196\n",
       "NA_letter_number    16977\n",
       "CA                   3121\n",
       "NA_place             1749\n",
       "NA_number_number     1019\n",
       "NA_number_letter       48\n",
       "B                      16\n",
       "C_number                2\n",
       "Name: cust_payment_terms, dtype: int64"
      ]
     },
     "execution_count": 136,
     "metadata": {},
     "output_type": "execute_result"
    }
   ],
   "source": [
    "X_train = X_train.replace(['NAA8', 'NAAX', 'NAAW'], 'NAA')\n",
    "X_train = X_train.replace(['NAGD', 'NAUZ', 'NAVF', 'NAVE', 'NAVR', 'NAWN', 'NAVQ',\n",
    "                                  'NAWP', 'NAVM', 'NACB', 'NABG','NAVD', 'NAVL', 'NAUP', 'NATJ', 'NATH', \n",
    "                                  'NATU', 'NA8Q', 'NAVC', 'NANC', 'NATK', 'NAUI', 'NAWM',\n",
    "                                  'NATL', 'NAUY', 'NATW', 'NATX', 'NAWU'], 'NA_place')\n",
    "\n",
    "X_train = X_train.replace(['NAH4', 'NAC6', 'NAM4', 'NAD1', 'NAU5', 'NAG2', 'NAX2', 'NAD5', 'NAM1',\n",
    "                                  'NAD4','NAB1','NAM2','NAM3', 'NAV9',  'NAV2', 'NAD8'], 'NA_letter_number')\n",
    "\n",
    "X_train = X_train.replace(['NA3B', 'NA3F', 'NA9X'], 'NA_number_letter')\n",
    "\n",
    "X_train = X_train.replace(['NA32', 'NA10', 'NA38', 'NA84', 'NA25', 'NA31'], 'NA_number_number')\n",
    "\n",
    "X_train = X_train.replace(['CA10', 'CA30', 'C106', 'CAX2', 'CAB1', 'C129', 'CA60'], 'CA')\n",
    "\n",
    "X_train = X_train.replace(['C106', 'C129', '90M7'], 'C_number')\n",
    "\n",
    "X_train = X_train.replace(['BR56', 'B030', 'B052', 'BR12', 'B112'], 'B')\n",
    "\n",
    "X_train['cust_payment_terms'].value_counts()"
   ]
  },
  {
   "cell_type": "code",
   "execution_count": 137,
   "metadata": {},
   "outputs": [
    {
     "data": {
      "text/plain": [
       "NA_letter_number    2493\n",
       "NAA                 2410\n",
       "CA                   399\n",
       "NA_place             237\n",
       "NA_number_number     141\n",
       "NA_number_letter       4\n",
       "C_number               3\n",
       "Name: cust_payment_terms, dtype: int64"
      ]
     },
     "execution_count": 137,
     "metadata": {},
     "output_type": "execute_result"
    }
   ],
   "source": [
    "X_test = X_test.replace(['NAA8', 'NAAX', 'NAAW'], 'NAA')\n",
    "\n",
    "X_test = X_test.replace(['NAGD', 'NAUZ', 'NAVF', 'NAVE', 'NAVR', 'NAWN', 'NAVQ',\n",
    "                                  'NAWP', 'NAVM', 'NACB', 'NABG','NAVD', 'NAVL', 'NAUP', 'NATJ', 'NATH', \n",
    "                                  'NATU', 'NA8Q', 'NAVC', 'NANC', 'NATK', 'NAUI', 'NAWM',\n",
    "                                  'NATL', 'NAUY', 'NATZ', 'NACE', 'NATZ'], 'NA_place')\n",
    "\n",
    "X_test = X_test.replace(['NAH4', 'NAC6', 'NAM4', 'NAD1', 'NAU5', 'NAG2', 'NAX2', 'NAD5', 'NAM1',\n",
    "                                  'NAD4','NAB1','NAM2','NAM3', 'NAV9',  'NAV2', 'NAD8'], 'NA_letter_number')\n",
    "\n",
    "X_test = X_test.replace(['NA3B', 'NA3F', 'NA9X'], 'NA_number_letter')\n",
    "\n",
    "X_test = X_test.replace(['NA32', 'NA10', 'NA38', 'NA84', 'NA25', 'NA31'], 'NA_number_number')\n",
    "\n",
    "X_test = X_test.replace(['CA10', 'CA30', 'C106', 'CAX2', 'CAB1', 'C129', 'CA60'], 'CA')\n",
    "\n",
    "X_test = X_test.replace(['C106', 'C129', '90M7'], 'C_number')\n",
    "\n",
    "X_test = X_test.replace(['BR56', 'B030', 'B052'], 'B')\n",
    "\n",
    "X_test['cust_payment_terms'].value_counts()"
   ]
  },
  {
   "cell_type": "code",
   "execution_count": 156,
   "metadata": {},
   "outputs": [
    {
     "data": {
      "text/html": [
       "<div>\n",
       "<style scoped>\n",
       "    .dataframe tbody tr th:only-of-type {\n",
       "        vertical-align: middle;\n",
       "    }\n",
       "\n",
       "    .dataframe tbody tr th {\n",
       "        vertical-align: top;\n",
       "    }\n",
       "\n",
       "    .dataframe thead th {\n",
       "        text-align: right;\n",
       "    }\n",
       "</style>\n",
       "<table border=\"1\" class=\"dataframe\">\n",
       "  <thead>\n",
       "    <tr style=\"text-align: right;\">\n",
       "      <th></th>\n",
       "      <th>business_code</th>\n",
       "      <th>cust_number</th>\n",
       "      <th>name_customer</th>\n",
       "      <th>clear_date</th>\n",
       "      <th>doc_id</th>\n",
       "      <th>posting_date</th>\n",
       "      <th>document_create_date</th>\n",
       "      <th>invoice_currency</th>\n",
       "      <th>total_open_amount</th>\n",
       "      <th>baseline_create_date</th>\n",
       "      <th>cust_payment_terms</th>\n",
       "      <th>invoice_id</th>\n",
       "      <th>due_date</th>\n",
       "      <th>target</th>\n",
       "      <th>CA02</th>\n",
       "      <th>U001</th>\n",
       "      <th>U013</th>\n",
       "      <th>other</th>\n",
       "      <th>baseline_quater</th>\n",
       "      <th>B</th>\n",
       "    </tr>\n",
       "  </thead>\n",
       "  <tbody>\n",
       "    <tr>\n",
       "      <th>1</th>\n",
       "      <td>U001</td>\n",
       "      <td>254</td>\n",
       "      <td>BJ'S  systems</td>\n",
       "      <td>2020-01-29</td>\n",
       "      <td>1930397118</td>\n",
       "      <td>14-01-2020</td>\n",
       "      <td>2020-01-14</td>\n",
       "      <td>0</td>\n",
       "      <td>6.297349</td>\n",
       "      <td>2020-01-14</td>\n",
       "      <td>NAA</td>\n",
       "      <td>1.930397e+09</td>\n",
       "      <td>2020-01-29</td>\n",
       "      <td>0</td>\n",
       "      <td>0</td>\n",
       "      <td>1</td>\n",
       "      <td>0</td>\n",
       "      <td>0</td>\n",
       "      <td>1</td>\n",
       "      <td>0.0</td>\n",
       "    </tr>\n",
       "    <tr>\n",
       "      <th>7</th>\n",
       "      <td>U001</td>\n",
       "      <td>2</td>\n",
       "      <td>MAINES corp</td>\n",
       "      <td>2020-05-03</td>\n",
       "      <td>1930542805</td>\n",
       "      <td>19-02-2020</td>\n",
       "      <td>2020-02-19</td>\n",
       "      <td>0</td>\n",
       "      <td>9.755842</td>\n",
       "      <td>2020-02-19</td>\n",
       "      <td>NAA</td>\n",
       "      <td>1.930543e+09</td>\n",
       "      <td>2020-03-05</td>\n",
       "      <td>59</td>\n",
       "      <td>0</td>\n",
       "      <td>1</td>\n",
       "      <td>0</td>\n",
       "      <td>0</td>\n",
       "      <td>1</td>\n",
       "      <td>0.0</td>\n",
       "    </tr>\n",
       "    <tr>\n",
       "      <th>8</th>\n",
       "      <td>U001</td>\n",
       "      <td>4</td>\n",
       "      <td>BE associates</td>\n",
       "      <td>2020-01-25</td>\n",
       "      <td>1930397049</td>\n",
       "      <td>15-01-2020</td>\n",
       "      <td>2020-01-14</td>\n",
       "      <td>0</td>\n",
       "      <td>9.715863</td>\n",
       "      <td>2020-01-15</td>\n",
       "      <td>NAA</td>\n",
       "      <td>1.930397e+09</td>\n",
       "      <td>2020-01-30</td>\n",
       "      <td>-5</td>\n",
       "      <td>0</td>\n",
       "      <td>1</td>\n",
       "      <td>0</td>\n",
       "      <td>0</td>\n",
       "      <td>1</td>\n",
       "      <td>0.0</td>\n",
       "    </tr>\n",
       "  </tbody>\n",
       "</table>\n",
       "</div>"
      ],
      "text/plain": [
       "  business_code  cust_number  name_customer clear_date      doc_id  \\\n",
       "1          U001          254  BJ'S  systems 2020-01-29  1930397118   \n",
       "7          U001            2    MAINES corp 2020-05-03  1930542805   \n",
       "8          U001            4  BE associates 2020-01-25  1930397049   \n",
       "\n",
       "  posting_date document_create_date  invoice_currency  total_open_amount  \\\n",
       "1   14-01-2020           2020-01-14                 0           6.297349   \n",
       "7   19-02-2020           2020-02-19                 0           9.755842   \n",
       "8   15-01-2020           2020-01-14                 0           9.715863   \n",
       "\n",
       "  baseline_create_date cust_payment_terms    invoice_id   due_date  target  \\\n",
       "1           2020-01-14                NAA  1.930397e+09 2020-01-29       0   \n",
       "7           2020-02-19                NAA  1.930543e+09 2020-03-05      59   \n",
       "8           2020-01-15                NAA  1.930397e+09 2020-01-30      -5   \n",
       "\n",
       "   CA02  U001  U013  other  baseline_quater    B  \n",
       "1     0     1     0      0                1  0.0  \n",
       "7     0     1     0      0                1  0.0  \n",
       "8     0     1     0      0                1  0.0  "
      ]
     },
     "execution_count": 156,
     "metadata": {},
     "output_type": "execute_result"
    }
   ],
   "source": [
    "# See however a discrepency has occurred i.e. there is no column of B\n",
    "# so we just add a column B with values 0.\n",
    "X_test['B'] = np.zeros(5687)\n",
    "X_test.head(3)"
   ]
  },
  {
   "cell_type": "code",
   "execution_count": 158,
   "metadata": {},
   "outputs": [
    {
     "data": {
      "text/html": [
       "<div>\n",
       "<style scoped>\n",
       "    .dataframe tbody tr th:only-of-type {\n",
       "        vertical-align: middle;\n",
       "    }\n",
       "\n",
       "    .dataframe tbody tr th {\n",
       "        vertical-align: top;\n",
       "    }\n",
       "\n",
       "    .dataframe thead th {\n",
       "        text-align: right;\n",
       "    }\n",
       "</style>\n",
       "<table border=\"1\" class=\"dataframe\">\n",
       "  <thead>\n",
       "    <tr style=\"text-align: right;\">\n",
       "      <th></th>\n",
       "      <th>business_code</th>\n",
       "      <th>cust_number</th>\n",
       "      <th>name_customer</th>\n",
       "      <th>clear_date</th>\n",
       "      <th>doc_id</th>\n",
       "      <th>posting_date</th>\n",
       "      <th>document_create_date</th>\n",
       "      <th>invoice_currency</th>\n",
       "      <th>total_open_amount</th>\n",
       "      <th>baseline_create_date</th>\n",
       "      <th>...</th>\n",
       "      <th>other</th>\n",
       "      <th>baseline_quater</th>\n",
       "      <th>B</th>\n",
       "      <th>CA</th>\n",
       "      <th>C_number</th>\n",
       "      <th>NAA</th>\n",
       "      <th>NA_letter_number</th>\n",
       "      <th>NA_number_letter</th>\n",
       "      <th>NA_number_number</th>\n",
       "      <th>NA_place</th>\n",
       "    </tr>\n",
       "  </thead>\n",
       "  <tbody>\n",
       "    <tr>\n",
       "      <th>0</th>\n",
       "      <td>U001</td>\n",
       "      <td>1577</td>\n",
       "      <td>BJ'S  in</td>\n",
       "      <td>2020-01-13</td>\n",
       "      <td>1930330859</td>\n",
       "      <td>29-12-2019</td>\n",
       "      <td>2019-12-28</td>\n",
       "      <td>0</td>\n",
       "      <td>4.080246</td>\n",
       "      <td>2019-12-29</td>\n",
       "      <td>...</td>\n",
       "      <td>0</td>\n",
       "      <td>4</td>\n",
       "      <td>0</td>\n",
       "      <td>0</td>\n",
       "      <td>0</td>\n",
       "      <td>1</td>\n",
       "      <td>0</td>\n",
       "      <td>0</td>\n",
       "      <td>0</td>\n",
       "      <td>0</td>\n",
       "    </tr>\n",
       "  </tbody>\n",
       "</table>\n",
       "<p>1 rows × 27 columns</p>\n",
       "</div>"
      ],
      "text/plain": [
       "  business_code  cust_number name_customer clear_date      doc_id  \\\n",
       "0          U001         1577      BJ'S  in 2020-01-13  1930330859   \n",
       "\n",
       "  posting_date document_create_date  invoice_currency  total_open_amount  \\\n",
       "0   29-12-2019           2019-12-28                 0           4.080246   \n",
       "\n",
       "  baseline_create_date  ... other  baseline_quater  B  CA  C_number  NAA  \\\n",
       "0           2019-12-29  ...     0                4  0   0         0    1   \n",
       "\n",
       "   NA_letter_number  NA_number_letter  NA_number_number  NA_place  \n",
       "0                 0                 0                 0         0  \n",
       "\n",
       "[1 rows x 27 columns]"
      ]
     },
     "execution_count": 158,
     "metadata": {},
     "output_type": "execute_result"
    }
   ],
   "source": [
    "payment = pd.get_dummies(X_train['cust_payment_terms'])\n",
    "payment1 = pd.get_dummies(X_test['cust_payment_terms'])\n",
    "\n",
    "# Above in the cust_payment_terms column we can see they are categorical ones, so we make new feature\n",
    "# out of them \n",
    "X_final = pd.concat([X_train, payment], axis=1)\n",
    "X_final_test = pd.concat([X_test, payment1], axis=1)\n",
    "\n",
    "X_final.head(1)"
   ]
  },
  {
   "cell_type": "code",
   "execution_count": 159,
   "metadata": {},
   "outputs": [],
   "source": [
    "# X_final_test.head(15)"
   ]
  },
  {
   "cell_type": "code",
   "execution_count": 160,
   "metadata": {},
   "outputs": [
    {
     "data": {
      "text/plain": [
       "Index(['business_code', 'cust_number', 'name_customer', 'clear_date', 'doc_id',\n",
       "       'posting_date', 'document_create_date', 'invoice_currency',\n",
       "       'total_open_amount', 'baseline_create_date', 'cust_payment_terms',\n",
       "       'invoice_id', 'due_date', 'target', 'CA02', 'U001', 'U013', 'other',\n",
       "       'baseline_quater', 'B', 'CA', 'C_number', 'NAA', 'NA_letter_number',\n",
       "       'NA_number_letter', 'NA_number_number', 'NA_place'],\n",
       "      dtype='object')"
      ]
     },
     "execution_count": 160,
     "metadata": {},
     "output_type": "execute_result"
    }
   ],
   "source": [
    "X_final.columns"
   ]
  },
  {
   "cell_type": "code",
   "execution_count": 161,
   "metadata": {},
   "outputs": [
    {
     "data": {
      "text/plain": [
       "<matplotlib.axes._subplots.AxesSubplot at 0x22911430248>"
      ]
     },
     "execution_count": 161,
     "metadata": {},
     "output_type": "execute_result"
    },
    {
     "data": {
      "image/png": "[encoded data removed]",
      "text/plain": [
       "<Figure size 1080x1080 with 2 Axes>"
      ]
     },
     "metadata": {
      "needs_background": "light"
     },
     "output_type": "display_data"
    }
   ],
   "source": [
    "# X_final.columns\n",
    "plt.figure(figsize=(15,15))\n",
    "sns.heatmap(X_final.corr(),annot=True,cmap='viridis',linewidths=.5)"
   ]
  },
  {
   "cell_type": "code",
   "execution_count": 162,
   "metadata": {},
   "outputs": [],
   "source": [
    "# dropping columns that won't help in predictions. Note on feature has high correlation with target variable.\n",
    "X_final = X_final.drop(['doc_id', 'invoice_id','business_code', 'name_customer', 'clear_date',\n",
    "                       'posting_date', 'document_create_date', 'baseline_create_date', 'cust_payment_terms',\n",
    "                       'invoice_id', 'due_date'], axis = 1)\n",
    "\n",
    "X_final_test = X_final_test.drop(['doc_id', 'invoice_id','business_code', 'name_customer', 'clear_date',\n",
    "                       'posting_date', 'document_create_date', 'baseline_create_date', 'cust_payment_terms',\n",
    "                       'invoice_id', 'due_date'], axis = 1)"
   ]
  },
  {
   "cell_type": "code",
   "execution_count": 163,
   "metadata": {},
   "outputs": [
    {
     "data": {
      "text/html": [
       "<div>\n",
       "<style scoped>\n",
       "    .dataframe tbody tr th:only-of-type {\n",
       "        vertical-align: middle;\n",
       "    }\n",
       "\n",
       "    .dataframe tbody tr th {\n",
       "        vertical-align: top;\n",
       "    }\n",
       "\n",
       "    .dataframe thead th {\n",
       "        text-align: right;\n",
       "    }\n",
       "</style>\n",
       "<table border=\"1\" class=\"dataframe\">\n",
       "  <thead>\n",
       "    <tr style=\"text-align: right;\">\n",
       "      <th></th>\n",
       "      <th>cust_number</th>\n",
       "      <th>invoice_currency</th>\n",
       "      <th>total_open_amount</th>\n",
       "      <th>target</th>\n",
       "      <th>CA02</th>\n",
       "      <th>U001</th>\n",
       "      <th>U013</th>\n",
       "      <th>other</th>\n",
       "      <th>baseline_quater</th>\n",
       "      <th>B</th>\n",
       "      <th>CA</th>\n",
       "      <th>C_number</th>\n",
       "      <th>NAA</th>\n",
       "      <th>NA_letter_number</th>\n",
       "      <th>NA_number_letter</th>\n",
       "      <th>NA_number_number</th>\n",
       "      <th>NA_place</th>\n",
       "    </tr>\n",
       "  </thead>\n",
       "  <tbody>\n",
       "    <tr>\n",
       "      <th>0</th>\n",
       "      <td>1577</td>\n",
       "      <td>0</td>\n",
       "      <td>4.080246</td>\n",
       "      <td>0</td>\n",
       "      <td>0</td>\n",
       "      <td>1</td>\n",
       "      <td>0</td>\n",
       "      <td>0</td>\n",
       "      <td>4</td>\n",
       "      <td>0</td>\n",
       "      <td>0</td>\n",
       "      <td>0</td>\n",
       "      <td>1</td>\n",
       "      <td>0</td>\n",
       "      <td>0</td>\n",
       "      <td>0</td>\n",
       "      <td>0</td>\n",
       "    </tr>\n",
       "  </tbody>\n",
       "</table>\n",
       "</div>"
      ],
      "text/plain": [
       "   cust_number  invoice_currency  total_open_amount  target  CA02  U001  U013  \\\n",
       "0         1577                 0           4.080246       0     0     1     0   \n",
       "\n",
       "   other  baseline_quater  B  CA  C_number  NAA  NA_letter_number  \\\n",
       "0      0                4  0   0         0    1                 0   \n",
       "\n",
       "   NA_number_letter  NA_number_number  NA_place  \n",
       "0                 0                 0         0  "
      ]
     },
     "execution_count": 163,
     "metadata": {},
     "output_type": "execute_result"
    }
   ],
   "source": [
    "X_final.head(1)"
   ]
  },
  {
   "cell_type": "markdown",
   "metadata": {},
   "source": [
    "## Training and splitting"
   ]
  },
  {
   "cell_type": "code",
   "execution_count": 164,
   "metadata": {},
   "outputs": [],
   "source": [
    "y = X_final['target']\n",
    "X_final = X_final.drop(['target'], axis = 1)\n",
    "Xtrain ,Xtest, ytrain, ytest = train_test_split(X_final, y, test_size = 0.2, random_state=0)"
   ]
  },
  {
   "cell_type": "code",
   "execution_count": 165,
   "metadata": {},
   "outputs": [
    {
     "name": "stdout",
     "output_type": "stream",
     "text": [
      "[]\n"
     ]
    }
   ],
   "source": [
    "l = list(np.isfinite(ytrain))\n",
    "print([x for x in l if x == False])"
   ]
  },
  {
   "cell_type": "code",
   "execution_count": 166,
   "metadata": {},
   "outputs": [
    {
     "name": "stdout",
     "output_type": "stream",
     "text": [
      "[]\n"
     ]
    }
   ],
   "source": [
    "lp = list(np.isfinite(Xtrain))\n",
    "print([x for x in lp if x == False])"
   ]
  },
  {
   "cell_type": "code",
   "execution_count": 171,
   "metadata": {},
   "outputs": [],
   "source": [
    "random_model = RandomForestRegressor(n_estimators=500)"
   ]
  },
  {
   "cell_type": "code",
   "execution_count": 173,
   "metadata": {},
   "outputs": [
    {
     "name": "stdout",
     "output_type": "stream",
     "text": [
      "82.26 %\n"
     ]
    }
   ],
   "source": [
    "#Fit\n",
    "random_model.fit(Xtrain, ytrain)\n",
    "\n",
    "y_pred3 = random_model.predict(Xtest)\n",
    "\n",
    "#Checking the accuracy\n",
    "random_model_accuracy = round(random_model.score(Xtrain, ytrain)*100,2)\n",
    "print(round(random_model_accuracy,2),'%')"
   ]
  },
  {
   "cell_type": "code",
   "execution_count": 175,
   "metadata": {},
   "outputs": [],
   "source": [
    "#X_final_test = X_final_test.drop(['target'], axis = 1)"
   ]
  },
  {
   "cell_type": "code",
   "execution_count": 176,
   "metadata": {},
   "outputs": [
    {
     "data": {
      "text/plain": [
       "Index(['cust_number', 'invoice_currency', 'total_open_amount', 'CA02', 'U001',\n",
       "       'U013', 'other', 'baseline_quater', 'B', 'CA', 'C_number', 'NAA',\n",
       "       'NA_letter_number', 'NA_number_letter', 'NA_number_number', 'NA_place'],\n",
       "      dtype='object')"
      ]
     },
     "execution_count": 176,
     "metadata": {},
     "output_type": "execute_result"
    }
   ],
   "source": [
    "#X_final_test.isna().sum()\n",
    "#X_final_test = X_final_test['cust_number'].fillna(value=0)\n",
    "X_final_test.columns"
   ]
  },
  {
   "cell_type": "code",
   "execution_count": 177,
   "metadata": {},
   "outputs": [
    {
     "data": {
      "text/plain": [
       "array([-14.04066667,  15.4535    ,  31.8012    ])"
      ]
     },
     "execution_count": 177,
     "metadata": {},
     "output_type": "execute_result"
    }
   ],
   "source": [
    "real_time_data = random_model.predict(X_final_test)\n",
    "real_time_data[0:3]"
   ]
  },
  {
   "cell_type": "code",
   "execution_count": 179,
   "metadata": {},
   "outputs": [
    {
     "data": {
      "text/html": [
       "<div>\n",
       "<style scoped>\n",
       "    .dataframe tbody tr th:only-of-type {\n",
       "        vertical-align: middle;\n",
       "    }\n",
       "\n",
       "    .dataframe tbody tr th {\n",
       "        vertical-align: top;\n",
       "    }\n",
       "\n",
       "    .dataframe thead th {\n",
       "        text-align: right;\n",
       "    }\n",
       "</style>\n",
       "<table border=\"1\" class=\"dataframe\">\n",
       "  <thead>\n",
       "    <tr style=\"text-align: right;\">\n",
       "      <th></th>\n",
       "      <th>Predictions</th>\n",
       "      <th>Bucket_list</th>\n",
       "    </tr>\n",
       "  </thead>\n",
       "  <tbody>\n",
       "    <tr>\n",
       "      <th>0</th>\n",
       "      <td>-14.040667</td>\n",
       "      <td>Payment done before due date.</td>\n",
       "    </tr>\n",
       "    <tr>\n",
       "      <th>1</th>\n",
       "      <td>15.453500</td>\n",
       "      <td>Payment done 15 days after due date.</td>\n",
       "    </tr>\n",
       "    <tr>\n",
       "      <th>2</th>\n",
       "      <td>31.801200</td>\n",
       "      <td>Payment done 15 days after due date.</td>\n",
       "    </tr>\n",
       "    <tr>\n",
       "      <th>3</th>\n",
       "      <td>94.400000</td>\n",
       "      <td>Payment done 15 days after due date.</td>\n",
       "    </tr>\n",
       "    <tr>\n",
       "      <th>4</th>\n",
       "      <td>15.573333</td>\n",
       "      <td>Payment done 15 days after due date.</td>\n",
       "    </tr>\n",
       "  </tbody>\n",
       "</table>\n",
       "</div>"
      ],
      "text/plain": [
       "   Predictions                           Bucket_list\n",
       "0   -14.040667         Payment done before due date.\n",
       "1    15.453500  Payment done 15 days after due date.\n",
       "2    31.801200  Payment done 15 days after due date.\n",
       "3    94.400000  Payment done 15 days after due date.\n",
       "4    15.573333  Payment done 15 days after due date."
      ]
     },
     "execution_count": 179,
     "metadata": {},
     "output_type": "execute_result"
    }
   ],
   "source": [
    "def Mapping(x):\n",
    "    temp = []\n",
    "    for i in list(x):\n",
    "        if i < 0:\n",
    "            temp.append(\"Payment done before due date.\")\n",
    "        elif i > 15:\n",
    "            temp.append(\"Payment done 15 days after due date.\")\n",
    "        elif i > 30:\n",
    "            temp.append(\"Payment done 30 days after due date.\")\n",
    "        else:\n",
    "            temp.append(\"Payment done much after due date.\")\n",
    "    return temp\n",
    "\n",
    "col2 = Mapping(real_time_data)\n",
    "bucket = pd.DataFrame()\n",
    "bucket['Predictions'] = real_time_data\n",
    "bucket['Bucket_list'] = col2\n",
    "bucket.head()"
   ]
  },
  {
   "cell_type": "code",
   "execution_count": null,
   "metadata": {},
   "outputs": [],
   "source": []
  }
 ],
 "metadata": {
  "kernelspec": {
   "display_name": "Python 3",
   "language": "python",
   "name": "python3"
  },
  "language_info": {
   "codemirror_mode": {
    "name": "ipython",
    "version": 3
   },
   "file_extension": ".py",
   "mimetype": "text/x-python",
   "name": "python",
   "nbconvert_exporter": "python",
   "pygments_lexer": "ipython3",
   "version": "3.7.6"
  }
 },
 "nbformat": 4,
 "nbformat_minor": 4
}
