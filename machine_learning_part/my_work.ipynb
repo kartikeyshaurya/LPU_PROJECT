{
 "cells": [
  {
   "cell_type": "code",
   "execution_count": 2,
   "id": "e1c70329-4a62-4225-a738-e71cc75b04ee",
   "metadata": {},
   "outputs": [],
   "source": [
    "#importing all the libraries \n",
    "import numpy as np\n",
    "import pandas as pd\n",
    "import datetime as dt\n",
    "from scipy import stats\n",
    "import seaborn as sns\n",
    "import matplotlib.pyplot as plt\n",
    "%matplotlib inline\n",
    "\n",
    "#Machine Learning libraries  \n",
    "from sklearn.model_selection import train_test_split\n",
    "from sklearn.linear_model import LinearRegression\n",
    "from sklearn.ensemble import RandomForestRegressor\n",
    "from sklearn.tree import DecisionTreeRegressor\n",
    "from sklearn.ensemble import RandomForestRegressor\n",
    "from sklearn.svm import SVR\n",
    "import sklearn.metrics as metrics\n",
    "import xgboost as xgb"
   ]
  },
  {
   "cell_type": "markdown",
   "id": "af4fb535-dc5d-4260-b853-5b7a391f6172",
   "metadata": {
    "tags": []
   },
   "source": [
    "# Machine Learning Part of B2B Order Management Application \n",
    "\n",
    "\n",
    "Through this model we have tried to predict the date of payment and aging bucket of an invoice from the invoice creation. The whole purpose of the model is to help the account receivel team in the payment processs from the past Experiences \n",
    "<br>\n",
    "<br>\n",
    "Similar to any machine learning project it is a kind of supervised probelm and we have applied regression for the purpose\n",
    "<br>\n",
    "Here is the Workflow of the Whole Process.\n",
    "<br> \n",
    "<a id='starting'></a>\n",
    "1. [Dataset](#dataset) \n",
    "2. [Preprocessing](#preprocessing) \n",
    "3. [EDA and Data Visualization](#eda)\n",
    "4. [Feature Selection](#featureselection)\n",
    "5. [Machine Learning Algorithms](#ml)\n",
    "6. [Hyperparameters tunning](#Hyper) \n",
    "7. [Model Selection](#model)\n",
    "8. [Mapping](#Mapping) "
   ]
  },
  {
   "cell_type": "markdown",
   "id": "8688fe77-6590-4217-a852-3428417eed6d",
   "metadata": {},
   "source": [
    "![title](flow.png)"
   ]
  },
  {
   "cell_type": "markdown",
   "id": "8f8b4259-c81b-4bce-8326-96f4cb71aac5",
   "metadata": {
    "jp-MarkdownHeadingCollapsed": true,
    "tags": []
   },
   "source": [
    "<a id='dataset'></a>\n",
    "# <b>1.Dataset</b> \n",
    "\n",
    "### <b> Observation</b>\n",
    "\n",
    "* There is a Duplicate available in dataset named 'document_create_date.1' \n",
    "* There is also rows available in the dataset that is missing large number of value i.e clear_date,area_business so we dropped these rows\n",
    "* Two more thing thing that is noticeable  is <b> date and Currency </b> is not in well formeted \n",
    "* Most important we have also found ou the target variablle that is delay in dates for the invoice that is Generated\n",
    "\n",
    "* Go to [Flowchart](#starting)"
   ]
  },
  {
   "cell_type": "code",
   "execution_count": 3,
   "id": "d86eb002-973f-4604-ab18-6188c5e99223",
   "metadata": {},
   "outputs": [],
   "source": [
    "def load_data(notebook_name):\n",
    "    \" should be working in the same path \"\n",
    "    import os\n",
    "    path= os.getcwd()\n",
    "    print(\"currently working in \"+ str(os.listdir()))\n",
    "    path= os.getcwd()\n",
    "    data = pd.read_csv(os.getcwd()+\"//\"+notebook_name)\n",
    "    df = pd.DataFrame(data)\n",
    "    return data\n"
   ]
  },
  {
   "cell_type": "code",
   "execution_count": 4,
   "id": "8865e112-0f90-4a53-b683-71ff1c4fd221",
   "metadata": {},
   "outputs": [
    {
     "name": "stdout",
     "output_type": "stream",
     "text": [
      "currently working in ['.ipynb_checkpoints', '.vscode', 'data.csv', 'experiment.csv', 'flow.png', 'Invoice management system.ipynb', 'ml_copy-Copy1.ipynb', 'Modeling_assignment.ipynb', 'my_work.ipynb', 'rough.ipynb']\n"
     ]
    },
    {
     "data": {
      "text/plain": [
       "Index(['business_code', 'cust_number', 'name_customer', 'clear_date',\n",
       "       'buisness_year', 'doc_id', 'posting_date', 'document_create_date',\n",
       "       'document_create_date.1', 'due_in_date', 'invoice_currency',\n",
       "       'document type', 'posting_id', 'area_business', 'total_open_amount',\n",
       "       'baseline_create_date', 'cust_payment_terms', 'invoice_id', 'isOpen'],\n",
       "      dtype='object')"
      ]
     },
     "execution_count": 4,
     "metadata": {},
     "output_type": "execute_result"
    }
   ],
   "source": [
    "df = load_data(\"data.csv\") \n",
    "\n",
    "df.columns"
   ]
  },
  {
   "cell_type": "code",
   "execution_count": 5,
   "id": "3fb6ef38-3a73-4d6a-b2f5-5f8c2b311dc7",
   "metadata": {},
   "outputs": [
    {
     "data": {
      "text/plain": [
       "(50000, 19)"
      ]
     },
     "execution_count": 5,
     "metadata": {},
     "output_type": "execute_result"
    }
   ],
   "source": [
    "df.shape"
   ]
  },
  {
   "cell_type": "code",
   "execution_count": 6,
   "id": "bc27900d-7ad3-4cd3-9747-c5af79090a2f",
   "metadata": {},
   "outputs": [
    {
     "data": {
      "text/plain": [
       "business_code               0\n",
       "cust_number                 0\n",
       "name_customer               0\n",
       "clear_date              10000\n",
       "buisness_year               0\n",
       "doc_id                      0\n",
       "posting_date                0\n",
       "document_create_date        0\n",
       "due_in_date                 0\n",
       "invoice_currency            0\n",
       "document type               0\n",
       "posting_id                  0\n",
       "area_business           50000\n",
       "total_open_amount           0\n",
       "baseline_create_date        0\n",
       "cust_payment_terms          0\n",
       "invoice_id                  6\n",
       "isOpen                      0\n",
       "dtype: int64"
      ]
     },
     "execution_count": 6,
     "metadata": {},
     "output_type": "execute_result"
    }
   ],
   "source": [
    "## Duplicates\n",
    "df_1 = df.drop(['document_create_date.1'], axis=1)\n",
    "\n",
    "# finding nan values \n",
    "df_1.isna().sum()"
   ]
  },
  {
   "cell_type": "code",
   "execution_count": 7,
   "id": "8a48c056-dc5b-4247-9c8a-c22271b682b1",
   "metadata": {},
   "outputs": [
    {
     "data": {
      "text/plain": [
       "(39994, 17)"
      ]
     },
     "execution_count": 7,
     "metadata": {},
     "output_type": "execute_result"
    }
   ],
   "source": [
    "#area has overall all the null value hence dropping \n",
    "df_1 = df_1.drop(['area_business'], axis = 1)\n",
    "\n",
    "#similar to tarea buisenss clear date is having atmost to many null  value \n",
    "# but it is essential for finding targer payment \n",
    "# hence we are dropping only null value \n",
    "df_1 = df_1.dropna(axis = 0, how ='any')\n",
    "df_1.shape\n"
   ]
  },
  {
   "cell_type": "code",
   "execution_count": 8,
   "id": "4dfeaeaa-96e9-4fd7-8c24-787485dc86c3",
   "metadata": {},
   "outputs": [
    {
     "data": {
      "text/plain": [
       "business_code           0\n",
       "cust_number             0\n",
       "name_customer           0\n",
       "clear_date              0\n",
       "buisness_year           0\n",
       "doc_id                  0\n",
       "posting_date            0\n",
       "document_create_date    0\n",
       "due_in_date             0\n",
       "invoice_currency        0\n",
       "document type           0\n",
       "posting_id              0\n",
       "total_open_amount       0\n",
       "baseline_create_date    0\n",
       "cust_payment_terms      0\n",
       "invoice_id              0\n",
       "isOpen                  0\n",
       "dtype: int64"
      ]
     },
     "execution_count": 8,
     "metadata": {},
     "output_type": "execute_result"
    }
   ],
   "source": [
    "df_1.isna().sum()"
   ]
  },
  {
   "cell_type": "code",
   "execution_count": 9,
   "id": "2a460422-36e0-41b9-9aae-6a1c08620e4b",
   "metadata": {},
   "outputs": [
    {
     "data": {
      "text/html": [
       "<div>\n",
       "<style scoped>\n",
       "    .dataframe tbody tr th:only-of-type {\n",
       "        vertical-align: middle;\n",
       "    }\n",
       "\n",
       "    .dataframe tbody tr th {\n",
       "        vertical-align: top;\n",
       "    }\n",
       "\n",
       "    .dataframe thead th {\n",
       "        text-align: right;\n",
       "    }\n",
       "</style>\n",
       "<table border=\"1\" class=\"dataframe\">\n",
       "  <thead>\n",
       "    <tr style=\"text-align: right;\">\n",
       "      <th></th>\n",
       "      <th>business_code</th>\n",
       "      <th>cust_number</th>\n",
       "      <th>name_customer</th>\n",
       "      <th>clear_date</th>\n",
       "      <th>buisness_year</th>\n",
       "      <th>doc_id</th>\n",
       "      <th>posting_date</th>\n",
       "      <th>document_create_date</th>\n",
       "      <th>due_in_date</th>\n",
       "      <th>invoice_currency</th>\n",
       "      <th>document type</th>\n",
       "      <th>posting_id</th>\n",
       "      <th>total_open_amount</th>\n",
       "      <th>baseline_create_date</th>\n",
       "      <th>cust_payment_terms</th>\n",
       "      <th>invoice_id</th>\n",
       "      <th>isOpen</th>\n",
       "    </tr>\n",
       "  </thead>\n",
       "  <tbody>\n",
       "    <tr>\n",
       "      <th>0</th>\n",
       "      <td>U001</td>\n",
       "      <td>0200769623</td>\n",
       "      <td>WAL-MAR corp</td>\n",
       "      <td>2020-02-11 00:00:00</td>\n",
       "      <td>2020.0</td>\n",
       "      <td>1.930438e+09</td>\n",
       "      <td>2020-01-26</td>\n",
       "      <td>20200125</td>\n",
       "      <td>20200210.0</td>\n",
       "      <td>USD</td>\n",
       "      <td>RV</td>\n",
       "      <td>1.0</td>\n",
       "      <td>54273.28</td>\n",
       "      <td>20200126.0</td>\n",
       "      <td>NAH4</td>\n",
       "      <td>1.930438e+09</td>\n",
       "      <td>0</td>\n",
       "    </tr>\n",
       "    <tr>\n",
       "      <th>1</th>\n",
       "      <td>U001</td>\n",
       "      <td>0200980828</td>\n",
       "      <td>BEN E</td>\n",
       "      <td>2019-08-08 00:00:00</td>\n",
       "      <td>2019.0</td>\n",
       "      <td>1.929646e+09</td>\n",
       "      <td>2019-07-22</td>\n",
       "      <td>20190722</td>\n",
       "      <td>20190811.0</td>\n",
       "      <td>USD</td>\n",
       "      <td>RV</td>\n",
       "      <td>1.0</td>\n",
       "      <td>79656.60</td>\n",
       "      <td>20190722.0</td>\n",
       "      <td>NAD1</td>\n",
       "      <td>1.929646e+09</td>\n",
       "      <td>0</td>\n",
       "    </tr>\n",
       "    <tr>\n",
       "      <th>2</th>\n",
       "      <td>U001</td>\n",
       "      <td>0200792734</td>\n",
       "      <td>MDV/ trust</td>\n",
       "      <td>2019-12-30 00:00:00</td>\n",
       "      <td>2019.0</td>\n",
       "      <td>1.929874e+09</td>\n",
       "      <td>2019-09-14</td>\n",
       "      <td>20190914</td>\n",
       "      <td>20190929.0</td>\n",
       "      <td>USD</td>\n",
       "      <td>RV</td>\n",
       "      <td>1.0</td>\n",
       "      <td>2253.86</td>\n",
       "      <td>20190914.0</td>\n",
       "      <td>NAA8</td>\n",
       "      <td>1.929874e+09</td>\n",
       "      <td>0</td>\n",
       "    </tr>\n",
       "    <tr>\n",
       "      <th>4</th>\n",
       "      <td>U001</td>\n",
       "      <td>0200769623</td>\n",
       "      <td>WAL-MAR foundation</td>\n",
       "      <td>2019-11-25 00:00:00</td>\n",
       "      <td>2019.0</td>\n",
       "      <td>1.930148e+09</td>\n",
       "      <td>2019-11-13</td>\n",
       "      <td>20191113</td>\n",
       "      <td>20191128.0</td>\n",
       "      <td>USD</td>\n",
       "      <td>RV</td>\n",
       "      <td>1.0</td>\n",
       "      <td>33133.29</td>\n",
       "      <td>20191113.0</td>\n",
       "      <td>NAH4</td>\n",
       "      <td>1.930148e+09</td>\n",
       "      <td>0</td>\n",
       "    </tr>\n",
       "    <tr>\n",
       "      <th>5</th>\n",
       "      <td>CA02</td>\n",
       "      <td>0140106181</td>\n",
       "      <td>THE  corporation</td>\n",
       "      <td>2019-12-04 00:00:00</td>\n",
       "      <td>2019.0</td>\n",
       "      <td>2.960581e+09</td>\n",
       "      <td>2019-09-20</td>\n",
       "      <td>20190920</td>\n",
       "      <td>20191004.0</td>\n",
       "      <td>CAD</td>\n",
       "      <td>RV</td>\n",
       "      <td>1.0</td>\n",
       "      <td>22225.84</td>\n",
       "      <td>20190924.0</td>\n",
       "      <td>CA10</td>\n",
       "      <td>2.960581e+09</td>\n",
       "      <td>0</td>\n",
       "    </tr>\n",
       "    <tr>\n",
       "      <th>6</th>\n",
       "      <td>U001</td>\n",
       "      <td>0200769623</td>\n",
       "      <td>WAL-MAR in</td>\n",
       "      <td>2019-11-12 00:00:00</td>\n",
       "      <td>2019.0</td>\n",
       "      <td>1.930083e+09</td>\n",
       "      <td>2019-11-01</td>\n",
       "      <td>20191031</td>\n",
       "      <td>20191116.0</td>\n",
       "      <td>USD</td>\n",
       "      <td>RV</td>\n",
       "      <td>1.0</td>\n",
       "      <td>7358.49</td>\n",
       "      <td>20191101.0</td>\n",
       "      <td>NAH4</td>\n",
       "      <td>1.930083e+09</td>\n",
       "      <td>0</td>\n",
       "    </tr>\n",
       "    <tr>\n",
       "      <th>8</th>\n",
       "      <td>U001</td>\n",
       "      <td>0200769623</td>\n",
       "      <td>WAL-MAR corp</td>\n",
       "      <td>2019-06-18 00:00:00</td>\n",
       "      <td>2019.0</td>\n",
       "      <td>1.929440e+09</td>\n",
       "      <td>2019-06-07</td>\n",
       "      <td>20190605</td>\n",
       "      <td>20190622.0</td>\n",
       "      <td>USD</td>\n",
       "      <td>RV</td>\n",
       "      <td>1.0</td>\n",
       "      <td>15995.04</td>\n",
       "      <td>20190607.0</td>\n",
       "      <td>NAH4</td>\n",
       "      <td>1.929440e+09</td>\n",
       "      <td>0</td>\n",
       "    </tr>\n",
       "    <tr>\n",
       "      <th>9</th>\n",
       "      <td>U001</td>\n",
       "      <td>0200762301</td>\n",
       "      <td>C&amp;S WH systems</td>\n",
       "      <td>2019-03-06 00:00:00</td>\n",
       "      <td>2019.0</td>\n",
       "      <td>1.928819e+09</td>\n",
       "      <td>2019-02-20</td>\n",
       "      <td>20190219</td>\n",
       "      <td>20190307.0</td>\n",
       "      <td>USD</td>\n",
       "      <td>RV</td>\n",
       "      <td>1.0</td>\n",
       "      <td>28.63</td>\n",
       "      <td>20190220.0</td>\n",
       "      <td>NAC6</td>\n",
       "      <td>1.928819e+09</td>\n",
       "      <td>0</td>\n",
       "    </tr>\n",
       "    <tr>\n",
       "      <th>11</th>\n",
       "      <td>U001</td>\n",
       "      <td>0200743129</td>\n",
       "      <td>BROOKS co</td>\n",
       "      <td>2019-01-22 00:00:00</td>\n",
       "      <td>2019.0</td>\n",
       "      <td>1.928551e+09</td>\n",
       "      <td>2019-01-02</td>\n",
       "      <td>20190102</td>\n",
       "      <td>20190117.0</td>\n",
       "      <td>USD</td>\n",
       "      <td>RV</td>\n",
       "      <td>1.0</td>\n",
       "      <td>103147.37</td>\n",
       "      <td>20190102.0</td>\n",
       "      <td>NAA8</td>\n",
       "      <td>1.928551e+09</td>\n",
       "      <td>0</td>\n",
       "    </tr>\n",
       "    <tr>\n",
       "      <th>12</th>\n",
       "      <td>U001</td>\n",
       "      <td>0200186937</td>\n",
       "      <td>SYSC corporation</td>\n",
       "      <td>2019-05-06 00:00:00</td>\n",
       "      <td>2019.0</td>\n",
       "      <td>1.929152e+09</td>\n",
       "      <td>2019-04-15</td>\n",
       "      <td>20190415</td>\n",
       "      <td>20190430.0</td>\n",
       "      <td>USD</td>\n",
       "      <td>RV</td>\n",
       "      <td>1.0</td>\n",
       "      <td>16381.45</td>\n",
       "      <td>20190415.0</td>\n",
       "      <td>NAA8</td>\n",
       "      <td>1.929152e+09</td>\n",
       "      <td>0</td>\n",
       "    </tr>\n",
       "  </tbody>\n",
       "</table>\n",
       "</div>"
      ],
      "text/plain": [
       "   business_code cust_number       name_customer           clear_date  \\\n",
       "0           U001  0200769623        WAL-MAR corp  2020-02-11 00:00:00   \n",
       "1           U001  0200980828              BEN E   2019-08-08 00:00:00   \n",
       "2           U001  0200792734          MDV/ trust  2019-12-30 00:00:00   \n",
       "4           U001  0200769623  WAL-MAR foundation  2019-11-25 00:00:00   \n",
       "5           CA02  0140106181    THE  corporation  2019-12-04 00:00:00   \n",
       "6           U001  0200769623          WAL-MAR in  2019-11-12 00:00:00   \n",
       "8           U001  0200769623        WAL-MAR corp  2019-06-18 00:00:00   \n",
       "9           U001  0200762301      C&S WH systems  2019-03-06 00:00:00   \n",
       "11          U001  0200743129           BROOKS co  2019-01-22 00:00:00   \n",
       "12          U001  0200186937    SYSC corporation  2019-05-06 00:00:00   \n",
       "\n",
       "    buisness_year        doc_id posting_date  document_create_date  \\\n",
       "0          2020.0  1.930438e+09   2020-01-26              20200125   \n",
       "1          2019.0  1.929646e+09   2019-07-22              20190722   \n",
       "2          2019.0  1.929874e+09   2019-09-14              20190914   \n",
       "4          2019.0  1.930148e+09   2019-11-13              20191113   \n",
       "5          2019.0  2.960581e+09   2019-09-20              20190920   \n",
       "6          2019.0  1.930083e+09   2019-11-01              20191031   \n",
       "8          2019.0  1.929440e+09   2019-06-07              20190605   \n",
       "9          2019.0  1.928819e+09   2019-02-20              20190219   \n",
       "11         2019.0  1.928551e+09   2019-01-02              20190102   \n",
       "12         2019.0  1.929152e+09   2019-04-15              20190415   \n",
       "\n",
       "    due_in_date invoice_currency document type  posting_id  total_open_amount  \\\n",
       "0    20200210.0              USD            RV         1.0           54273.28   \n",
       "1    20190811.0              USD            RV         1.0           79656.60   \n",
       "2    20190929.0              USD            RV         1.0            2253.86   \n",
       "4    20191128.0              USD            RV         1.0           33133.29   \n",
       "5    20191004.0              CAD            RV         1.0           22225.84   \n",
       "6    20191116.0              USD            RV         1.0            7358.49   \n",
       "8    20190622.0              USD            RV         1.0           15995.04   \n",
       "9    20190307.0              USD            RV         1.0              28.63   \n",
       "11   20190117.0              USD            RV         1.0          103147.37   \n",
       "12   20190430.0              USD            RV         1.0           16381.45   \n",
       "\n",
       "    baseline_create_date cust_payment_terms    invoice_id  isOpen  \n",
       "0             20200126.0               NAH4  1.930438e+09       0  \n",
       "1             20190722.0               NAD1  1.929646e+09       0  \n",
       "2             20190914.0               NAA8  1.929874e+09       0  \n",
       "4             20191113.0               NAH4  1.930148e+09       0  \n",
       "5             20190924.0               CA10  2.960581e+09       0  \n",
       "6             20191101.0               NAH4  1.930083e+09       0  \n",
       "8             20190607.0               NAH4  1.929440e+09       0  \n",
       "9             20190220.0               NAC6  1.928819e+09       0  \n",
       "11            20190102.0               NAA8  1.928551e+09       0  \n",
       "12            20190415.0               NAA8  1.929152e+09       0  "
      ]
     },
     "execution_count": 9,
     "metadata": {},
     "output_type": "execute_result"
    }
   ],
   "source": [
    "df_1[:10]"
   ]
  },
  {
   "cell_type": "markdown",
   "id": "e543bb34-735d-42d7-9fc6-0f2518ddf598",
   "metadata": {
    "jp-MarkdownHeadingCollapsed": true,
    "tags": []
   },
   "source": [
    "<a id='preprocessing'></a>\n",
    "# <b> 2.  Preprocessing </b>\n",
    "\n",
    "* In preprocessing we have done some simple steps like \n",
    "data cleaning, data integration, data reduction, and data transformation\n",
    "\n",
    "    1.  converting cad amount into usd \n",
    "    2.  formetting date into proper formet \n",
    "    3.  then we created train and test with making target column\n",
    "        * for <b> target variable </b> we have just subtracted clear_date with due_date "
   ]
  },
  {
   "cell_type": "markdown",
   "id": "dcd65b7c-2536-4d74-a747-240409772684",
   "metadata": {
    "tags": []
   },
   "source": [
    "## 2.1 remember to convert amount into usd  "
   ]
  },
  {
   "cell_type": "code",
   "execution_count": 10,
   "id": "720bfaa1-e066-4ae9-902f-d2418720a176",
   "metadata": {},
   "outputs": [
    {
     "name": "stdout",
     "output_type": "stream",
     "text": [
      "46081 3919\n"
     ]
    }
   ],
   "source": [
    "currecy = (df[\"invoice_currency\"])\n",
    "\n",
    "usd,cad = 0,0\n",
    "for i in range(len(currecy)):\n",
    "    if(currecy[i]==\"USD\"):\n",
    "        usd+=1\n",
    "    elif(currecy[i]==\"CAD\"):\n",
    "        cad +=1 \n",
    "print(usd,cad)      \n",
    "        "
   ]
  },
  {
   "cell_type": "markdown",
   "id": "037cb800-0057-4e7a-8e75-c5ab34e745d1",
   "metadata": {
    "tags": []
   },
   "source": [
    "## 2.2 Formatting Date "
   ]
  },
  {
   "cell_type": "code",
   "execution_count": 11,
   "id": "f4443960-7c9b-4dc1-aa24-8e73bac5cda9",
   "metadata": {},
   "outputs": [],
   "source": [
    "def change_date(x_type):\n",
    "    x = int(x_type)\n",
    "    x = str(x)\n",
    "    year = int(x[0:4])\n",
    "    month = int(x[4:6])\n",
    "    day = int(x[6:])\n",
    "    return dt.datetime(year, month, day)"
   ]
  },
  {
   "cell_type": "code",
   "execution_count": 12,
   "id": "74d2aceb-78c2-49d2-a895-837251b8ae7c",
   "metadata": {},
   "outputs": [
    {
     "name": "stdout",
     "output_type": "stream",
     "text": [
      "<class 'datetime.datetime'>\n",
      "2020-02-10 00:00:00\n"
     ]
    }
   ],
   "source": [
    "print(type(change_date(20200210.0)))\n",
    "print(change_date(20200210.0))"
   ]
  },
  {
   "cell_type": "markdown",
   "id": "4d8a7802-4ade-49a4-8926-c723e542ffcf",
   "metadata": {
    "tags": []
   },
   "source": [
    " ## 2.3 Creating Target Varible "
   ]
  },
  {
   "cell_type": "code",
   "execution_count": 13,
   "id": "bd2bcd61-c6c0-4ded-bd52-0a8e25681c88",
   "metadata": {},
   "outputs": [],
   "source": [
    "df_1['due_date'] = df_1['due_in_date'].apply(change_date)\n",
    "df_1['clear_date']= pd.to_datetime(df_1['clear_date']) \n",
    "\n",
    "# target variable\n",
    "df_1['target'] = (df_1['clear_date'] - df_1['due_date']).dt.days"
   ]
  },
  {
   "cell_type": "code",
   "execution_count": 14,
   "id": "d49320a1-ac4f-4abd-b5dd-b941bb37cb3d",
   "metadata": {},
   "outputs": [],
   "source": [
    "## just applied in the proper formet\n",
    "\n",
    "df_1['document_create_date'] = df_1['document_create_date'].apply(change_date)\n",
    "df_1['baseline_create_date'] = df_1['baseline_create_date'].apply(change_date)\n",
    "df_1['due_in_date'] = df_1[\"due_in_date\"].apply(change_date)"
   ]
  },
  {
   "cell_type": "markdown",
   "id": "d902ad00-0300-4a7d-b6b3-02e5e6ce31a9",
   "metadata": {},
   "source": [
    "### The Positive value means that there is delay in payment and negation means it is paid "
   ]
  },
  {
   "cell_type": "code",
   "execution_count": 15,
   "id": "be424a2c-3e81-485d-a312-4906ac81c7aa",
   "metadata": {},
   "outputs": [
    {
     "data": {
      "text/plain": [
       "0      1\n",
       "1     -3\n",
       "2     92\n",
       "4     -3\n",
       "5     61\n",
       "6     -4\n",
       "8     -4\n",
       "9     -1\n",
       "11     5\n",
       "12     6\n",
       "Name: target, dtype: int64"
      ]
     },
     "execution_count": 15,
     "metadata": {},
     "output_type": "execute_result"
    }
   ],
   "source": [
    "df_1[\"target\"][:10]"
   ]
  },
  {
   "cell_type": "code",
   "execution_count": 16,
   "id": "5a6ecd85-b796-44be-b6b7-8d663d409aeb",
   "metadata": {},
   "outputs": [
    {
     "data": {
      "text/html": [
       "<div>\n",
       "<style scoped>\n",
       "    .dataframe tbody tr th:only-of-type {\n",
       "        vertical-align: middle;\n",
       "    }\n",
       "\n",
       "    .dataframe tbody tr th {\n",
       "        vertical-align: top;\n",
       "    }\n",
       "\n",
       "    .dataframe thead th {\n",
       "        text-align: right;\n",
       "    }\n",
       "</style>\n",
       "<table border=\"1\" class=\"dataframe\">\n",
       "  <thead>\n",
       "    <tr style=\"text-align: right;\">\n",
       "      <th></th>\n",
       "      <th>business_code</th>\n",
       "      <th>cust_number</th>\n",
       "      <th>name_customer</th>\n",
       "      <th>clear_date</th>\n",
       "      <th>buisness_year</th>\n",
       "      <th>doc_id</th>\n",
       "      <th>posting_date</th>\n",
       "      <th>document_create_date</th>\n",
       "      <th>due_in_date</th>\n",
       "      <th>invoice_currency</th>\n",
       "      <th>document type</th>\n",
       "      <th>posting_id</th>\n",
       "      <th>total_open_amount</th>\n",
       "      <th>baseline_create_date</th>\n",
       "      <th>cust_payment_terms</th>\n",
       "      <th>invoice_id</th>\n",
       "      <th>isOpen</th>\n",
       "      <th>due_date</th>\n",
       "      <th>target</th>\n",
       "    </tr>\n",
       "  </thead>\n",
       "  <tbody>\n",
       "    <tr>\n",
       "      <th>0</th>\n",
       "      <td>U001</td>\n",
       "      <td>0200769623</td>\n",
       "      <td>WAL-MAR corp</td>\n",
       "      <td>2020-02-11</td>\n",
       "      <td>2020.0</td>\n",
       "      <td>1.930438e+09</td>\n",
       "      <td>2020-01-26</td>\n",
       "      <td>2020-01-25</td>\n",
       "      <td>2020-02-10</td>\n",
       "      <td>USD</td>\n",
       "      <td>RV</td>\n",
       "      <td>1.0</td>\n",
       "      <td>54273.28</td>\n",
       "      <td>2020-01-26</td>\n",
       "      <td>NAH4</td>\n",
       "      <td>1.930438e+09</td>\n",
       "      <td>0</td>\n",
       "      <td>2020-02-10</td>\n",
       "      <td>1</td>\n",
       "    </tr>\n",
       "    <tr>\n",
       "      <th>1</th>\n",
       "      <td>U001</td>\n",
       "      <td>0200980828</td>\n",
       "      <td>BEN E</td>\n",
       "      <td>2019-08-08</td>\n",
       "      <td>2019.0</td>\n",
       "      <td>1.929646e+09</td>\n",
       "      <td>2019-07-22</td>\n",
       "      <td>2019-07-22</td>\n",
       "      <td>2019-08-11</td>\n",
       "      <td>USD</td>\n",
       "      <td>RV</td>\n",
       "      <td>1.0</td>\n",
       "      <td>79656.60</td>\n",
       "      <td>2019-07-22</td>\n",
       "      <td>NAD1</td>\n",
       "      <td>1.929646e+09</td>\n",
       "      <td>0</td>\n",
       "      <td>2019-08-11</td>\n",
       "      <td>-3</td>\n",
       "    </tr>\n",
       "    <tr>\n",
       "      <th>2</th>\n",
       "      <td>U001</td>\n",
       "      <td>0200792734</td>\n",
       "      <td>MDV/ trust</td>\n",
       "      <td>2019-12-30</td>\n",
       "      <td>2019.0</td>\n",
       "      <td>1.929874e+09</td>\n",
       "      <td>2019-09-14</td>\n",
       "      <td>2019-09-14</td>\n",
       "      <td>2019-09-29</td>\n",
       "      <td>USD</td>\n",
       "      <td>RV</td>\n",
       "      <td>1.0</td>\n",
       "      <td>2253.86</td>\n",
       "      <td>2019-09-14</td>\n",
       "      <td>NAA8</td>\n",
       "      <td>1.929874e+09</td>\n",
       "      <td>0</td>\n",
       "      <td>2019-09-29</td>\n",
       "      <td>92</td>\n",
       "    </tr>\n",
       "    <tr>\n",
       "      <th>4</th>\n",
       "      <td>U001</td>\n",
       "      <td>0200769623</td>\n",
       "      <td>WAL-MAR foundation</td>\n",
       "      <td>2019-11-25</td>\n",
       "      <td>2019.0</td>\n",
       "      <td>1.930148e+09</td>\n",
       "      <td>2019-11-13</td>\n",
       "      <td>2019-11-13</td>\n",
       "      <td>2019-11-28</td>\n",
       "      <td>USD</td>\n",
       "      <td>RV</td>\n",
       "      <td>1.0</td>\n",
       "      <td>33133.29</td>\n",
       "      <td>2019-11-13</td>\n",
       "      <td>NAH4</td>\n",
       "      <td>1.930148e+09</td>\n",
       "      <td>0</td>\n",
       "      <td>2019-11-28</td>\n",
       "      <td>-3</td>\n",
       "    </tr>\n",
       "    <tr>\n",
       "      <th>5</th>\n",
       "      <td>CA02</td>\n",
       "      <td>0140106181</td>\n",
       "      <td>THE  corporation</td>\n",
       "      <td>2019-12-04</td>\n",
       "      <td>2019.0</td>\n",
       "      <td>2.960581e+09</td>\n",
       "      <td>2019-09-20</td>\n",
       "      <td>2019-09-20</td>\n",
       "      <td>2019-10-04</td>\n",
       "      <td>CAD</td>\n",
       "      <td>RV</td>\n",
       "      <td>1.0</td>\n",
       "      <td>22225.84</td>\n",
       "      <td>2019-09-24</td>\n",
       "      <td>CA10</td>\n",
       "      <td>2.960581e+09</td>\n",
       "      <td>0</td>\n",
       "      <td>2019-10-04</td>\n",
       "      <td>61</td>\n",
       "    </tr>\n",
       "  </tbody>\n",
       "</table>\n",
       "</div>"
      ],
      "text/plain": [
       "  business_code cust_number       name_customer clear_date  buisness_year  \\\n",
       "0          U001  0200769623        WAL-MAR corp 2020-02-11         2020.0   \n",
       "1          U001  0200980828              BEN E  2019-08-08         2019.0   \n",
       "2          U001  0200792734          MDV/ trust 2019-12-30         2019.0   \n",
       "4          U001  0200769623  WAL-MAR foundation 2019-11-25         2019.0   \n",
       "5          CA02  0140106181    THE  corporation 2019-12-04         2019.0   \n",
       "\n",
       "         doc_id posting_date document_create_date due_in_date  \\\n",
       "0  1.930438e+09   2020-01-26           2020-01-25  2020-02-10   \n",
       "1  1.929646e+09   2019-07-22           2019-07-22  2019-08-11   \n",
       "2  1.929874e+09   2019-09-14           2019-09-14  2019-09-29   \n",
       "4  1.930148e+09   2019-11-13           2019-11-13  2019-11-28   \n",
       "5  2.960581e+09   2019-09-20           2019-09-20  2019-10-04   \n",
       "\n",
       "  invoice_currency document type  posting_id  total_open_amount  \\\n",
       "0              USD            RV         1.0           54273.28   \n",
       "1              USD            RV         1.0           79656.60   \n",
       "2              USD            RV         1.0            2253.86   \n",
       "4              USD            RV         1.0           33133.29   \n",
       "5              CAD            RV         1.0           22225.84   \n",
       "\n",
       "  baseline_create_date cust_payment_terms    invoice_id  isOpen   due_date  \\\n",
       "0           2020-01-26               NAH4  1.930438e+09       0 2020-02-10   \n",
       "1           2019-07-22               NAD1  1.929646e+09       0 2019-08-11   \n",
       "2           2019-09-14               NAA8  1.929874e+09       0 2019-09-29   \n",
       "4           2019-11-13               NAH4  1.930148e+09       0 2019-11-28   \n",
       "5           2019-09-24               CA10  2.960581e+09       0 2019-10-04   \n",
       "\n",
       "   target  \n",
       "0       1  \n",
       "1      -3  \n",
       "2      92  \n",
       "4      -3  \n",
       "5      61  "
      ]
     },
     "execution_count": 16,
     "metadata": {},
     "output_type": "execute_result"
    }
   ],
   "source": [
    "df_1[:5]"
   ]
  },
  {
   "cell_type": "code",
   "execution_count": 17,
   "id": "88609708-2b97-4c2b-8c01-90a1157ed5af",
   "metadata": {},
   "outputs": [],
   "source": [
    "# Splitting the initial dataframe into train and test\n",
    "# So in this case we can consider last 3 months for test set.\n",
    "x_train = df_1[df_1['document_create_date'] <= '2020-01-01'].copy()\n",
    "x_test = df_1[df_1['document_create_date'] > '2020-01-01'].copy()"
   ]
  },
  {
   "cell_type": "code",
   "execution_count": 18,
   "id": "ae1fead2-9c90-4b12-b14e-c8df31daccf0",
   "metadata": {},
   "outputs": [
    {
     "data": {
      "text/html": [
       "<div>\n",
       "<style scoped>\n",
       "    .dataframe tbody tr th:only-of-type {\n",
       "        vertical-align: middle;\n",
       "    }\n",
       "\n",
       "    .dataframe tbody tr th {\n",
       "        vertical-align: top;\n",
       "    }\n",
       "\n",
       "    .dataframe thead th {\n",
       "        text-align: right;\n",
       "    }\n",
       "</style>\n",
       "<table border=\"1\" class=\"dataframe\">\n",
       "  <thead>\n",
       "    <tr style=\"text-align: right;\">\n",
       "      <th></th>\n",
       "      <th>business_code</th>\n",
       "      <th>cust_number</th>\n",
       "      <th>name_customer</th>\n",
       "      <th>clear_date</th>\n",
       "      <th>buisness_year</th>\n",
       "      <th>doc_id</th>\n",
       "      <th>posting_date</th>\n",
       "      <th>document_create_date</th>\n",
       "      <th>due_in_date</th>\n",
       "      <th>invoice_currency</th>\n",
       "      <th>document type</th>\n",
       "      <th>posting_id</th>\n",
       "      <th>total_open_amount</th>\n",
       "      <th>baseline_create_date</th>\n",
       "      <th>cust_payment_terms</th>\n",
       "      <th>invoice_id</th>\n",
       "      <th>isOpen</th>\n",
       "      <th>due_date</th>\n",
       "      <th>target</th>\n",
       "    </tr>\n",
       "  </thead>\n",
       "  <tbody>\n",
       "    <tr>\n",
       "      <th>0</th>\n",
       "      <td>U001</td>\n",
       "      <td>0200769623</td>\n",
       "      <td>WAL-MAR corp</td>\n",
       "      <td>2020-02-11</td>\n",
       "      <td>2020.0</td>\n",
       "      <td>1.930438e+09</td>\n",
       "      <td>2020-01-26</td>\n",
       "      <td>2020-01-25</td>\n",
       "      <td>2020-02-10</td>\n",
       "      <td>USD</td>\n",
       "      <td>RV</td>\n",
       "      <td>1.0</td>\n",
       "      <td>54273.28</td>\n",
       "      <td>2020-01-26</td>\n",
       "      <td>NAH4</td>\n",
       "      <td>1.930438e+09</td>\n",
       "      <td>0</td>\n",
       "      <td>2020-02-10</td>\n",
       "      <td>1</td>\n",
       "    </tr>\n",
       "    <tr>\n",
       "      <th>19</th>\n",
       "      <td>U001</td>\n",
       "      <td>0200769623</td>\n",
       "      <td>WAL-MAR systems</td>\n",
       "      <td>2020-02-05</td>\n",
       "      <td>2020.0</td>\n",
       "      <td>1.930438e+09</td>\n",
       "      <td>2020-01-24</td>\n",
       "      <td>2020-01-24</td>\n",
       "      <td>2020-02-08</td>\n",
       "      <td>USD</td>\n",
       "      <td>RV</td>\n",
       "      <td>1.0</td>\n",
       "      <td>53349.54</td>\n",
       "      <td>2020-01-24</td>\n",
       "      <td>NAH4</td>\n",
       "      <td>1.930438e+09</td>\n",
       "      <td>0</td>\n",
       "      <td>2020-02-08</td>\n",
       "      <td>-3</td>\n",
       "    </tr>\n",
       "    <tr>\n",
       "      <th>20</th>\n",
       "      <td>U013</td>\n",
       "      <td>0100053554</td>\n",
       "      <td>SYSTEMS systems</td>\n",
       "      <td>2020-02-11</td>\n",
       "      <td>2020.0</td>\n",
       "      <td>1.991838e+09</td>\n",
       "      <td>2020-01-11</td>\n",
       "      <td>2020-01-07</td>\n",
       "      <td>2020-02-10</td>\n",
       "      <td>USD</td>\n",
       "      <td>RV</td>\n",
       "      <td>1.0</td>\n",
       "      <td>5683.50</td>\n",
       "      <td>2020-01-11</td>\n",
       "      <td>NAVE</td>\n",
       "      <td>1.991838e+09</td>\n",
       "      <td>0</td>\n",
       "      <td>2020-02-10</td>\n",
       "      <td>1</td>\n",
       "    </tr>\n",
       "    <tr>\n",
       "      <th>24</th>\n",
       "      <td>U001</td>\n",
       "      <td>0200769623</td>\n",
       "      <td>WAL-MAR co</td>\n",
       "      <td>2020-02-04</td>\n",
       "      <td>2020.0</td>\n",
       "      <td>1.930431e+09</td>\n",
       "      <td>2020-01-24</td>\n",
       "      <td>2020-01-23</td>\n",
       "      <td>2020-02-08</td>\n",
       "      <td>USD</td>\n",
       "      <td>RV</td>\n",
       "      <td>1.0</td>\n",
       "      <td>11307.78</td>\n",
       "      <td>2020-01-24</td>\n",
       "      <td>NAH4</td>\n",
       "      <td>1.930431e+09</td>\n",
       "      <td>0</td>\n",
       "      <td>2020-02-08</td>\n",
       "      <td>-4</td>\n",
       "    </tr>\n",
       "    <tr>\n",
       "      <th>41</th>\n",
       "      <td>U001</td>\n",
       "      <td>0200769623</td>\n",
       "      <td>WAL-MAR associates</td>\n",
       "      <td>2020-01-21</td>\n",
       "      <td>2020.0</td>\n",
       "      <td>1.930353e+09</td>\n",
       "      <td>2020-01-04</td>\n",
       "      <td>2020-01-04</td>\n",
       "      <td>2020-01-19</td>\n",
       "      <td>USD</td>\n",
       "      <td>RV</td>\n",
       "      <td>1.0</td>\n",
       "      <td>4953.83</td>\n",
       "      <td>2020-01-04</td>\n",
       "      <td>NAH4</td>\n",
       "      <td>1.930353e+09</td>\n",
       "      <td>0</td>\n",
       "      <td>2020-01-19</td>\n",
       "      <td>2</td>\n",
       "    </tr>\n",
       "  </tbody>\n",
       "</table>\n",
       "</div>"
      ],
      "text/plain": [
       "   business_code cust_number       name_customer clear_date  buisness_year  \\\n",
       "0           U001  0200769623        WAL-MAR corp 2020-02-11         2020.0   \n",
       "19          U001  0200769623     WAL-MAR systems 2020-02-05         2020.0   \n",
       "20          U013  0100053554     SYSTEMS systems 2020-02-11         2020.0   \n",
       "24          U001  0200769623          WAL-MAR co 2020-02-04         2020.0   \n",
       "41          U001  0200769623  WAL-MAR associates 2020-01-21         2020.0   \n",
       "\n",
       "          doc_id posting_date document_create_date due_in_date  \\\n",
       "0   1.930438e+09   2020-01-26           2020-01-25  2020-02-10   \n",
       "19  1.930438e+09   2020-01-24           2020-01-24  2020-02-08   \n",
       "20  1.991838e+09   2020-01-11           2020-01-07  2020-02-10   \n",
       "24  1.930431e+09   2020-01-24           2020-01-23  2020-02-08   \n",
       "41  1.930353e+09   2020-01-04           2020-01-04  2020-01-19   \n",
       "\n",
       "   invoice_currency document type  posting_id  total_open_amount  \\\n",
       "0               USD            RV         1.0           54273.28   \n",
       "19              USD            RV         1.0           53349.54   \n",
       "20              USD            RV         1.0            5683.50   \n",
       "24              USD            RV         1.0           11307.78   \n",
       "41              USD            RV         1.0            4953.83   \n",
       "\n",
       "   baseline_create_date cust_payment_terms    invoice_id  isOpen   due_date  \\\n",
       "0            2020-01-26               NAH4  1.930438e+09       0 2020-02-10   \n",
       "19           2020-01-24               NAH4  1.930438e+09       0 2020-02-08   \n",
       "20           2020-01-11               NAVE  1.991838e+09       0 2020-02-10   \n",
       "24           2020-01-24               NAH4  1.930431e+09       0 2020-02-08   \n",
       "41           2020-01-04               NAH4  1.930353e+09       0 2020-01-19   \n",
       "\n",
       "    target  \n",
       "0        1  \n",
       "19      -3  \n",
       "20       1  \n",
       "24      -4  \n",
       "41       2  "
      ]
     },
     "execution_count": 18,
     "metadata": {},
     "output_type": "execute_result"
    }
   ],
   "source": [
    "x_test.head()"
   ]
  },
  {
   "cell_type": "code",
   "execution_count": 19,
   "id": "5a465014-780e-48f0-a093-7c664071845d",
   "metadata": {},
   "outputs": [
    {
     "name": "stdout",
     "output_type": "stream",
     "text": [
      "(34971, 19)\n",
      "(5023, 19)\n"
     ]
    }
   ],
   "source": [
    "print(x_train.shape)\n",
    "print(x_test.shape)"
   ]
  },
  {
   "cell_type": "markdown",
   "id": "375b511a-db30-45fb-9265-54add20a6335",
   "metadata": {
    "tags": []
   },
   "source": [
    "<a id='eda'></a>\n",
    "# <b> 3. EDA </b> \n",
    "<br> \n",
    "\n",
    "* Through EDA We want to just watch certain data and see how our data is distributed\n",
    "        1. First we want to look how how our buiseness are doing\n",
    "        2. Invoice Currency \n",
    "        3. Payment is Done or Not \n",
    "        4. Document Type \n",
    "        5. Posting Id \n",
    "        6. Customer Payment Terms \n",
    "        7. \n",
    "* Go to [Flowchart](#starting)"
   ]
  },
  {
   "cell_type": "markdown",
   "id": "88907aef-077f-4a14-bf1b-7955aaa162a6",
   "metadata": {
    "tags": []
   },
   "source": [
    "## 3.1  Buisness Columns \n"
   ]
  },
  {
   "cell_type": "code",
   "execution_count": 20,
   "id": "d61a1b43-7656-4f1e-a7fe-0977de2cc814",
   "metadata": {},
   "outputs": [
    {
     "name": "stdout",
     "output_type": "stream",
     "text": [
      "{'U001': 31589, 'CA02': 2820, 'U013': 442, 'U002': 107, 'U005': 9, 'U007': 4}\n",
      "{'U001': 4601, 'CA02': 354, 'U013': 59, 'U002': 9}\n"
     ]
    }
   ],
   "source": [
    "print(dict(x_train['business_code'].value_counts()))\n",
    "print(dict(x_test['business_code'].value_counts()))"
   ]
  },
  {
   "cell_type": "code",
   "execution_count": 21,
   "id": "5c8047a2-4e6c-4325-beb8-40c2a0cbd142",
   "metadata": {},
   "outputs": [
    {
     "data": {
      "text/plain": [
       "<AxesSubplot:xlabel='business_code', ylabel='count'>"
      ]
     },
     "execution_count": 21,
     "metadata": {},
     "output_type": "execute_result"
    },
    {
     "data": {
      "image/png": "[encoded data removed]",
      "text/plain": [
       "<Figure size 432x288 with 1 Axes>"
      ]
     },
     "metadata": {},
     "output_type": "display_data"
    }
   ],
   "source": [
    "sns.set(style =\"darkgrid\")\n",
    "sns.countplot(x = x_train['business_code'], palette = \"Set2\")"
   ]
  },
  {
   "cell_type": "code",
   "execution_count": 22,
   "id": "fc4ed125-6cdd-4dbd-bafb-658517c7676d",
   "metadata": {},
   "outputs": [
    {
     "data": {
      "text/plain": [
       "<AxesSubplot:xlabel='business_code', ylabel='count'>"
      ]
     },
     "execution_count": 22,
     "metadata": {},
     "output_type": "execute_result"
    },
    {
     "data": {
      "image/png": "[encoded data removed]",
      "text/plain": [
       "<Figure size 432x288 with 1 Axes>"
      ]
     },
     "metadata": {},
     "output_type": "display_data"
    }
   ],
   "source": [
    "sns.countplot(x = x_test['business_code'], palette = \"Set2\")"
   ]
  },
  {
   "cell_type": "markdown",
   "id": "f9f5d456-a4f8-4191-904f-973b5085ed01",
   "metadata": {
    "tags": []
   },
   "source": [
    "## 3.2 Invoice Currency "
   ]
  },
  {
   "cell_type": "code",
   "execution_count": 23,
   "id": "53c10a61-f02a-40c7-ae82-3cee6414450f",
   "metadata": {},
   "outputs": [
    {
     "name": "stdout",
     "output_type": "stream",
     "text": [
      "{'USD': 32149, 'CAD': 2822}\n",
      "{'USD': 4669, 'CAD': 354}\n"
     ]
    }
   ],
   "source": [
    "print(dict(x_train['invoice_currency'].value_counts()))\n",
    "print(dict(x_test['invoice_currency'].value_counts()))"
   ]
  },
  {
   "cell_type": "code",
   "execution_count": 24,
   "id": "0c93fbf0-5d6b-402e-bcb1-aaa0b4383544",
   "metadata": {},
   "outputs": [
    {
     "data": {
      "text/plain": [
       "<AxesSubplot:xlabel='invoice_currency', ylabel='count'>"
      ]
     },
     "execution_count": 24,
     "metadata": {},
     "output_type": "execute_result"
    },
    {
     "data": {
      "image/png": "[encoded data removed]",
      "text/plain": [
       "<Figure size 432x288 with 1 Axes>"
      ]
     },
     "metadata": {},
     "output_type": "display_data"
    }
   ],
   "source": [
    "sns.countplot(x = x_train['invoice_currency'], palette = \"Set2\")"
   ]
  },
  {
   "cell_type": "code",
   "execution_count": 25,
   "id": "6c58184f-bb13-4431-9e8a-bac3a0a7ce4f",
   "metadata": {},
   "outputs": [
    {
     "data": {
      "text/plain": [
       "<AxesSubplot:xlabel='invoice_currency', ylabel='count'>"
      ]
     },
     "execution_count": 25,
     "metadata": {},
     "output_type": "execute_result"
    },
    {
     "data": {
      "image/png": "[encoded data removed]",
      "text/plain": [
       "<Figure size 432x288 with 1 Axes>"
      ]
     },
     "metadata": {},
     "output_type": "display_data"
    }
   ],
   "source": [
    "sns.countplot(x =x_test['invoice_currency'], palette = \"Set2\")"
   ]
  },
  {
   "cell_type": "markdown",
   "id": "beea90e8-0027-4763-87af-b5430c4e79ac",
   "metadata": {
    "tags": []
   },
   "source": [
    "## 3.3 payment Related Observation\n"
   ]
  },
  {
   "cell_type": "code",
   "execution_count": 26,
   "id": "480754f1-1054-414b-be1d-04bede6a9c97",
   "metadata": {},
   "outputs": [
    {
     "name": "stdout",
     "output_type": "stream",
     "text": [
      "{0: 34971}\n",
      "{0: 5023}\n"
     ]
    }
   ],
   "source": [
    "print(dict(x_train['isOpen'].value_counts()))\n",
    "print(dict(x_test['isOpen'].value_counts()))"
   ]
  },
  {
   "cell_type": "code",
   "execution_count": 27,
   "id": "7880169d-557a-4cc5-aed0-ac228a7fb0b3",
   "metadata": {},
   "outputs": [
    {
     "name": "stderr",
     "output_type": "stream",
     "text": [
      "C:\\Users\\karti\\AppData\\Local\\Temp\\ipykernel_15484\\2770081958.py:2: FutureWarning: Series.dt.weekofyear and Series.dt.week have been deprecated. Please use Series.dt.isocalendar().week instead.\n",
      "  clearPayment_week= x_train.clear_date.dt.week\n"
     ]
    },
    {
     "data": {
      "text/plain": [
       "1     1587\n",
       "2     2487\n",
       "6     2803\n",
       "9     2920\n",
       "3     2962\n",
       "7     3087\n",
       "8     3103\n",
       "11    3118\n",
       "10    3144\n",
       "12    3179\n",
       "4     3191\n",
       "5     3390\n",
       "Name: clear_date, dtype: int64"
      ]
     },
     "execution_count": 27,
     "metadata": {},
     "output_type": "execute_result"
    }
   ],
   "source": [
    "clearPayment_month= x_train.clear_date.dt.month\n",
    "clearPayment_week= x_train.clear_date.dt.week\n",
    "\n",
    "clearPayment_month.value_counts().sort_values(axis = 0)"
   ]
  },
  {
   "cell_type": "code",
   "execution_count": 32,
   "id": "b7c76aac-b763-4212-90c1-4a88f920092e",
   "metadata": {},
   "outputs": [
    {
     "data": {
      "text/plain": [
       "<AxesSubplot:xlabel='clear_date', ylabel='count'>"
      ]
     },
     "execution_count": 32,
     "metadata": {},
     "output_type": "execute_result"
    },
    {
     "data": {
      "image/png": "[encoded data removed]",
      "text/plain": [
       "<Figure size 432x288 with 1 Axes>"
      ]
     },
     "metadata": {},
     "output_type": "display_data"
    }
   ],
   "source": [
    "# jsut a simple visualization\n",
    "sns.countplot(x= clearPayment_month,palette = \"Set2\")"
   ]
  },
  {
   "cell_type": "code",
   "execution_count": 28,
   "id": "a0cb8319-8df1-459f-a9d0-0fa2eeb041b5",
   "metadata": {},
   "outputs": [
    {
     "data": {
      "text/plain": [
       "1     322\n",
       "2     125\n",
       "3     501\n",
       "4     493\n",
       "5     603\n",
       "6     593\n",
       "7     691\n",
       "8     608\n",
       "9     656\n",
       "10    643\n",
       "11    632\n",
       "12    716\n",
       "13    774\n",
       "14    700\n",
       "15    725\n",
       "16    718\n",
       "17    718\n",
       "18    814\n",
       "19    724\n",
       "20    690\n",
       "21    739\n",
       "22    754\n",
       "23    675\n",
       "24    689\n",
       "25    674\n",
       "26    764\n",
       "27    703\n",
       "28    727\n",
       "29    601\n",
       "30    673\n",
       "31    739\n",
       "32    650\n",
       "33    688\n",
       "34    616\n",
       "35    793\n",
       "36    614\n",
       "37    733\n",
       "38    652\n",
       "39    754\n",
       "40    669\n",
       "41    714\n",
       "42    658\n",
       "43    699\n",
       "44    814\n",
       "45    691\n",
       "46    682\n",
       "47    721\n",
       "48    781\n",
       "49    709\n",
       "50    620\n",
       "51    793\n",
       "52    736\n",
       "Name: clear_date, dtype: int64"
      ]
     },
     "execution_count": 28,
     "metadata": {},
     "output_type": "execute_result"
    }
   ],
   "source": [
    "clearPayment_week.value_counts().sort_index()\n",
    "# observe that the first is "
   ]
  },
  {
   "cell_type": "code",
   "execution_count": 38,
   "id": "b4a0b365-fcbd-45be-877a-b27b34a0193d",
   "metadata": {},
   "outputs": [
    {
     "data": {
      "text/plain": [
       "<AxesSubplot:xlabel='clear_date', ylabel='count'>"
      ]
     },
     "execution_count": 38,
     "metadata": {},
     "output_type": "execute_result"
    },
    {
     "data": {
      "image/png": "[encoded data removed]",
      "text/plain": [
       "<Figure size 842.4x595.44 with 1 Axes>"
      ]
     },
     "metadata": {},
     "output_type": "display_data"
    }
   ],
   "source": [
    "sns.set(rc={'figure.figsize':(11.7,8.27)})\n",
    "sns.countplot(x= clearPayment_week,palette = \"Set2\")"
   ]
  },
  {
   "cell_type": "markdown",
   "id": "acb9ce25-ea05-422f-8234-f13f575e7ce3",
   "metadata": {
    "tags": []
   },
   "source": [
    "## 3.4 Document Types "
   ]
  },
  {
   "cell_type": "code",
   "execution_count": 197,
   "id": "d7721fd8-7ed3-431d-817a-f06ff6e6f0db",
   "metadata": {},
   "outputs": [
    {
     "name": "stdout",
     "output_type": "stream",
     "text": [
      "{'RV': 34971}\n",
      "{'RV': 5023}\n"
     ]
    }
   ],
   "source": [
    "print(dict(x_train['document type'].value_counts()))\n",
    "print(dict(x_test['document type'].value_counts()))"
   ]
  },
  {
   "cell_type": "markdown",
   "id": "22a4cef6-bdd7-496f-9457-adae977538a7",
   "metadata": {
    "tags": []
   },
   "source": [
    "## 3.5 Customer Payment Terms \n",
    "\n",
    "## <b> Observation</b> \n",
    "    * There are two many category hence we really need to find a way to group these element \n",
    "    * if we want to include in the features \n",
    "    * or other option is to drop it completely "
   ]
  },
  {
   "cell_type": "code",
   "execution_count": 198,
   "id": "778ac1e3-c7e2-4306-9df7-8f8b28d3527d",
   "metadata": {},
   "outputs": [
    {
     "name": "stdout",
     "output_type": "stream",
     "text": [
      "{'NAA8': 14032, 'NAH4': 9267, 'CA10': 2727, 'NAC6': 1167, 'NAM4': 947, 'NAAX': 836, 'NAD1': 719, 'NAU5': 633, 'NAG2': 623, 'NAGD': 527, 'NA32': 526, 'NAX2': 469, 'NAM2': 418, 'NA10': 310, 'NAD5': 239, 'NAM1': 191, 'NAVE': 189, 'NAVF': 183, 'NAAW': 138, 'NAWU': 117, 'NAWN': 97, 'NAVR': 84, 'NAVQ': 75, 'NAWP': 48, 'CA30': 40, 'NAUZ': 37, 'NA3B': 36, 'NAVM': 31, 'NACB': 28, 'NA38': 23, 'NABG': 19, 'NAD4': 19, 'NAB1': 16, 'NAVD': 13, 'C106': 12, 'NA84': 12, 'NAVL': 11, 'BR56': 10, 'NAUP': 10, 'NA9X': 10, 'NA3F': 8, 'NATM': 7, 'NAM3': 6, 'CAB1': 6, 'CAX2': 5, 'NATJ': 5, 'NA25': 4, 'NAWM': 4, 'NATW': 4, 'B052': 3, 'NATH': 3, 'NAVC': 3, 'NA8Q': 3, 'NATL': 2, 'NAV9': 2, 'NATX': 2, '90M7': 2, 'NA31': 2, 'NATU': 1, 'NATK': 1, 'CA60': 1, 'NAUY': 1, 'NAUW': 1, 'NABD': 1, 'NATV': 1, 'MC15': 1, 'NAD8': 1, 'NAV2': 1, 'BR12': 1}\n",
      "Testing Data\n",
      "{'NAA8': 1984, 'NAH4': 1326, 'CA10': 342, 'NAM4': 165, 'NAC6': 150, 'NAAX': 126, 'NAGD': 119, 'NAG2': 100, 'NAD1': 100, 'NA32': 81, 'NAX2': 79, 'NAM2': 71, 'NAU5': 68, 'NA10': 62, 'NAD5': 40, 'NAM1': 34, 'NAVE': 30, 'NAAW': 21, 'NAVQ': 20, 'NAWP': 19, 'NAVF': 16, 'NABG': 8, 'NAD4': 7, 'CA30': 6, 'NACB': 5, 'NAUZ': 5, 'NA3B': 5, 'NAVD': 4, 'NA3F': 3, 'NAB1': 3, 'NAUP': 3, '90M7': 3, 'NAVL': 2, 'NA84': 2, 'NA8Q': 2, 'NAV2': 2, 'NATZ': 2, 'NAVM': 2, 'NA38': 1, 'BR12': 1, 'CAB1': 1, 'NAD8': 1, 'NAV9': 1, 'NAVC': 1}\n"
     ]
    }
   ],
   "source": [
    "print(dict(x_train['cust_payment_terms'].value_counts()))\n",
    "print(\"Testing Data\")\n",
    "print(dict(x_test['cust_payment_terms'].value_counts()))"
   ]
  },
  {
   "cell_type": "code",
   "execution_count": 85,
   "id": "5009cfe6-c4d5-434b-b6e9-6029efcce265",
   "metadata": {},
   "outputs": [
    {
     "name": "stdout",
     "output_type": "stream",
     "text": [
      "NAA8    14032\n",
      "NAH4     9267\n",
      "CA10     2727\n",
      "NAC6     1167\n",
      "NAM4      947\n",
      "NAAX      836\n",
      "NAD1      719\n",
      "NAU5      633\n",
      "NAG2      623\n",
      "NAGD      527\n",
      "Name: cust_payment_terms, dtype: int64\n"
     ]
    }
   ],
   "source": [
    "#countplot is not possible because of the avalibility of the data\n",
    "#just for the plot \n",
    "import random\n",
    "random1 =x_train['cust_payment_terms'].value_counts()\n",
    "print(random1[:10])\n",
    "#x_train = sort(x_train)\n",
    "sorted_random =({k: v for k, v in sorted(random1.items(), key=lambda item: item[1])})\n"
   ]
  },
  {
   "cell_type": "code",
   "execution_count": 122,
   "id": "8cc62e41-2bf8-44ab-aba4-0281781b0bec",
   "metadata": {},
   "outputs": [],
   "source": [
    "data_items =sorted_random.items()\n",
    "data_list = list(data_items)\n",
    "dfxc = pd.DataFrame(data_list)\n",
    "dfxc.columns = (['Name', 'Values'])\n",
    "dfxc = dfxc.sort_values(by =[\"Values\"])\n",
    "y_pos =  np.arange(len(dfxc[\"Name\"]))"
   ]
  },
  {
   "cell_type": "code",
   "execution_count": 124,
   "id": "868edcee-6f49-4ac3-a942-e34def95e4ed",
   "metadata": {},
   "outputs": [
    {
     "name": "stdout",
     "output_type": "stream",
     "text": [
      "<class 'pandas.core.frame.DataFrame'>\n",
      "Int64Index: 69 entries, 0 to 68\n",
      "Data columns (total 2 columns):\n",
      " #   Column  Non-Null Count  Dtype \n",
      "---  ------  --------------  ----- \n",
      " 0   Name    69 non-null     object\n",
      " 1   Values  69 non-null     int64 \n",
      "dtypes: int64(1), object(1)\n",
      "memory usage: 1.6+ KB\n"
     ]
    },
    {
     "data": {
      "image/png": "[encoded data removed]",
      "text/plain": [
       "<Figure size 842.4x595.44 with 1 Axes>"
      ]
     },
     "metadata": {},
     "output_type": "display_data"
    }
   ],
   "source": [
    "dfxc.info()\n",
    "plt.bar(y_pos, dfxc[\"Values\"])\n",
    "plt.xticks(y_pos,dfxc[\"Name\"]) \n",
    "plt.show()"
   ]
  },
  {
   "cell_type": "markdown",
   "id": "8f3046be-957a-4d23-82a0-9b5c09f69868",
   "metadata": {},
   "source": [
    "## 3.6 Posting ID "
   ]
  },
  {
   "cell_type": "markdown",
   "id": "b2090125-ca44-4490-9a15-1aefc5cb7cb2",
   "metadata": {
    "tags": []
   },
   "source": [
    "# 4 Feature Selection"
   ]
  },
  {
   "cell_type": "code",
   "execution_count": 200,
   "id": "97bf8c6b-14b2-4641-8019-fc4733fffeac",
   "metadata": {},
   "outputs": [
    {
     "data": {
      "text/html": [
       "<div>\n",
       "<style scoped>\n",
       "    .dataframe tbody tr th:only-of-type {\n",
       "        vertical-align: middle;\n",
       "    }\n",
       "\n",
       "    .dataframe tbody tr th {\n",
       "        vertical-align: top;\n",
       "    }\n",
       "\n",
       "    .dataframe thead th {\n",
       "        text-align: right;\n",
       "    }\n",
       "</style>\n",
       "<table border=\"1\" class=\"dataframe\">\n",
       "  <thead>\n",
       "    <tr style=\"text-align: right;\">\n",
       "      <th></th>\n",
       "      <th>business_code</th>\n",
       "      <th>cust_number</th>\n",
       "      <th>name_customer</th>\n",
       "      <th>clear_date</th>\n",
       "      <th>buisness_year</th>\n",
       "      <th>doc_id</th>\n",
       "      <th>posting_date</th>\n",
       "      <th>document_create_date</th>\n",
       "      <th>due_in_date</th>\n",
       "      <th>invoice_currency</th>\n",
       "      <th>document type</th>\n",
       "      <th>posting_id</th>\n",
       "      <th>total_open_amount</th>\n",
       "      <th>baseline_create_date</th>\n",
       "      <th>cust_payment_terms</th>\n",
       "      <th>invoice_id</th>\n",
       "      <th>isOpen</th>\n",
       "      <th>due_date</th>\n",
       "      <th>target</th>\n",
       "    </tr>\n",
       "  </thead>\n",
       "  <tbody>\n",
       "    <tr>\n",
       "      <th>1</th>\n",
       "      <td>U001</td>\n",
       "      <td>0200980828</td>\n",
       "      <td>BEN E</td>\n",
       "      <td>2019-08-08</td>\n",
       "      <td>2019.0</td>\n",
       "      <td>1.929646e+09</td>\n",
       "      <td>2019-07-22</td>\n",
       "      <td>2019-07-22</td>\n",
       "      <td>2019-08-11</td>\n",
       "      <td>USD</td>\n",
       "      <td>RV</td>\n",
       "      <td>1.0</td>\n",
       "      <td>79656.60</td>\n",
       "      <td>2019-07-22</td>\n",
       "      <td>NAD1</td>\n",
       "      <td>1.929646e+09</td>\n",
       "      <td>0</td>\n",
       "      <td>2019-08-11</td>\n",
       "      <td>-3</td>\n",
       "    </tr>\n",
       "    <tr>\n",
       "      <th>2</th>\n",
       "      <td>U001</td>\n",
       "      <td>0200792734</td>\n",
       "      <td>MDV/ trust</td>\n",
       "      <td>2019-12-30</td>\n",
       "      <td>2019.0</td>\n",
       "      <td>1.929874e+09</td>\n",
       "      <td>2019-09-14</td>\n",
       "      <td>2019-09-14</td>\n",
       "      <td>2019-09-29</td>\n",
       "      <td>USD</td>\n",
       "      <td>RV</td>\n",
       "      <td>1.0</td>\n",
       "      <td>2253.86</td>\n",
       "      <td>2019-09-14</td>\n",
       "      <td>NAA8</td>\n",
       "      <td>1.929874e+09</td>\n",
       "      <td>0</td>\n",
       "      <td>2019-09-29</td>\n",
       "      <td>92</td>\n",
       "    </tr>\n",
       "    <tr>\n",
       "      <th>4</th>\n",
       "      <td>U001</td>\n",
       "      <td>0200769623</td>\n",
       "      <td>WAL-MAR foundation</td>\n",
       "      <td>2019-11-25</td>\n",
       "      <td>2019.0</td>\n",
       "      <td>1.930148e+09</td>\n",
       "      <td>2019-11-13</td>\n",
       "      <td>2019-11-13</td>\n",
       "      <td>2019-11-28</td>\n",
       "      <td>USD</td>\n",
       "      <td>RV</td>\n",
       "      <td>1.0</td>\n",
       "      <td>33133.29</td>\n",
       "      <td>2019-11-13</td>\n",
       "      <td>NAH4</td>\n",
       "      <td>1.930148e+09</td>\n",
       "      <td>0</td>\n",
       "      <td>2019-11-28</td>\n",
       "      <td>-3</td>\n",
       "    </tr>\n",
       "    <tr>\n",
       "      <th>5</th>\n",
       "      <td>CA02</td>\n",
       "      <td>0140106181</td>\n",
       "      <td>THE  corporation</td>\n",
       "      <td>2019-12-04</td>\n",
       "      <td>2019.0</td>\n",
       "      <td>2.960581e+09</td>\n",
       "      <td>2019-09-20</td>\n",
       "      <td>2019-09-20</td>\n",
       "      <td>2019-10-04</td>\n",
       "      <td>CAD</td>\n",
       "      <td>RV</td>\n",
       "      <td>1.0</td>\n",
       "      <td>22225.84</td>\n",
       "      <td>2019-09-24</td>\n",
       "      <td>CA10</td>\n",
       "      <td>2.960581e+09</td>\n",
       "      <td>0</td>\n",
       "      <td>2019-10-04</td>\n",
       "      <td>61</td>\n",
       "    </tr>\n",
       "    <tr>\n",
       "      <th>6</th>\n",
       "      <td>U001</td>\n",
       "      <td>0200769623</td>\n",
       "      <td>WAL-MAR in</td>\n",
       "      <td>2019-11-12</td>\n",
       "      <td>2019.0</td>\n",
       "      <td>1.930083e+09</td>\n",
       "      <td>2019-11-01</td>\n",
       "      <td>2019-10-31</td>\n",
       "      <td>2019-11-16</td>\n",
       "      <td>USD</td>\n",
       "      <td>RV</td>\n",
       "      <td>1.0</td>\n",
       "      <td>7358.49</td>\n",
       "      <td>2019-11-01</td>\n",
       "      <td>NAH4</td>\n",
       "      <td>1.930083e+09</td>\n",
       "      <td>0</td>\n",
       "      <td>2019-11-16</td>\n",
       "      <td>-4</td>\n",
       "    </tr>\n",
       "  </tbody>\n",
       "</table>\n",
       "</div>"
      ],
      "text/plain": [
       "  business_code cust_number       name_customer clear_date  buisness_year  \\\n",
       "1          U001  0200980828              BEN E  2019-08-08         2019.0   \n",
       "2          U001  0200792734          MDV/ trust 2019-12-30         2019.0   \n",
       "4          U001  0200769623  WAL-MAR foundation 2019-11-25         2019.0   \n",
       "5          CA02  0140106181    THE  corporation 2019-12-04         2019.0   \n",
       "6          U001  0200769623          WAL-MAR in 2019-11-12         2019.0   \n",
       "\n",
       "         doc_id posting_date document_create_date due_in_date  \\\n",
       "1  1.929646e+09   2019-07-22           2019-07-22  2019-08-11   \n",
       "2  1.929874e+09   2019-09-14           2019-09-14  2019-09-29   \n",
       "4  1.930148e+09   2019-11-13           2019-11-13  2019-11-28   \n",
       "5  2.960581e+09   2019-09-20           2019-09-20  2019-10-04   \n",
       "6  1.930083e+09   2019-11-01           2019-10-31  2019-11-16   \n",
       "\n",
       "  invoice_currency document type  posting_id  total_open_amount  \\\n",
       "1              USD            RV         1.0           79656.60   \n",
       "2              USD            RV         1.0            2253.86   \n",
       "4              USD            RV         1.0           33133.29   \n",
       "5              CAD            RV         1.0           22225.84   \n",
       "6              USD            RV         1.0            7358.49   \n",
       "\n",
       "  baseline_create_date cust_payment_terms    invoice_id  isOpen   due_date  \\\n",
       "1           2019-07-22               NAD1  1.929646e+09       0 2019-08-11   \n",
       "2           2019-09-14               NAA8  1.929874e+09       0 2019-09-29   \n",
       "4           2019-11-13               NAH4  1.930148e+09       0 2019-11-28   \n",
       "5           2019-09-24               CA10  2.960581e+09       0 2019-10-04   \n",
       "6           2019-11-01               NAH4  1.930083e+09       0 2019-11-16   \n",
       "\n",
       "   target  \n",
       "1      -3  \n",
       "2      92  \n",
       "4      -3  \n",
       "5      61  \n",
       "6      -4  "
      ]
     },
     "execution_count": 200,
     "metadata": {},
     "output_type": "execute_result"
    }
   ],
   "source": [
    "# First We will be starting with the dropping the different values that is not useful \n",
    "## that is \n",
    "x_train.head(5)"
   ]
  },
  {
   "cell_type": "code",
   "execution_count": 201,
   "id": "66ea6095-0147-411a-9ae0-7ceb060fabfb",
   "metadata": {},
   "outputs": [],
   "source": [
    "## Dropping the Column [Posting_ID , is_open, Document_type] since they are only one value \n",
    "x_train =  x_train.drop(['posting_id', 'posting_id', 'document type'], axis = 1)\n",
    "x_test = x_test.drop(['posting_id', 'posting_id', 'document type'], axis = 1)"
   ]
  },
  {
   "cell_type": "code",
   "execution_count": 202,
   "id": "3f97ae2b-75de-406a-99d4-8c7a8b0109a9",
   "metadata": {},
   "outputs": [
    {
     "data": {
      "text/html": [
       "<div>\n",
       "<style scoped>\n",
       "    .dataframe tbody tr th:only-of-type {\n",
       "        vertical-align: middle;\n",
       "    }\n",
       "\n",
       "    .dataframe tbody tr th {\n",
       "        vertical-align: top;\n",
       "    }\n",
       "\n",
       "    .dataframe thead th {\n",
       "        text-align: right;\n",
       "    }\n",
       "</style>\n",
       "<table border=\"1\" class=\"dataframe\">\n",
       "  <thead>\n",
       "    <tr style=\"text-align: right;\">\n",
       "      <th></th>\n",
       "      <th>business_code</th>\n",
       "      <th>cust_number</th>\n",
       "      <th>name_customer</th>\n",
       "      <th>clear_date</th>\n",
       "      <th>buisness_year</th>\n",
       "      <th>doc_id</th>\n",
       "      <th>posting_date</th>\n",
       "      <th>document_create_date</th>\n",
       "      <th>due_in_date</th>\n",
       "      <th>invoice_currency</th>\n",
       "      <th>total_open_amount</th>\n",
       "      <th>baseline_create_date</th>\n",
       "      <th>cust_payment_terms</th>\n",
       "      <th>invoice_id</th>\n",
       "      <th>isOpen</th>\n",
       "      <th>due_date</th>\n",
       "      <th>target</th>\n",
       "    </tr>\n",
       "  </thead>\n",
       "  <tbody>\n",
       "    <tr>\n",
       "      <th>1</th>\n",
       "      <td>U001</td>\n",
       "      <td>0200980828</td>\n",
       "      <td>BEN E</td>\n",
       "      <td>2019-08-08</td>\n",
       "      <td>2019.0</td>\n",
       "      <td>1.929646e+09</td>\n",
       "      <td>2019-07-22</td>\n",
       "      <td>2019-07-22</td>\n",
       "      <td>2019-08-11</td>\n",
       "      <td>USD</td>\n",
       "      <td>79656.60</td>\n",
       "      <td>2019-07-22</td>\n",
       "      <td>NAD1</td>\n",
       "      <td>1.929646e+09</td>\n",
       "      <td>0</td>\n",
       "      <td>2019-08-11</td>\n",
       "      <td>-3</td>\n",
       "    </tr>\n",
       "    <tr>\n",
       "      <th>2</th>\n",
       "      <td>U001</td>\n",
       "      <td>0200792734</td>\n",
       "      <td>MDV/ trust</td>\n",
       "      <td>2019-12-30</td>\n",
       "      <td>2019.0</td>\n",
       "      <td>1.929874e+09</td>\n",
       "      <td>2019-09-14</td>\n",
       "      <td>2019-09-14</td>\n",
       "      <td>2019-09-29</td>\n",
       "      <td>USD</td>\n",
       "      <td>2253.86</td>\n",
       "      <td>2019-09-14</td>\n",
       "      <td>NAA8</td>\n",
       "      <td>1.929874e+09</td>\n",
       "      <td>0</td>\n",
       "      <td>2019-09-29</td>\n",
       "      <td>92</td>\n",
       "    </tr>\n",
       "    <tr>\n",
       "      <th>4</th>\n",
       "      <td>U001</td>\n",
       "      <td>0200769623</td>\n",
       "      <td>WAL-MAR foundation</td>\n",
       "      <td>2019-11-25</td>\n",
       "      <td>2019.0</td>\n",
       "      <td>1.930148e+09</td>\n",
       "      <td>2019-11-13</td>\n",
       "      <td>2019-11-13</td>\n",
       "      <td>2019-11-28</td>\n",
       "      <td>USD</td>\n",
       "      <td>33133.29</td>\n",
       "      <td>2019-11-13</td>\n",
       "      <td>NAH4</td>\n",
       "      <td>1.930148e+09</td>\n",
       "      <td>0</td>\n",
       "      <td>2019-11-28</td>\n",
       "      <td>-3</td>\n",
       "    </tr>\n",
       "    <tr>\n",
       "      <th>5</th>\n",
       "      <td>CA02</td>\n",
       "      <td>0140106181</td>\n",
       "      <td>THE  corporation</td>\n",
       "      <td>2019-12-04</td>\n",
       "      <td>2019.0</td>\n",
       "      <td>2.960581e+09</td>\n",
       "      <td>2019-09-20</td>\n",
       "      <td>2019-09-20</td>\n",
       "      <td>2019-10-04</td>\n",
       "      <td>CAD</td>\n",
       "      <td>22225.84</td>\n",
       "      <td>2019-09-24</td>\n",
       "      <td>CA10</td>\n",
       "      <td>2.960581e+09</td>\n",
       "      <td>0</td>\n",
       "      <td>2019-10-04</td>\n",
       "      <td>61</td>\n",
       "    </tr>\n",
       "    <tr>\n",
       "      <th>6</th>\n",
       "      <td>U001</td>\n",
       "      <td>0200769623</td>\n",
       "      <td>WAL-MAR in</td>\n",
       "      <td>2019-11-12</td>\n",
       "      <td>2019.0</td>\n",
       "      <td>1.930083e+09</td>\n",
       "      <td>2019-11-01</td>\n",
       "      <td>2019-10-31</td>\n",
       "      <td>2019-11-16</td>\n",
       "      <td>USD</td>\n",
       "      <td>7358.49</td>\n",
       "      <td>2019-11-01</td>\n",
       "      <td>NAH4</td>\n",
       "      <td>1.930083e+09</td>\n",
       "      <td>0</td>\n",
       "      <td>2019-11-16</td>\n",
       "      <td>-4</td>\n",
       "    </tr>\n",
       "  </tbody>\n",
       "</table>\n",
       "</div>"
      ],
      "text/plain": [
       "  business_code cust_number       name_customer clear_date  buisness_year  \\\n",
       "1          U001  0200980828              BEN E  2019-08-08         2019.0   \n",
       "2          U001  0200792734          MDV/ trust 2019-12-30         2019.0   \n",
       "4          U001  0200769623  WAL-MAR foundation 2019-11-25         2019.0   \n",
       "5          CA02  0140106181    THE  corporation 2019-12-04         2019.0   \n",
       "6          U001  0200769623          WAL-MAR in 2019-11-12         2019.0   \n",
       "\n",
       "         doc_id posting_date document_create_date due_in_date  \\\n",
       "1  1.929646e+09   2019-07-22           2019-07-22  2019-08-11   \n",
       "2  1.929874e+09   2019-09-14           2019-09-14  2019-09-29   \n",
       "4  1.930148e+09   2019-11-13           2019-11-13  2019-11-28   \n",
       "5  2.960581e+09   2019-09-20           2019-09-20  2019-10-04   \n",
       "6  1.930083e+09   2019-11-01           2019-10-31  2019-11-16   \n",
       "\n",
       "  invoice_currency  total_open_amount baseline_create_date cust_payment_terms  \\\n",
       "1              USD           79656.60           2019-07-22               NAD1   \n",
       "2              USD            2253.86           2019-09-14               NAA8   \n",
       "4              USD           33133.29           2019-11-13               NAH4   \n",
       "5              CAD           22225.84           2019-09-24               CA10   \n",
       "6              USD            7358.49           2019-11-01               NAH4   \n",
       "\n",
       "     invoice_id  isOpen   due_date  target  \n",
       "1  1.929646e+09       0 2019-08-11      -3  \n",
       "2  1.929874e+09       0 2019-09-29      92  \n",
       "4  1.930148e+09       0 2019-11-28      -3  \n",
       "5  2.960581e+09       0 2019-10-04      61  \n",
       "6  1.930083e+09       0 2019-11-16      -4  "
      ]
     },
     "execution_count": 202,
     "metadata": {},
     "output_type": "execute_result"
    }
   ],
   "source": [
    "x_train.head()"
   ]
  },
  {
   "cell_type": "code",
   "execution_count": 203,
   "id": "f28ee67f-81a4-40b7-b3f8-42d73a04cf60",
   "metadata": {},
   "outputs": [
    {
     "name": "stdout",
     "output_type": "stream",
     "text": [
      "<class 'pandas.core.frame.DataFrame'>\n",
      "Int64Index: 34971 entries, 1 to 49999\n",
      "Data columns (total 17 columns):\n",
      " #   Column                Non-Null Count  Dtype         \n",
      "---  ------                --------------  -----         \n",
      " 0   business_code         34971 non-null  object        \n",
      " 1   cust_number           34971 non-null  object        \n",
      " 2   name_customer         34971 non-null  object        \n",
      " 3   clear_date            34971 non-null  datetime64[ns]\n",
      " 4   buisness_year         34971 non-null  float64       \n",
      " 5   doc_id                34971 non-null  float64       \n",
      " 6   posting_date          34971 non-null  object        \n",
      " 7   document_create_date  34971 non-null  datetime64[ns]\n",
      " 8   due_in_date           34971 non-null  datetime64[ns]\n",
      " 9   invoice_currency      34971 non-null  object        \n",
      " 10  total_open_amount     34971 non-null  float64       \n",
      " 11  baseline_create_date  34971 non-null  datetime64[ns]\n",
      " 12  cust_payment_terms    34971 non-null  object        \n",
      " 13  invoice_id            34971 non-null  float64       \n",
      " 14  isOpen                34971 non-null  int64         \n",
      " 15  due_date              34971 non-null  datetime64[ns]\n",
      " 16  target                34971 non-null  int64         \n",
      "dtypes: datetime64[ns](5), float64(4), int64(2), object(6)\n",
      "memory usage: 4.8+ MB\n"
     ]
    }
   ],
   "source": [
    "x_train.info()"
   ]
  },
  {
   "cell_type": "code",
   "execution_count": 204,
   "id": "270f391b-f034-4e8c-be2d-0b9a1934ba5d",
   "metadata": {},
   "outputs": [
    {
     "name": "stdout",
     "output_type": "stream",
     "text": [
      "<class 'pandas.core.frame.DataFrame'>\n",
      "Int64Index: 5023 entries, 0 to 49997\n",
      "Data columns (total 17 columns):\n",
      " #   Column                Non-Null Count  Dtype         \n",
      "---  ------                --------------  -----         \n",
      " 0   business_code         5023 non-null   object        \n",
      " 1   cust_number           5023 non-null   object        \n",
      " 2   name_customer         5023 non-null   object        \n",
      " 3   clear_date            5023 non-null   datetime64[ns]\n",
      " 4   buisness_year         5023 non-null   float64       \n",
      " 5   doc_id                5023 non-null   float64       \n",
      " 6   posting_date          5023 non-null   object        \n",
      " 7   document_create_date  5023 non-null   datetime64[ns]\n",
      " 8   due_in_date           5023 non-null   datetime64[ns]\n",
      " 9   invoice_currency      5023 non-null   object        \n",
      " 10  total_open_amount     5023 non-null   float64       \n",
      " 11  baseline_create_date  5023 non-null   datetime64[ns]\n",
      " 12  cust_payment_terms    5023 non-null   object        \n",
      " 13  invoice_id            5023 non-null   float64       \n",
      " 14  isOpen                5023 non-null   int64         \n",
      " 15  due_date              5023 non-null   datetime64[ns]\n",
      " 16  target                5023 non-null   int64         \n",
      "dtypes: datetime64[ns](5), float64(4), int64(2), object(6)\n",
      "memory usage: 706.4+ KB\n"
     ]
    }
   ],
   "source": [
    "x_test.info()"
   ]
  },
  {
   "cell_type": "markdown",
   "id": "b2603366-6634-4560-9470-565e7d59c551",
   "metadata": {
    "tags": []
   },
   "source": [
    "## 4.1 Dealing With Date Formet\n",
    "    * WE are gonna create a day and month from the Date Creating Column \n",
    "    \n"
   ]
  },
  {
   "cell_type": "code",
   "execution_count": 205,
   "id": "7ff0ccd5-01de-4aa6-b46e-62bcb44c5b8d",
   "metadata": {},
   "outputs": [],
   "source": [
    "x_train[\"doc_create_day\"] = x_train[\"document_create_date\"].dt.day\n",
    "x_train[\"doc_create_month\"] = x_train[\"document_create_date\"].dt.month"
   ]
  },
  {
   "cell_type": "code",
   "execution_count": 206,
   "id": "45e6a686-9ddf-4653-bfdf-600745f0fe80",
   "metadata": {},
   "outputs": [],
   "source": [
    "x_train[\"due_day\"] =  x_train[\"due_in_date\"].dt.day\n",
    "x_train[\"due_month\"] = x_train[\"due_in_date\"].dt.month"
   ]
  },
  {
   "cell_type": "code",
   "execution_count": 207,
   "id": "710c40f6-bbae-4c87-8388-5f9e61bacf34",
   "metadata": {},
   "outputs": [],
   "source": [
    "x_test[\"doc_create_day\"] = x_test[\"document_create_date\"].dt.day\n",
    "x_test[\"doc_create_month\"] = x_test[\"document_create_date\"].dt.month\n",
    "x_test[\"due_day\"] =  x_test[\"due_in_date\"].dt.day\n",
    "x_test[\"due_month\"] = x_test[\"due_in_date\"].dt.month"
   ]
  },
  {
   "cell_type": "code",
   "execution_count": 208,
   "id": "24ec0614-2ec2-4814-bd21-8510389a9550",
   "metadata": {},
   "outputs": [],
   "source": [
    "x_train = x_train"
   ]
  },
  {
   "cell_type": "code",
   "execution_count": 209,
   "id": "005fef72-9540-46b7-b0ac-a5b4aa707187",
   "metadata": {},
   "outputs": [],
   "source": [
    "x_test = x_test"
   ]
  },
  {
   "cell_type": "markdown",
   "id": "30f07ac5-29cb-4d3d-b0f8-933f6049fe5f",
   "metadata": {},
   "source": [
    "## 4.2 Dealing with Currency "
   ]
  },
  {
   "cell_type": "code",
   "execution_count": 210,
   "id": "7737cb89-e8dc-42e0-8456-b7aefe6a1df9",
   "metadata": {},
   "outputs": [],
   "source": [
    "x_train['invoice_currency'] = x_train['invoice_currency'].map({'USD': 0,'CAD': 1})\n",
    "x_test['invoice_currency'] = x_test['invoice_currency'].map({'USD': 0,'CAD': 1})"
   ]
  },
  {
   "cell_type": "code",
   "execution_count": 211,
   "id": "7778b684-f651-42e9-8792-6956ccff22c2",
   "metadata": {},
   "outputs": [
    {
     "data": {
      "text/html": [
       "<div>\n",
       "<style scoped>\n",
       "    .dataframe tbody tr th:only-of-type {\n",
       "        vertical-align: middle;\n",
       "    }\n",
       "\n",
       "    .dataframe tbody tr th {\n",
       "        vertical-align: top;\n",
       "    }\n",
       "\n",
       "    .dataframe thead th {\n",
       "        text-align: right;\n",
       "    }\n",
       "</style>\n",
       "<table border=\"1\" class=\"dataframe\">\n",
       "  <thead>\n",
       "    <tr style=\"text-align: right;\">\n",
       "      <th></th>\n",
       "      <th>business_code</th>\n",
       "      <th>cust_number</th>\n",
       "      <th>name_customer</th>\n",
       "      <th>clear_date</th>\n",
       "      <th>buisness_year</th>\n",
       "      <th>doc_id</th>\n",
       "      <th>posting_date</th>\n",
       "      <th>document_create_date</th>\n",
       "      <th>due_in_date</th>\n",
       "      <th>invoice_currency</th>\n",
       "      <th>...</th>\n",
       "      <th>baseline_create_date</th>\n",
       "      <th>cust_payment_terms</th>\n",
       "      <th>invoice_id</th>\n",
       "      <th>isOpen</th>\n",
       "      <th>due_date</th>\n",
       "      <th>target</th>\n",
       "      <th>doc_create_day</th>\n",
       "      <th>doc_create_month</th>\n",
       "      <th>due_day</th>\n",
       "      <th>due_month</th>\n",
       "    </tr>\n",
       "  </thead>\n",
       "  <tbody>\n",
       "    <tr>\n",
       "      <th>1</th>\n",
       "      <td>U001</td>\n",
       "      <td>0200980828</td>\n",
       "      <td>BEN E</td>\n",
       "      <td>2019-08-08</td>\n",
       "      <td>2019.0</td>\n",
       "      <td>1.929646e+09</td>\n",
       "      <td>2019-07-22</td>\n",
       "      <td>2019-07-22</td>\n",
       "      <td>2019-08-11</td>\n",
       "      <td>0</td>\n",
       "      <td>...</td>\n",
       "      <td>2019-07-22</td>\n",
       "      <td>NAD1</td>\n",
       "      <td>1.929646e+09</td>\n",
       "      <td>0</td>\n",
       "      <td>2019-08-11</td>\n",
       "      <td>-3</td>\n",
       "      <td>22</td>\n",
       "      <td>7</td>\n",
       "      <td>11</td>\n",
       "      <td>8</td>\n",
       "    </tr>\n",
       "    <tr>\n",
       "      <th>2</th>\n",
       "      <td>U001</td>\n",
       "      <td>0200792734</td>\n",
       "      <td>MDV/ trust</td>\n",
       "      <td>2019-12-30</td>\n",
       "      <td>2019.0</td>\n",
       "      <td>1.929874e+09</td>\n",
       "      <td>2019-09-14</td>\n",
       "      <td>2019-09-14</td>\n",
       "      <td>2019-09-29</td>\n",
       "      <td>0</td>\n",
       "      <td>...</td>\n",
       "      <td>2019-09-14</td>\n",
       "      <td>NAA8</td>\n",
       "      <td>1.929874e+09</td>\n",
       "      <td>0</td>\n",
       "      <td>2019-09-29</td>\n",
       "      <td>92</td>\n",
       "      <td>14</td>\n",
       "      <td>9</td>\n",
       "      <td>29</td>\n",
       "      <td>9</td>\n",
       "    </tr>\n",
       "    <tr>\n",
       "      <th>4</th>\n",
       "      <td>U001</td>\n",
       "      <td>0200769623</td>\n",
       "      <td>WAL-MAR foundation</td>\n",
       "      <td>2019-11-25</td>\n",
       "      <td>2019.0</td>\n",
       "      <td>1.930148e+09</td>\n",
       "      <td>2019-11-13</td>\n",
       "      <td>2019-11-13</td>\n",
       "      <td>2019-11-28</td>\n",
       "      <td>0</td>\n",
       "      <td>...</td>\n",
       "      <td>2019-11-13</td>\n",
       "      <td>NAH4</td>\n",
       "      <td>1.930148e+09</td>\n",
       "      <td>0</td>\n",
       "      <td>2019-11-28</td>\n",
       "      <td>-3</td>\n",
       "      <td>13</td>\n",
       "      <td>11</td>\n",
       "      <td>28</td>\n",
       "      <td>11</td>\n",
       "    </tr>\n",
       "    <tr>\n",
       "      <th>5</th>\n",
       "      <td>CA02</td>\n",
       "      <td>0140106181</td>\n",
       "      <td>THE  corporation</td>\n",
       "      <td>2019-12-04</td>\n",
       "      <td>2019.0</td>\n",
       "      <td>2.960581e+09</td>\n",
       "      <td>2019-09-20</td>\n",
       "      <td>2019-09-20</td>\n",
       "      <td>2019-10-04</td>\n",
       "      <td>1</td>\n",
       "      <td>...</td>\n",
       "      <td>2019-09-24</td>\n",
       "      <td>CA10</td>\n",
       "      <td>2.960581e+09</td>\n",
       "      <td>0</td>\n",
       "      <td>2019-10-04</td>\n",
       "      <td>61</td>\n",
       "      <td>20</td>\n",
       "      <td>9</td>\n",
       "      <td>4</td>\n",
       "      <td>10</td>\n",
       "    </tr>\n",
       "    <tr>\n",
       "      <th>6</th>\n",
       "      <td>U001</td>\n",
       "      <td>0200769623</td>\n",
       "      <td>WAL-MAR in</td>\n",
       "      <td>2019-11-12</td>\n",
       "      <td>2019.0</td>\n",
       "      <td>1.930083e+09</td>\n",
       "      <td>2019-11-01</td>\n",
       "      <td>2019-10-31</td>\n",
       "      <td>2019-11-16</td>\n",
       "      <td>0</td>\n",
       "      <td>...</td>\n",
       "      <td>2019-11-01</td>\n",
       "      <td>NAH4</td>\n",
       "      <td>1.930083e+09</td>\n",
       "      <td>0</td>\n",
       "      <td>2019-11-16</td>\n",
       "      <td>-4</td>\n",
       "      <td>31</td>\n",
       "      <td>10</td>\n",
       "      <td>16</td>\n",
       "      <td>11</td>\n",
       "    </tr>\n",
       "    <tr>\n",
       "      <th>...</th>\n",
       "      <td>...</td>\n",
       "      <td>...</td>\n",
       "      <td>...</td>\n",
       "      <td>...</td>\n",
       "      <td>...</td>\n",
       "      <td>...</td>\n",
       "      <td>...</td>\n",
       "      <td>...</td>\n",
       "      <td>...</td>\n",
       "      <td>...</td>\n",
       "      <td>...</td>\n",
       "      <td>...</td>\n",
       "      <td>...</td>\n",
       "      <td>...</td>\n",
       "      <td>...</td>\n",
       "      <td>...</td>\n",
       "      <td>...</td>\n",
       "      <td>...</td>\n",
       "      <td>...</td>\n",
       "      <td>...</td>\n",
       "      <td>...</td>\n",
       "    </tr>\n",
       "    <tr>\n",
       "      <th>49991</th>\n",
       "      <td>U001</td>\n",
       "      <td>0200704045</td>\n",
       "      <td>RA trust</td>\n",
       "      <td>2019-10-25</td>\n",
       "      <td>2019.0</td>\n",
       "      <td>1.930001e+09</td>\n",
       "      <td>2019-10-10</td>\n",
       "      <td>2019-10-11</td>\n",
       "      <td>2019-10-25</td>\n",
       "      <td>0</td>\n",
       "      <td>...</td>\n",
       "      <td>2019-10-10</td>\n",
       "      <td>NAA8</td>\n",
       "      <td>1.930001e+09</td>\n",
       "      <td>0</td>\n",
       "      <td>2019-10-25</td>\n",
       "      <td>0</td>\n",
       "      <td>11</td>\n",
       "      <td>10</td>\n",
       "      <td>25</td>\n",
       "      <td>10</td>\n",
       "    </tr>\n",
       "    <tr>\n",
       "      <th>49994</th>\n",
       "      <td>U001</td>\n",
       "      <td>0200762301</td>\n",
       "      <td>C&amp;S WH trust</td>\n",
       "      <td>2019-07-25</td>\n",
       "      <td>2019.0</td>\n",
       "      <td>1.929601e+09</td>\n",
       "      <td>2019-07-10</td>\n",
       "      <td>2019-07-09</td>\n",
       "      <td>2019-07-25</td>\n",
       "      <td>0</td>\n",
       "      <td>...</td>\n",
       "      <td>2019-07-10</td>\n",
       "      <td>NAC6</td>\n",
       "      <td>1.929601e+09</td>\n",
       "      <td>0</td>\n",
       "      <td>2019-07-25</td>\n",
       "      <td>0</td>\n",
       "      <td>9</td>\n",
       "      <td>7</td>\n",
       "      <td>25</td>\n",
       "      <td>7</td>\n",
       "    </tr>\n",
       "    <tr>\n",
       "      <th>49996</th>\n",
       "      <td>U001</td>\n",
       "      <td>0200769623</td>\n",
       "      <td>WAL-MAR co</td>\n",
       "      <td>2019-09-03</td>\n",
       "      <td>2019.0</td>\n",
       "      <td>1.929744e+09</td>\n",
       "      <td>2019-08-15</td>\n",
       "      <td>2019-08-14</td>\n",
       "      <td>2019-08-30</td>\n",
       "      <td>0</td>\n",
       "      <td>...</td>\n",
       "      <td>2019-08-15</td>\n",
       "      <td>NAH4</td>\n",
       "      <td>1.929744e+09</td>\n",
       "      <td>0</td>\n",
       "      <td>2019-08-30</td>\n",
       "      <td>4</td>\n",
       "      <td>14</td>\n",
       "      <td>8</td>\n",
       "      <td>30</td>\n",
       "      <td>8</td>\n",
       "    </tr>\n",
       "    <tr>\n",
       "      <th>49998</th>\n",
       "      <td>U001</td>\n",
       "      <td>0200726979</td>\n",
       "      <td>BJ'S  llc</td>\n",
       "      <td>2019-12-12</td>\n",
       "      <td>2019.0</td>\n",
       "      <td>1.930199e+09</td>\n",
       "      <td>2019-11-27</td>\n",
       "      <td>2019-11-26</td>\n",
       "      <td>2019-12-12</td>\n",
       "      <td>0</td>\n",
       "      <td>...</td>\n",
       "      <td>2019-11-27</td>\n",
       "      <td>NAA8</td>\n",
       "      <td>1.930199e+09</td>\n",
       "      <td>0</td>\n",
       "      <td>2019-12-12</td>\n",
       "      <td>0</td>\n",
       "      <td>26</td>\n",
       "      <td>11</td>\n",
       "      <td>12</td>\n",
       "      <td>12</td>\n",
       "    </tr>\n",
       "    <tr>\n",
       "      <th>49999</th>\n",
       "      <td>U001</td>\n",
       "      <td>0200020431</td>\n",
       "      <td>DEC corp</td>\n",
       "      <td>2019-01-15</td>\n",
       "      <td>2019.0</td>\n",
       "      <td>1.928576e+09</td>\n",
       "      <td>2019-01-05</td>\n",
       "      <td>2019-01-05</td>\n",
       "      <td>2019-01-24</td>\n",
       "      <td>0</td>\n",
       "      <td>...</td>\n",
       "      <td>2019-01-01</td>\n",
       "      <td>NAM4</td>\n",
       "      <td>1.928576e+09</td>\n",
       "      <td>0</td>\n",
       "      <td>2019-01-24</td>\n",
       "      <td>-9</td>\n",
       "      <td>5</td>\n",
       "      <td>1</td>\n",
       "      <td>24</td>\n",
       "      <td>1</td>\n",
       "    </tr>\n",
       "  </tbody>\n",
       "</table>\n",
       "<p>34971 rows × 21 columns</p>\n",
       "</div>"
      ],
      "text/plain": [
       "      business_code cust_number       name_customer clear_date  buisness_year  \\\n",
       "1              U001  0200980828              BEN E  2019-08-08         2019.0   \n",
       "2              U001  0200792734          MDV/ trust 2019-12-30         2019.0   \n",
       "4              U001  0200769623  WAL-MAR foundation 2019-11-25         2019.0   \n",
       "5              CA02  0140106181    THE  corporation 2019-12-04         2019.0   \n",
       "6              U001  0200769623          WAL-MAR in 2019-11-12         2019.0   \n",
       "...             ...         ...                 ...        ...            ...   \n",
       "49991          U001  0200704045            RA trust 2019-10-25         2019.0   \n",
       "49994          U001  0200762301        C&S WH trust 2019-07-25         2019.0   \n",
       "49996          U001  0200769623          WAL-MAR co 2019-09-03         2019.0   \n",
       "49998          U001  0200726979           BJ'S  llc 2019-12-12         2019.0   \n",
       "49999          U001  0200020431            DEC corp 2019-01-15         2019.0   \n",
       "\n",
       "             doc_id posting_date document_create_date due_in_date  \\\n",
       "1      1.929646e+09   2019-07-22           2019-07-22  2019-08-11   \n",
       "2      1.929874e+09   2019-09-14           2019-09-14  2019-09-29   \n",
       "4      1.930148e+09   2019-11-13           2019-11-13  2019-11-28   \n",
       "5      2.960581e+09   2019-09-20           2019-09-20  2019-10-04   \n",
       "6      1.930083e+09   2019-11-01           2019-10-31  2019-11-16   \n",
       "...             ...          ...                  ...         ...   \n",
       "49991  1.930001e+09   2019-10-10           2019-10-11  2019-10-25   \n",
       "49994  1.929601e+09   2019-07-10           2019-07-09  2019-07-25   \n",
       "49996  1.929744e+09   2019-08-15           2019-08-14  2019-08-30   \n",
       "49998  1.930199e+09   2019-11-27           2019-11-26  2019-12-12   \n",
       "49999  1.928576e+09   2019-01-05           2019-01-05  2019-01-24   \n",
       "\n",
       "       invoice_currency  ...  baseline_create_date cust_payment_terms  \\\n",
       "1                     0  ...            2019-07-22               NAD1   \n",
       "2                     0  ...            2019-09-14               NAA8   \n",
       "4                     0  ...            2019-11-13               NAH4   \n",
       "5                     1  ...            2019-09-24               CA10   \n",
       "6                     0  ...            2019-11-01               NAH4   \n",
       "...                 ...  ...                   ...                ...   \n",
       "49991                 0  ...            2019-10-10               NAA8   \n",
       "49994                 0  ...            2019-07-10               NAC6   \n",
       "49996                 0  ...            2019-08-15               NAH4   \n",
       "49998                 0  ...            2019-11-27               NAA8   \n",
       "49999                 0  ...            2019-01-01               NAM4   \n",
       "\n",
       "         invoice_id  isOpen   due_date target  doc_create_day  \\\n",
       "1      1.929646e+09       0 2019-08-11     -3              22   \n",
       "2      1.929874e+09       0 2019-09-29     92              14   \n",
       "4      1.930148e+09       0 2019-11-28     -3              13   \n",
       "5      2.960581e+09       0 2019-10-04     61              20   \n",
       "6      1.930083e+09       0 2019-11-16     -4              31   \n",
       "...             ...     ...        ...    ...             ...   \n",
       "49991  1.930001e+09       0 2019-10-25      0              11   \n",
       "49994  1.929601e+09       0 2019-07-25      0               9   \n",
       "49996  1.929744e+09       0 2019-08-30      4              14   \n",
       "49998  1.930199e+09       0 2019-12-12      0              26   \n",
       "49999  1.928576e+09       0 2019-01-24     -9               5   \n",
       "\n",
       "       doc_create_month  due_day  due_month  \n",
       "1                     7       11          8  \n",
       "2                     9       29          9  \n",
       "4                    11       28         11  \n",
       "5                     9        4         10  \n",
       "6                    10       16         11  \n",
       "...                 ...      ...        ...  \n",
       "49991                10       25         10  \n",
       "49994                 7       25          7  \n",
       "49996                 8       30          8  \n",
       "49998                11       12         12  \n",
       "49999                 1       24          1  \n",
       "\n",
       "[34971 rows x 21 columns]"
      ]
     },
     "execution_count": 211,
     "metadata": {},
     "output_type": "execute_result"
    }
   ],
   "source": [
    "x_train"
   ]
  },
  {
   "cell_type": "markdown",
   "id": "481da07e-1cab-42c1-8342-22a49e1e060f",
   "metadata": {},
   "source": [
    "## 4.3 Dealing with the Name_customer and Cust_payment_terms "
   ]
  },
  {
   "cell_type": "code",
   "execution_count": 212,
   "id": "9a2cc077-e35a-4004-9fa0-c50cd972c860",
   "metadata": {},
   "outputs": [
    {
     "data": {
      "text/plain": [
       "WAL-MAR trust          821\n",
       "WAL-MAR in             790\n",
       "WAL-MAR                785\n",
       "WAL-MAR corp           783\n",
       "WAL-MAR corporation    773\n",
       "                      ... \n",
       "SING associates          1\n",
       "LAWR corporation         1\n",
       "GEOR co                  1\n",
       "COS in                   1\n",
       "FOOD S                   1\n",
       "Name: name_customer, Length: 3647, dtype: int64"
      ]
     },
     "execution_count": 212,
     "metadata": {},
     "output_type": "execute_result"
    }
   ],
   "source": [
    "# too much of classes hence not a option to include in the model as it will make it complicated \n",
    "# we will drop it later on \n",
    "x_train[\"name_customer\"].value_counts()"
   ]
  },
  {
   "cell_type": "code",
   "execution_count": 213,
   "id": "5d9956dc-3c93-49df-b19b-eb43db1817f7",
   "metadata": {},
   "outputs": [
    {
     "data": {
      "text/plain": [
       "NAA8    14032\n",
       "NAH4     9267\n",
       "CA10     2727\n",
       "NAC6     1167\n",
       "NAM4      947\n",
       "        ...  \n",
       "NATV        1\n",
       "MC15        1\n",
       "NAD8        1\n",
       "NAV2        1\n",
       "BR12        1\n",
       "Name: cust_payment_terms, Length: 69, dtype: int64"
      ]
     },
     "execution_count": 213,
     "metadata": {},
     "output_type": "execute_result"
    }
   ],
   "source": [
    "x_train[\"cust_payment_terms\"].value_counts()"
   ]
  },
  {
   "cell_type": "code",
   "execution_count": 214,
   "id": "4c7dccbe-f3df-429d-9f92-48982b7bf7c9",
   "metadata": {},
   "outputs": [
    {
     "name": "stdout",
     "output_type": "stream",
     "text": [
      "<class 'pandas.core.frame.DataFrame'>\n",
      "Int64Index: 5023 entries, 0 to 49997\n",
      "Data columns (total 21 columns):\n",
      " #   Column                Non-Null Count  Dtype         \n",
      "---  ------                --------------  -----         \n",
      " 0   business_code         5023 non-null   object        \n",
      " 1   cust_number           5023 non-null   object        \n",
      " 2   name_customer         5023 non-null   object        \n",
      " 3   clear_date            5023 non-null   datetime64[ns]\n",
      " 4   buisness_year         5023 non-null   float64       \n",
      " 5   doc_id                5023 non-null   float64       \n",
      " 6   posting_date          5023 non-null   object        \n",
      " 7   document_create_date  5023 non-null   datetime64[ns]\n",
      " 8   due_in_date           5023 non-null   datetime64[ns]\n",
      " 9   invoice_currency      5023 non-null   int64         \n",
      " 10  total_open_amount     5023 non-null   float64       \n",
      " 11  baseline_create_date  5023 non-null   datetime64[ns]\n",
      " 12  cust_payment_terms    5023 non-null   object        \n",
      " 13  invoice_id            5023 non-null   float64       \n",
      " 14  isOpen                5023 non-null   int64         \n",
      " 15  due_date              5023 non-null   datetime64[ns]\n",
      " 16  target                5023 non-null   int64         \n",
      " 17  doc_create_day        5023 non-null   int64         \n",
      " 18  doc_create_month      5023 non-null   int64         \n",
      " 19  due_day               5023 non-null   int64         \n",
      " 20  due_month             5023 non-null   int64         \n",
      "dtypes: datetime64[ns](5), float64(4), int64(7), object(5)\n",
      "memory usage: 863.3+ KB\n"
     ]
    }
   ],
   "source": [
    "x_test.info()"
   ]
  },
  {
   "cell_type": "code",
   "execution_count": 215,
   "id": "35ef5898-030d-4bee-953f-1cf87f6b7f9c",
   "metadata": {},
   "outputs": [
    {
     "name": "stdout",
     "output_type": "stream",
     "text": [
      "<class 'pandas.core.frame.DataFrame'>\n",
      "Int64Index: 34971 entries, 1 to 49999\n",
      "Data columns (total 21 columns):\n",
      " #   Column                Non-Null Count  Dtype         \n",
      "---  ------                --------------  -----         \n",
      " 0   business_code         34971 non-null  object        \n",
      " 1   cust_number           34971 non-null  object        \n",
      " 2   name_customer         34971 non-null  object        \n",
      " 3   clear_date            34971 non-null  datetime64[ns]\n",
      " 4   buisness_year         34971 non-null  float64       \n",
      " 5   doc_id                34971 non-null  float64       \n",
      " 6   posting_date          34971 non-null  object        \n",
      " 7   document_create_date  34971 non-null  datetime64[ns]\n",
      " 8   due_in_date           34971 non-null  datetime64[ns]\n",
      " 9   invoice_currency      34971 non-null  int64         \n",
      " 10  total_open_amount     34971 non-null  float64       \n",
      " 11  baseline_create_date  34971 non-null  datetime64[ns]\n",
      " 12  cust_payment_terms    34971 non-null  object        \n",
      " 13  invoice_id            34971 non-null  float64       \n",
      " 14  isOpen                34971 non-null  int64         \n",
      " 15  due_date              34971 non-null  datetime64[ns]\n",
      " 16  target                34971 non-null  int64         \n",
      " 17  doc_create_day        34971 non-null  int64         \n",
      " 18  doc_create_month      34971 non-null  int64         \n",
      " 19  due_day               34971 non-null  int64         \n",
      " 20  due_month             34971 non-null  int64         \n",
      "dtypes: datetime64[ns](5), float64(4), int64(7), object(5)\n",
      "memory usage: 5.9+ MB\n"
     ]
    }
   ],
   "source": [
    "x_train.info()"
   ]
  },
  {
   "cell_type": "code",
   "execution_count": 216,
   "id": "8a97a635-d98f-420f-8736-963430da768d",
   "metadata": {},
   "outputs": [],
   "source": [
    "# dropping all the unrequired featured \n",
    "\n",
    "x_train_final = x_train.drop(['doc_id', 'invoice_id','business_code', 'name_customer', 'clear_date',\n",
    "                       'posting_date', 'document_create_date', 'baseline_create_date', 'cust_payment_terms',\n",
    "                       'invoice_id', 'due_date', \"due_in_date\"], axis = 1)"
   ]
  },
  {
   "cell_type": "code",
   "execution_count": 217,
   "id": "5a6c3caf-9b37-48c4-8f26-8733f12cb6d3",
   "metadata": {},
   "outputs": [],
   "source": [
    "x_test_final = x_test.drop(['doc_id', 'invoice_id','business_code', 'name_customer', 'clear_date',\n",
    "                       'posting_date', 'document_create_date', 'baseline_create_date', 'cust_payment_terms',\n",
    "                       'invoice_id', 'due_date',\"due_in_date\"], axis = 1)"
   ]
  },
  {
   "cell_type": "code",
   "execution_count": 218,
   "id": "1aff33dc-0187-443a-b185-2ab430c84d18",
   "metadata": {},
   "outputs": [],
   "source": [
    "x_train_final[\"customer_number\"] = x_train_final['cust_number'].str.extract('(\\d+)')\n",
    "x_train_final=x_train_final.drop(columns= [\"cust_number\"])"
   ]
  },
  {
   "cell_type": "code",
   "execution_count": 219,
   "id": "44e34a5f-277d-410f-bb74-1d32f06b105e",
   "metadata": {},
   "outputs": [],
   "source": [
    "x_test_final[\"customer_number\"] = x_test_final['cust_number'].str.extract('(\\d+)')\n",
    "x_test_final = x_test_final.drop(columns= [\"cust_number\"])"
   ]
  },
  {
   "cell_type": "code",
   "execution_count": 220,
   "id": "44b19126-b7ae-476e-a9a3-fd87c1c7df67",
   "metadata": {},
   "outputs": [
    {
     "data": {
      "text/html": [
       "<div>\n",
       "<style scoped>\n",
       "    .dataframe tbody tr th:only-of-type {\n",
       "        vertical-align: middle;\n",
       "    }\n",
       "\n",
       "    .dataframe tbody tr th {\n",
       "        vertical-align: top;\n",
       "    }\n",
       "\n",
       "    .dataframe thead th {\n",
       "        text-align: right;\n",
       "    }\n",
       "</style>\n",
       "<table border=\"1\" class=\"dataframe\">\n",
       "  <thead>\n",
       "    <tr style=\"text-align: right;\">\n",
       "      <th></th>\n",
       "      <th>buisness_year</th>\n",
       "      <th>invoice_currency</th>\n",
       "      <th>total_open_amount</th>\n",
       "      <th>isOpen</th>\n",
       "      <th>target</th>\n",
       "      <th>doc_create_day</th>\n",
       "      <th>doc_create_month</th>\n",
       "      <th>due_day</th>\n",
       "      <th>due_month</th>\n",
       "      <th>customer_number</th>\n",
       "    </tr>\n",
       "  </thead>\n",
       "  <tbody>\n",
       "    <tr>\n",
       "      <th>0</th>\n",
       "      <td>2020.0</td>\n",
       "      <td>0</td>\n",
       "      <td>54273.28</td>\n",
       "      <td>0</td>\n",
       "      <td>1</td>\n",
       "      <td>25</td>\n",
       "      <td>1</td>\n",
       "      <td>10</td>\n",
       "      <td>2</td>\n",
       "      <td>0200769623</td>\n",
       "    </tr>\n",
       "    <tr>\n",
       "      <th>19</th>\n",
       "      <td>2020.0</td>\n",
       "      <td>0</td>\n",
       "      <td>53349.54</td>\n",
       "      <td>0</td>\n",
       "      <td>-3</td>\n",
       "      <td>24</td>\n",
       "      <td>1</td>\n",
       "      <td>8</td>\n",
       "      <td>2</td>\n",
       "      <td>0200769623</td>\n",
       "    </tr>\n",
       "    <tr>\n",
       "      <th>20</th>\n",
       "      <td>2020.0</td>\n",
       "      <td>0</td>\n",
       "      <td>5683.50</td>\n",
       "      <td>0</td>\n",
       "      <td>1</td>\n",
       "      <td>7</td>\n",
       "      <td>1</td>\n",
       "      <td>10</td>\n",
       "      <td>2</td>\n",
       "      <td>0100053554</td>\n",
       "    </tr>\n",
       "    <tr>\n",
       "      <th>24</th>\n",
       "      <td>2020.0</td>\n",
       "      <td>0</td>\n",
       "      <td>11307.78</td>\n",
       "      <td>0</td>\n",
       "      <td>-4</td>\n",
       "      <td>23</td>\n",
       "      <td>1</td>\n",
       "      <td>8</td>\n",
       "      <td>2</td>\n",
       "      <td>0200769623</td>\n",
       "    </tr>\n",
       "    <tr>\n",
       "      <th>41</th>\n",
       "      <td>2020.0</td>\n",
       "      <td>0</td>\n",
       "      <td>4953.83</td>\n",
       "      <td>0</td>\n",
       "      <td>2</td>\n",
       "      <td>4</td>\n",
       "      <td>1</td>\n",
       "      <td>19</td>\n",
       "      <td>1</td>\n",
       "      <td>0200769623</td>\n",
       "    </tr>\n",
       "    <tr>\n",
       "      <th>...</th>\n",
       "      <td>...</td>\n",
       "      <td>...</td>\n",
       "      <td>...</td>\n",
       "      <td>...</td>\n",
       "      <td>...</td>\n",
       "      <td>...</td>\n",
       "      <td>...</td>\n",
       "      <td>...</td>\n",
       "      <td>...</td>\n",
       "      <td>...</td>\n",
       "    </tr>\n",
       "    <tr>\n",
       "      <th>49955</th>\n",
       "      <td>2020.0</td>\n",
       "      <td>1</td>\n",
       "      <td>1082.69</td>\n",
       "      <td>0</td>\n",
       "      <td>13</td>\n",
       "      <td>28</td>\n",
       "      <td>1</td>\n",
       "      <td>8</td>\n",
       "      <td>2</td>\n",
       "      <td>0140106408</td>\n",
       "    </tr>\n",
       "    <tr>\n",
       "      <th>49957</th>\n",
       "      <td>2020.0</td>\n",
       "      <td>0</td>\n",
       "      <td>348.35</td>\n",
       "      <td>0</td>\n",
       "      <td>0</td>\n",
       "      <td>4</td>\n",
       "      <td>2</td>\n",
       "      <td>18</td>\n",
       "      <td>2</td>\n",
       "      <td>0200726979</td>\n",
       "    </tr>\n",
       "    <tr>\n",
       "      <th>49989</th>\n",
       "      <td>2020.0</td>\n",
       "      <td>0</td>\n",
       "      <td>33729.79</td>\n",
       "      <td>0</td>\n",
       "      <td>1</td>\n",
       "      <td>19</td>\n",
       "      <td>2</td>\n",
       "      <td>4</td>\n",
       "      <td>3</td>\n",
       "      <td>0200772670</td>\n",
       "    </tr>\n",
       "    <tr>\n",
       "      <th>49993</th>\n",
       "      <td>2020.0</td>\n",
       "      <td>0</td>\n",
       "      <td>31.62</td>\n",
       "      <td>0</td>\n",
       "      <td>62</td>\n",
       "      <td>8</td>\n",
       "      <td>1</td>\n",
       "      <td>23</td>\n",
       "      <td>1</td>\n",
       "      <td>0200726979</td>\n",
       "    </tr>\n",
       "    <tr>\n",
       "      <th>49997</th>\n",
       "      <td>2020.0</td>\n",
       "      <td>0</td>\n",
       "      <td>6120.86</td>\n",
       "      <td>0</td>\n",
       "      <td>0</td>\n",
       "      <td>18</td>\n",
       "      <td>2</td>\n",
       "      <td>5</td>\n",
       "      <td>3</td>\n",
       "      <td>0200772595</td>\n",
       "    </tr>\n",
       "  </tbody>\n",
       "</table>\n",
       "<p>5023 rows × 10 columns</p>\n",
       "</div>"
      ],
      "text/plain": [
       "       buisness_year  invoice_currency  total_open_amount  isOpen  target  \\\n",
       "0             2020.0                 0           54273.28       0       1   \n",
       "19            2020.0                 0           53349.54       0      -3   \n",
       "20            2020.0                 0            5683.50       0       1   \n",
       "24            2020.0                 0           11307.78       0      -4   \n",
       "41            2020.0                 0            4953.83       0       2   \n",
       "...              ...               ...                ...     ...     ...   \n",
       "49955         2020.0                 1            1082.69       0      13   \n",
       "49957         2020.0                 0             348.35       0       0   \n",
       "49989         2020.0                 0           33729.79       0       1   \n",
       "49993         2020.0                 0              31.62       0      62   \n",
       "49997         2020.0                 0            6120.86       0       0   \n",
       "\n",
       "       doc_create_day  doc_create_month  due_day  due_month customer_number  \n",
       "0                  25                 1       10          2      0200769623  \n",
       "19                 24                 1        8          2      0200769623  \n",
       "20                  7                 1       10          2      0100053554  \n",
       "24                 23                 1        8          2      0200769623  \n",
       "41                  4                 1       19          1      0200769623  \n",
       "...               ...               ...      ...        ...             ...  \n",
       "49955              28                 1        8          2      0140106408  \n",
       "49957               4                 2       18          2      0200726979  \n",
       "49989              19                 2        4          3      0200772670  \n",
       "49993               8                 1       23          1      0200726979  \n",
       "49997              18                 2        5          3      0200772595  \n",
       "\n",
       "[5023 rows x 10 columns]"
      ]
     },
     "execution_count": 220,
     "metadata": {},
     "output_type": "execute_result"
    }
   ],
   "source": [
    "x_test_final"
   ]
  },
  {
   "cell_type": "markdown",
   "id": "3ad8b076-5732-423a-934f-77885ede81b7",
   "metadata": {},
   "source": [
    "## 4.10 Splitting the Final Data \n"
   ]
  },
  {
   "cell_type": "code",
   "execution_count": 221,
   "id": "aa6bd46a-e770-48f3-a8c4-43d5427619f1",
   "metadata": {},
   "outputs": [],
   "source": [
    "y_train_final1 =  x_train_final[\"target\"]\n",
    "x_train_final1 = x_train_final.drop([\"target\"],axis =1) "
   ]
  },
  {
   "cell_type": "code",
   "execution_count": 222,
   "id": "e1eb9221-cece-4de8-8efd-8b48fa723c36",
   "metadata": {},
   "outputs": [
    {
     "name": "stdout",
     "output_type": "stream",
     "text": [
      "<class 'pandas.core.series.Series'>\n",
      "Int64Index: 34971 entries, 1 to 49999\n",
      "Series name: target\n",
      "Non-Null Count  Dtype\n",
      "--------------  -----\n",
      "34971 non-null  int64\n",
      "dtypes: int64(1)\n",
      "memory usage: 546.4 KB\n",
      "None\n",
      "<class 'pandas.core.frame.DataFrame'>\n",
      "Int64Index: 34971 entries, 1 to 49999\n",
      "Data columns (total 9 columns):\n",
      " #   Column             Non-Null Count  Dtype  \n",
      "---  ------             --------------  -----  \n",
      " 0   buisness_year      34971 non-null  float64\n",
      " 1   invoice_currency   34971 non-null  int64  \n",
      " 2   total_open_amount  34971 non-null  float64\n",
      " 3   isOpen             34971 non-null  int64  \n",
      " 4   doc_create_day     34971 non-null  int64  \n",
      " 5   doc_create_month   34971 non-null  int64  \n",
      " 6   due_day            34971 non-null  int64  \n",
      " 7   due_month          34971 non-null  int64  \n",
      " 8   customer_number    34971 non-null  object \n",
      "dtypes: float64(2), int64(6), object(1)\n",
      "memory usage: 2.7+ MB\n",
      "None\n"
     ]
    }
   ],
   "source": [
    "print(y_train_final1.info())\n",
    "print(x_train_final1.info())"
   ]
  },
  {
   "cell_type": "code",
   "execution_count": 223,
   "id": "8d8b26a3-fef4-4cdc-a7e0-7ed016a1a7cc",
   "metadata": {},
   "outputs": [],
   "source": [
    "Xtrain ,Xtest, ytrain, ytest = train_test_split(x_train_final1, y_train_final1, test_size = 0.3, random_state=0)"
   ]
  },
  {
   "cell_type": "markdown",
   "id": "d5632e4f-04ec-499b-a49f-c9bcbb94425f",
   "metadata": {
    "tags": []
   },
   "source": []
  },
  {
   "cell_type": "markdown",
   "id": "914a7925-0d1f-4b12-973a-b66803c23aa5",
   "metadata": {},
   "source": [
    "   ## 5 ML MODEL\n",
    "   \n",
    "        1.  Linear Regression\n",
    "        2.  Support Vector Regression\n",
    "        3.  Decision Tree Regression\n",
    "        4.  Random Forest Regressor \n",
    " "
   ]
  },
  {
   "cell_type": "code",
   "execution_count": 270,
   "id": "f324a5c5-159b-471f-badf-01ead1bbef6c",
   "metadata": {},
   "outputs": [],
   "source": [
    "MSE_Score = []\n",
    "R2_Score = []\n",
    "Algorithm = []"
   ]
  },
  {
   "cell_type": "markdown",
   "id": "999ab3ac-c6a1-46c5-a1b0-f54a7f322ea3",
   "metadata": {
    "tags": []
   },
   "source": [
    "### <b>5.1 Linear Regreesion </b>"
   ]
  },
  {
   "cell_type": "code",
   "execution_count": 271,
   "id": "fe8aad5b-d486-44c3-b826-a4a0160d0711",
   "metadata": {},
   "outputs": [],
   "source": [
    "Algorithm.append('Linear Regression')\n",
    "model = LinearRegression()\n",
    "model.fit(Xtrain, ytrain)\n",
    "predicted =model.predict(Xtest)\n",
    "MSE_Score.append(metrics.mean_squared_error(ytest, predicted))\n",
    "R2_Score.append(metrics.r2_score(ytest, predicted))"
   ]
  },
  {
   "cell_type": "markdown",
   "id": "27ce0b2a-e29d-45df-bd48-3f842f673b77",
   "metadata": {},
   "source": [
    "### <b>5.2 Random Forest Regression </b>"
   ]
  },
  {
   "cell_type": "code",
   "execution_count": 272,
   "id": "59829a71-67ad-4664-a5dc-e17c1b2c9c8b",
   "metadata": {},
   "outputs": [],
   "source": [
    "Algorithm.append('Random Forest Regression')\n",
    "model1 = RandomForestRegressor()\n",
    "model1.fit(Xtrain, ytrain)\n",
    "predicted =model1.predict(Xtest)\n",
    "MSE_Score.append(metrics.mean_squared_error(ytest, predicted))\n",
    "R2_Score.append(metrics.r2_score(ytest, predicted))"
   ]
  },
  {
   "cell_type": "markdown",
   "id": "a50dacdf-6275-4905-8ced-26ac4a548eae",
   "metadata": {},
   "source": [
    "### <b> 5.3 Support Vector Regression</b>"
   ]
  },
  {
   "cell_type": "code",
   "execution_count": 273,
   "id": "b55dec60-6922-4069-a638-3cc1759c7157",
   "metadata": {},
   "outputs": [],
   "source": [
    "Algorithm.append('Support Vector Regression')\n",
    "model2 = SVR()\n",
    "model2.fit(Xtrain, ytrain)\n",
    "predicted =model2.predict(Xtest)\n",
    "MSE_Score.append(metrics.mean_squared_error(ytest, predicted))\n",
    "R2_Score.append(metrics.r2_score(ytest, predicted))"
   ]
  },
  {
   "cell_type": "markdown",
   "id": "fbac7c0b-211e-4a89-9e7d-0ea7d996ef0f",
   "metadata": {},
   "source": [
    "### <b> 5.4 Decision Tree Regressor</b>"
   ]
  },
  {
   "cell_type": "code",
   "execution_count": 274,
   "id": "ce33471d-f690-4f92-95f5-f1a1d56d8bdc",
   "metadata": {},
   "outputs": [],
   "source": [
    "Algorithm.append('Decision Tree Regressor')\n",
    "model3 = DecisionTreeRegressor()\n",
    "model3.fit(Xtrain, ytrain)\n",
    "predicted =model3.predict(Xtest)\n",
    "MSE_Score.append(metrics.mean_squared_error(ytest, predicted))\n",
    "R2_Score.append(metrics.r2_score(ytest, predicted))"
   ]
  },
  {
   "cell_type": "code",
   "execution_count": 275,
   "id": "376cc21a-b895-4f10-a3a2-5e10df993f95",
   "metadata": {},
   "outputs": [],
   "source": [
    "Comparison = pd.DataFrame(list(zip(Algorithm, MSE_Score, R2_Score)), columns = ['Algorithm', 'MSE_Score', 'R2_Score'])"
   ]
  },
  {
   "cell_type": "code",
   "execution_count": 276,
   "id": "3efba6bd-7f30-425d-b147-1e3e46928607",
   "metadata": {},
   "outputs": [
    {
     "data": {
      "text/html": [
       "<div>\n",
       "<style scoped>\n",
       "    .dataframe tbody tr th:only-of-type {\n",
       "        vertical-align: middle;\n",
       "    }\n",
       "\n",
       "    .dataframe tbody tr th {\n",
       "        vertical-align: top;\n",
       "    }\n",
       "\n",
       "    .dataframe thead th {\n",
       "        text-align: right;\n",
       "    }\n",
       "</style>\n",
       "<table border=\"1\" class=\"dataframe\">\n",
       "  <thead>\n",
       "    <tr style=\"text-align: right;\">\n",
       "      <th></th>\n",
       "      <th>Algorithm</th>\n",
       "      <th>MSE_Score</th>\n",
       "      <th>R2_Score</th>\n",
       "    </tr>\n",
       "  </thead>\n",
       "  <tbody>\n",
       "    <tr>\n",
       "      <th>0</th>\n",
       "      <td>Linear Regression</td>\n",
       "      <td>91.237682</td>\n",
       "      <td>0.157340</td>\n",
       "    </tr>\n",
       "    <tr>\n",
       "      <th>1</th>\n",
       "      <td>Random Forest Regression</td>\n",
       "      <td>62.638028</td>\n",
       "      <td>0.421483</td>\n",
       "    </tr>\n",
       "    <tr>\n",
       "      <th>2</th>\n",
       "      <td>Support Vector Regression</td>\n",
       "      <td>90.692141</td>\n",
       "      <td>0.162379</td>\n",
       "    </tr>\n",
       "    <tr>\n",
       "      <th>3</th>\n",
       "      <td>Decision Tree Regressor</td>\n",
       "      <td>121.254848</td>\n",
       "      <td>-0.119895</td>\n",
       "    </tr>\n",
       "  </tbody>\n",
       "</table>\n",
       "</div>"
      ],
      "text/plain": [
       "                   Algorithm   MSE_Score  R2_Score\n",
       "0          Linear Regression   91.237682  0.157340\n",
       "1   Random Forest Regression   62.638028  0.421483\n",
       "2  Support Vector Regression   90.692141  0.162379\n",
       "3    Decision Tree Regressor  121.254848 -0.119895"
      ]
     },
     "execution_count": 276,
     "metadata": {},
     "output_type": "execute_result"
    }
   ],
   "source": [
    "Comparison"
   ]
  },
  {
   "cell_type": "code",
   "execution_count": null,
   "id": "551d105d-6dd5-4fad-ac5b-fc9c399a8dc6",
   "metadata": {},
   "outputs": [],
   "source": []
  }
 ],
 "metadata": {
  "kernelspec": {
   "display_name": "Python 3 (ipykernel)",
   "language": "python",
   "name": "python3"
  },
  "language_info": {
   "codemirror_mode": {
    "name": "ipython",
    "version": 3
   },
   "file_extension": ".py",
   "mimetype": "text/x-python",
   "name": "python",
   "nbconvert_exporter": "python",
   "pygments_lexer": "ipython3",
   "version": "3.9.5"
  }
 },
 "nbformat": 4,
 "nbformat_minor": 5
}
