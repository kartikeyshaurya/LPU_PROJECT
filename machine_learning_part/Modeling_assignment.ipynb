{
 "cells": [
  {
   "cell_type": "code",
   "execution_count": 3,
   "metadata": {},
   "outputs": [],
   "source": [
    "import numpy as np\n",
    "import pandas as pd\n",
    "import datetime as dt\n",
    "from scipy import stats\n",
    "\n",
    "import seaborn as sns\n",
    "import matplotlib.pyplot as plt\n",
    "%matplotlib inline \n",
    "from sklearn.model_selection import train_test_split\n",
    "from sklearn.linear_model import LinearRegression\n",
    "from sklearn import metrics\n",
    "from sklearn.ensemble import RandomForestRegressor"
   ]
  },
  {
   "cell_type": "code",
   "execution_count": null,
   "metadata": {},
   "outputs": [],
   "source": []
  },
  {
   "cell_type": "code",
   "execution_count": 4,
   "metadata": {},
   "outputs": [
    {
     "name": "stdout",
     "output_type": "stream",
     "text": [
      "currently working in ['.ipynb_checkpoints', '.vscode', 'data.csv', 'experiment.csv', 'flow.png', 'ml_copy-Copy1.ipynb', 'Modeling_assignment.ipynb', 'my_work.ipynb', 'rough.ipynb']\n"
     ]
    },
    {
     "data": {
      "text/plain": [
       "Index(['business_code', 'cust_number', 'name_customer', 'clear_date',\n",
       "       'buisness_year', 'doc_id', 'posting_date', 'document_create_date',\n",
       "       'document_create_date.1', 'due_in_date', 'invoice_currency',\n",
       "       'document type', 'posting_id', 'area_business', 'total_open_amount',\n",
       "       'baseline_create_date', 'cust_payment_terms', 'invoice_id', 'isOpen'],\n",
       "      dtype='object')"
      ]
     },
     "execution_count": 4,
     "metadata": {},
     "output_type": "execute_result"
    }
   ],
   "source": [
    "def load_data(notebook_name):\n",
    "    \" should be working in the same path \"\n",
    "    import os\n",
    "    path= os.getcwd()\n",
    "    print(\"currently working in \"+ str(os.listdir()))\n",
    "    path= os.getcwd()\n",
    "    data = pd.read_csv(os.getcwd()+\"//\"+notebook_name)\n",
    "    return data\n",
    "data = load_data(\"data.csv\") \n",
    "\n",
    "df = pd.DataFrame(data)\n",
    "df.columns"
   ]
  },
  {
   "cell_type": "code",
   "execution_count": 5,
   "metadata": {},
   "outputs": [
    {
     "data": {
      "text/plain": [
       "(50000, 19)"
      ]
     },
     "execution_count": 5,
     "metadata": {},
     "output_type": "execute_result"
    }
   ],
   "source": [
    "df.shape"
   ]
  },
  {
   "cell_type": "code",
   "execution_count": 6,
   "metadata": {},
   "outputs": [
    {
     "data": {
      "text/plain": [
       "business_code               0\n",
       "cust_number                 0\n",
       "name_customer               0\n",
       "clear_date              10000\n",
       "buisness_year               0\n",
       "doc_id                      0\n",
       "posting_date                0\n",
       "document_create_date        0\n",
       "due_in_date                 0\n",
       "invoice_currency            0\n",
       "document type               0\n",
       "posting_id                  0\n",
       "area_business           50000\n",
       "total_open_amount           0\n",
       "baseline_create_date        0\n",
       "cust_payment_terms          0\n",
       "invoice_id                  6\n",
       "isOpen                      0\n",
       "dtype: int64"
      ]
     },
     "execution_count": 6,
     "metadata": {},
     "output_type": "execute_result"
    }
   ],
   "source": [
    "# As we can see in the list of columns 'document_create_date' is twice, so we drop one.\n",
    "\n",
    "df_drop = df.drop(['document_create_date.1'], axis=1)\n",
    "\n",
    "# finding nan values \n",
    "df_drop.isna().sum()"
   ]
  },
  {
   "cell_type": "code",
   "execution_count": 7,
   "metadata": {},
   "outputs": [
    {
     "data": {
      "text/plain": [
       "(39994, 17)"
      ]
     },
     "execution_count": 7,
     "metadata": {},
     "output_type": "execute_result"
    }
   ],
   "source": [
    "# From the above sum we can see 'area_business' is totally useless as it has null values for all 50k data rows.\n",
    "df_drop1 = df_drop.drop(['area_business'], axis = 1)\n",
    "\n",
    "# There are 4175 rows with clear date missing which is useful in finding payment delay predictions, so these rows are useless.\n",
    "df_drop2 = df_drop1.dropna(axis = 0, how ='any') # additionally removing those 10 null values too for invoice_id\n",
    "df_drop2.shape\n",
    "# df_drop2.isna().sum()"
   ]
  },
  {
   "cell_type": "markdown",
   "metadata": {},
   "source": [
    "## Creating our Target column"
   ]
  },
  {
   "cell_type": "code",
   "execution_count": 8,
   "metadata": {},
   "outputs": [],
   "source": [
    "def change_date(x_type):\n",
    "    x = int(x_type)\n",
    "    x = str(x)\n",
    "    year = int(x[0:4])\n",
    "    month = int(x[4:6])\n",
    "    day = int(x[6:])\n",
    "    return dt.datetime(year, month, day)"
   ]
  },
  {
   "cell_type": "code",
   "execution_count": 9,
   "metadata": {},
   "outputs": [
    {
     "name": "stderr",
     "output_type": "stream",
     "text": [
      "C:\\Users\\karti\\AppData\\Local\\Temp\\ipykernel_5532\\987431143.py:4: SettingWithCopyWarning: \n",
      "A value is trying to be set on a copy of a slice from a DataFrame.\n",
      "Try using .loc[row_indexer,col_indexer] = value instead\n",
      "\n",
      "See the caveats in the documentation: https://pandas.pydata.org/pandas-docs/stable/user_guide/indexing.html#returning-a-view-versus-a-copy\n",
      "  df_drop2['due_date'] = df_drop2['due_in_date'].apply(change_date)\n",
      "C:\\Users\\karti\\AppData\\Local\\Temp\\ipykernel_5532\\987431143.py:5: SettingWithCopyWarning: \n",
      "A value is trying to be set on a copy of a slice from a DataFrame.\n",
      "Try using .loc[row_indexer,col_indexer] = value instead\n",
      "\n",
      "See the caveats in the documentation: https://pandas.pydata.org/pandas-docs/stable/user_guide/indexing.html#returning-a-view-versus-a-copy\n",
      "  df_drop2['clear_date']= pd.to_datetime(df_drop2['clear_date'])\n",
      "C:\\Users\\karti\\AppData\\Local\\Temp\\ipykernel_5532\\987431143.py:8: SettingWithCopyWarning: \n",
      "A value is trying to be set on a copy of a slice from a DataFrame.\n",
      "Try using .loc[row_indexer,col_indexer] = value instead\n",
      "\n",
      "See the caveats in the documentation: https://pandas.pydata.org/pandas-docs/stable/user_guide/indexing.html#returning-a-view-versus-a-copy\n",
      "  df_drop2['target'] = (df_drop2['clear_date'] - df_drop2['due_date']).dt.days\n"
     ]
    }
   ],
   "source": [
    "# year/month/date\n",
    "# due date() - clear date(day/month/year)\n",
    "# generating due date into readable format.\n",
    "df_drop2['due_date'] = df_drop2['due_in_date'].apply(change_date)\n",
    "df_drop2['clear_date']= pd.to_datetime(df_drop2['clear_date']) \n",
    "\n",
    "# Creating target variable\n",
    "df_drop2['target'] = (df_drop2['clear_date'] - df_drop2['due_date']).dt.days\n",
    "# df_drop2.head(5) target value +ve means there was a delay in payment."
   ]
  },
  {
   "cell_type": "code",
   "execution_count": 10,
   "metadata": {},
   "outputs": [
    {
     "data": {
      "text/html": [
       "<div>\n",
       "<style scoped>\n",
       "    .dataframe tbody tr th:only-of-type {\n",
       "        vertical-align: middle;\n",
       "    }\n",
       "\n",
       "    .dataframe tbody tr th {\n",
       "        vertical-align: top;\n",
       "    }\n",
       "\n",
       "    .dataframe thead th {\n",
       "        text-align: right;\n",
       "    }\n",
       "</style>\n",
       "<table border=\"1\" class=\"dataframe\">\n",
       "  <thead>\n",
       "    <tr style=\"text-align: right;\">\n",
       "      <th></th>\n",
       "      <th>business_code</th>\n",
       "      <th>cust_number</th>\n",
       "      <th>name_customer</th>\n",
       "      <th>clear_date</th>\n",
       "      <th>buisness_year</th>\n",
       "      <th>doc_id</th>\n",
       "      <th>posting_date</th>\n",
       "      <th>document_create_date</th>\n",
       "      <th>due_in_date</th>\n",
       "      <th>invoice_currency</th>\n",
       "      <th>document type</th>\n",
       "      <th>posting_id</th>\n",
       "      <th>total_open_amount</th>\n",
       "      <th>baseline_create_date</th>\n",
       "      <th>cust_payment_terms</th>\n",
       "      <th>invoice_id</th>\n",
       "      <th>isOpen</th>\n",
       "      <th>due_date</th>\n",
       "      <th>target</th>\n",
       "    </tr>\n",
       "  </thead>\n",
       "  <tbody>\n",
       "    <tr>\n",
       "      <th>0</th>\n",
       "      <td>U001</td>\n",
       "      <td>0200769623</td>\n",
       "      <td>WAL-MAR corp</td>\n",
       "      <td>2020-02-11</td>\n",
       "      <td>2020.0</td>\n",
       "      <td>1.930438e+09</td>\n",
       "      <td>2020-01-26</td>\n",
       "      <td>20200125</td>\n",
       "      <td>20200210.0</td>\n",
       "      <td>USD</td>\n",
       "      <td>RV</td>\n",
       "      <td>1.0</td>\n",
       "      <td>54273.28</td>\n",
       "      <td>20200126.0</td>\n",
       "      <td>NAH4</td>\n",
       "      <td>1.930438e+09</td>\n",
       "      <td>0</td>\n",
       "      <td>2020-02-10</td>\n",
       "      <td>1</td>\n",
       "    </tr>\n",
       "  </tbody>\n",
       "</table>\n",
       "</div>"
      ],
      "text/plain": [
       "  business_code cust_number name_customer clear_date  buisness_year  \\\n",
       "0          U001  0200769623  WAL-MAR corp 2020-02-11         2020.0   \n",
       "\n",
       "         doc_id posting_date  document_create_date  due_in_date  \\\n",
       "0  1.930438e+09   2020-01-26              20200125   20200210.0   \n",
       "\n",
       "  invoice_currency document type  posting_id  total_open_amount  \\\n",
       "0              USD            RV         1.0           54273.28   \n",
       "\n",
       "   baseline_create_date cust_payment_terms    invoice_id  isOpen   due_date  \\\n",
       "0            20200126.0               NAH4  1.930438e+09       0 2020-02-10   \n",
       "\n",
       "   target  \n",
       "0       1  "
      ]
     },
     "execution_count": 10,
     "metadata": {},
     "output_type": "execute_result"
    }
   ],
   "source": [
    "df_drop2.head(1)"
   ]
  },
  {
   "cell_type": "markdown",
   "metadata": {},
   "source": [
    "## Training and Splitting the data"
   ]
  },
  {
   "cell_type": "code",
   "execution_count": 11,
   "metadata": {},
   "outputs": [
    {
     "name": "stderr",
     "output_type": "stream",
     "text": [
      "C:\\Users\\karti\\AppData\\Local\\Temp\\ipykernel_5532\\452077917.py:1: SettingWithCopyWarning: \n",
      "A value is trying to be set on a copy of a slice from a DataFrame.\n",
      "Try using .loc[row_indexer,col_indexer] = value instead\n",
      "\n",
      "See the caveats in the documentation: https://pandas.pydata.org/pandas-docs/stable/user_guide/indexing.html#returning-a-view-versus-a-copy\n",
      "  df_drop2['document_create_date'] = df_drop2['document_create_date'].apply(change_date)\n"
     ]
    },
    {
     "name": "stdout",
     "output_type": "stream",
     "text": [
      "2018-12-26 00:00:00\n",
      "2020-03-02 00:00:00\n"
     ]
    },
    {
     "name": "stderr",
     "output_type": "stream",
     "text": [
      "C:\\Users\\karti\\AppData\\Local\\Temp\\ipykernel_5532\\452077917.py:2: SettingWithCopyWarning: \n",
      "A value is trying to be set on a copy of a slice from a DataFrame.\n",
      "Try using .loc[row_indexer,col_indexer] = value instead\n",
      "\n",
      "See the caveats in the documentation: https://pandas.pydata.org/pandas-docs/stable/user_guide/indexing.html#returning-a-view-versus-a-copy\n",
      "  df_drop2['baseline_create_date'] = df_drop2['baseline_create_date'].apply(change_date)\n"
     ]
    }
   ],
   "source": [
    "df_drop2['document_create_date'] = df_drop2['document_create_date'].apply(change_date)\n",
    "df_drop2['baseline_create_date'] = df_drop2['baseline_create_date'].apply(change_date)\n",
    "\n",
    "print(pd.to_datetime(df_drop2['document_create_date']).min()) \n",
    "print(pd.to_datetime(df_drop2['document_create_date']).max())"
   ]
  },
  {
   "cell_type": "code",
   "execution_count": 12,
   "metadata": {},
   "outputs": [],
   "source": [
    "# Splitting the initial dataframe into train and test\n",
    "# So in this case we can consider last 3 months for test set.\n",
    "x_train = df_drop2[df_drop2['document_create_date'] <= '2020-01-01'].copy()\n",
    "x_test = df_drop2[df_drop2['document_create_date'] > '2020-01-01'].copy()\n"
   ]
  },
  {
   "cell_type": "code",
   "execution_count": 13,
   "metadata": {},
   "outputs": [
    {
     "name": "stdout",
     "output_type": "stream",
     "text": [
      "(34971, 19)\n",
      "(5023, 19)\n"
     ]
    }
   ],
   "source": [
    "print(x_train.shape)\n",
    "print(x_test.shape)"
   ]
  },
  {
   "cell_type": "code",
   "execution_count": 14,
   "metadata": {},
   "outputs": [
    {
     "data": {
      "text/html": [
       "<div>\n",
       "<style scoped>\n",
       "    .dataframe tbody tr th:only-of-type {\n",
       "        vertical-align: middle;\n",
       "    }\n",
       "\n",
       "    .dataframe tbody tr th {\n",
       "        vertical-align: top;\n",
       "    }\n",
       "\n",
       "    .dataframe thead th {\n",
       "        text-align: right;\n",
       "    }\n",
       "</style>\n",
       "<table border=\"1\" class=\"dataframe\">\n",
       "  <thead>\n",
       "    <tr style=\"text-align: right;\">\n",
       "      <th></th>\n",
       "      <th>business_code</th>\n",
       "      <th>cust_number</th>\n",
       "      <th>name_customer</th>\n",
       "      <th>clear_date</th>\n",
       "      <th>buisness_year</th>\n",
       "      <th>doc_id</th>\n",
       "      <th>posting_date</th>\n",
       "      <th>document_create_date</th>\n",
       "      <th>due_in_date</th>\n",
       "      <th>invoice_currency</th>\n",
       "      <th>document type</th>\n",
       "      <th>posting_id</th>\n",
       "      <th>total_open_amount</th>\n",
       "      <th>baseline_create_date</th>\n",
       "      <th>cust_payment_terms</th>\n",
       "      <th>invoice_id</th>\n",
       "      <th>isOpen</th>\n",
       "      <th>due_date</th>\n",
       "      <th>target</th>\n",
       "    </tr>\n",
       "  </thead>\n",
       "  <tbody>\n",
       "    <tr>\n",
       "      <th>1</th>\n",
       "      <td>U001</td>\n",
       "      <td>0200980828</td>\n",
       "      <td>BEN E</td>\n",
       "      <td>2019-08-08</td>\n",
       "      <td>2019.0</td>\n",
       "      <td>1.929646e+09</td>\n",
       "      <td>2019-07-22</td>\n",
       "      <td>2019-07-22</td>\n",
       "      <td>20190811.0</td>\n",
       "      <td>USD</td>\n",
       "      <td>RV</td>\n",
       "      <td>1.0</td>\n",
       "      <td>79656.60</td>\n",
       "      <td>2019-07-22</td>\n",
       "      <td>NAD1</td>\n",
       "      <td>1.929646e+09</td>\n",
       "      <td>0</td>\n",
       "      <td>2019-08-11</td>\n",
       "      <td>-3</td>\n",
       "    </tr>\n",
       "    <tr>\n",
       "      <th>2</th>\n",
       "      <td>U001</td>\n",
       "      <td>0200792734</td>\n",
       "      <td>MDV/ trust</td>\n",
       "      <td>2019-12-30</td>\n",
       "      <td>2019.0</td>\n",
       "      <td>1.929874e+09</td>\n",
       "      <td>2019-09-14</td>\n",
       "      <td>2019-09-14</td>\n",
       "      <td>20190929.0</td>\n",
       "      <td>USD</td>\n",
       "      <td>RV</td>\n",
       "      <td>1.0</td>\n",
       "      <td>2253.86</td>\n",
       "      <td>2019-09-14</td>\n",
       "      <td>NAA8</td>\n",
       "      <td>1.929874e+09</td>\n",
       "      <td>0</td>\n",
       "      <td>2019-09-29</td>\n",
       "      <td>92</td>\n",
       "    </tr>\n",
       "    <tr>\n",
       "      <th>4</th>\n",
       "      <td>U001</td>\n",
       "      <td>0200769623</td>\n",
       "      <td>WAL-MAR foundation</td>\n",
       "      <td>2019-11-25</td>\n",
       "      <td>2019.0</td>\n",
       "      <td>1.930148e+09</td>\n",
       "      <td>2019-11-13</td>\n",
       "      <td>2019-11-13</td>\n",
       "      <td>20191128.0</td>\n",
       "      <td>USD</td>\n",
       "      <td>RV</td>\n",
       "      <td>1.0</td>\n",
       "      <td>33133.29</td>\n",
       "      <td>2019-11-13</td>\n",
       "      <td>NAH4</td>\n",
       "      <td>1.930148e+09</td>\n",
       "      <td>0</td>\n",
       "      <td>2019-11-28</td>\n",
       "      <td>-3</td>\n",
       "    </tr>\n",
       "    <tr>\n",
       "      <th>5</th>\n",
       "      <td>CA02</td>\n",
       "      <td>0140106181</td>\n",
       "      <td>THE  corporation</td>\n",
       "      <td>2019-12-04</td>\n",
       "      <td>2019.0</td>\n",
       "      <td>2.960581e+09</td>\n",
       "      <td>2019-09-20</td>\n",
       "      <td>2019-09-20</td>\n",
       "      <td>20191004.0</td>\n",
       "      <td>CAD</td>\n",
       "      <td>RV</td>\n",
       "      <td>1.0</td>\n",
       "      <td>22225.84</td>\n",
       "      <td>2019-09-24</td>\n",
       "      <td>CA10</td>\n",
       "      <td>2.960581e+09</td>\n",
       "      <td>0</td>\n",
       "      <td>2019-10-04</td>\n",
       "      <td>61</td>\n",
       "    </tr>\n",
       "    <tr>\n",
       "      <th>6</th>\n",
       "      <td>U001</td>\n",
       "      <td>0200769623</td>\n",
       "      <td>WAL-MAR in</td>\n",
       "      <td>2019-11-12</td>\n",
       "      <td>2019.0</td>\n",
       "      <td>1.930083e+09</td>\n",
       "      <td>2019-11-01</td>\n",
       "      <td>2019-10-31</td>\n",
       "      <td>20191116.0</td>\n",
       "      <td>USD</td>\n",
       "      <td>RV</td>\n",
       "      <td>1.0</td>\n",
       "      <td>7358.49</td>\n",
       "      <td>2019-11-01</td>\n",
       "      <td>NAH4</td>\n",
       "      <td>1.930083e+09</td>\n",
       "      <td>0</td>\n",
       "      <td>2019-11-16</td>\n",
       "      <td>-4</td>\n",
       "    </tr>\n",
       "  </tbody>\n",
       "</table>\n",
       "</div>"
      ],
      "text/plain": [
       "  business_code cust_number       name_customer clear_date  buisness_year  \\\n",
       "1          U001  0200980828              BEN E  2019-08-08         2019.0   \n",
       "2          U001  0200792734          MDV/ trust 2019-12-30         2019.0   \n",
       "4          U001  0200769623  WAL-MAR foundation 2019-11-25         2019.0   \n",
       "5          CA02  0140106181    THE  corporation 2019-12-04         2019.0   \n",
       "6          U001  0200769623          WAL-MAR in 2019-11-12         2019.0   \n",
       "\n",
       "         doc_id posting_date document_create_date  due_in_date  \\\n",
       "1  1.929646e+09   2019-07-22           2019-07-22   20190811.0   \n",
       "2  1.929874e+09   2019-09-14           2019-09-14   20190929.0   \n",
       "4  1.930148e+09   2019-11-13           2019-11-13   20191128.0   \n",
       "5  2.960581e+09   2019-09-20           2019-09-20   20191004.0   \n",
       "6  1.930083e+09   2019-11-01           2019-10-31   20191116.0   \n",
       "\n",
       "  invoice_currency document type  posting_id  total_open_amount  \\\n",
       "1              USD            RV         1.0           79656.60   \n",
       "2              USD            RV         1.0            2253.86   \n",
       "4              USD            RV         1.0           33133.29   \n",
       "5              CAD            RV         1.0           22225.84   \n",
       "6              USD            RV         1.0            7358.49   \n",
       "\n",
       "  baseline_create_date cust_payment_terms    invoice_id  isOpen   due_date  \\\n",
       "1           2019-07-22               NAD1  1.929646e+09       0 2019-08-11   \n",
       "2           2019-09-14               NAA8  1.929874e+09       0 2019-09-29   \n",
       "4           2019-11-13               NAH4  1.930148e+09       0 2019-11-28   \n",
       "5           2019-09-24               CA10  2.960581e+09       0 2019-10-04   \n",
       "6           2019-11-01               NAH4  1.930083e+09       0 2019-11-16   \n",
       "\n",
       "   target  \n",
       "1      -3  \n",
       "2      92  \n",
       "4      -3  \n",
       "5      61  \n",
       "6      -4  "
      ]
     },
     "execution_count": 14,
     "metadata": {},
     "output_type": "execute_result"
    }
   ],
   "source": [
    "x_train.head()"
   ]
  },
  {
   "cell_type": "markdown",
   "metadata": {},
   "source": [
    "## EDA and Feature Engineering"
   ]
  },
  {
   "cell_type": "code",
   "execution_count": 15,
   "metadata": {},
   "outputs": [
    {
     "name": "stdout",
     "output_type": "stream",
     "text": [
      "{'U001': 31589, 'CA02': 2820, 'U013': 442, 'U002': 107, 'U005': 9, 'U007': 4}\n",
      "{'U001': 4601, 'CA02': 354, 'U013': 59, 'U002': 9}\n"
     ]
    }
   ],
   "source": [
    "# business_code, invoice_currency, document type, posting_id, cust_payment_terms\n",
    "print(dict(x_train['business_code'].value_counts()))\n",
    "print(dict(x_test['business_code'].value_counts()))"
   ]
  },
  {
   "cell_type": "code",
   "execution_count": 16,
   "metadata": {},
   "outputs": [
    {
     "name": "stdout",
     "output_type": "stream",
     "text": [
      "{'USD': 32149, 'CAD': 2822}\n",
      "{'USD': 4669, 'CAD': 354}\n"
     ]
    }
   ],
   "source": [
    "print(dict(x_train['invoice_currency'].value_counts()))\n",
    "print(dict(x_test['invoice_currency'].value_counts()))"
   ]
  },
  {
   "cell_type": "code",
   "execution_count": 17,
   "metadata": {},
   "outputs": [
    {
     "name": "stdout",
     "output_type": "stream",
     "text": [
      "{0: 34971}\n",
      "{0: 5023}\n"
     ]
    }
   ],
   "source": [
    "print(dict(x_train['isOpen'].value_counts()))\n",
    "print(dict(x_test['isOpen'].value_counts()))"
   ]
  },
  {
   "cell_type": "code",
   "execution_count": 18,
   "metadata": {},
   "outputs": [
    {
     "name": "stdout",
     "output_type": "stream",
     "text": [
      "{'RV': 34971}\n",
      "{'RV': 5023}\n"
     ]
    }
   ],
   "source": [
    "print(dict(x_train['document type'].value_counts()))\n",
    "print(dict(x_test['document type'].value_counts()))"
   ]
  },
  {
   "cell_type": "code",
   "execution_count": 19,
   "metadata": {},
   "outputs": [
    {
     "name": "stdout",
     "output_type": "stream",
     "text": [
      "{1.0: 34971}\n",
      "{1.0: 5023}\n"
     ]
    }
   ],
   "source": [
    "print(dict(x_train['posting_id'].value_counts()))\n",
    "print(dict(x_test['posting_id'].value_counts()))"
   ]
  },
  {
   "cell_type": "code",
   "execution_count": 20,
   "metadata": {},
   "outputs": [
    {
     "name": "stdout",
     "output_type": "stream",
     "text": [
      "{'NAA8': 14032, 'NAH4': 9267, 'CA10': 2727, 'NAC6': 1167, 'NAM4': 947, 'NAAX': 836, 'NAD1': 719, 'NAU5': 633, 'NAG2': 623, 'NAGD': 527, 'NA32': 526, 'NAX2': 469, 'NAM2': 418, 'NA10': 310, 'NAD5': 239, 'NAM1': 191, 'NAVE': 189, 'NAVF': 183, 'NAAW': 138, 'NAWU': 117, 'NAWN': 97, 'NAVR': 84, 'NAVQ': 75, 'NAWP': 48, 'CA30': 40, 'NAUZ': 37, 'NA3B': 36, 'NAVM': 31, 'NACB': 28, 'NA38': 23, 'NABG': 19, 'NAD4': 19, 'NAB1': 16, 'NAVD': 13, 'C106': 12, 'NA84': 12, 'NAVL': 11, 'BR56': 10, 'NAUP': 10, 'NA9X': 10, 'NA3F': 8, 'NATM': 7, 'NAM3': 6, 'CAB1': 6, 'CAX2': 5, 'NATJ': 5, 'NA25': 4, 'NAWM': 4, 'NATW': 4, 'B052': 3, 'NATH': 3, 'NAVC': 3, 'NA8Q': 3, 'NATL': 2, 'NAV9': 2, 'NATX': 2, '90M7': 2, 'NA31': 2, 'NATU': 1, 'NATK': 1, 'CA60': 1, 'NAUY': 1, 'NAUW': 1, 'NABD': 1, 'NATV': 1, 'MC15': 1, 'NAD8': 1, 'NAV2': 1, 'BR12': 1}\n",
      "\n",
      "{'NAA8': 1984, 'NAH4': 1326, 'CA10': 342, 'NAM4': 165, 'NAC6': 150, 'NAAX': 126, 'NAGD': 119, 'NAG2': 100, 'NAD1': 100, 'NA32': 81, 'NAX2': 79, 'NAM2': 71, 'NAU5': 68, 'NA10': 62, 'NAD5': 40, 'NAM1': 34, 'NAVE': 30, 'NAAW': 21, 'NAVQ': 20, 'NAWP': 19, 'NAVF': 16, 'NABG': 8, 'NAD4': 7, 'CA30': 6, 'NACB': 5, 'NAUZ': 5, 'NA3B': 5, 'NAVD': 4, 'NA3F': 3, 'NAB1': 3, 'NAUP': 3, '90M7': 3, 'NAVL': 2, 'NA84': 2, 'NA8Q': 2, 'NAV2': 2, 'NATZ': 2, 'NAVM': 2, 'NA38': 1, 'BR12': 1, 'CAB1': 1, 'NAD8': 1, 'NAV9': 1, 'NAVC': 1}\n"
     ]
    }
   ],
   "source": [
    "print(dict(x_train['cust_payment_terms'].value_counts()))\n",
    "# a little cramped but this gives the idea.\n",
    "print()\n",
    "print(dict(x_test['cust_payment_terms'].value_counts()))"
   ]
  },
  {
   "cell_type": "code",
   "execution_count": 21,
   "metadata": {},
   "outputs": [
    {
     "data": {
      "text/html": [
       "<div>\n",
       "<style scoped>\n",
       "    .dataframe tbody tr th:only-of-type {\n",
       "        vertical-align: middle;\n",
       "    }\n",
       "\n",
       "    .dataframe tbody tr th {\n",
       "        vertical-align: top;\n",
       "    }\n",
       "\n",
       "    .dataframe thead th {\n",
       "        text-align: right;\n",
       "    }\n",
       "</style>\n",
       "<table border=\"1\" class=\"dataframe\">\n",
       "  <thead>\n",
       "    <tr style=\"text-align: right;\">\n",
       "      <th></th>\n",
       "      <th>buisness_year</th>\n",
       "      <th>doc_id</th>\n",
       "      <th>due_in_date</th>\n",
       "      <th>posting_id</th>\n",
       "      <th>total_open_amount</th>\n",
       "      <th>invoice_id</th>\n",
       "      <th>isOpen</th>\n",
       "      <th>target</th>\n",
       "    </tr>\n",
       "  </thead>\n",
       "  <tbody>\n",
       "    <tr>\n",
       "      <th>count</th>\n",
       "      <td>34971.000000</td>\n",
       "      <td>3.497100e+04</td>\n",
       "      <td>3.497100e+04</td>\n",
       "      <td>34971.0</td>\n",
       "      <td>34971.000000</td>\n",
       "      <td>3.497100e+04</td>\n",
       "      <td>34971.0</td>\n",
       "      <td>34971.000000</td>\n",
       "    </tr>\n",
       "    <tr>\n",
       "      <th>mean</th>\n",
       "      <td>2019.007492</td>\n",
       "      <td>2.013599e+09</td>\n",
       "      <td>2.019081e+07</td>\n",
       "      <td>1.0</td>\n",
       "      <td>32256.683147</td>\n",
       "      <td>2.013599e+09</td>\n",
       "      <td>0.0</td>\n",
       "      <td>0.861514</td>\n",
       "    </tr>\n",
       "    <tr>\n",
       "      <th>std</th>\n",
       "      <td>0.086232</td>\n",
       "      <td>2.805631e+08</td>\n",
       "      <td>1.094669e+03</td>\n",
       "      <td>0.0</td>\n",
       "      <td>39975.902056</td>\n",
       "      <td>2.805631e+08</td>\n",
       "      <td>0.0</td>\n",
       "      <td>10.711260</td>\n",
       "    </tr>\n",
       "    <tr>\n",
       "      <th>min</th>\n",
       "      <td>2019.000000</td>\n",
       "      <td>1.928502e+09</td>\n",
       "      <td>2.018122e+07</td>\n",
       "      <td>1.0</td>\n",
       "      <td>0.790000</td>\n",
       "      <td>1.928502e+09</td>\n",
       "      <td>0.0</td>\n",
       "      <td>-89.000000</td>\n",
       "    </tr>\n",
       "    <tr>\n",
       "      <th>25%</th>\n",
       "      <td>2019.000000</td>\n",
       "      <td>1.929101e+09</td>\n",
       "      <td>2.019042e+07</td>\n",
       "      <td>1.0</td>\n",
       "      <td>4714.295000</td>\n",
       "      <td>1.929101e+09</td>\n",
       "      <td>0.0</td>\n",
       "      <td>-3.000000</td>\n",
       "    </tr>\n",
       "    <tr>\n",
       "      <th>50%</th>\n",
       "      <td>2019.000000</td>\n",
       "      <td>1.929617e+09</td>\n",
       "      <td>2.019071e+07</td>\n",
       "      <td>1.0</td>\n",
       "      <td>17319.710000</td>\n",
       "      <td>1.929617e+09</td>\n",
       "      <td>0.0</td>\n",
       "      <td>0.000000</td>\n",
       "    </tr>\n",
       "    <tr>\n",
       "      <th>75%</th>\n",
       "      <td>2019.000000</td>\n",
       "      <td>1.930028e+09</td>\n",
       "      <td>2.019101e+07</td>\n",
       "      <td>1.0</td>\n",
       "      <td>46596.520000</td>\n",
       "      <td>1.930028e+09</td>\n",
       "      <td>0.0</td>\n",
       "      <td>2.000000</td>\n",
       "    </tr>\n",
       "    <tr>\n",
       "      <th>max</th>\n",
       "      <td>2020.000000</td>\n",
       "      <td>2.960605e+09</td>\n",
       "      <td>2.020030e+07</td>\n",
       "      <td>1.0</td>\n",
       "      <td>668593.360000</td>\n",
       "      <td>2.960605e+09</td>\n",
       "      <td>0.0</td>\n",
       "      <td>204.000000</td>\n",
       "    </tr>\n",
       "  </tbody>\n",
       "</table>\n",
       "</div>"
      ],
      "text/plain": [
       "       buisness_year        doc_id   due_in_date  posting_id  \\\n",
       "count   34971.000000  3.497100e+04  3.497100e+04     34971.0   \n",
       "mean     2019.007492  2.013599e+09  2.019081e+07         1.0   \n",
       "std         0.086232  2.805631e+08  1.094669e+03         0.0   \n",
       "min      2019.000000  1.928502e+09  2.018122e+07         1.0   \n",
       "25%      2019.000000  1.929101e+09  2.019042e+07         1.0   \n",
       "50%      2019.000000  1.929617e+09  2.019071e+07         1.0   \n",
       "75%      2019.000000  1.930028e+09  2.019101e+07         1.0   \n",
       "max      2020.000000  2.960605e+09  2.020030e+07         1.0   \n",
       "\n",
       "       total_open_amount    invoice_id   isOpen        target  \n",
       "count       34971.000000  3.497100e+04  34971.0  34971.000000  \n",
       "mean        32256.683147  2.013599e+09      0.0      0.861514  \n",
       "std         39975.902056  2.805631e+08      0.0     10.711260  \n",
       "min             0.790000  1.928502e+09      0.0    -89.000000  \n",
       "25%          4714.295000  1.929101e+09      0.0     -3.000000  \n",
       "50%         17319.710000  1.929617e+09      0.0      0.000000  \n",
       "75%         46596.520000  1.930028e+09      0.0      2.000000  \n",
       "max        668593.360000  2.960605e+09      0.0    204.000000  "
      ]
     },
     "execution_count": 21,
     "metadata": {},
     "output_type": "execute_result"
    }
   ],
   "source": [
    "x_train.describe()"
   ]
  },
  {
   "cell_type": "code",
   "execution_count": 22,
   "metadata": {},
   "outputs": [],
   "source": [
    "# we get to see that posting_id and isOpen bboth have just one value for all data, so we remove them.\n",
    "X_train = x_train.drop(['posting_id', 'posting_id', 'document type'], axis = 1)\n",
    "X_test = x_test.drop(['posting_id', 'posting_id', 'document type'], axis = 1)"
   ]
  },
  {
   "cell_type": "code",
   "execution_count": 23,
   "metadata": {},
   "outputs": [
    {
     "data": {
      "text/html": [
       "<div>\n",
       "<style scoped>\n",
       "    .dataframe tbody tr th:only-of-type {\n",
       "        vertical-align: middle;\n",
       "    }\n",
       "\n",
       "    .dataframe tbody tr th {\n",
       "        vertical-align: top;\n",
       "    }\n",
       "\n",
       "    .dataframe thead th {\n",
       "        text-align: right;\n",
       "    }\n",
       "</style>\n",
       "<table border=\"1\" class=\"dataframe\">\n",
       "  <thead>\n",
       "    <tr style=\"text-align: right;\">\n",
       "      <th></th>\n",
       "      <th>business_code</th>\n",
       "      <th>cust_number</th>\n",
       "      <th>name_customer</th>\n",
       "      <th>clear_date</th>\n",
       "      <th>buisness_year</th>\n",
       "      <th>doc_id</th>\n",
       "      <th>posting_date</th>\n",
       "      <th>document_create_date</th>\n",
       "      <th>due_in_date</th>\n",
       "      <th>invoice_currency</th>\n",
       "      <th>total_open_amount</th>\n",
       "      <th>baseline_create_date</th>\n",
       "      <th>cust_payment_terms</th>\n",
       "      <th>invoice_id</th>\n",
       "      <th>isOpen</th>\n",
       "      <th>due_date</th>\n",
       "      <th>target</th>\n",
       "    </tr>\n",
       "  </thead>\n",
       "  <tbody>\n",
       "    <tr>\n",
       "      <th>1</th>\n",
       "      <td>U001</td>\n",
       "      <td>0200980828</td>\n",
       "      <td>BEN E</td>\n",
       "      <td>2019-08-08</td>\n",
       "      <td>2019.0</td>\n",
       "      <td>1.929646e+09</td>\n",
       "      <td>2019-07-22</td>\n",
       "      <td>2019-07-22</td>\n",
       "      <td>20190811.0</td>\n",
       "      <td>USD</td>\n",
       "      <td>79656.60</td>\n",
       "      <td>2019-07-22</td>\n",
       "      <td>NAD1</td>\n",
       "      <td>1.929646e+09</td>\n",
       "      <td>0</td>\n",
       "      <td>2019-08-11</td>\n",
       "      <td>-3</td>\n",
       "    </tr>\n",
       "    <tr>\n",
       "      <th>2</th>\n",
       "      <td>U001</td>\n",
       "      <td>0200792734</td>\n",
       "      <td>MDV/ trust</td>\n",
       "      <td>2019-12-30</td>\n",
       "      <td>2019.0</td>\n",
       "      <td>1.929874e+09</td>\n",
       "      <td>2019-09-14</td>\n",
       "      <td>2019-09-14</td>\n",
       "      <td>20190929.0</td>\n",
       "      <td>USD</td>\n",
       "      <td>2253.86</td>\n",
       "      <td>2019-09-14</td>\n",
       "      <td>NAA8</td>\n",
       "      <td>1.929874e+09</td>\n",
       "      <td>0</td>\n",
       "      <td>2019-09-29</td>\n",
       "      <td>92</td>\n",
       "    </tr>\n",
       "    <tr>\n",
       "      <th>4</th>\n",
       "      <td>U001</td>\n",
       "      <td>0200769623</td>\n",
       "      <td>WAL-MAR foundation</td>\n",
       "      <td>2019-11-25</td>\n",
       "      <td>2019.0</td>\n",
       "      <td>1.930148e+09</td>\n",
       "      <td>2019-11-13</td>\n",
       "      <td>2019-11-13</td>\n",
       "      <td>20191128.0</td>\n",
       "      <td>USD</td>\n",
       "      <td>33133.29</td>\n",
       "      <td>2019-11-13</td>\n",
       "      <td>NAH4</td>\n",
       "      <td>1.930148e+09</td>\n",
       "      <td>0</td>\n",
       "      <td>2019-11-28</td>\n",
       "      <td>-3</td>\n",
       "    </tr>\n",
       "    <tr>\n",
       "      <th>5</th>\n",
       "      <td>CA02</td>\n",
       "      <td>0140106181</td>\n",
       "      <td>THE  corporation</td>\n",
       "      <td>2019-12-04</td>\n",
       "      <td>2019.0</td>\n",
       "      <td>2.960581e+09</td>\n",
       "      <td>2019-09-20</td>\n",
       "      <td>2019-09-20</td>\n",
       "      <td>20191004.0</td>\n",
       "      <td>CAD</td>\n",
       "      <td>22225.84</td>\n",
       "      <td>2019-09-24</td>\n",
       "      <td>CA10</td>\n",
       "      <td>2.960581e+09</td>\n",
       "      <td>0</td>\n",
       "      <td>2019-10-04</td>\n",
       "      <td>61</td>\n",
       "    </tr>\n",
       "    <tr>\n",
       "      <th>6</th>\n",
       "      <td>U001</td>\n",
       "      <td>0200769623</td>\n",
       "      <td>WAL-MAR in</td>\n",
       "      <td>2019-11-12</td>\n",
       "      <td>2019.0</td>\n",
       "      <td>1.930083e+09</td>\n",
       "      <td>2019-11-01</td>\n",
       "      <td>2019-10-31</td>\n",
       "      <td>20191116.0</td>\n",
       "      <td>USD</td>\n",
       "      <td>7358.49</td>\n",
       "      <td>2019-11-01</td>\n",
       "      <td>NAH4</td>\n",
       "      <td>1.930083e+09</td>\n",
       "      <td>0</td>\n",
       "      <td>2019-11-16</td>\n",
       "      <td>-4</td>\n",
       "    </tr>\n",
       "  </tbody>\n",
       "</table>\n",
       "</div>"
      ],
      "text/plain": [
       "  business_code cust_number       name_customer clear_date  buisness_year  \\\n",
       "1          U001  0200980828              BEN E  2019-08-08         2019.0   \n",
       "2          U001  0200792734          MDV/ trust 2019-12-30         2019.0   \n",
       "4          U001  0200769623  WAL-MAR foundation 2019-11-25         2019.0   \n",
       "5          CA02  0140106181    THE  corporation 2019-12-04         2019.0   \n",
       "6          U001  0200769623          WAL-MAR in 2019-11-12         2019.0   \n",
       "\n",
       "         doc_id posting_date document_create_date  due_in_date  \\\n",
       "1  1.929646e+09   2019-07-22           2019-07-22   20190811.0   \n",
       "2  1.929874e+09   2019-09-14           2019-09-14   20190929.0   \n",
       "4  1.930148e+09   2019-11-13           2019-11-13   20191128.0   \n",
       "5  2.960581e+09   2019-09-20           2019-09-20   20191004.0   \n",
       "6  1.930083e+09   2019-11-01           2019-10-31   20191116.0   \n",
       "\n",
       "  invoice_currency  total_open_amount baseline_create_date cust_payment_terms  \\\n",
       "1              USD           79656.60           2019-07-22               NAD1   \n",
       "2              USD            2253.86           2019-09-14               NAA8   \n",
       "4              USD           33133.29           2019-11-13               NAH4   \n",
       "5              CAD           22225.84           2019-09-24               CA10   \n",
       "6              USD            7358.49           2019-11-01               NAH4   \n",
       "\n",
       "     invoice_id  isOpen   due_date  target  \n",
       "1  1.929646e+09       0 2019-08-11      -3  \n",
       "2  1.929874e+09       0 2019-09-29      92  \n",
       "4  1.930148e+09       0 2019-11-28      -3  \n",
       "5  2.960581e+09       0 2019-10-04      61  \n",
       "6  1.930083e+09       0 2019-11-16      -4  "
      ]
     },
     "execution_count": 23,
     "metadata": {},
     "output_type": "execute_result"
    }
   ],
   "source": [
    "X_train.head()"
   ]
  },
  {
   "cell_type": "code",
   "execution_count": 24,
   "metadata": {},
   "outputs": [
    {
     "data": {
      "text/plain": [
       "<AxesSubplot:xlabel='business_code', ylabel='target'>"
      ]
     },
     "execution_count": 24,
     "metadata": {},
     "output_type": "execute_result"
    },
    {
     "data": {
      "image/png": "[encoded data removed]",
      "text/plain": [
       "<Figure size 720x432 with 1 Axes>"
      ]
     },
     "metadata": {
      "needs_background": "light"
     },
     "output_type": "display_data"
    }
   ],
   "source": [
    "temp = pd.DataFrame(X_train.groupby(['business_code'], axis=0, as_index=False)['target'].mean())\n",
    "plt.figure(figsize=(10,6))\n",
    "sns.barplot(x=\"business_code\", y=\"target\",data=temp,linewidth=2.5, facecolor=(1, 1, 1, 0),\n",
    "                 errcolor=\".4\", edgecolor=\"red\")"
   ]
  },
  {
   "cell_type": "code",
   "execution_count": 25,
   "metadata": {},
   "outputs": [],
   "source": [
    "# The above graph shows that U005 and U013 code are the ones that delay their payments."
   ]
  },
  {
   "cell_type": "code",
   "execution_count": 26,
   "metadata": {},
   "outputs": [],
   "source": [
    "# Encoding the binary categorical column invoice_currency\n",
    "X_train['invoice_currency'] = X_train['invoice_currency'].map({'USD': 0,'CAD': 1})\n",
    "X_test['invoice_currency'] = X_test['invoice_currency'].map({'USD': 0,'CAD': 1})"
   ]
  },
  {
   "cell_type": "code",
   "execution_count": 27,
   "metadata": {},
   "outputs": [
    {
     "data": {
      "text/plain": [
       "<AxesSubplot:xlabel='invoice_currency', ylabel='target'>"
      ]
     },
     "execution_count": 27,
     "metadata": {},
     "output_type": "execute_result"
    },
    {
     "data": {
      "image/png": "[encoded data removed]",
      "text/plain": [
       "<Figure size 432x288 with 1 Axes>"
      ]
     },
     "metadata": {
      "needs_background": "light"
     },
     "output_type": "display_data"
    }
   ],
   "source": [
    "temp1 = pd.DataFrame(X_train.groupby(['invoice_currency'], axis=0, as_index=False)['target'].mean())\n",
    "plt.figure(figsize=(6,4))\n",
    "sns.barplot(x=\"invoice_currency\", y=\"target\",data=temp1,linewidth=1.5, facecolor=(1, 1, 1, 0),\n",
    "                 errcolor=\".2\", edgecolor=\"blue\")"
   ]
  },
  {
   "cell_type": "code",
   "execution_count": 28,
   "metadata": {},
   "outputs": [],
   "source": [
    "# This shows USD currency deliveries have no delays in payment as such."
   ]
  },
  {
   "cell_type": "code",
   "execution_count": 29,
   "metadata": {},
   "outputs": [
    {
     "name": "stderr",
     "output_type": "stream",
     "text": [
      "e:\\conda\\lib\\site-packages\\seaborn\\distributions.py:2619: FutureWarning: `distplot` is a deprecated function and will be removed in a future version. Please adapt your code to use either `displot` (a figure-level function with similar flexibility) or `histplot` (an axes-level function for histograms).\n",
      "  warnings.warn(msg, FutureWarning)\n"
     ]
    },
    {
     "data": {
      "text/plain": [
       "<AxesSubplot:xlabel='total_open_amount', ylabel='Density'>"
      ]
     },
     "execution_count": 29,
     "metadata": {},
     "output_type": "execute_result"
    },
    {
     "data": {
      "image/png": "[encoded data removed]",
      "text/plain": [
       "<Figure size 576x576 with 1 Axes>"
      ]
     },
     "metadata": {
      "needs_background": "light"
     },
     "output_type": "display_data"
    }
   ],
   "source": [
    "plt.figure(figsize=(8,8))\n",
    "plt.figure(1)\n",
    "sns.distplot(X_train['total_open_amount'],color='green')"
   ]
  },
  {
   "cell_type": "code",
   "execution_count": 30,
   "metadata": {},
   "outputs": [],
   "source": [
    "# This shows the amount column is totally right skewed which puts strain on the bias of this data."
   ]
  },
  {
   "cell_type": "code",
   "execution_count": 31,
   "metadata": {},
   "outputs": [],
   "source": [
    "# Using log transformation to make it more 'normal' for better analysis\n",
    "def Transform(x):\n",
    "    return np.log(x)\n",
    "\n",
    "X_train['total_open_amount'] = X_train['total_open_amount'].apply(Transform)\n",
    "X_test['total_open_amount'] = X_test['total_open_amount'].apply(Transform)"
   ]
  },
  {
   "cell_type": "code",
   "execution_count": 32,
   "metadata": {},
   "outputs": [
    {
     "data": {
      "text/plain": [
       "1294"
      ]
     },
     "execution_count": 32,
     "metadata": {},
     "output_type": "execute_result"
    }
   ],
   "source": [
    "X_train['cust_number'].nunique()"
   ]
  },
  {
   "cell_type": "code",
   "execution_count": 33,
   "metadata": {},
   "outputs": [
    {
     "data": {
      "text/plain": [
       "34228"
      ]
     },
     "execution_count": 33,
     "metadata": {},
     "output_type": "execute_result"
    }
   ],
   "source": [
    "# This pretty much doesnt give much info as its unique for each row\n",
    "X_train['invoice_id'].nunique()"
   ]
  },
  {
   "cell_type": "code",
   "execution_count": 34,
   "metadata": {},
   "outputs": [],
   "source": [
    "# Dropping those columns which don't contribute anything for predictions.\n",
    "X_train = X_train.drop(['buisness_year', 'due_in_date', 'isOpen'], axis = 1)\n",
    "X_test = X_test.drop(['buisness_year', 'due_in_date', 'isOpen'], axis = 1)"
   ]
  },
  {
   "cell_type": "code",
   "execution_count": 35,
   "metadata": {},
   "outputs": [
    {
     "data": {
      "text/html": [
       "<div>\n",
       "<style scoped>\n",
       "    .dataframe tbody tr th:only-of-type {\n",
       "        vertical-align: middle;\n",
       "    }\n",
       "\n",
       "    .dataframe tbody tr th {\n",
       "        vertical-align: top;\n",
       "    }\n",
       "\n",
       "    .dataframe thead th {\n",
       "        text-align: right;\n",
       "    }\n",
       "</style>\n",
       "<table border=\"1\" class=\"dataframe\">\n",
       "  <thead>\n",
       "    <tr style=\"text-align: right;\">\n",
       "      <th></th>\n",
       "      <th>business_code</th>\n",
       "      <th>cust_number</th>\n",
       "      <th>name_customer</th>\n",
       "      <th>clear_date</th>\n",
       "      <th>doc_id</th>\n",
       "      <th>posting_date</th>\n",
       "      <th>document_create_date</th>\n",
       "      <th>invoice_currency</th>\n",
       "      <th>total_open_amount</th>\n",
       "      <th>baseline_create_date</th>\n",
       "      <th>cust_payment_terms</th>\n",
       "      <th>invoice_id</th>\n",
       "      <th>due_date</th>\n",
       "      <th>target</th>\n",
       "    </tr>\n",
       "  </thead>\n",
       "  <tbody>\n",
       "    <tr>\n",
       "      <th>1</th>\n",
       "      <td>U001</td>\n",
       "      <td>0200980828</td>\n",
       "      <td>BEN E</td>\n",
       "      <td>2019-08-08</td>\n",
       "      <td>1.929646e+09</td>\n",
       "      <td>2019-07-22</td>\n",
       "      <td>2019-07-22</td>\n",
       "      <td>0</td>\n",
       "      <td>11.28548</td>\n",
       "      <td>2019-07-22</td>\n",
       "      <td>NAD1</td>\n",
       "      <td>1.929646e+09</td>\n",
       "      <td>2019-08-11</td>\n",
       "      <td>-3</td>\n",
       "    </tr>\n",
       "  </tbody>\n",
       "</table>\n",
       "</div>"
      ],
      "text/plain": [
       "  business_code cust_number name_customer clear_date        doc_id  \\\n",
       "1          U001  0200980828        BEN E  2019-08-08  1.929646e+09   \n",
       "\n",
       "  posting_date document_create_date  invoice_currency  total_open_amount  \\\n",
       "1   2019-07-22           2019-07-22                 0           11.28548   \n",
       "\n",
       "  baseline_create_date cust_payment_terms    invoice_id   due_date  target  \n",
       "1           2019-07-22               NAD1  1.929646e+09 2019-08-11      -3  "
      ]
     },
     "execution_count": 35,
     "metadata": {},
     "output_type": "execute_result"
    }
   ],
   "source": [
    "X_train.head(1)"
   ]
  },
  {
   "cell_type": "code",
   "execution_count": 36,
   "metadata": {},
   "outputs": [
    {
     "name": "stderr",
     "output_type": "stream",
     "text": [
      "e:\\conda\\lib\\site-packages\\seaborn\\distributions.py:2619: FutureWarning: `distplot` is a deprecated function and will be removed in a future version. Please adapt your code to use either `displot` (a figure-level function with similar flexibility) or `histplot` (an axes-level function for histograms).\n",
      "  warnings.warn(msg, FutureWarning)\n"
     ]
    },
    {
     "data": {
      "text/plain": [
       "<AxesSubplot:xlabel='target', ylabel='Density'>"
      ]
     },
     "execution_count": 36,
     "metadata": {},
     "output_type": "execute_result"
    },
    {
     "data": {
      "text/plain": [
       "<Figure size 432x432 with 0 Axes>"
      ]
     },
     "metadata": {},
     "output_type": "display_data"
    },
    {
     "data": {
      "image/png": "[encoded data removed]",
      "text/plain": [
       "<Figure size 432x288 with 1 Axes>"
      ]
     },
     "metadata": {
      "needs_background": "light"
     },
     "output_type": "display_data"
    }
   ],
   "source": [
    "plt.figure(figsize=(6,6))\n",
    "plt.figure(2)\n",
    "sns.distplot(X_train['target'],color='green')"
   ]
  },
  {
   "cell_type": "code",
   "execution_count": 37,
   "metadata": {},
   "outputs": [],
   "source": [
    "# This is pretty much symmetric meaning normalised already."
   ]
  },
  {
   "cell_type": "code",
   "execution_count": 38,
   "metadata": {},
   "outputs": [],
   "source": [
    "#print(dict(X_train['cust_number'].value_counts()))\n",
    "def integers(x):\n",
    "    ref = dict(X_train['cust_number'].value_counts())\n",
    "    if ref.get(x):\n",
    "        return ref[x]\n",
    "\n",
    "X_train['cust_number'] = X_train['cust_number'].apply(integers)"
   ]
  },
  {
   "cell_type": "code",
   "execution_count": 39,
   "metadata": {},
   "outputs": [],
   "source": [
    "def integers_test(x):\n",
    "    ref = dict(X_test['cust_number'].value_counts())\n",
    "    if ref.get(x):\n",
    "        return ref[x]\n",
    "    \n",
    "X_test['cust_number'] = X_test['cust_number'].apply(integers_test)"
   ]
  },
  {
   "cell_type": "code",
   "execution_count": 40,
   "metadata": {},
   "outputs": [
    {
     "data": {
      "text/html": [
       "<div>\n",
       "<style scoped>\n",
       "    .dataframe tbody tr th:only-of-type {\n",
       "        vertical-align: middle;\n",
       "    }\n",
       "\n",
       "    .dataframe tbody tr th {\n",
       "        vertical-align: top;\n",
       "    }\n",
       "\n",
       "    .dataframe thead th {\n",
       "        text-align: right;\n",
       "    }\n",
       "</style>\n",
       "<table border=\"1\" class=\"dataframe\">\n",
       "  <thead>\n",
       "    <tr style=\"text-align: right;\">\n",
       "      <th></th>\n",
       "      <th>business_code</th>\n",
       "      <th>cust_number</th>\n",
       "      <th>name_customer</th>\n",
       "      <th>clear_date</th>\n",
       "      <th>doc_id</th>\n",
       "      <th>posting_date</th>\n",
       "      <th>document_create_date</th>\n",
       "      <th>invoice_currency</th>\n",
       "      <th>total_open_amount</th>\n",
       "      <th>baseline_create_date</th>\n",
       "      <th>cust_payment_terms</th>\n",
       "      <th>invoice_id</th>\n",
       "      <th>due_date</th>\n",
       "      <th>target</th>\n",
       "    </tr>\n",
       "  </thead>\n",
       "  <tbody>\n",
       "    <tr>\n",
       "      <th>1</th>\n",
       "      <td>U001</td>\n",
       "      <td>50</td>\n",
       "      <td>BEN E</td>\n",
       "      <td>2019-08-08</td>\n",
       "      <td>1.929646e+09</td>\n",
       "      <td>2019-07-22</td>\n",
       "      <td>2019-07-22</td>\n",
       "      <td>0</td>\n",
       "      <td>11.285480</td>\n",
       "      <td>2019-07-22</td>\n",
       "      <td>NAD1</td>\n",
       "      <td>1.929646e+09</td>\n",
       "      <td>2019-08-11</td>\n",
       "      <td>-3</td>\n",
       "    </tr>\n",
       "    <tr>\n",
       "      <th>2</th>\n",
       "      <td>U001</td>\n",
       "      <td>132</td>\n",
       "      <td>MDV/ trust</td>\n",
       "      <td>2019-12-30</td>\n",
       "      <td>1.929874e+09</td>\n",
       "      <td>2019-09-14</td>\n",
       "      <td>2019-09-14</td>\n",
       "      <td>0</td>\n",
       "      <td>7.720400</td>\n",
       "      <td>2019-09-14</td>\n",
       "      <td>NAA8</td>\n",
       "      <td>1.929874e+09</td>\n",
       "      <td>2019-09-29</td>\n",
       "      <td>92</td>\n",
       "    </tr>\n",
       "    <tr>\n",
       "      <th>4</th>\n",
       "      <td>U001</td>\n",
       "      <td>7763</td>\n",
       "      <td>WAL-MAR foundation</td>\n",
       "      <td>2019-11-25</td>\n",
       "      <td>1.930148e+09</td>\n",
       "      <td>2019-11-13</td>\n",
       "      <td>2019-11-13</td>\n",
       "      <td>0</td>\n",
       "      <td>10.408294</td>\n",
       "      <td>2019-11-13</td>\n",
       "      <td>NAH4</td>\n",
       "      <td>1.930148e+09</td>\n",
       "      <td>2019-11-28</td>\n",
       "      <td>-3</td>\n",
       "    </tr>\n",
       "  </tbody>\n",
       "</table>\n",
       "</div>"
      ],
      "text/plain": [
       "  business_code  cust_number       name_customer clear_date        doc_id  \\\n",
       "1          U001           50              BEN E  2019-08-08  1.929646e+09   \n",
       "2          U001          132          MDV/ trust 2019-12-30  1.929874e+09   \n",
       "4          U001         7763  WAL-MAR foundation 2019-11-25  1.930148e+09   \n",
       "\n",
       "  posting_date document_create_date  invoice_currency  total_open_amount  \\\n",
       "1   2019-07-22           2019-07-22                 0          11.285480   \n",
       "2   2019-09-14           2019-09-14                 0           7.720400   \n",
       "4   2019-11-13           2019-11-13                 0          10.408294   \n",
       "\n",
       "  baseline_create_date cust_payment_terms    invoice_id   due_date  target  \n",
       "1           2019-07-22               NAD1  1.929646e+09 2019-08-11      -3  \n",
       "2           2019-09-14               NAA8  1.929874e+09 2019-09-29      92  \n",
       "4           2019-11-13               NAH4  1.930148e+09 2019-11-28      -3  "
      ]
     },
     "execution_count": 40,
     "metadata": {},
     "output_type": "execute_result"
    }
   ],
   "source": [
    "X_train.head(3)"
   ]
  },
  {
   "cell_type": "code",
   "execution_count": 41,
   "metadata": {},
   "outputs": [
    {
     "data": {
      "text/html": [
       "<div>\n",
       "<style scoped>\n",
       "    .dataframe tbody tr th:only-of-type {\n",
       "        vertical-align: middle;\n",
       "    }\n",
       "\n",
       "    .dataframe tbody tr th {\n",
       "        vertical-align: top;\n",
       "    }\n",
       "\n",
       "    .dataframe thead th {\n",
       "        text-align: right;\n",
       "    }\n",
       "</style>\n",
       "<table border=\"1\" class=\"dataframe\">\n",
       "  <thead>\n",
       "    <tr style=\"text-align: right;\">\n",
       "      <th></th>\n",
       "      <th>business_code</th>\n",
       "      <th>cust_number</th>\n",
       "      <th>name_customer</th>\n",
       "      <th>clear_date</th>\n",
       "      <th>doc_id</th>\n",
       "      <th>posting_date</th>\n",
       "      <th>document_create_date</th>\n",
       "      <th>invoice_currency</th>\n",
       "      <th>total_open_amount</th>\n",
       "      <th>baseline_create_date</th>\n",
       "      <th>cust_payment_terms</th>\n",
       "      <th>invoice_id</th>\n",
       "      <th>due_date</th>\n",
       "      <th>target</th>\n",
       "      <th>CA02</th>\n",
       "      <th>U001</th>\n",
       "      <th>U013</th>\n",
       "      <th>other</th>\n",
       "    </tr>\n",
       "  </thead>\n",
       "  <tbody>\n",
       "    <tr>\n",
       "      <th>1</th>\n",
       "      <td>U001</td>\n",
       "      <td>50</td>\n",
       "      <td>BEN E</td>\n",
       "      <td>2019-08-08</td>\n",
       "      <td>1.929646e+09</td>\n",
       "      <td>2019-07-22</td>\n",
       "      <td>2019-07-22</td>\n",
       "      <td>0</td>\n",
       "      <td>11.285480</td>\n",
       "      <td>2019-07-22</td>\n",
       "      <td>NAD1</td>\n",
       "      <td>1.929646e+09</td>\n",
       "      <td>2019-08-11</td>\n",
       "      <td>-3</td>\n",
       "      <td>0</td>\n",
       "      <td>1</td>\n",
       "      <td>0</td>\n",
       "      <td>0</td>\n",
       "    </tr>\n",
       "    <tr>\n",
       "      <th>2</th>\n",
       "      <td>U001</td>\n",
       "      <td>132</td>\n",
       "      <td>MDV/ trust</td>\n",
       "      <td>2019-12-30</td>\n",
       "      <td>1.929874e+09</td>\n",
       "      <td>2019-09-14</td>\n",
       "      <td>2019-09-14</td>\n",
       "      <td>0</td>\n",
       "      <td>7.720400</td>\n",
       "      <td>2019-09-14</td>\n",
       "      <td>NAA8</td>\n",
       "      <td>1.929874e+09</td>\n",
       "      <td>2019-09-29</td>\n",
       "      <td>92</td>\n",
       "      <td>0</td>\n",
       "      <td>1</td>\n",
       "      <td>0</td>\n",
       "      <td>0</td>\n",
       "    </tr>\n",
       "    <tr>\n",
       "      <th>4</th>\n",
       "      <td>U001</td>\n",
       "      <td>7763</td>\n",
       "      <td>WAL-MAR foundation</td>\n",
       "      <td>2019-11-25</td>\n",
       "      <td>1.930148e+09</td>\n",
       "      <td>2019-11-13</td>\n",
       "      <td>2019-11-13</td>\n",
       "      <td>0</td>\n",
       "      <td>10.408294</td>\n",
       "      <td>2019-11-13</td>\n",
       "      <td>NAH4</td>\n",
       "      <td>1.930148e+09</td>\n",
       "      <td>2019-11-28</td>\n",
       "      <td>-3</td>\n",
       "      <td>0</td>\n",
       "      <td>1</td>\n",
       "      <td>0</td>\n",
       "      <td>0</td>\n",
       "    </tr>\n",
       "    <tr>\n",
       "      <th>5</th>\n",
       "      <td>CA02</td>\n",
       "      <td>77</td>\n",
       "      <td>THE  corporation</td>\n",
       "      <td>2019-12-04</td>\n",
       "      <td>2.960581e+09</td>\n",
       "      <td>2019-09-20</td>\n",
       "      <td>2019-09-20</td>\n",
       "      <td>1</td>\n",
       "      <td>10.009011</td>\n",
       "      <td>2019-09-24</td>\n",
       "      <td>CA10</td>\n",
       "      <td>2.960581e+09</td>\n",
       "      <td>2019-10-04</td>\n",
       "      <td>61</td>\n",
       "      <td>1</td>\n",
       "      <td>0</td>\n",
       "      <td>0</td>\n",
       "      <td>0</td>\n",
       "    </tr>\n",
       "    <tr>\n",
       "      <th>6</th>\n",
       "      <td>U001</td>\n",
       "      <td>7763</td>\n",
       "      <td>WAL-MAR in</td>\n",
       "      <td>2019-11-12</td>\n",
       "      <td>1.930083e+09</td>\n",
       "      <td>2019-11-01</td>\n",
       "      <td>2019-10-31</td>\n",
       "      <td>0</td>\n",
       "      <td>8.903610</td>\n",
       "      <td>2019-11-01</td>\n",
       "      <td>NAH4</td>\n",
       "      <td>1.930083e+09</td>\n",
       "      <td>2019-11-16</td>\n",
       "      <td>-4</td>\n",
       "      <td>0</td>\n",
       "      <td>1</td>\n",
       "      <td>0</td>\n",
       "      <td>0</td>\n",
       "    </tr>\n",
       "  </tbody>\n",
       "</table>\n",
       "</div>"
      ],
      "text/plain": [
       "  business_code  cust_number       name_customer clear_date        doc_id  \\\n",
       "1          U001           50              BEN E  2019-08-08  1.929646e+09   \n",
       "2          U001          132          MDV/ trust 2019-12-30  1.929874e+09   \n",
       "4          U001         7763  WAL-MAR foundation 2019-11-25  1.930148e+09   \n",
       "5          CA02           77    THE  corporation 2019-12-04  2.960581e+09   \n",
       "6          U001         7763          WAL-MAR in 2019-11-12  1.930083e+09   \n",
       "\n",
       "  posting_date document_create_date  invoice_currency  total_open_amount  \\\n",
       "1   2019-07-22           2019-07-22                 0          11.285480   \n",
       "2   2019-09-14           2019-09-14                 0           7.720400   \n",
       "4   2019-11-13           2019-11-13                 0          10.408294   \n",
       "5   2019-09-20           2019-09-20                 1          10.009011   \n",
       "6   2019-11-01           2019-10-31                 0           8.903610   \n",
       "\n",
       "  baseline_create_date cust_payment_terms    invoice_id   due_date  target  \\\n",
       "1           2019-07-22               NAD1  1.929646e+09 2019-08-11      -3   \n",
       "2           2019-09-14               NAA8  1.929874e+09 2019-09-29      92   \n",
       "4           2019-11-13               NAH4  1.930148e+09 2019-11-28      -3   \n",
       "5           2019-09-24               CA10  2.960581e+09 2019-10-04      61   \n",
       "6           2019-11-01               NAH4  1.930083e+09 2019-11-16      -4   \n",
       "\n",
       "   CA02  U001  U013  other  \n",
       "1     0     1     0      0  \n",
       "2     0     1     0      0  \n",
       "4     0     1     0      0  \n",
       "5     1     0     0      0  \n",
       "6     0     1     0      0  "
      ]
     },
     "execution_count": 41,
     "metadata": {},
     "output_type": "execute_result"
    }
   ],
   "source": [
    "# It is clear that U002 afterwards all business codes are meager so we take it as others.\n",
    "\n",
    "X_train = X_train.replace(['U002', 'U005', 'U007'], 'other')\n",
    "X_test = X_test.replace(['U002', 'U005', 'U007'], 'other')\n",
    "\n",
    "business = pd.get_dummies(X_train['business_code'])\n",
    "business1 = pd.get_dummies(X_test['business_code'])\n",
    "# Above in the business_code column we can see they are categorical ones, so we make new feature\n",
    "# out of them \n",
    "X_train = pd.concat([X_train, business], axis=1)\n",
    "X_test = pd.concat([X_test, business1], axis=1)\n",
    "\n",
    "X_train.head()"
   ]
  },
  {
   "cell_type": "code",
   "execution_count": 42,
   "metadata": {},
   "outputs": [],
   "source": [
    "# creating a new feature from baseline column.\n",
    "X_train['baseline_quater']= pd.to_datetime(X_train['baseline_create_date']).dt.quarter\n",
    "X_test['baseline_quater']= pd.to_datetime(X_test['baseline_create_date']).dt.quarter\n"
   ]
  },
  {
   "cell_type": "code",
   "execution_count": 43,
   "metadata": {},
   "outputs": [
    {
     "data": {
      "text/plain": [
       "NAA                 15006\n",
       "NA_letter_number    14718\n",
       "CA                   2791\n",
       "NA_place             1498\n",
       "NA_number_number      877\n",
       "NA_number_letter       54\n",
       "B                      14\n",
       "NATM                    7\n",
       "C_number                2\n",
       "NATV                    1\n",
       "NAUW                    1\n",
       "NABD                    1\n",
       "MC15                    1\n",
       "Name: cust_payment_terms, dtype: int64"
      ]
     },
     "execution_count": 43,
     "metadata": {},
     "output_type": "execute_result"
    }
   ],
   "source": [
    "X_train = X_train.replace(['NAA8', 'NAAX', 'NAAW'], 'NAA')\n",
    "X_train = X_train.replace(['NAGD', 'NAUZ', 'NAVF', 'NAVE', 'NAVR', 'NAWN', 'NAVQ',\n",
    "                                  'NAWP', 'NAVM', 'NACB', 'NABG','NAVD', 'NAVL', 'NAUP', 'NATJ', 'NATH', \n",
    "                                  'NATU', 'NA8Q', 'NAVC', 'NANC', 'NATK', 'NAUI', 'NAWM',\n",
    "                                  'NATL', 'NAUY', 'NATW', 'NATX', 'NAWU'], 'NA_place')\n",
    "\n",
    "X_train = X_train.replace(['NAH4', 'NAC6', 'NAM4', 'NAD1', 'NAU5', 'NAG2', 'NAX2', 'NAD5', 'NAM1',\n",
    "                                  'NAD4','NAB1','NAM2','NAM3', 'NAV9',  'NAV2', 'NAD8'], 'NA_letter_number')\n",
    "\n",
    "X_train = X_train.replace(['NA3B', 'NA3F', 'NA9X'], 'NA_number_letter')\n",
    "\n",
    "X_train = X_train.replace(['NA32', 'NA10', 'NA38', 'NA84', 'NA25', 'NA31'], 'NA_number_number')\n",
    "\n",
    "X_train = X_train.replace(['CA10', 'CA30', 'C106', 'CAX2', 'CAB1', 'C129', 'CA60'], 'CA')\n",
    "\n",
    "X_train = X_train.replace(['C106', 'C129', '90M7'], 'C_number')\n",
    "\n",
    "X_train = X_train.replace(['BR56', 'B030', 'B052', 'BR12', 'B112'], 'B')\n",
    "\n",
    "X_train['cust_payment_terms'].value_counts()"
   ]
  },
  {
   "cell_type": "code",
   "execution_count": 44,
   "metadata": {},
   "outputs": [
    {
     "data": {
      "text/plain": [
       "NA_letter_number    2147\n",
       "NAA                 2131\n",
       "CA                   349\n",
       "NA_place             238\n",
       "NA_number_number     146\n",
       "NA_number_letter       8\n",
       "C_number               3\n",
       "BR12                   1\n",
       "Name: cust_payment_terms, dtype: int64"
      ]
     },
     "execution_count": 44,
     "metadata": {},
     "output_type": "execute_result"
    }
   ],
   "source": [
    "X_test = X_test.replace(['NAA8', 'NAAX', 'NAAW'], 'NAA')\n",
    "\n",
    "X_test = X_test.replace(['NAGD', 'NAUZ', 'NAVF', 'NAVE', 'NAVR', 'NAWN', 'NAVQ',\n",
    "                                  'NAWP', 'NAVM', 'NACB', 'NABG','NAVD', 'NAVL', 'NAUP', 'NATJ', 'NATH', \n",
    "                                  'NATU', 'NA8Q', 'NAVC', 'NANC', 'NATK', 'NAUI', 'NAWM',\n",
    "                                  'NATL', 'NAUY', 'NATZ', 'NACE', 'NATZ'], 'NA_place')\n",
    "\n",
    "X_test = X_test.replace(['NAH4', 'NAC6', 'NAM4', 'NAD1', 'NAU5', 'NAG2', 'NAX2', 'NAD5', 'NAM1',\n",
    "                                  'NAD4','NAB1','NAM2','NAM3', 'NAV9',  'NAV2', 'NAD8'], 'NA_letter_number')\n",
    "\n",
    "X_test = X_test.replace(['NA3B', 'NA3F', 'NA9X'], 'NA_number_letter')\n",
    "\n",
    "X_test = X_test.replace(['NA32', 'NA10', 'NA38', 'NA84', 'NA25', 'NA31'], 'NA_number_number')\n",
    "\n",
    "X_test = X_test.replace(['CA10', 'CA30', 'C106', 'CAX2', 'CAB1', 'C129', 'CA60'], 'CA')\n",
    "\n",
    "X_test = X_test.replace(['C106', 'C129', '90M7'], 'C_number')\n",
    "\n",
    "X_test = X_test.replace(['BR56', 'B030', 'B052'], 'B')\n",
    "\n",
    "X_test['cust_payment_terms'].value_counts()"
   ]
  },
  {
   "cell_type": "code",
   "execution_count": 45,
   "metadata": {},
   "outputs": [
    {
     "data": {
      "text/html": [
       "<div>\n",
       "<style scoped>\n",
       "    .dataframe tbody tr th:only-of-type {\n",
       "        vertical-align: middle;\n",
       "    }\n",
       "\n",
       "    .dataframe tbody tr th {\n",
       "        vertical-align: top;\n",
       "    }\n",
       "\n",
       "    .dataframe thead th {\n",
       "        text-align: right;\n",
       "    }\n",
       "</style>\n",
       "<table border=\"1\" class=\"dataframe\">\n",
       "  <thead>\n",
       "    <tr style=\"text-align: right;\">\n",
       "      <th></th>\n",
       "      <th>business_code</th>\n",
       "      <th>cust_number</th>\n",
       "      <th>name_customer</th>\n",
       "      <th>clear_date</th>\n",
       "      <th>doc_id</th>\n",
       "      <th>posting_date</th>\n",
       "      <th>document_create_date</th>\n",
       "      <th>invoice_currency</th>\n",
       "      <th>total_open_amount</th>\n",
       "      <th>baseline_create_date</th>\n",
       "      <th>cust_payment_terms</th>\n",
       "      <th>invoice_id</th>\n",
       "      <th>due_date</th>\n",
       "      <th>target</th>\n",
       "      <th>CA02</th>\n",
       "      <th>U001</th>\n",
       "      <th>U013</th>\n",
       "      <th>other</th>\n",
       "      <th>baseline_quater</th>\n",
       "      <th>B</th>\n",
       "    </tr>\n",
       "  </thead>\n",
       "  <tbody>\n",
       "    <tr>\n",
       "      <th>0</th>\n",
       "      <td>U001</td>\n",
       "      <td>1179</td>\n",
       "      <td>WAL-MAR corp</td>\n",
       "      <td>2020-02-11</td>\n",
       "      <td>1.930438e+09</td>\n",
       "      <td>2020-01-26</td>\n",
       "      <td>2020-01-25</td>\n",
       "      <td>0</td>\n",
       "      <td>10.901787</td>\n",
       "      <td>2020-01-26</td>\n",
       "      <td>NA_letter_number</td>\n",
       "      <td>1.930438e+09</td>\n",
       "      <td>2020-02-10</td>\n",
       "      <td>1</td>\n",
       "      <td>0</td>\n",
       "      <td>1</td>\n",
       "      <td>0</td>\n",
       "      <td>0</td>\n",
       "      <td>1</td>\n",
       "      <td>0.0</td>\n",
       "    </tr>\n",
       "    <tr>\n",
       "      <th>19</th>\n",
       "      <td>U001</td>\n",
       "      <td>1179</td>\n",
       "      <td>WAL-MAR systems</td>\n",
       "      <td>2020-02-05</td>\n",
       "      <td>1.930438e+09</td>\n",
       "      <td>2020-01-24</td>\n",
       "      <td>2020-01-24</td>\n",
       "      <td>0</td>\n",
       "      <td>10.884621</td>\n",
       "      <td>2020-01-24</td>\n",
       "      <td>NA_letter_number</td>\n",
       "      <td>1.930438e+09</td>\n",
       "      <td>2020-02-08</td>\n",
       "      <td>-3</td>\n",
       "      <td>0</td>\n",
       "      <td>1</td>\n",
       "      <td>0</td>\n",
       "      <td>0</td>\n",
       "      <td>1</td>\n",
       "      <td>0.0</td>\n",
       "    </tr>\n",
       "    <tr>\n",
       "      <th>20</th>\n",
       "      <td>U013</td>\n",
       "      <td>3</td>\n",
       "      <td>SYSTEMS systems</td>\n",
       "      <td>2020-02-11</td>\n",
       "      <td>1.991838e+09</td>\n",
       "      <td>2020-01-11</td>\n",
       "      <td>2020-01-07</td>\n",
       "      <td>0</td>\n",
       "      <td>8.645323</td>\n",
       "      <td>2020-01-11</td>\n",
       "      <td>NA_place</td>\n",
       "      <td>1.991838e+09</td>\n",
       "      <td>2020-02-10</td>\n",
       "      <td>1</td>\n",
       "      <td>0</td>\n",
       "      <td>0</td>\n",
       "      <td>1</td>\n",
       "      <td>0</td>\n",
       "      <td>1</td>\n",
       "      <td>0.0</td>\n",
       "    </tr>\n",
       "  </tbody>\n",
       "</table>\n",
       "</div>"
      ],
      "text/plain": [
       "   business_code  cust_number    name_customer clear_date        doc_id  \\\n",
       "0           U001         1179     WAL-MAR corp 2020-02-11  1.930438e+09   \n",
       "19          U001         1179  WAL-MAR systems 2020-02-05  1.930438e+09   \n",
       "20          U013            3  SYSTEMS systems 2020-02-11  1.991838e+09   \n",
       "\n",
       "   posting_date document_create_date  invoice_currency  total_open_amount  \\\n",
       "0    2020-01-26           2020-01-25                 0          10.901787   \n",
       "19   2020-01-24           2020-01-24                 0          10.884621   \n",
       "20   2020-01-11           2020-01-07                 0           8.645323   \n",
       "\n",
       "   baseline_create_date cust_payment_terms    invoice_id   due_date  target  \\\n",
       "0            2020-01-26   NA_letter_number  1.930438e+09 2020-02-10       1   \n",
       "19           2020-01-24   NA_letter_number  1.930438e+09 2020-02-08      -3   \n",
       "20           2020-01-11           NA_place  1.991838e+09 2020-02-10       1   \n",
       "\n",
       "    CA02  U001  U013  other  baseline_quater    B  \n",
       "0      0     1     0      0                1  0.0  \n",
       "19     0     1     0      0                1  0.0  \n",
       "20     0     0     1      0                1  0.0  "
      ]
     },
     "execution_count": 45,
     "metadata": {},
     "output_type": "execute_result"
    }
   ],
   "source": [
    "# See however a discrepency has occurred i.e. there is no column of B\n",
    "# so we just add a column B with values 0.\n",
    "X_test['B'] = np.zeros(5023)\n",
    "X_test.head(3)"
   ]
  },
  {
   "cell_type": "code",
   "execution_count": 46,
   "metadata": {},
   "outputs": [
    {
     "data": {
      "text/html": [
       "<div>\n",
       "<style scoped>\n",
       "    .dataframe tbody tr th:only-of-type {\n",
       "        vertical-align: middle;\n",
       "    }\n",
       "\n",
       "    .dataframe tbody tr th {\n",
       "        vertical-align: top;\n",
       "    }\n",
       "\n",
       "    .dataframe thead th {\n",
       "        text-align: right;\n",
       "    }\n",
       "</style>\n",
       "<table border=\"1\" class=\"dataframe\">\n",
       "  <thead>\n",
       "    <tr style=\"text-align: right;\">\n",
       "      <th></th>\n",
       "      <th>business_code</th>\n",
       "      <th>cust_number</th>\n",
       "      <th>name_customer</th>\n",
       "      <th>clear_date</th>\n",
       "      <th>doc_id</th>\n",
       "      <th>posting_date</th>\n",
       "      <th>document_create_date</th>\n",
       "      <th>invoice_currency</th>\n",
       "      <th>total_open_amount</th>\n",
       "      <th>baseline_create_date</th>\n",
       "      <th>...</th>\n",
       "      <th>MC15</th>\n",
       "      <th>NAA</th>\n",
       "      <th>NABD</th>\n",
       "      <th>NATM</th>\n",
       "      <th>NATV</th>\n",
       "      <th>NAUW</th>\n",
       "      <th>NA_letter_number</th>\n",
       "      <th>NA_number_letter</th>\n",
       "      <th>NA_number_number</th>\n",
       "      <th>NA_place</th>\n",
       "    </tr>\n",
       "  </thead>\n",
       "  <tbody>\n",
       "    <tr>\n",
       "      <th>1</th>\n",
       "      <td>U001</td>\n",
       "      <td>50</td>\n",
       "      <td>BEN E</td>\n",
       "      <td>2019-08-08</td>\n",
       "      <td>1.929646e+09</td>\n",
       "      <td>2019-07-22</td>\n",
       "      <td>2019-07-22</td>\n",
       "      <td>0</td>\n",
       "      <td>11.28548</td>\n",
       "      <td>2019-07-22</td>\n",
       "      <td>...</td>\n",
       "      <td>0</td>\n",
       "      <td>0</td>\n",
       "      <td>0</td>\n",
       "      <td>0</td>\n",
       "      <td>0</td>\n",
       "      <td>0</td>\n",
       "      <td>1</td>\n",
       "      <td>0</td>\n",
       "      <td>0</td>\n",
       "      <td>0</td>\n",
       "    </tr>\n",
       "  </tbody>\n",
       "</table>\n",
       "<p>1 rows × 32 columns</p>\n",
       "</div>"
      ],
      "text/plain": [
       "  business_code  cust_number name_customer clear_date        doc_id  \\\n",
       "1          U001           50        BEN E  2019-08-08  1.929646e+09   \n",
       "\n",
       "  posting_date document_create_date  invoice_currency  total_open_amount  \\\n",
       "1   2019-07-22           2019-07-22                 0           11.28548   \n",
       "\n",
       "  baseline_create_date  ... MC15  NAA NABD  NATM  NATV  NAUW  \\\n",
       "1           2019-07-22  ...    0    0    0     0     0     0   \n",
       "\n",
       "   NA_letter_number  NA_number_letter  NA_number_number  NA_place  \n",
       "1                 1                 0                 0         0  \n",
       "\n",
       "[1 rows x 32 columns]"
      ]
     },
     "execution_count": 46,
     "metadata": {},
     "output_type": "execute_result"
    }
   ],
   "source": [
    "payment = pd.get_dummies(X_train['cust_payment_terms'])\n",
    "payment1 = pd.get_dummies(X_test['cust_payment_terms'])\n",
    "\n",
    "# Above in the cust_payment_terms column we can see they are categorical ones, so we make new feature\n",
    "# out of them \n",
    "X_final = pd.concat([X_train, payment], axis=1)\n",
    "X_final_test = pd.concat([X_test, payment1], axis=1)\n",
    "\n",
    "X_final.head(1)"
   ]
  },
  {
   "cell_type": "code",
   "execution_count": 47,
   "metadata": {},
   "outputs": [],
   "source": [
    "# X_final_test.head(15)"
   ]
  },
  {
   "cell_type": "code",
   "execution_count": 48,
   "metadata": {},
   "outputs": [
    {
     "data": {
      "text/plain": [
       "Index(['business_code', 'cust_number', 'name_customer', 'clear_date', 'doc_id',\n",
       "       'posting_date', 'document_create_date', 'invoice_currency',\n",
       "       'total_open_amount', 'baseline_create_date', 'cust_payment_terms',\n",
       "       'invoice_id', 'due_date', 'target', 'CA02', 'U001', 'U013', 'other',\n",
       "       'baseline_quater', 'B', 'CA', 'C_number', 'MC15', 'NAA', 'NABD', 'NATM',\n",
       "       'NATV', 'NAUW', 'NA_letter_number', 'NA_number_letter',\n",
       "       'NA_number_number', 'NA_place'],\n",
       "      dtype='object')"
      ]
     },
     "execution_count": 48,
     "metadata": {},
     "output_type": "execute_result"
    }
   ],
   "source": [
    "X_final.columns"
   ]
  },
  {
   "cell_type": "code",
   "execution_count": 49,
   "metadata": {},
   "outputs": [
    {
     "data": {
      "text/plain": [
       "<AxesSubplot:>"
      ]
     },
     "execution_count": 49,
     "metadata": {},
     "output_type": "execute_result"
    },
    {
     "data": {
      "image/png": "[encoded data removed]",
      "text/plain": [
       "<Figure size 1080x1080 with 2 Axes>"
      ]
     },
     "metadata": {
      "needs_background": "light"
     },
     "output_type": "display_data"
    }
   ],
   "source": [
    "# X_final.columns\n",
    "plt.figure(figsize=(15,15))\n",
    "sns.heatmap(X_final.corr(),annot=True,cmap='viridis',linewidths=.5)"
   ]
  },
  {
   "cell_type": "code",
   "execution_count": 50,
   "metadata": {},
   "outputs": [],
   "source": [
    "# dropping columns that won't help in predictions. Note on feature has high correlation with target variable.\n",
    "X_final = X_final.drop(['doc_id', 'invoice_id','business_code', 'name_customer', 'clear_date',\n",
    "                       'posting_date', 'document_create_date', 'baseline_create_date', 'cust_payment_terms',\n",
    "                       'invoice_id', 'due_date'], axis = 1)\n",
    "\n",
    "X_final_test = X_final_test.drop(['doc_id', 'invoice_id','business_code', 'name_customer', 'clear_date',\n",
    "                       'posting_date', 'document_create_date', 'baseline_create_date', 'cust_payment_terms',\n",
    "                       'invoice_id', 'due_date'], axis = 1)"
   ]
  },
  {
   "cell_type": "code",
   "execution_count": 51,
   "metadata": {},
   "outputs": [
    {
     "data": {
      "text/html": [
       "<div>\n",
       "<style scoped>\n",
       "    .dataframe tbody tr th:only-of-type {\n",
       "        vertical-align: middle;\n",
       "    }\n",
       "\n",
       "    .dataframe tbody tr th {\n",
       "        vertical-align: top;\n",
       "    }\n",
       "\n",
       "    .dataframe thead th {\n",
       "        text-align: right;\n",
       "    }\n",
       "</style>\n",
       "<table border=\"1\" class=\"dataframe\">\n",
       "  <thead>\n",
       "    <tr style=\"text-align: right;\">\n",
       "      <th></th>\n",
       "      <th>cust_number</th>\n",
       "      <th>invoice_currency</th>\n",
       "      <th>total_open_amount</th>\n",
       "      <th>target</th>\n",
       "      <th>CA02</th>\n",
       "      <th>U001</th>\n",
       "      <th>U013</th>\n",
       "      <th>other</th>\n",
       "      <th>baseline_quater</th>\n",
       "      <th>B</th>\n",
       "      <th>...</th>\n",
       "      <th>MC15</th>\n",
       "      <th>NAA</th>\n",
       "      <th>NABD</th>\n",
       "      <th>NATM</th>\n",
       "      <th>NATV</th>\n",
       "      <th>NAUW</th>\n",
       "      <th>NA_letter_number</th>\n",
       "      <th>NA_number_letter</th>\n",
       "      <th>NA_number_number</th>\n",
       "      <th>NA_place</th>\n",
       "    </tr>\n",
       "  </thead>\n",
       "  <tbody>\n",
       "    <tr>\n",
       "      <th>1</th>\n",
       "      <td>50</td>\n",
       "      <td>0</td>\n",
       "      <td>11.28548</td>\n",
       "      <td>-3</td>\n",
       "      <td>0</td>\n",
       "      <td>1</td>\n",
       "      <td>0</td>\n",
       "      <td>0</td>\n",
       "      <td>3</td>\n",
       "      <td>0</td>\n",
       "      <td>...</td>\n",
       "      <td>0</td>\n",
       "      <td>0</td>\n",
       "      <td>0</td>\n",
       "      <td>0</td>\n",
       "      <td>0</td>\n",
       "      <td>0</td>\n",
       "      <td>1</td>\n",
       "      <td>0</td>\n",
       "      <td>0</td>\n",
       "      <td>0</td>\n",
       "    </tr>\n",
       "  </tbody>\n",
       "</table>\n",
       "<p>1 rows × 22 columns</p>\n",
       "</div>"
      ],
      "text/plain": [
       "   cust_number  invoice_currency  total_open_amount  target  CA02  U001  U013  \\\n",
       "1           50                 0           11.28548      -3     0     1     0   \n",
       "\n",
       "   other  baseline_quater  B  ...  MC15  NAA  NABD  NATM  NATV  NAUW  \\\n",
       "1      0                3  0  ...     0    0     0     0     0     0   \n",
       "\n",
       "   NA_letter_number  NA_number_letter  NA_number_number  NA_place  \n",
       "1                 1                 0                 0         0  \n",
       "\n",
       "[1 rows x 22 columns]"
      ]
     },
     "execution_count": 51,
     "metadata": {},
     "output_type": "execute_result"
    }
   ],
   "source": [
    "X_final.head(1)"
   ]
  },
  {
   "cell_type": "code",
   "execution_count": 53,
   "metadata": {},
   "outputs": [
    {
     "data": {
      "text/plain": [
       "<AxesSubplot:>"
      ]
     },
     "execution_count": 53,
     "metadata": {},
     "output_type": "execute_result"
    },
    {
     "data": {
      "image/png": "[encoded data removed]",
      "text/plain": [
       "<Figure size 1080x1080 with 2 Axes>"
      ]
     },
     "metadata": {
      "needs_background": "light"
     },
     "output_type": "display_data"
    }
   ],
   "source": [
    "# X_final.columns\n",
    "plt.figure(figsize=(15,15))\n",
    "sns.heatmap(X_final_test.corr(),annot=True,cmap='viridis',linewidths=.5)"
   ]
  },
  {
   "cell_type": "markdown",
   "metadata": {},
   "source": [
    "## Training and splitting"
   ]
  },
  {
   "cell_type": "code",
   "execution_count": 91,
   "metadata": {},
   "outputs": [],
   "source": [
    "y = X_final['target']\n",
    "X_final = X_final.drop(['target'], axis = 1)\n",
    "Xtrain ,Xtest, ytrain, ytest = train_test_split(X_final, y, test_size = 0.2, random_state=0)"
   ]
  },
  {
   "cell_type": "code",
   "execution_count": 92,
   "metadata": {},
   "outputs": [
    {
     "name": "stdout",
     "output_type": "stream",
     "text": [
      "[]\n"
     ]
    }
   ],
   "source": [
    "l = list(np.isfinite(ytrain))\n",
    "print([x for x in l if x == False])"
   ]
  },
  {
   "cell_type": "code",
   "execution_count": 93,
   "metadata": {},
   "outputs": [
    {
     "name": "stdout",
     "output_type": "stream",
     "text": [
      "[]\n"
     ]
    }
   ],
   "source": [
    "lp = list(np.isfinite(Xtrain))\n",
    "print([x for x in lp if x == False])"
   ]
  },
  {
   "cell_type": "code",
   "execution_count": 130,
   "metadata": {},
   "outputs": [],
   "source": [
    "random_model = RandomForestRegressor(n_estimators=500)"
   ]
  },
  {
   "cell_type": "markdown",
   "metadata": {},
   "source": [
    "# <B>asdasdadad </B>"
   ]
  },
  {
   "cell_type": "markdown",
   "metadata": {},
   "source": [
    "<b> --------------------------------- </b>"
   ]
  },
  {
   "cell_type": "code",
   "execution_count": 131,
   "metadata": {},
   "outputs": [
    {
     "name": "stdout",
     "output_type": "stream",
     "text": [
      "90.01 %\n"
     ]
    }
   ],
   "source": [
    "#Fit\n",
    "random_model.fit(Xtrain, ytrain)\n",
    "\n",
    "y_pred3 = random_model.predict(Xtest)\n",
    "\n",
    "#Checking the accuracy\n",
    "random_model_accuracy = round(random_model.score(Xtrain, ytrain)*100,2)\n",
    "print(round(random_model_accuracy,2),'%')"
   ]
  },
  {
   "cell_type": "code",
   "execution_count": 132,
   "metadata": {},
   "outputs": [
    {
     "name": "stdout",
     "output_type": "stream",
     "text": [
      "37.77 %\n"
     ]
    }
   ],
   "source": [
    "random_model_accuracy1 = round(random_model.score(Xtest, ytest)*100,2)\n",
    "print(round(random_model_accuracy1, 2), '%')"
   ]
  },
  {
   "cell_type": "code",
   "execution_count": 122,
   "metadata": {},
   "outputs": [
    {
     "ename": "ValueError",
     "evalue": "No axis named 1 for object type Series",
     "output_type": "error",
     "traceback": [
      "\u001b[1;31m---------------------------------------------------------------------------\u001b[0m",
      "\u001b[1;31mKeyError\u001b[0m                                  Traceback (most recent call last)",
      "File \u001b[1;32me:\\conda\\lib\\site-packages\\pandas\\core\\generic.py:550\u001b[0m, in \u001b[0;36mNDFrame._get_axis_number\u001b[1;34m(cls, axis)\u001b[0m\n\u001b[0;32m    549\u001b[0m \u001b[38;5;28;01mtry\u001b[39;00m:\n\u001b[1;32m--> 550\u001b[0m     \u001b[38;5;28;01mreturn\u001b[39;00m \u001b[38;5;28;43mcls\u001b[39;49m\u001b[38;5;241;43m.\u001b[39;49m\u001b[43m_AXIS_TO_AXIS_NUMBER\u001b[49m\u001b[43m[\u001b[49m\u001b[43maxis\u001b[49m\u001b[43m]\u001b[49m\n\u001b[0;32m    551\u001b[0m \u001b[38;5;28;01mexcept\u001b[39;00m \u001b[38;5;167;01mKeyError\u001b[39;00m:\n",
      "\u001b[1;31mKeyError\u001b[0m: 1",
      "\nDuring handling of the above exception, another exception occurred:\n",
      "\u001b[1;31mValueError\u001b[0m                                Traceback (most recent call last)",
      "Input \u001b[1;32mIn [122]\u001b[0m, in \u001b[0;36m<module>\u001b[1;34m\u001b[0m\n\u001b[1;32m----> 1\u001b[0m X_final_test \u001b[38;5;241m=\u001b[39m \u001b[43mX_final_test\u001b[49m\u001b[38;5;241;43m.\u001b[39;49m\u001b[43mdrop\u001b[49m\u001b[43m(\u001b[49m\u001b[43m[\u001b[49m\u001b[38;5;124;43m'\u001b[39;49m\u001b[38;5;124;43mtarget\u001b[39;49m\u001b[38;5;124;43m'\u001b[39;49m\u001b[43m]\u001b[49m\u001b[43m,\u001b[49m\u001b[43m \u001b[49m\u001b[43maxis\u001b[49m\u001b[43m \u001b[49m\u001b[38;5;241;43m=\u001b[39;49m\u001b[43m \u001b[49m\u001b[38;5;241;43m1\u001b[39;49m\u001b[43m)\u001b[49m\n\u001b[0;32m      3\u001b[0m X_final\n",
      "File \u001b[1;32me:\\conda\\lib\\site-packages\\pandas\\util\\_decorators.py:311\u001b[0m, in \u001b[0;36mdeprecate_nonkeyword_arguments.<locals>.decorate.<locals>.wrapper\u001b[1;34m(*args, **kwargs)\u001b[0m\n\u001b[0;32m    305\u001b[0m \u001b[38;5;28;01mif\u001b[39;00m \u001b[38;5;28mlen\u001b[39m(args) \u001b[38;5;241m>\u001b[39m num_allow_args:\n\u001b[0;32m    306\u001b[0m     warnings\u001b[38;5;241m.\u001b[39mwarn(\n\u001b[0;32m    307\u001b[0m         msg\u001b[38;5;241m.\u001b[39mformat(arguments\u001b[38;5;241m=\u001b[39marguments),\n\u001b[0;32m    308\u001b[0m         \u001b[38;5;167;01mFutureWarning\u001b[39;00m,\n\u001b[0;32m    309\u001b[0m         stacklevel\u001b[38;5;241m=\u001b[39mstacklevel,\n\u001b[0;32m    310\u001b[0m     )\n\u001b[1;32m--> 311\u001b[0m \u001b[38;5;28;01mreturn\u001b[39;00m func(\u001b[38;5;241m*\u001b[39margs, \u001b[38;5;241m*\u001b[39m\u001b[38;5;241m*\u001b[39mkwargs)\n",
      "File \u001b[1;32me:\\conda\\lib\\site-packages\\pandas\\core\\series.py:4768\u001b[0m, in \u001b[0;36mSeries.drop\u001b[1;34m(self, labels, axis, index, columns, level, inplace, errors)\u001b[0m\n\u001b[0;32m   4671\u001b[0m \u001b[38;5;129m@deprecate_nonkeyword_arguments\u001b[39m(version\u001b[38;5;241m=\u001b[39m\u001b[38;5;28;01mNone\u001b[39;00m, allowed_args\u001b[38;5;241m=\u001b[39m[\u001b[38;5;124m\"\u001b[39m\u001b[38;5;124mself\u001b[39m\u001b[38;5;124m\"\u001b[39m, \u001b[38;5;124m\"\u001b[39m\u001b[38;5;124mlabels\u001b[39m\u001b[38;5;124m\"\u001b[39m])\n\u001b[0;32m   4672\u001b[0m \u001b[38;5;28;01mdef\u001b[39;00m \u001b[38;5;21mdrop\u001b[39m(\n\u001b[0;32m   4673\u001b[0m     \u001b[38;5;28mself\u001b[39m,\n\u001b[1;32m   (...)\u001b[0m\n\u001b[0;32m   4680\u001b[0m     errors\u001b[38;5;241m=\u001b[39m\u001b[38;5;124m\"\u001b[39m\u001b[38;5;124mraise\u001b[39m\u001b[38;5;124m\"\u001b[39m,\n\u001b[0;32m   4681\u001b[0m ) \u001b[38;5;241m-\u001b[39m\u001b[38;5;241m>\u001b[39m Series:\n\u001b[0;32m   4682\u001b[0m     \u001b[38;5;124;03m\"\"\"\u001b[39;00m\n\u001b[0;32m   4683\u001b[0m \u001b[38;5;124;03m    Return Series with specified index labels removed.\u001b[39;00m\n\u001b[0;32m   4684\u001b[0m \n\u001b[1;32m   (...)\u001b[0m\n\u001b[0;32m   4766\u001b[0m \u001b[38;5;124;03m    dtype: float64\u001b[39;00m\n\u001b[0;32m   4767\u001b[0m \u001b[38;5;124;03m    \"\"\"\u001b[39;00m\n\u001b[1;32m-> 4768\u001b[0m     \u001b[38;5;28;01mreturn\u001b[39;00m \u001b[38;5;28;43msuper\u001b[39;49m\u001b[43m(\u001b[49m\u001b[43m)\u001b[49m\u001b[38;5;241;43m.\u001b[39;49m\u001b[43mdrop\u001b[49m\u001b[43m(\u001b[49m\n\u001b[0;32m   4769\u001b[0m \u001b[43m        \u001b[49m\u001b[43mlabels\u001b[49m\u001b[38;5;241;43m=\u001b[39;49m\u001b[43mlabels\u001b[49m\u001b[43m,\u001b[49m\n\u001b[0;32m   4770\u001b[0m \u001b[43m        \u001b[49m\u001b[43maxis\u001b[49m\u001b[38;5;241;43m=\u001b[39;49m\u001b[43maxis\u001b[49m\u001b[43m,\u001b[49m\n\u001b[0;32m   4771\u001b[0m \u001b[43m        \u001b[49m\u001b[43mindex\u001b[49m\u001b[38;5;241;43m=\u001b[39;49m\u001b[43mindex\u001b[49m\u001b[43m,\u001b[49m\n\u001b[0;32m   4772\u001b[0m \u001b[43m        \u001b[49m\u001b[43mcolumns\u001b[49m\u001b[38;5;241;43m=\u001b[39;49m\u001b[43mcolumns\u001b[49m\u001b[43m,\u001b[49m\n\u001b[0;32m   4773\u001b[0m \u001b[43m        \u001b[49m\u001b[43mlevel\u001b[49m\u001b[38;5;241;43m=\u001b[39;49m\u001b[43mlevel\u001b[49m\u001b[43m,\u001b[49m\n\u001b[0;32m   4774\u001b[0m \u001b[43m        \u001b[49m\u001b[43minplace\u001b[49m\u001b[38;5;241;43m=\u001b[39;49m\u001b[43minplace\u001b[49m\u001b[43m,\u001b[49m\n\u001b[0;32m   4775\u001b[0m \u001b[43m        \u001b[49m\u001b[43merrors\u001b[49m\u001b[38;5;241;43m=\u001b[39;49m\u001b[43merrors\u001b[49m\u001b[43m,\u001b[49m\n\u001b[0;32m   4776\u001b[0m \u001b[43m    \u001b[49m\u001b[43m)\u001b[49m\n",
      "File \u001b[1;32me:\\conda\\lib\\site-packages\\pandas\\core\\generic.py:4266\u001b[0m, in \u001b[0;36mNDFrame.drop\u001b[1;34m(self, labels, axis, index, columns, level, inplace, errors)\u001b[0m\n\u001b[0;32m   4264\u001b[0m     \u001b[38;5;28;01mif\u001b[39;00m index \u001b[38;5;129;01mis\u001b[39;00m \u001b[38;5;129;01mnot\u001b[39;00m \u001b[38;5;28;01mNone\u001b[39;00m \u001b[38;5;129;01mor\u001b[39;00m columns \u001b[38;5;129;01mis\u001b[39;00m \u001b[38;5;129;01mnot\u001b[39;00m \u001b[38;5;28;01mNone\u001b[39;00m:\n\u001b[0;32m   4265\u001b[0m         \u001b[38;5;28;01mraise\u001b[39;00m \u001b[38;5;167;01mValueError\u001b[39;00m(\u001b[38;5;124m\"\u001b[39m\u001b[38;5;124mCannot specify both \u001b[39m\u001b[38;5;124m'\u001b[39m\u001b[38;5;124mlabels\u001b[39m\u001b[38;5;124m'\u001b[39m\u001b[38;5;124m and \u001b[39m\u001b[38;5;124m'\u001b[39m\u001b[38;5;124mindex\u001b[39m\u001b[38;5;124m'\u001b[39m\u001b[38;5;124m/\u001b[39m\u001b[38;5;124m'\u001b[39m\u001b[38;5;124mcolumns\u001b[39m\u001b[38;5;124m'\u001b[39m\u001b[38;5;124m\"\u001b[39m)\n\u001b[1;32m-> 4266\u001b[0m     axis_name \u001b[38;5;241m=\u001b[39m \u001b[38;5;28;43mself\u001b[39;49m\u001b[38;5;241;43m.\u001b[39;49m\u001b[43m_get_axis_name\u001b[49m\u001b[43m(\u001b[49m\u001b[43maxis\u001b[49m\u001b[43m)\u001b[49m\n\u001b[0;32m   4267\u001b[0m     axes \u001b[38;5;241m=\u001b[39m {axis_name: labels}\n\u001b[0;32m   4268\u001b[0m \u001b[38;5;28;01melif\u001b[39;00m index \u001b[38;5;129;01mis\u001b[39;00m \u001b[38;5;129;01mnot\u001b[39;00m \u001b[38;5;28;01mNone\u001b[39;00m \u001b[38;5;129;01mor\u001b[39;00m columns \u001b[38;5;129;01mis\u001b[39;00m \u001b[38;5;129;01mnot\u001b[39;00m \u001b[38;5;28;01mNone\u001b[39;00m:\n",
      "File \u001b[1;32me:\\conda\\lib\\site-packages\\pandas\\core\\generic.py:557\u001b[0m, in \u001b[0;36mNDFrame._get_axis_name\u001b[1;34m(cls, axis)\u001b[0m\n\u001b[0;32m    554\u001b[0m \u001b[38;5;129m@final\u001b[39m\n\u001b[0;32m    555\u001b[0m \u001b[38;5;129m@classmethod\u001b[39m\n\u001b[0;32m    556\u001b[0m \u001b[38;5;28;01mdef\u001b[39;00m \u001b[38;5;21m_get_axis_name\u001b[39m(\u001b[38;5;28mcls\u001b[39m, axis: Axis) \u001b[38;5;241m-\u001b[39m\u001b[38;5;241m>\u001b[39m \u001b[38;5;28mstr\u001b[39m:\n\u001b[1;32m--> 557\u001b[0m     axis_number \u001b[38;5;241m=\u001b[39m \u001b[38;5;28;43mcls\u001b[39;49m\u001b[38;5;241;43m.\u001b[39;49m\u001b[43m_get_axis_number\u001b[49m\u001b[43m(\u001b[49m\u001b[43maxis\u001b[49m\u001b[43m)\u001b[49m\n\u001b[0;32m    558\u001b[0m     \u001b[38;5;28;01mreturn\u001b[39;00m \u001b[38;5;28mcls\u001b[39m\u001b[38;5;241m.\u001b[39m_AXIS_ORDERS[axis_number]\n",
      "File \u001b[1;32me:\\conda\\lib\\site-packages\\pandas\\core\\generic.py:552\u001b[0m, in \u001b[0;36mNDFrame._get_axis_number\u001b[1;34m(cls, axis)\u001b[0m\n\u001b[0;32m    550\u001b[0m     \u001b[38;5;28;01mreturn\u001b[39;00m \u001b[38;5;28mcls\u001b[39m\u001b[38;5;241m.\u001b[39m_AXIS_TO_AXIS_NUMBER[axis]\n\u001b[0;32m    551\u001b[0m \u001b[38;5;28;01mexcept\u001b[39;00m \u001b[38;5;167;01mKeyError\u001b[39;00m:\n\u001b[1;32m--> 552\u001b[0m     \u001b[38;5;28;01mraise\u001b[39;00m \u001b[38;5;167;01mValueError\u001b[39;00m(\u001b[38;5;124mf\u001b[39m\u001b[38;5;124m\"\u001b[39m\u001b[38;5;124mNo axis named \u001b[39m\u001b[38;5;132;01m{\u001b[39;00maxis\u001b[38;5;132;01m}\u001b[39;00m\u001b[38;5;124m for object type \u001b[39m\u001b[38;5;132;01m{\u001b[39;00m\u001b[38;5;28mcls\u001b[39m\u001b[38;5;241m.\u001b[39m\u001b[38;5;18m__name__\u001b[39m\u001b[38;5;132;01m}\u001b[39;00m\u001b[38;5;124m\"\u001b[39m)\n",
      "\u001b[1;31mValueError\u001b[0m: No axis named 1 for object type Series"
     ]
    }
   ],
   "source": [
    "X_final_test = X_final_test.drop(['target'], axis = 1)"
   ]
  },
  {
   "cell_type": "code",
   "execution_count": 97,
   "metadata": {},
   "outputs": [
    {
     "data": {
      "text/html": [
       "<div>\n",
       "<style scoped>\n",
       "    .dataframe tbody tr th:only-of-type {\n",
       "        vertical-align: middle;\n",
       "    }\n",
       "\n",
       "    .dataframe tbody tr th {\n",
       "        vertical-align: top;\n",
       "    }\n",
       "\n",
       "    .dataframe thead th {\n",
       "        text-align: right;\n",
       "    }\n",
       "</style>\n",
       "<table border=\"1\" class=\"dataframe\">\n",
       "  <thead>\n",
       "    <tr style=\"text-align: right;\">\n",
       "      <th></th>\n",
       "      <th>cust_number</th>\n",
       "      <th>invoice_currency</th>\n",
       "      <th>total_open_amount</th>\n",
       "      <th>CA02</th>\n",
       "      <th>U001</th>\n",
       "      <th>U013</th>\n",
       "      <th>other</th>\n",
       "      <th>baseline_quater</th>\n",
       "      <th>B</th>\n",
       "      <th>BR12</th>\n",
       "      <th>CA</th>\n",
       "      <th>C_number</th>\n",
       "      <th>NAA</th>\n",
       "      <th>NA_letter_number</th>\n",
       "      <th>NA_number_letter</th>\n",
       "      <th>NA_number_number</th>\n",
       "      <th>NA_place</th>\n",
       "    </tr>\n",
       "  </thead>\n",
       "  <tbody>\n",
       "    <tr>\n",
       "      <th>0</th>\n",
       "      <td>1179</td>\n",
       "      <td>0</td>\n",
       "      <td>10.901787</td>\n",
       "      <td>0</td>\n",
       "      <td>1</td>\n",
       "      <td>0</td>\n",
       "      <td>0</td>\n",
       "      <td>1</td>\n",
       "      <td>0.0</td>\n",
       "      <td>0</td>\n",
       "      <td>0</td>\n",
       "      <td>0</td>\n",
       "      <td>0</td>\n",
       "      <td>1</td>\n",
       "      <td>0</td>\n",
       "      <td>0</td>\n",
       "      <td>0</td>\n",
       "    </tr>\n",
       "    <tr>\n",
       "      <th>19</th>\n",
       "      <td>1179</td>\n",
       "      <td>0</td>\n",
       "      <td>10.884621</td>\n",
       "      <td>0</td>\n",
       "      <td>1</td>\n",
       "      <td>0</td>\n",
       "      <td>0</td>\n",
       "      <td>1</td>\n",
       "      <td>0.0</td>\n",
       "      <td>0</td>\n",
       "      <td>0</td>\n",
       "      <td>0</td>\n",
       "      <td>0</td>\n",
       "      <td>1</td>\n",
       "      <td>0</td>\n",
       "      <td>0</td>\n",
       "      <td>0</td>\n",
       "    </tr>\n",
       "    <tr>\n",
       "      <th>20</th>\n",
       "      <td>3</td>\n",
       "      <td>0</td>\n",
       "      <td>8.645323</td>\n",
       "      <td>0</td>\n",
       "      <td>0</td>\n",
       "      <td>1</td>\n",
       "      <td>0</td>\n",
       "      <td>1</td>\n",
       "      <td>0.0</td>\n",
       "      <td>0</td>\n",
       "      <td>0</td>\n",
       "      <td>0</td>\n",
       "      <td>0</td>\n",
       "      <td>0</td>\n",
       "      <td>0</td>\n",
       "      <td>0</td>\n",
       "      <td>1</td>\n",
       "    </tr>\n",
       "    <tr>\n",
       "      <th>24</th>\n",
       "      <td>1179</td>\n",
       "      <td>0</td>\n",
       "      <td>9.333246</td>\n",
       "      <td>0</td>\n",
       "      <td>1</td>\n",
       "      <td>0</td>\n",
       "      <td>0</td>\n",
       "      <td>1</td>\n",
       "      <td>0.0</td>\n",
       "      <td>0</td>\n",
       "      <td>0</td>\n",
       "      <td>0</td>\n",
       "      <td>0</td>\n",
       "      <td>1</td>\n",
       "      <td>0</td>\n",
       "      <td>0</td>\n",
       "      <td>0</td>\n",
       "    </tr>\n",
       "    <tr>\n",
       "      <th>41</th>\n",
       "      <td>1179</td>\n",
       "      <td>0</td>\n",
       "      <td>8.507916</td>\n",
       "      <td>0</td>\n",
       "      <td>1</td>\n",
       "      <td>0</td>\n",
       "      <td>0</td>\n",
       "      <td>1</td>\n",
       "      <td>0.0</td>\n",
       "      <td>0</td>\n",
       "      <td>0</td>\n",
       "      <td>0</td>\n",
       "      <td>0</td>\n",
       "      <td>1</td>\n",
       "      <td>0</td>\n",
       "      <td>0</td>\n",
       "      <td>0</td>\n",
       "    </tr>\n",
       "    <tr>\n",
       "      <th>42</th>\n",
       "      <td>18</td>\n",
       "      <td>0</td>\n",
       "      <td>10.909876</td>\n",
       "      <td>0</td>\n",
       "      <td>1</td>\n",
       "      <td>0</td>\n",
       "      <td>0</td>\n",
       "      <td>1</td>\n",
       "      <td>0.0</td>\n",
       "      <td>0</td>\n",
       "      <td>0</td>\n",
       "      <td>0</td>\n",
       "      <td>1</td>\n",
       "      <td>0</td>\n",
       "      <td>0</td>\n",
       "      <td>0</td>\n",
       "      <td>0</td>\n",
       "    </tr>\n",
       "    <tr>\n",
       "      <th>43</th>\n",
       "      <td>1179</td>\n",
       "      <td>0</td>\n",
       "      <td>8.079658</td>\n",
       "      <td>0</td>\n",
       "      <td>1</td>\n",
       "      <td>0</td>\n",
       "      <td>0</td>\n",
       "      <td>1</td>\n",
       "      <td>0.0</td>\n",
       "      <td>0</td>\n",
       "      <td>0</td>\n",
       "      <td>0</td>\n",
       "      <td>0</td>\n",
       "      <td>1</td>\n",
       "      <td>0</td>\n",
       "      <td>0</td>\n",
       "      <td>0</td>\n",
       "    </tr>\n",
       "    <tr>\n",
       "      <th>48</th>\n",
       "      <td>1179</td>\n",
       "      <td>0</td>\n",
       "      <td>10.814241</td>\n",
       "      <td>0</td>\n",
       "      <td>1</td>\n",
       "      <td>0</td>\n",
       "      <td>0</td>\n",
       "      <td>1</td>\n",
       "      <td>0.0</td>\n",
       "      <td>0</td>\n",
       "      <td>0</td>\n",
       "      <td>0</td>\n",
       "      <td>0</td>\n",
       "      <td>1</td>\n",
       "      <td>0</td>\n",
       "      <td>0</td>\n",
       "      <td>0</td>\n",
       "    </tr>\n",
       "    <tr>\n",
       "      <th>54</th>\n",
       "      <td>2</td>\n",
       "      <td>0</td>\n",
       "      <td>9.441985</td>\n",
       "      <td>0</td>\n",
       "      <td>1</td>\n",
       "      <td>0</td>\n",
       "      <td>0</td>\n",
       "      <td>1</td>\n",
       "      <td>0.0</td>\n",
       "      <td>0</td>\n",
       "      <td>0</td>\n",
       "      <td>0</td>\n",
       "      <td>1</td>\n",
       "      <td>0</td>\n",
       "      <td>0</td>\n",
       "      <td>0</td>\n",
       "      <td>0</td>\n",
       "    </tr>\n",
       "    <tr>\n",
       "      <th>55</th>\n",
       "      <td>5</td>\n",
       "      <td>0</td>\n",
       "      <td>10.149604</td>\n",
       "      <td>0</td>\n",
       "      <td>1</td>\n",
       "      <td>0</td>\n",
       "      <td>0</td>\n",
       "      <td>1</td>\n",
       "      <td>0.0</td>\n",
       "      <td>0</td>\n",
       "      <td>0</td>\n",
       "      <td>0</td>\n",
       "      <td>1</td>\n",
       "      <td>0</td>\n",
       "      <td>0</td>\n",
       "      <td>0</td>\n",
       "      <td>0</td>\n",
       "    </tr>\n",
       "    <tr>\n",
       "      <th>59</th>\n",
       "      <td>143</td>\n",
       "      <td>0</td>\n",
       "      <td>11.419738</td>\n",
       "      <td>0</td>\n",
       "      <td>1</td>\n",
       "      <td>0</td>\n",
       "      <td>0</td>\n",
       "      <td>1</td>\n",
       "      <td>0.0</td>\n",
       "      <td>0</td>\n",
       "      <td>0</td>\n",
       "      <td>0</td>\n",
       "      <td>0</td>\n",
       "      <td>1</td>\n",
       "      <td>0</td>\n",
       "      <td>0</td>\n",
       "      <td>0</td>\n",
       "    </tr>\n",
       "    <tr>\n",
       "      <th>67</th>\n",
       "      <td>1179</td>\n",
       "      <td>0</td>\n",
       "      <td>11.170558</td>\n",
       "      <td>0</td>\n",
       "      <td>1</td>\n",
       "      <td>0</td>\n",
       "      <td>0</td>\n",
       "      <td>1</td>\n",
       "      <td>0.0</td>\n",
       "      <td>0</td>\n",
       "      <td>0</td>\n",
       "      <td>0</td>\n",
       "      <td>0</td>\n",
       "      <td>1</td>\n",
       "      <td>0</td>\n",
       "      <td>0</td>\n",
       "      <td>0</td>\n",
       "    </tr>\n",
       "    <tr>\n",
       "      <th>96</th>\n",
       "      <td>2</td>\n",
       "      <td>0</td>\n",
       "      <td>9.918694</td>\n",
       "      <td>0</td>\n",
       "      <td>1</td>\n",
       "      <td>0</td>\n",
       "      <td>0</td>\n",
       "      <td>1</td>\n",
       "      <td>0.0</td>\n",
       "      <td>0</td>\n",
       "      <td>0</td>\n",
       "      <td>0</td>\n",
       "      <td>1</td>\n",
       "      <td>0</td>\n",
       "      <td>0</td>\n",
       "      <td>0</td>\n",
       "      <td>0</td>\n",
       "    </tr>\n",
       "    <tr>\n",
       "      <th>98</th>\n",
       "      <td>104</td>\n",
       "      <td>0</td>\n",
       "      <td>10.042973</td>\n",
       "      <td>0</td>\n",
       "      <td>1</td>\n",
       "      <td>0</td>\n",
       "      <td>0</td>\n",
       "      <td>1</td>\n",
       "      <td>0.0</td>\n",
       "      <td>0</td>\n",
       "      <td>0</td>\n",
       "      <td>0</td>\n",
       "      <td>1</td>\n",
       "      <td>0</td>\n",
       "      <td>0</td>\n",
       "      <td>0</td>\n",
       "      <td>0</td>\n",
       "    </tr>\n",
       "    <tr>\n",
       "      <th>101</th>\n",
       "      <td>143</td>\n",
       "      <td>0</td>\n",
       "      <td>6.843409</td>\n",
       "      <td>0</td>\n",
       "      <td>1</td>\n",
       "      <td>0</td>\n",
       "      <td>0</td>\n",
       "      <td>1</td>\n",
       "      <td>0.0</td>\n",
       "      <td>0</td>\n",
       "      <td>0</td>\n",
       "      <td>0</td>\n",
       "      <td>0</td>\n",
       "      <td>1</td>\n",
       "      <td>0</td>\n",
       "      <td>0</td>\n",
       "      <td>0</td>\n",
       "    </tr>\n",
       "  </tbody>\n",
       "</table>\n",
       "</div>"
      ],
      "text/plain": [
       "     cust_number  invoice_currency  total_open_amount  CA02  U001  U013  \\\n",
       "0           1179                 0          10.901787     0     1     0   \n",
       "19          1179                 0          10.884621     0     1     0   \n",
       "20             3                 0           8.645323     0     0     1   \n",
       "24          1179                 0           9.333246     0     1     0   \n",
       "41          1179                 0           8.507916     0     1     0   \n",
       "42            18                 0          10.909876     0     1     0   \n",
       "43          1179                 0           8.079658     0     1     0   \n",
       "48          1179                 0          10.814241     0     1     0   \n",
       "54             2                 0           9.441985     0     1     0   \n",
       "55             5                 0          10.149604     0     1     0   \n",
       "59           143                 0          11.419738     0     1     0   \n",
       "67          1179                 0          11.170558     0     1     0   \n",
       "96             2                 0           9.918694     0     1     0   \n",
       "98           104                 0          10.042973     0     1     0   \n",
       "101          143                 0           6.843409     0     1     0   \n",
       "\n",
       "     other  baseline_quater    B  BR12  CA  C_number  NAA  NA_letter_number  \\\n",
       "0        0                1  0.0     0   0         0    0                 1   \n",
       "19       0                1  0.0     0   0         0    0                 1   \n",
       "20       0                1  0.0     0   0         0    0                 0   \n",
       "24       0                1  0.0     0   0         0    0                 1   \n",
       "41       0                1  0.0     0   0         0    0                 1   \n",
       "42       0                1  0.0     0   0         0    1                 0   \n",
       "43       0                1  0.0     0   0         0    0                 1   \n",
       "48       0                1  0.0     0   0         0    0                 1   \n",
       "54       0                1  0.0     0   0         0    1                 0   \n",
       "55       0                1  0.0     0   0         0    1                 0   \n",
       "59       0                1  0.0     0   0         0    0                 1   \n",
       "67       0                1  0.0     0   0         0    0                 1   \n",
       "96       0                1  0.0     0   0         0    1                 0   \n",
       "98       0                1  0.0     0   0         0    1                 0   \n",
       "101      0                1  0.0     0   0         0    0                 1   \n",
       "\n",
       "     NA_number_letter  NA_number_number  NA_place  \n",
       "0                   0                 0         0  \n",
       "19                  0                 0         0  \n",
       "20                  0                 0         1  \n",
       "24                  0                 0         0  \n",
       "41                  0                 0         0  \n",
       "42                  0                 0         0  \n",
       "43                  0                 0         0  \n",
       "48                  0                 0         0  \n",
       "54                  0                 0         0  \n",
       "55                  0                 0         0  \n",
       "59                  0                 0         0  \n",
       "67                  0                 0         0  \n",
       "96                  0                 0         0  \n",
       "98                  0                 0         0  \n",
       "101                 0                 0         0  "
      ]
     },
     "execution_count": 97,
     "metadata": {},
     "output_type": "execute_result"
    }
   ],
   "source": [
    "X_final_test[:15]"
   ]
  },
  {
   "cell_type": "code",
   "execution_count": 98,
   "metadata": {},
   "outputs": [
    {
     "data": {
      "text/plain": [
       "cust_number          0\n",
       "invoice_currency     0\n",
       "total_open_amount    0\n",
       "CA02                 0\n",
       "U001                 0\n",
       "U013                 0\n",
       "other                0\n",
       "baseline_quater      0\n",
       "B                    0\n",
       "BR12                 0\n",
       "CA                   0\n",
       "C_number             0\n",
       "NAA                  0\n",
       "NA_letter_number     0\n",
       "NA_number_letter     0\n",
       "NA_number_number     0\n",
       "NA_place             0\n",
       "dtype: int64"
      ]
     },
     "execution_count": 98,
     "metadata": {},
     "output_type": "execute_result"
    }
   ],
   "source": [
    "X_final_test.isna().sum()\n",
    "\n"
   ]
  },
  {
   "cell_type": "code",
   "execution_count": 99,
   "metadata": {},
   "outputs": [],
   "source": [
    "X_final_test = X_final_test['cust_number'].fillna(value=0)"
   ]
  },
  {
   "cell_type": "code",
   "execution_count": 108,
   "metadata": {},
   "outputs": [
    {
     "ename": "AttributeError",
     "evalue": "'Series' object has no attribute 'columns'",
     "output_type": "error",
     "traceback": [
      "\u001b[1;31m---------------------------------------------------------------------------\u001b[0m",
      "\u001b[1;31mAttributeError\u001b[0m                            Traceback (most recent call last)",
      "Input \u001b[1;32mIn [108]\u001b[0m, in \u001b[0;36m<module>\u001b[1;34m\u001b[0m\n\u001b[1;32m----> 1\u001b[0m \u001b[43mX_final_test\u001b[49m\u001b[38;5;241;43m.\u001b[39;49m\u001b[43mcolumns\u001b[49m\n",
      "File \u001b[1;32me:\\conda\\lib\\site-packages\\pandas\\core\\generic.py:5583\u001b[0m, in \u001b[0;36mNDFrame.__getattr__\u001b[1;34m(self, name)\u001b[0m\n\u001b[0;32m   5576\u001b[0m \u001b[38;5;28;01mif\u001b[39;00m (\n\u001b[0;32m   5577\u001b[0m     name \u001b[38;5;129;01mnot\u001b[39;00m \u001b[38;5;129;01min\u001b[39;00m \u001b[38;5;28mself\u001b[39m\u001b[38;5;241m.\u001b[39m_internal_names_set\n\u001b[0;32m   5578\u001b[0m     \u001b[38;5;129;01mand\u001b[39;00m name \u001b[38;5;129;01mnot\u001b[39;00m \u001b[38;5;129;01min\u001b[39;00m \u001b[38;5;28mself\u001b[39m\u001b[38;5;241m.\u001b[39m_metadata\n\u001b[0;32m   5579\u001b[0m     \u001b[38;5;129;01mand\u001b[39;00m name \u001b[38;5;129;01mnot\u001b[39;00m \u001b[38;5;129;01min\u001b[39;00m \u001b[38;5;28mself\u001b[39m\u001b[38;5;241m.\u001b[39m_accessors\n\u001b[0;32m   5580\u001b[0m     \u001b[38;5;129;01mand\u001b[39;00m \u001b[38;5;28mself\u001b[39m\u001b[38;5;241m.\u001b[39m_info_axis\u001b[38;5;241m.\u001b[39m_can_hold_identifiers_and_holds_name(name)\n\u001b[0;32m   5581\u001b[0m ):\n\u001b[0;32m   5582\u001b[0m     \u001b[38;5;28;01mreturn\u001b[39;00m \u001b[38;5;28mself\u001b[39m[name]\n\u001b[1;32m-> 5583\u001b[0m \u001b[38;5;28;01mreturn\u001b[39;00m \u001b[38;5;28;43mobject\u001b[39;49m\u001b[38;5;241;43m.\u001b[39;49m\u001b[38;5;21;43m__getattribute__\u001b[39;49m\u001b[43m(\u001b[49m\u001b[38;5;28;43mself\u001b[39;49m\u001b[43m,\u001b[49m\u001b[43m \u001b[49m\u001b[43mname\u001b[49m\u001b[43m)\u001b[49m\n",
      "\u001b[1;31mAttributeError\u001b[0m: 'Series' object has no attribute 'columns'"
     ]
    }
   ],
   "source": [
    "X_final_test.columns"
   ]
  },
  {
   "cell_type": "code",
   "execution_count": 117,
   "metadata": {},
   "outputs": [],
   "source": [
    "random_model\n",
    "X_test_mod= np.array(X_final_test)\n",
    "X_test_mod= X_test_mod.reshape(-1, 1)"
   ]
  },
  {
   "cell_type": "code",
   "execution_count": 126,
   "metadata": {},
   "outputs": [],
   "source": [
    "#wrong answer\n",
    "\n",
    "\n",
    "#real_time_data = random_model.predict(X_final)"
   ]
  },
  {
   "cell_type": "code",
   "execution_count": null,
   "metadata": {},
   "outputs": [],
   "source": []
  },
  {
   "cell_type": "code",
   "execution_count": 127,
   "metadata": {},
   "outputs": [
    {
     "data": {
      "text/plain": [
       "array([-2.37000000e+00,  5.83225000e+01, -3.09000000e+00, ...,\n",
       "        1.56433333e+00,  1.00000000e-02, -4.65250000e+00])"
      ]
     },
     "execution_count": 127,
     "metadata": {},
     "output_type": "execute_result"
    }
   ],
   "source": [
    "real_time_data"
   ]
  },
  {
   "cell_type": "code",
   "execution_count": null,
   "metadata": {},
   "outputs": [],
   "source": []
  },
  {
   "cell_type": "code",
   "execution_count": 120,
   "metadata": {},
   "outputs": [
    {
     "name": "stderr",
     "output_type": "stream",
     "text": [
      "e:\\conda\\lib\\site-packages\\sklearn\\base.py:450: UserWarning: X does not have valid feature names, but RandomForestRegressor was fitted with feature names\n",
      "  warnings.warn(\n"
     ]
    },
    {
     "ename": "ValueError",
     "evalue": "Expected 2D array, got 1D array instead:\narray=[1179. 1179.    3. ...   71.  234.   27.].\nReshape your data either using array.reshape(-1, 1) if your data has a single feature or array.reshape(1, -1) if it contains a single sample.",
     "output_type": "error",
     "traceback": [
      "\u001b[1;31m---------------------------------------------------------------------------\u001b[0m",
      "\u001b[1;31mValueError\u001b[0m                                Traceback (most recent call last)",
      "Input \u001b[1;32mIn [120]\u001b[0m, in \u001b[0;36m<module>\u001b[1;34m\u001b[0m\n\u001b[1;32m----> 1\u001b[0m real_time_data \u001b[38;5;241m=\u001b[39m \u001b[43mrandom_model\u001b[49m\u001b[38;5;241;43m.\u001b[39;49m\u001b[43mpredict\u001b[49m\u001b[43m(\u001b[49m\u001b[43mX_final_test\u001b[49m\u001b[43m)\u001b[49m\n",
      "File \u001b[1;32me:\\conda\\lib\\site-packages\\sklearn\\ensemble\\_forest.py:971\u001b[0m, in \u001b[0;36mForestRegressor.predict\u001b[1;34m(self, X)\u001b[0m\n\u001b[0;32m    969\u001b[0m check_is_fitted(\u001b[38;5;28mself\u001b[39m)\n\u001b[0;32m    970\u001b[0m \u001b[38;5;66;03m# Check data\u001b[39;00m\n\u001b[1;32m--> 971\u001b[0m X \u001b[38;5;241m=\u001b[39m \u001b[38;5;28;43mself\u001b[39;49m\u001b[38;5;241;43m.\u001b[39;49m\u001b[43m_validate_X_predict\u001b[49m\u001b[43m(\u001b[49m\u001b[43mX\u001b[49m\u001b[43m)\u001b[49m\n\u001b[0;32m    973\u001b[0m \u001b[38;5;66;03m# Assign chunk of trees to jobs\u001b[39;00m\n\u001b[0;32m    974\u001b[0m n_jobs, _, _ \u001b[38;5;241m=\u001b[39m _partition_estimators(\u001b[38;5;28mself\u001b[39m\u001b[38;5;241m.\u001b[39mn_estimators, \u001b[38;5;28mself\u001b[39m\u001b[38;5;241m.\u001b[39mn_jobs)\n",
      "File \u001b[1;32me:\\conda\\lib\\site-packages\\sklearn\\ensemble\\_forest.py:579\u001b[0m, in \u001b[0;36mBaseForest._validate_X_predict\u001b[1;34m(self, X)\u001b[0m\n\u001b[0;32m    576\u001b[0m \u001b[38;5;124;03m\"\"\"\u001b[39;00m\n\u001b[0;32m    577\u001b[0m \u001b[38;5;124;03mValidate X whenever one tries to predict, apply, predict_proba.\"\"\"\u001b[39;00m\n\u001b[0;32m    578\u001b[0m check_is_fitted(\u001b[38;5;28mself\u001b[39m)\n\u001b[1;32m--> 579\u001b[0m X \u001b[38;5;241m=\u001b[39m \u001b[38;5;28;43mself\u001b[39;49m\u001b[38;5;241;43m.\u001b[39;49m\u001b[43m_validate_data\u001b[49m\u001b[43m(\u001b[49m\u001b[43mX\u001b[49m\u001b[43m,\u001b[49m\u001b[43m \u001b[49m\u001b[43mdtype\u001b[49m\u001b[38;5;241;43m=\u001b[39;49m\u001b[43mDTYPE\u001b[49m\u001b[43m,\u001b[49m\u001b[43m \u001b[49m\u001b[43maccept_sparse\u001b[49m\u001b[38;5;241;43m=\u001b[39;49m\u001b[38;5;124;43m\"\u001b[39;49m\u001b[38;5;124;43mcsr\u001b[39;49m\u001b[38;5;124;43m\"\u001b[39;49m\u001b[43m,\u001b[49m\u001b[43m \u001b[49m\u001b[43mreset\u001b[49m\u001b[38;5;241;43m=\u001b[39;49m\u001b[38;5;28;43;01mFalse\u001b[39;49;00m\u001b[43m)\u001b[49m\n\u001b[0;32m    580\u001b[0m \u001b[38;5;28;01mif\u001b[39;00m issparse(X) \u001b[38;5;129;01mand\u001b[39;00m (X\u001b[38;5;241m.\u001b[39mindices\u001b[38;5;241m.\u001b[39mdtype \u001b[38;5;241m!=\u001b[39m np\u001b[38;5;241m.\u001b[39mintc \u001b[38;5;129;01mor\u001b[39;00m X\u001b[38;5;241m.\u001b[39mindptr\u001b[38;5;241m.\u001b[39mdtype \u001b[38;5;241m!=\u001b[39m np\u001b[38;5;241m.\u001b[39mintc):\n\u001b[0;32m    581\u001b[0m     \u001b[38;5;28;01mraise\u001b[39;00m \u001b[38;5;167;01mValueError\u001b[39;00m(\u001b[38;5;124m\"\u001b[39m\u001b[38;5;124mNo support for np.int64 index based sparse matrices\u001b[39m\u001b[38;5;124m\"\u001b[39m)\n",
      "File \u001b[1;32me:\\conda\\lib\\site-packages\\sklearn\\base.py:566\u001b[0m, in \u001b[0;36mBaseEstimator._validate_data\u001b[1;34m(self, X, y, reset, validate_separately, **check_params)\u001b[0m\n\u001b[0;32m    564\u001b[0m     \u001b[38;5;28;01mraise\u001b[39;00m \u001b[38;5;167;01mValueError\u001b[39;00m(\u001b[38;5;124m\"\u001b[39m\u001b[38;5;124mValidation should be done on X, y or both.\u001b[39m\u001b[38;5;124m\"\u001b[39m)\n\u001b[0;32m    565\u001b[0m \u001b[38;5;28;01melif\u001b[39;00m \u001b[38;5;129;01mnot\u001b[39;00m no_val_X \u001b[38;5;129;01mand\u001b[39;00m no_val_y:\n\u001b[1;32m--> 566\u001b[0m     X \u001b[38;5;241m=\u001b[39m check_array(X, \u001b[38;5;241m*\u001b[39m\u001b[38;5;241m*\u001b[39mcheck_params)\n\u001b[0;32m    567\u001b[0m     out \u001b[38;5;241m=\u001b[39m X\n\u001b[0;32m    568\u001b[0m \u001b[38;5;28;01melif\u001b[39;00m no_val_X \u001b[38;5;129;01mand\u001b[39;00m \u001b[38;5;129;01mnot\u001b[39;00m no_val_y:\n",
      "File \u001b[1;32me:\\conda\\lib\\site-packages\\sklearn\\utils\\validation.py:769\u001b[0m, in \u001b[0;36mcheck_array\u001b[1;34m(array, accept_sparse, accept_large_sparse, dtype, order, copy, force_all_finite, ensure_2d, allow_nd, ensure_min_samples, ensure_min_features, estimator)\u001b[0m\n\u001b[0;32m    767\u001b[0m     \u001b[38;5;66;03m# If input is 1D raise error\u001b[39;00m\n\u001b[0;32m    768\u001b[0m     \u001b[38;5;28;01mif\u001b[39;00m array\u001b[38;5;241m.\u001b[39mndim \u001b[38;5;241m==\u001b[39m \u001b[38;5;241m1\u001b[39m:\n\u001b[1;32m--> 769\u001b[0m         \u001b[38;5;28;01mraise\u001b[39;00m \u001b[38;5;167;01mValueError\u001b[39;00m(\n\u001b[0;32m    770\u001b[0m             \u001b[38;5;124m\"\u001b[39m\u001b[38;5;124mExpected 2D array, got 1D array instead:\u001b[39m\u001b[38;5;130;01m\\n\u001b[39;00m\u001b[38;5;124marray=\u001b[39m\u001b[38;5;132;01m{}\u001b[39;00m\u001b[38;5;124m.\u001b[39m\u001b[38;5;130;01m\\n\u001b[39;00m\u001b[38;5;124m\"\u001b[39m\n\u001b[0;32m    771\u001b[0m             \u001b[38;5;124m\"\u001b[39m\u001b[38;5;124mReshape your data either using array.reshape(-1, 1) if \u001b[39m\u001b[38;5;124m\"\u001b[39m\n\u001b[0;32m    772\u001b[0m             \u001b[38;5;124m\"\u001b[39m\u001b[38;5;124myour data has a single feature or array.reshape(1, -1) \u001b[39m\u001b[38;5;124m\"\u001b[39m\n\u001b[0;32m    773\u001b[0m             \u001b[38;5;124m\"\u001b[39m\u001b[38;5;124mif it contains a single sample.\u001b[39m\u001b[38;5;124m\"\u001b[39m\u001b[38;5;241m.\u001b[39mformat(array)\n\u001b[0;32m    774\u001b[0m         )\n\u001b[0;32m    776\u001b[0m \u001b[38;5;66;03m# make sure we actually converted to numeric:\u001b[39;00m\n\u001b[0;32m    777\u001b[0m \u001b[38;5;28;01mif\u001b[39;00m dtype_numeric \u001b[38;5;129;01mand\u001b[39;00m array\u001b[38;5;241m.\u001b[39mdtype\u001b[38;5;241m.\u001b[39mkind \u001b[38;5;129;01min\u001b[39;00m \u001b[38;5;124m\"\u001b[39m\u001b[38;5;124mOUSV\u001b[39m\u001b[38;5;124m\"\u001b[39m:\n",
      "\u001b[1;31mValueError\u001b[0m: Expected 2D array, got 1D array instead:\narray=[1179. 1179.    3. ...   71.  234.   27.].\nReshape your data either using array.reshape(-1, 1) if your data has a single feature or array.reshape(1, -1) if it contains a single sample."
     ]
    }
   ],
   "source": [
    "real_time_data = random_model.predict(X_final_test)\n"
   ]
  },
  {
   "cell_type": "code",
   "execution_count": null,
   "metadata": {},
   "outputs": [],
   "source": [
    "def Mapping(x):\n",
    "    temp = []\n",
    "    for i in list(x):\n",
    "        if i < 0:\n",
    "            temp.append(\"Payment done before due date.\")\n",
    "        elif i > 15:\n",
    "            temp.append(\"Payment done 15 days after due date.\")\n",
    "        elif i > 30:\n",
    "            temp.append(\"Payment done 30 days after due date.\")\n",
    "        else:\n",
    "            temp.append(\"Payment done much after due date.\")\n",
    "    return temp\n",
    "\n",
    "col2 = Mapping(real_time_data)\n",
    "bucket = pd.DataFrame()\n",
    "bucket['Predictions'] = real_time_data\n",
    "bucket['Bucket_list'] = col2\n",
    "bucket.head()"
   ]
  },
  {
   "cell_type": "code",
   "execution_count": 123,
   "metadata": {},
   "outputs": [
    {
     "data": {
      "text/html": [
       "<div>\n",
       "<style scoped>\n",
       "    .dataframe tbody tr th:only-of-type {\n",
       "        vertical-align: middle;\n",
       "    }\n",
       "\n",
       "    .dataframe tbody tr th {\n",
       "        vertical-align: top;\n",
       "    }\n",
       "\n",
       "    .dataframe thead th {\n",
       "        text-align: right;\n",
       "    }\n",
       "</style>\n",
       "<table border=\"1\" class=\"dataframe\">\n",
       "  <thead>\n",
       "    <tr style=\"text-align: right;\">\n",
       "      <th></th>\n",
       "      <th>cust_number</th>\n",
       "      <th>invoice_currency</th>\n",
       "      <th>total_open_amount</th>\n",
       "      <th>CA02</th>\n",
       "      <th>U001</th>\n",
       "      <th>U013</th>\n",
       "      <th>other</th>\n",
       "      <th>baseline_quater</th>\n",
       "      <th>B</th>\n",
       "      <th>CA</th>\n",
       "      <th>...</th>\n",
       "      <th>MC15</th>\n",
       "      <th>NAA</th>\n",
       "      <th>NABD</th>\n",
       "      <th>NATM</th>\n",
       "      <th>NATV</th>\n",
       "      <th>NAUW</th>\n",
       "      <th>NA_letter_number</th>\n",
       "      <th>NA_number_letter</th>\n",
       "      <th>NA_number_number</th>\n",
       "      <th>NA_place</th>\n",
       "    </tr>\n",
       "  </thead>\n",
       "  <tbody>\n",
       "    <tr>\n",
       "      <th>1</th>\n",
       "      <td>50</td>\n",
       "      <td>0</td>\n",
       "      <td>11.285480</td>\n",
       "      <td>0</td>\n",
       "      <td>1</td>\n",
       "      <td>0</td>\n",
       "      <td>0</td>\n",
       "      <td>3</td>\n",
       "      <td>0</td>\n",
       "      <td>0</td>\n",
       "      <td>...</td>\n",
       "      <td>0</td>\n",
       "      <td>0</td>\n",
       "      <td>0</td>\n",
       "      <td>0</td>\n",
       "      <td>0</td>\n",
       "      <td>0</td>\n",
       "      <td>1</td>\n",
       "      <td>0</td>\n",
       "      <td>0</td>\n",
       "      <td>0</td>\n",
       "    </tr>\n",
       "    <tr>\n",
       "      <th>2</th>\n",
       "      <td>132</td>\n",
       "      <td>0</td>\n",
       "      <td>7.720400</td>\n",
       "      <td>0</td>\n",
       "      <td>1</td>\n",
       "      <td>0</td>\n",
       "      <td>0</td>\n",
       "      <td>3</td>\n",
       "      <td>0</td>\n",
       "      <td>0</td>\n",
       "      <td>...</td>\n",
       "      <td>0</td>\n",
       "      <td>1</td>\n",
       "      <td>0</td>\n",
       "      <td>0</td>\n",
       "      <td>0</td>\n",
       "      <td>0</td>\n",
       "      <td>0</td>\n",
       "      <td>0</td>\n",
       "      <td>0</td>\n",
       "      <td>0</td>\n",
       "    </tr>\n",
       "    <tr>\n",
       "      <th>4</th>\n",
       "      <td>7763</td>\n",
       "      <td>0</td>\n",
       "      <td>10.408294</td>\n",
       "      <td>0</td>\n",
       "      <td>1</td>\n",
       "      <td>0</td>\n",
       "      <td>0</td>\n",
       "      <td>4</td>\n",
       "      <td>0</td>\n",
       "      <td>0</td>\n",
       "      <td>...</td>\n",
       "      <td>0</td>\n",
       "      <td>0</td>\n",
       "      <td>0</td>\n",
       "      <td>0</td>\n",
       "      <td>0</td>\n",
       "      <td>0</td>\n",
       "      <td>1</td>\n",
       "      <td>0</td>\n",
       "      <td>0</td>\n",
       "      <td>0</td>\n",
       "    </tr>\n",
       "    <tr>\n",
       "      <th>5</th>\n",
       "      <td>77</td>\n",
       "      <td>1</td>\n",
       "      <td>10.009011</td>\n",
       "      <td>1</td>\n",
       "      <td>0</td>\n",
       "      <td>0</td>\n",
       "      <td>0</td>\n",
       "      <td>3</td>\n",
       "      <td>0</td>\n",
       "      <td>1</td>\n",
       "      <td>...</td>\n",
       "      <td>0</td>\n",
       "      <td>0</td>\n",
       "      <td>0</td>\n",
       "      <td>0</td>\n",
       "      <td>0</td>\n",
       "      <td>0</td>\n",
       "      <td>0</td>\n",
       "      <td>0</td>\n",
       "      <td>0</td>\n",
       "      <td>0</td>\n",
       "    </tr>\n",
       "    <tr>\n",
       "      <th>6</th>\n",
       "      <td>7763</td>\n",
       "      <td>0</td>\n",
       "      <td>8.903610</td>\n",
       "      <td>0</td>\n",
       "      <td>1</td>\n",
       "      <td>0</td>\n",
       "      <td>0</td>\n",
       "      <td>4</td>\n",
       "      <td>0</td>\n",
       "      <td>0</td>\n",
       "      <td>...</td>\n",
       "      <td>0</td>\n",
       "      <td>0</td>\n",
       "      <td>0</td>\n",
       "      <td>0</td>\n",
       "      <td>0</td>\n",
       "      <td>0</td>\n",
       "      <td>1</td>\n",
       "      <td>0</td>\n",
       "      <td>0</td>\n",
       "      <td>0</td>\n",
       "    </tr>\n",
       "  </tbody>\n",
       "</table>\n",
       "<p>5 rows × 21 columns</p>\n",
       "</div>"
      ],
      "text/plain": [
       "   cust_number  invoice_currency  total_open_amount  CA02  U001  U013  other  \\\n",
       "1           50                 0          11.285480     0     1     0      0   \n",
       "2          132                 0           7.720400     0     1     0      0   \n",
       "4         7763                 0          10.408294     0     1     0      0   \n",
       "5           77                 1          10.009011     1     0     0      0   \n",
       "6         7763                 0           8.903610     0     1     0      0   \n",
       "\n",
       "   baseline_quater  B  CA  ...  MC15  NAA  NABD  NATM  NATV  NAUW  \\\n",
       "1                3  0   0  ...     0    0     0     0     0     0   \n",
       "2                3  0   0  ...     0    1     0     0     0     0   \n",
       "4                4  0   0  ...     0    0     0     0     0     0   \n",
       "5                3  0   1  ...     0    0     0     0     0     0   \n",
       "6                4  0   0  ...     0    0     0     0     0     0   \n",
       "\n",
       "   NA_letter_number  NA_number_letter  NA_number_number  NA_place  \n",
       "1                 1                 0                 0         0  \n",
       "2                 0                 0                 0         0  \n",
       "4                 1                 0                 0         0  \n",
       "5                 0                 0                 0         0  \n",
       "6                 1                 0                 0         0  \n",
       "\n",
       "[5 rows x 21 columns]"
      ]
     },
     "execution_count": 123,
     "metadata": {},
     "output_type": "execute_result"
    }
   ],
   "source": [
    "X_final[:5]"
   ]
  },
  {
   "cell_type": "code",
   "execution_count": 125,
   "metadata": {},
   "outputs": [
    {
     "data": {
      "text/plain": [
       "0        1179\n",
       "19       1179\n",
       "20          3\n",
       "24       1179\n",
       "41       1179\n",
       "         ... \n",
       "49955      47\n",
       "49957     234\n",
       "49989      71\n",
       "49993     234\n",
       "49997      27\n",
       "Name: cust_number, Length: 5023, dtype: int64"
      ]
     },
     "execution_count": 125,
     "metadata": {},
     "output_type": "execute_result"
    }
   ],
   "source": [
    "X_final_test"
   ]
  },
  {
   "cell_type": "code",
   "execution_count": null,
   "metadata": {},
   "outputs": [],
   "source": []
  }
 ],
 "metadata": {
  "kernelspec": {
   "display_name": "Python 3 (ipykernel)",
   "language": "python",
   "name": "python3"
  },
  "language_info": {
   "codemirror_mode": {
    "name": "ipython",
    "version": 3
   },
   "file_extension": ".py",
   "mimetype": "text/x-python",
   "name": "python",
   "nbconvert_exporter": "python",
   "pygments_lexer": "ipython3",
   "version": "3.9.5"
  }
 },
 "nbformat": 4,
 "nbformat_minor": 4
}
